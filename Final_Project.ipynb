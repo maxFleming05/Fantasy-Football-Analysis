{
  "nbformat": 4,
  "nbformat_minor": 0,
  "metadata": {
    "colab": {
      "provenance": []
    },
    "kernelspec": {
      "name": "python3",
      "display_name": "Python 3"
    },
    "language_info": {
      "name": "python"
    }
  },
  "cells": [
    {
      "cell_type": "markdown",
      "source": [
        "# Final Project\n",
        "### Max Fleming and Kunal Renjen\n",
        "Fantasy Football Data from 2017-2022\n",
        "Questions to answer:\n",
        "* Who are the Rushing, Passing and Recieving Yards Leader statistic by Year?\n",
        "* Using data from 2017-2021, are there specific metrics to predict what players to use in the next year (2022)?\n",
        "\n"
      ],
      "metadata": {
        "id": "9uDgyBgyaMSz"
      }
    },
    {
      "cell_type": "markdown",
      "source": [
        "Importing necessary python libraries and mounting google drive"
      ],
      "metadata": {
        "id": "qO2H_AlCo5J_"
      }
    },
    {
      "cell_type": "code",
      "source": [
        "import pandas as pd\n",
        "import numpy as np\n",
        "import matplotlib.pyplot as plt\n",
        "import seaborn as sns\n",
        "import plotly.graph_objects as go\n",
        "from scipy.stats import pearsonr\n",
        "from google.colab import drive\n",
        "drive.mount('/content/drive')"
      ],
      "metadata": {
        "colab": {
          "base_uri": "https://localhost:8080/"
        },
        "id": "9AtwIKxjbh6L",
        "outputId": "7ccab027-3f36-4834-beab-30ef191b1660"
      },
      "execution_count": 1,
      "outputs": [
        {
          "output_type": "stream",
          "name": "stdout",
          "text": [
            "Mounted at /content/drive\n"
          ]
        }
      ]
    },
    {
      "cell_type": "markdown",
      "source": [
        "Reading the dataset in and printing the first five rows of data"
      ],
      "metadata": {
        "id": "PQkvLxs_pDh8"
      }
    },
    {
      "cell_type": "code",
      "execution_count": 2,
      "metadata": {
        "colab": {
          "base_uri": "https://localhost:8080/",
          "height": 236
        },
        "id": "X3Ry2IDBaLxH",
        "outputId": "e258045b-77eb-4ab3-e4b6-afa0f2262b7f"
      },
      "outputs": [
        {
          "output_type": "execute_result",
          "data": {
            "text/plain": [
              "   Rk          Player   Tm FantPos  Age   G  GS  Cmp  Att   Yds  ...  Rec  \\\n",
              "0   1     Todd Gurley  LAR      RB   23  15  15    0    0     0  ...   64   \n",
              "1   2  Russell Wilson  SEA      QB   29  16  16  339  553  3983  ...    0   \n",
              "2   3    Le'Veon Bell  PIT      RB   25  15  15    0    0     0  ...   85   \n",
              "3   4    Alvin Kamara  NOR      RB   22  16   3    0    0     0  ...   81   \n",
              "4   5   Antonio Brown  PIT      WR   29  14  14    0    0     0  ...  101   \n",
              "\n",
              "   RecYds     YR  RecTD  Fmb  FL    PPR  PlayerID  PosRk  Year  \n",
              "0     788  12.31      6    5   2  383.3  GurlTo01    1.0  2017  \n",
              "1       0    NaN      0   14   3  347.9  WilsRu00    1.0  2017  \n",
              "2     655   7.71      2    3   2  341.6  BellLe00    2.0  2017  \n",
              "3     826  10.20      5    1   1  320.4  KamaAl00    3.0  2017  \n",
              "4    1533  15.18      9    4   0  310.3  BrowAn04    1.0  2017  \n",
              "\n",
              "[5 rows x 27 columns]"
            ],
            "text/html": [
              "\n",
              "  <div id=\"df-fe2e8c1f-4820-4405-83eb-5ceb5bd499e6\" class=\"colab-df-container\">\n",
              "    <div>\n",
              "<style scoped>\n",
              "    .dataframe tbody tr th:only-of-type {\n",
              "        vertical-align: middle;\n",
              "    }\n",
              "\n",
              "    .dataframe tbody tr th {\n",
              "        vertical-align: top;\n",
              "    }\n",
              "\n",
              "    .dataframe thead th {\n",
              "        text-align: right;\n",
              "    }\n",
              "</style>\n",
              "<table border=\"1\" class=\"dataframe\">\n",
              "  <thead>\n",
              "    <tr style=\"text-align: right;\">\n",
              "      <th></th>\n",
              "      <th>Rk</th>\n",
              "      <th>Player</th>\n",
              "      <th>Tm</th>\n",
              "      <th>FantPos</th>\n",
              "      <th>Age</th>\n",
              "      <th>G</th>\n",
              "      <th>GS</th>\n",
              "      <th>Cmp</th>\n",
              "      <th>Att</th>\n",
              "      <th>Yds</th>\n",
              "      <th>...</th>\n",
              "      <th>Rec</th>\n",
              "      <th>RecYds</th>\n",
              "      <th>YR</th>\n",
              "      <th>RecTD</th>\n",
              "      <th>Fmb</th>\n",
              "      <th>FL</th>\n",
              "      <th>PPR</th>\n",
              "      <th>PlayerID</th>\n",
              "      <th>PosRk</th>\n",
              "      <th>Year</th>\n",
              "    </tr>\n",
              "  </thead>\n",
              "  <tbody>\n",
              "    <tr>\n",
              "      <th>0</th>\n",
              "      <td>1</td>\n",
              "      <td>Todd Gurley</td>\n",
              "      <td>LAR</td>\n",
              "      <td>RB</td>\n",
              "      <td>23</td>\n",
              "      <td>15</td>\n",
              "      <td>15</td>\n",
              "      <td>0</td>\n",
              "      <td>0</td>\n",
              "      <td>0</td>\n",
              "      <td>...</td>\n",
              "      <td>64</td>\n",
              "      <td>788</td>\n",
              "      <td>12.31</td>\n",
              "      <td>6</td>\n",
              "      <td>5</td>\n",
              "      <td>2</td>\n",
              "      <td>383.3</td>\n",
              "      <td>GurlTo01</td>\n",
              "      <td>1.0</td>\n",
              "      <td>2017</td>\n",
              "    </tr>\n",
              "    <tr>\n",
              "      <th>1</th>\n",
              "      <td>2</td>\n",
              "      <td>Russell Wilson</td>\n",
              "      <td>SEA</td>\n",
              "      <td>QB</td>\n",
              "      <td>29</td>\n",
              "      <td>16</td>\n",
              "      <td>16</td>\n",
              "      <td>339</td>\n",
              "      <td>553</td>\n",
              "      <td>3983</td>\n",
              "      <td>...</td>\n",
              "      <td>0</td>\n",
              "      <td>0</td>\n",
              "      <td>NaN</td>\n",
              "      <td>0</td>\n",
              "      <td>14</td>\n",
              "      <td>3</td>\n",
              "      <td>347.9</td>\n",
              "      <td>WilsRu00</td>\n",
              "      <td>1.0</td>\n",
              "      <td>2017</td>\n",
              "    </tr>\n",
              "    <tr>\n",
              "      <th>2</th>\n",
              "      <td>3</td>\n",
              "      <td>Le'Veon Bell</td>\n",
              "      <td>PIT</td>\n",
              "      <td>RB</td>\n",
              "      <td>25</td>\n",
              "      <td>15</td>\n",
              "      <td>15</td>\n",
              "      <td>0</td>\n",
              "      <td>0</td>\n",
              "      <td>0</td>\n",
              "      <td>...</td>\n",
              "      <td>85</td>\n",
              "      <td>655</td>\n",
              "      <td>7.71</td>\n",
              "      <td>2</td>\n",
              "      <td>3</td>\n",
              "      <td>2</td>\n",
              "      <td>341.6</td>\n",
              "      <td>BellLe00</td>\n",
              "      <td>2.0</td>\n",
              "      <td>2017</td>\n",
              "    </tr>\n",
              "    <tr>\n",
              "      <th>3</th>\n",
              "      <td>4</td>\n",
              "      <td>Alvin Kamara</td>\n",
              "      <td>NOR</td>\n",
              "      <td>RB</td>\n",
              "      <td>22</td>\n",
              "      <td>16</td>\n",
              "      <td>3</td>\n",
              "      <td>0</td>\n",
              "      <td>0</td>\n",
              "      <td>0</td>\n",
              "      <td>...</td>\n",
              "      <td>81</td>\n",
              "      <td>826</td>\n",
              "      <td>10.20</td>\n",
              "      <td>5</td>\n",
              "      <td>1</td>\n",
              "      <td>1</td>\n",
              "      <td>320.4</td>\n",
              "      <td>KamaAl00</td>\n",
              "      <td>3.0</td>\n",
              "      <td>2017</td>\n",
              "    </tr>\n",
              "    <tr>\n",
              "      <th>4</th>\n",
              "      <td>5</td>\n",
              "      <td>Antonio Brown</td>\n",
              "      <td>PIT</td>\n",
              "      <td>WR</td>\n",
              "      <td>29</td>\n",
              "      <td>14</td>\n",
              "      <td>14</td>\n",
              "      <td>0</td>\n",
              "      <td>0</td>\n",
              "      <td>0</td>\n",
              "      <td>...</td>\n",
              "      <td>101</td>\n",
              "      <td>1533</td>\n",
              "      <td>15.18</td>\n",
              "      <td>9</td>\n",
              "      <td>4</td>\n",
              "      <td>0</td>\n",
              "      <td>310.3</td>\n",
              "      <td>BrowAn04</td>\n",
              "      <td>1.0</td>\n",
              "      <td>2017</td>\n",
              "    </tr>\n",
              "  </tbody>\n",
              "</table>\n",
              "<p>5 rows × 27 columns</p>\n",
              "</div>\n",
              "    <div class=\"colab-df-buttons\">\n",
              "\n",
              "  <div class=\"colab-df-container\">\n",
              "    <button class=\"colab-df-convert\" onclick=\"convertToInteractive('df-fe2e8c1f-4820-4405-83eb-5ceb5bd499e6')\"\n",
              "            title=\"Convert this dataframe to an interactive table.\"\n",
              "            style=\"display:none;\">\n",
              "\n",
              "  <svg xmlns=\"http://www.w3.org/2000/svg\" height=\"24px\" viewBox=\"0 -960 960 960\">\n",
              "    <path d=\"M120-120v-720h720v720H120Zm60-500h600v-160H180v160Zm220 220h160v-160H400v160Zm0 220h160v-160H400v160ZM180-400h160v-160H180v160Zm440 0h160v-160H620v160ZM180-180h160v-160H180v160Zm440 0h160v-160H620v160Z\"/>\n",
              "  </svg>\n",
              "    </button>\n",
              "\n",
              "  <style>\n",
              "    .colab-df-container {\n",
              "      display:flex;\n",
              "      gap: 12px;\n",
              "    }\n",
              "\n",
              "    .colab-df-convert {\n",
              "      background-color: #E8F0FE;\n",
              "      border: none;\n",
              "      border-radius: 50%;\n",
              "      cursor: pointer;\n",
              "      display: none;\n",
              "      fill: #1967D2;\n",
              "      height: 32px;\n",
              "      padding: 0 0 0 0;\n",
              "      width: 32px;\n",
              "    }\n",
              "\n",
              "    .colab-df-convert:hover {\n",
              "      background-color: #E2EBFA;\n",
              "      box-shadow: 0px 1px 2px rgba(60, 64, 67, 0.3), 0px 1px 3px 1px rgba(60, 64, 67, 0.15);\n",
              "      fill: #174EA6;\n",
              "    }\n",
              "\n",
              "    .colab-df-buttons div {\n",
              "      margin-bottom: 4px;\n",
              "    }\n",
              "\n",
              "    [theme=dark] .colab-df-convert {\n",
              "      background-color: #3B4455;\n",
              "      fill: #D2E3FC;\n",
              "    }\n",
              "\n",
              "    [theme=dark] .colab-df-convert:hover {\n",
              "      background-color: #434B5C;\n",
              "      box-shadow: 0px 1px 3px 1px rgba(0, 0, 0, 0.15);\n",
              "      filter: drop-shadow(0px 1px 2px rgba(0, 0, 0, 0.3));\n",
              "      fill: #FFFFFF;\n",
              "    }\n",
              "  </style>\n",
              "\n",
              "    <script>\n",
              "      const buttonEl =\n",
              "        document.querySelector('#df-fe2e8c1f-4820-4405-83eb-5ceb5bd499e6 button.colab-df-convert');\n",
              "      buttonEl.style.display =\n",
              "        google.colab.kernel.accessAllowed ? 'block' : 'none';\n",
              "\n",
              "      async function convertToInteractive(key) {\n",
              "        const element = document.querySelector('#df-fe2e8c1f-4820-4405-83eb-5ceb5bd499e6');\n",
              "        const dataTable =\n",
              "          await google.colab.kernel.invokeFunction('convertToInteractive',\n",
              "                                                    [key], {});\n",
              "        if (!dataTable) return;\n",
              "\n",
              "        const docLinkHtml = 'Like what you see? Visit the ' +\n",
              "          '<a target=\"_blank\" href=https://colab.research.google.com/notebooks/data_table.ipynb>data table notebook</a>'\n",
              "          + ' to learn more about interactive tables.';\n",
              "        element.innerHTML = '';\n",
              "        dataTable['output_type'] = 'display_data';\n",
              "        await google.colab.output.renderOutput(dataTable, element);\n",
              "        const docLink = document.createElement('div');\n",
              "        docLink.innerHTML = docLinkHtml;\n",
              "        element.appendChild(docLink);\n",
              "      }\n",
              "    </script>\n",
              "  </div>\n",
              "\n",
              "\n",
              "<div id=\"df-d755b40e-107b-4fe1-9206-d576c84032b7\">\n",
              "  <button class=\"colab-df-quickchart\" onclick=\"quickchart('df-d755b40e-107b-4fe1-9206-d576c84032b7')\"\n",
              "            title=\"Suggest charts\"\n",
              "            style=\"display:none;\">\n",
              "\n",
              "<svg xmlns=\"http://www.w3.org/2000/svg\" height=\"24px\"viewBox=\"0 0 24 24\"\n",
              "     width=\"24px\">\n",
              "    <g>\n",
              "        <path d=\"M19 3H5c-1.1 0-2 .9-2 2v14c0 1.1.9 2 2 2h14c1.1 0 2-.9 2-2V5c0-1.1-.9-2-2-2zM9 17H7v-7h2v7zm4 0h-2V7h2v10zm4 0h-2v-4h2v4z\"/>\n",
              "    </g>\n",
              "</svg>\n",
              "  </button>\n",
              "\n",
              "<style>\n",
              "  .colab-df-quickchart {\n",
              "      --bg-color: #E8F0FE;\n",
              "      --fill-color: #1967D2;\n",
              "      --hover-bg-color: #E2EBFA;\n",
              "      --hover-fill-color: #174EA6;\n",
              "      --disabled-fill-color: #AAA;\n",
              "      --disabled-bg-color: #DDD;\n",
              "  }\n",
              "\n",
              "  [theme=dark] .colab-df-quickchart {\n",
              "      --bg-color: #3B4455;\n",
              "      --fill-color: #D2E3FC;\n",
              "      --hover-bg-color: #434B5C;\n",
              "      --hover-fill-color: #FFFFFF;\n",
              "      --disabled-bg-color: #3B4455;\n",
              "      --disabled-fill-color: #666;\n",
              "  }\n",
              "\n",
              "  .colab-df-quickchart {\n",
              "    background-color: var(--bg-color);\n",
              "    border: none;\n",
              "    border-radius: 50%;\n",
              "    cursor: pointer;\n",
              "    display: none;\n",
              "    fill: var(--fill-color);\n",
              "    height: 32px;\n",
              "    padding: 0;\n",
              "    width: 32px;\n",
              "  }\n",
              "\n",
              "  .colab-df-quickchart:hover {\n",
              "    background-color: var(--hover-bg-color);\n",
              "    box-shadow: 0 1px 2px rgba(60, 64, 67, 0.3), 0 1px 3px 1px rgba(60, 64, 67, 0.15);\n",
              "    fill: var(--button-hover-fill-color);\n",
              "  }\n",
              "\n",
              "  .colab-df-quickchart-complete:disabled,\n",
              "  .colab-df-quickchart-complete:disabled:hover {\n",
              "    background-color: var(--disabled-bg-color);\n",
              "    fill: var(--disabled-fill-color);\n",
              "    box-shadow: none;\n",
              "  }\n",
              "\n",
              "  .colab-df-spinner {\n",
              "    border: 2px solid var(--fill-color);\n",
              "    border-color: transparent;\n",
              "    border-bottom-color: var(--fill-color);\n",
              "    animation:\n",
              "      spin 1s steps(1) infinite;\n",
              "  }\n",
              "\n",
              "  @keyframes spin {\n",
              "    0% {\n",
              "      border-color: transparent;\n",
              "      border-bottom-color: var(--fill-color);\n",
              "      border-left-color: var(--fill-color);\n",
              "    }\n",
              "    20% {\n",
              "      border-color: transparent;\n",
              "      border-left-color: var(--fill-color);\n",
              "      border-top-color: var(--fill-color);\n",
              "    }\n",
              "    30% {\n",
              "      border-color: transparent;\n",
              "      border-left-color: var(--fill-color);\n",
              "      border-top-color: var(--fill-color);\n",
              "      border-right-color: var(--fill-color);\n",
              "    }\n",
              "    40% {\n",
              "      border-color: transparent;\n",
              "      border-right-color: var(--fill-color);\n",
              "      border-top-color: var(--fill-color);\n",
              "    }\n",
              "    60% {\n",
              "      border-color: transparent;\n",
              "      border-right-color: var(--fill-color);\n",
              "    }\n",
              "    80% {\n",
              "      border-color: transparent;\n",
              "      border-right-color: var(--fill-color);\n",
              "      border-bottom-color: var(--fill-color);\n",
              "    }\n",
              "    90% {\n",
              "      border-color: transparent;\n",
              "      border-bottom-color: var(--fill-color);\n",
              "    }\n",
              "  }\n",
              "</style>\n",
              "\n",
              "  <script>\n",
              "    async function quickchart(key) {\n",
              "      const quickchartButtonEl =\n",
              "        document.querySelector('#' + key + ' button');\n",
              "      quickchartButtonEl.disabled = true;  // To prevent multiple clicks.\n",
              "      quickchartButtonEl.classList.add('colab-df-spinner');\n",
              "      try {\n",
              "        const charts = await google.colab.kernel.invokeFunction(\n",
              "            'suggestCharts', [key], {});\n",
              "      } catch (error) {\n",
              "        console.error('Error during call to suggestCharts:', error);\n",
              "      }\n",
              "      quickchartButtonEl.classList.remove('colab-df-spinner');\n",
              "      quickchartButtonEl.classList.add('colab-df-quickchart-complete');\n",
              "    }\n",
              "    (() => {\n",
              "      let quickchartButtonEl =\n",
              "        document.querySelector('#df-d755b40e-107b-4fe1-9206-d576c84032b7 button');\n",
              "      quickchartButtonEl.style.display =\n",
              "        google.colab.kernel.accessAllowed ? 'block' : 'none';\n",
              "    })();\n",
              "  </script>\n",
              "</div>\n",
              "\n",
              "    </div>\n",
              "  </div>\n"
            ],
            "application/vnd.google.colaboratory.intrinsic+json": {
              "type": "dataframe",
              "variable_name": "fantasy_data"
            }
          },
          "metadata": {},
          "execution_count": 2
        }
      ],
      "source": [
        "fantasy_data = pd.read_csv('/content/drive/MyDrive/Intro Data Science Fall 2024/Final Project/fantasy_merged_7_17.csv')\n",
        "fantasy_data.head()"
      ]
    },
    {
      "cell_type": "markdown",
      "source": [
        "Examining the titles of all the columns in the dataset for further reference"
      ],
      "metadata": {
        "id": "vTQ72QD-Ya63"
      }
    },
    {
      "cell_type": "code",
      "source": [
        "fantasy_data.info()"
      ],
      "metadata": {
        "colab": {
          "base_uri": "https://localhost:8080/"
        },
        "id": "_WUNrCAQbydq",
        "outputId": "36a1bf26-dbb0-445c-868a-e479cf58d734"
      },
      "execution_count": 3,
      "outputs": [
        {
          "output_type": "stream",
          "name": "stdout",
          "text": [
            "<class 'pandas.core.frame.DataFrame'>\n",
            "RangeIndex: 3388 entries, 0 to 3387\n",
            "Data columns (total 27 columns):\n",
            " #   Column    Non-Null Count  Dtype  \n",
            "---  ------    --------------  -----  \n",
            " 0   Rk        3388 non-null   int64  \n",
            " 1   Player    3388 non-null   object \n",
            " 2   Tm        3388 non-null   object \n",
            " 3   FantPos   3388 non-null   object \n",
            " 4   Age       3388 non-null   int64  \n",
            " 5   G         3388 non-null   int64  \n",
            " 6   GS        3388 non-null   int64  \n",
            " 7   Cmp       3388 non-null   int64  \n",
            " 8   Att       3388 non-null   int64  \n",
            " 9   Yds       3388 non-null   int64  \n",
            " 10  TD        3388 non-null   int64  \n",
            " 11  Int       3388 non-null   int64  \n",
            " 12  RushAtt   3388 non-null   int64  \n",
            " 13  RushYds   3388 non-null   int64  \n",
            " 14  YA        2017 non-null   float64\n",
            " 15  RushTD    3388 non-null   int64  \n",
            " 16  Tgt       3388 non-null   int64  \n",
            " 17  Rec       3388 non-null   int64  \n",
            " 18  RecYds    3388 non-null   int64  \n",
            " 19  YR        2879 non-null   float64\n",
            " 20  RecTD     3388 non-null   int64  \n",
            " 21  Fmb       3388 non-null   int64  \n",
            " 22  FL        3388 non-null   int64  \n",
            " 23  PPR       3388 non-null   float64\n",
            " 24  PlayerID  3388 non-null   object \n",
            " 25  PosRk     3388 non-null   float64\n",
            " 26  Year      3388 non-null   int64  \n",
            "dtypes: float64(4), int64(19), object(4)\n",
            "memory usage: 714.8+ KB\n"
          ]
        }
      ]
    },
    {
      "cell_type": "markdown",
      "source": [
        "Renaming the Yds column to PassingYds. This will help with analysis later when seperating data for Quarterbacks, Running Backs and Wide Recievers"
      ],
      "metadata": {
        "id": "NbEdnuSkpPyX"
      }
    },
    {
      "cell_type": "code",
      "source": [
        "fantasy_data.rename(columns={'Yds': 'PassingYds'}, inplace=True)"
      ],
      "metadata": {
        "id": "kdnJWIaBson_"
      },
      "execution_count": 4,
      "outputs": []
    },
    {
      "cell_type": "code",
      "source": [
        "fantasy_data['PassingYds/Int'] = fantasy_data['PassingYds'] / fantasy_data['Int']\n",
        "fantasy_data['RushYds/Fmb'] = fantasy_data['RushYds'] / fantasy_data['Fmb']\n",
        "fantasy_data['CompPct'] = fantasy_data['Cmp'] / fantasy_data['Att']\n",
        "fantasy_data['RushYds/TD'] = fantasy_data['RushYds'] / fantasy_data['RushTD']\n",
        "fantasy_data['RecYds/TD'] = fantasy_data['RecYds'] / fantasy_data['RecTD']\n",
        "fantasy_data.head()"
      ],
      "metadata": {
        "colab": {
          "base_uri": "https://localhost:8080/",
          "height": 236
        },
        "id": "M2ZFCIx4sWV4",
        "outputId": "4b0cbb2b-a4a2-45dd-d6b4-6c4ee0b6547d"
      },
      "execution_count": 5,
      "outputs": [
        {
          "output_type": "execute_result",
          "data": {
            "text/plain": [
              "   Rk          Player   Tm FantPos  Age   G  GS  Cmp  Att  PassingYds  ...  \\\n",
              "0   1     Todd Gurley  LAR      RB   23  15  15    0    0           0  ...   \n",
              "1   2  Russell Wilson  SEA      QB   29  16  16  339  553        3983  ...   \n",
              "2   3    Le'Veon Bell  PIT      RB   25  15  15    0    0           0  ...   \n",
              "3   4    Alvin Kamara  NOR      RB   22  16   3    0    0           0  ...   \n",
              "4   5   Antonio Brown  PIT      WR   29  14  14    0    0           0  ...   \n",
              "\n",
              "   FL    PPR  PlayerID  PosRk  Year  PassingYds/Int  RushYds/Fmb  CompPct  \\\n",
              "0   2  383.3  GurlTo01    1.0  2017             NaN   261.000000      NaN   \n",
              "1   3  347.9  WilsRu00    1.0  2017      362.090909    41.857143  0.61302   \n",
              "2   2  341.6  BellLe00    2.0  2017             NaN   430.333333      NaN   \n",
              "3   1  320.4  KamaAl00    3.0  2017             NaN   728.000000      NaN   \n",
              "4   0  310.3  BrowAn04    1.0  2017             NaN     0.000000      NaN   \n",
              "\n",
              "   RushYds/TD   RecYds/TD  \n",
              "0  100.384615  131.333333  \n",
              "1  195.333333         NaN  \n",
              "2  143.444444  327.500000  \n",
              "3   91.000000  165.200000  \n",
              "4         NaN  170.333333  \n",
              "\n",
              "[5 rows x 32 columns]"
            ],
            "text/html": [
              "\n",
              "  <div id=\"df-d5fec718-1cb6-4007-a58f-f2f8fe0d195d\" class=\"colab-df-container\">\n",
              "    <div>\n",
              "<style scoped>\n",
              "    .dataframe tbody tr th:only-of-type {\n",
              "        vertical-align: middle;\n",
              "    }\n",
              "\n",
              "    .dataframe tbody tr th {\n",
              "        vertical-align: top;\n",
              "    }\n",
              "\n",
              "    .dataframe thead th {\n",
              "        text-align: right;\n",
              "    }\n",
              "</style>\n",
              "<table border=\"1\" class=\"dataframe\">\n",
              "  <thead>\n",
              "    <tr style=\"text-align: right;\">\n",
              "      <th></th>\n",
              "      <th>Rk</th>\n",
              "      <th>Player</th>\n",
              "      <th>Tm</th>\n",
              "      <th>FantPos</th>\n",
              "      <th>Age</th>\n",
              "      <th>G</th>\n",
              "      <th>GS</th>\n",
              "      <th>Cmp</th>\n",
              "      <th>Att</th>\n",
              "      <th>PassingYds</th>\n",
              "      <th>...</th>\n",
              "      <th>FL</th>\n",
              "      <th>PPR</th>\n",
              "      <th>PlayerID</th>\n",
              "      <th>PosRk</th>\n",
              "      <th>Year</th>\n",
              "      <th>PassingYds/Int</th>\n",
              "      <th>RushYds/Fmb</th>\n",
              "      <th>CompPct</th>\n",
              "      <th>RushYds/TD</th>\n",
              "      <th>RecYds/TD</th>\n",
              "    </tr>\n",
              "  </thead>\n",
              "  <tbody>\n",
              "    <tr>\n",
              "      <th>0</th>\n",
              "      <td>1</td>\n",
              "      <td>Todd Gurley</td>\n",
              "      <td>LAR</td>\n",
              "      <td>RB</td>\n",
              "      <td>23</td>\n",
              "      <td>15</td>\n",
              "      <td>15</td>\n",
              "      <td>0</td>\n",
              "      <td>0</td>\n",
              "      <td>0</td>\n",
              "      <td>...</td>\n",
              "      <td>2</td>\n",
              "      <td>383.3</td>\n",
              "      <td>GurlTo01</td>\n",
              "      <td>1.0</td>\n",
              "      <td>2017</td>\n",
              "      <td>NaN</td>\n",
              "      <td>261.000000</td>\n",
              "      <td>NaN</td>\n",
              "      <td>100.384615</td>\n",
              "      <td>131.333333</td>\n",
              "    </tr>\n",
              "    <tr>\n",
              "      <th>1</th>\n",
              "      <td>2</td>\n",
              "      <td>Russell Wilson</td>\n",
              "      <td>SEA</td>\n",
              "      <td>QB</td>\n",
              "      <td>29</td>\n",
              "      <td>16</td>\n",
              "      <td>16</td>\n",
              "      <td>339</td>\n",
              "      <td>553</td>\n",
              "      <td>3983</td>\n",
              "      <td>...</td>\n",
              "      <td>3</td>\n",
              "      <td>347.9</td>\n",
              "      <td>WilsRu00</td>\n",
              "      <td>1.0</td>\n",
              "      <td>2017</td>\n",
              "      <td>362.090909</td>\n",
              "      <td>41.857143</td>\n",
              "      <td>0.61302</td>\n",
              "      <td>195.333333</td>\n",
              "      <td>NaN</td>\n",
              "    </tr>\n",
              "    <tr>\n",
              "      <th>2</th>\n",
              "      <td>3</td>\n",
              "      <td>Le'Veon Bell</td>\n",
              "      <td>PIT</td>\n",
              "      <td>RB</td>\n",
              "      <td>25</td>\n",
              "      <td>15</td>\n",
              "      <td>15</td>\n",
              "      <td>0</td>\n",
              "      <td>0</td>\n",
              "      <td>0</td>\n",
              "      <td>...</td>\n",
              "      <td>2</td>\n",
              "      <td>341.6</td>\n",
              "      <td>BellLe00</td>\n",
              "      <td>2.0</td>\n",
              "      <td>2017</td>\n",
              "      <td>NaN</td>\n",
              "      <td>430.333333</td>\n",
              "      <td>NaN</td>\n",
              "      <td>143.444444</td>\n",
              "      <td>327.500000</td>\n",
              "    </tr>\n",
              "    <tr>\n",
              "      <th>3</th>\n",
              "      <td>4</td>\n",
              "      <td>Alvin Kamara</td>\n",
              "      <td>NOR</td>\n",
              "      <td>RB</td>\n",
              "      <td>22</td>\n",
              "      <td>16</td>\n",
              "      <td>3</td>\n",
              "      <td>0</td>\n",
              "      <td>0</td>\n",
              "      <td>0</td>\n",
              "      <td>...</td>\n",
              "      <td>1</td>\n",
              "      <td>320.4</td>\n",
              "      <td>KamaAl00</td>\n",
              "      <td>3.0</td>\n",
              "      <td>2017</td>\n",
              "      <td>NaN</td>\n",
              "      <td>728.000000</td>\n",
              "      <td>NaN</td>\n",
              "      <td>91.000000</td>\n",
              "      <td>165.200000</td>\n",
              "    </tr>\n",
              "    <tr>\n",
              "      <th>4</th>\n",
              "      <td>5</td>\n",
              "      <td>Antonio Brown</td>\n",
              "      <td>PIT</td>\n",
              "      <td>WR</td>\n",
              "      <td>29</td>\n",
              "      <td>14</td>\n",
              "      <td>14</td>\n",
              "      <td>0</td>\n",
              "      <td>0</td>\n",
              "      <td>0</td>\n",
              "      <td>...</td>\n",
              "      <td>0</td>\n",
              "      <td>310.3</td>\n",
              "      <td>BrowAn04</td>\n",
              "      <td>1.0</td>\n",
              "      <td>2017</td>\n",
              "      <td>NaN</td>\n",
              "      <td>0.000000</td>\n",
              "      <td>NaN</td>\n",
              "      <td>NaN</td>\n",
              "      <td>170.333333</td>\n",
              "    </tr>\n",
              "  </tbody>\n",
              "</table>\n",
              "<p>5 rows × 32 columns</p>\n",
              "</div>\n",
              "    <div class=\"colab-df-buttons\">\n",
              "\n",
              "  <div class=\"colab-df-container\">\n",
              "    <button class=\"colab-df-convert\" onclick=\"convertToInteractive('df-d5fec718-1cb6-4007-a58f-f2f8fe0d195d')\"\n",
              "            title=\"Convert this dataframe to an interactive table.\"\n",
              "            style=\"display:none;\">\n",
              "\n",
              "  <svg xmlns=\"http://www.w3.org/2000/svg\" height=\"24px\" viewBox=\"0 -960 960 960\">\n",
              "    <path d=\"M120-120v-720h720v720H120Zm60-500h600v-160H180v160Zm220 220h160v-160H400v160Zm0 220h160v-160H400v160ZM180-400h160v-160H180v160Zm440 0h160v-160H620v160ZM180-180h160v-160H180v160Zm440 0h160v-160H620v160Z\"/>\n",
              "  </svg>\n",
              "    </button>\n",
              "\n",
              "  <style>\n",
              "    .colab-df-container {\n",
              "      display:flex;\n",
              "      gap: 12px;\n",
              "    }\n",
              "\n",
              "    .colab-df-convert {\n",
              "      background-color: #E8F0FE;\n",
              "      border: none;\n",
              "      border-radius: 50%;\n",
              "      cursor: pointer;\n",
              "      display: none;\n",
              "      fill: #1967D2;\n",
              "      height: 32px;\n",
              "      padding: 0 0 0 0;\n",
              "      width: 32px;\n",
              "    }\n",
              "\n",
              "    .colab-df-convert:hover {\n",
              "      background-color: #E2EBFA;\n",
              "      box-shadow: 0px 1px 2px rgba(60, 64, 67, 0.3), 0px 1px 3px 1px rgba(60, 64, 67, 0.15);\n",
              "      fill: #174EA6;\n",
              "    }\n",
              "\n",
              "    .colab-df-buttons div {\n",
              "      margin-bottom: 4px;\n",
              "    }\n",
              "\n",
              "    [theme=dark] .colab-df-convert {\n",
              "      background-color: #3B4455;\n",
              "      fill: #D2E3FC;\n",
              "    }\n",
              "\n",
              "    [theme=dark] .colab-df-convert:hover {\n",
              "      background-color: #434B5C;\n",
              "      box-shadow: 0px 1px 3px 1px rgba(0, 0, 0, 0.15);\n",
              "      filter: drop-shadow(0px 1px 2px rgba(0, 0, 0, 0.3));\n",
              "      fill: #FFFFFF;\n",
              "    }\n",
              "  </style>\n",
              "\n",
              "    <script>\n",
              "      const buttonEl =\n",
              "        document.querySelector('#df-d5fec718-1cb6-4007-a58f-f2f8fe0d195d button.colab-df-convert');\n",
              "      buttonEl.style.display =\n",
              "        google.colab.kernel.accessAllowed ? 'block' : 'none';\n",
              "\n",
              "      async function convertToInteractive(key) {\n",
              "        const element = document.querySelector('#df-d5fec718-1cb6-4007-a58f-f2f8fe0d195d');\n",
              "        const dataTable =\n",
              "          await google.colab.kernel.invokeFunction('convertToInteractive',\n",
              "                                                    [key], {});\n",
              "        if (!dataTable) return;\n",
              "\n",
              "        const docLinkHtml = 'Like what you see? Visit the ' +\n",
              "          '<a target=\"_blank\" href=https://colab.research.google.com/notebooks/data_table.ipynb>data table notebook</a>'\n",
              "          + ' to learn more about interactive tables.';\n",
              "        element.innerHTML = '';\n",
              "        dataTable['output_type'] = 'display_data';\n",
              "        await google.colab.output.renderOutput(dataTable, element);\n",
              "        const docLink = document.createElement('div');\n",
              "        docLink.innerHTML = docLinkHtml;\n",
              "        element.appendChild(docLink);\n",
              "      }\n",
              "    </script>\n",
              "  </div>\n",
              "\n",
              "\n",
              "<div id=\"df-48bd5929-93fb-4037-bcf3-6de174f9f13a\">\n",
              "  <button class=\"colab-df-quickchart\" onclick=\"quickchart('df-48bd5929-93fb-4037-bcf3-6de174f9f13a')\"\n",
              "            title=\"Suggest charts\"\n",
              "            style=\"display:none;\">\n",
              "\n",
              "<svg xmlns=\"http://www.w3.org/2000/svg\" height=\"24px\"viewBox=\"0 0 24 24\"\n",
              "     width=\"24px\">\n",
              "    <g>\n",
              "        <path d=\"M19 3H5c-1.1 0-2 .9-2 2v14c0 1.1.9 2 2 2h14c1.1 0 2-.9 2-2V5c0-1.1-.9-2-2-2zM9 17H7v-7h2v7zm4 0h-2V7h2v10zm4 0h-2v-4h2v4z\"/>\n",
              "    </g>\n",
              "</svg>\n",
              "  </button>\n",
              "\n",
              "<style>\n",
              "  .colab-df-quickchart {\n",
              "      --bg-color: #E8F0FE;\n",
              "      --fill-color: #1967D2;\n",
              "      --hover-bg-color: #E2EBFA;\n",
              "      --hover-fill-color: #174EA6;\n",
              "      --disabled-fill-color: #AAA;\n",
              "      --disabled-bg-color: #DDD;\n",
              "  }\n",
              "\n",
              "  [theme=dark] .colab-df-quickchart {\n",
              "      --bg-color: #3B4455;\n",
              "      --fill-color: #D2E3FC;\n",
              "      --hover-bg-color: #434B5C;\n",
              "      --hover-fill-color: #FFFFFF;\n",
              "      --disabled-bg-color: #3B4455;\n",
              "      --disabled-fill-color: #666;\n",
              "  }\n",
              "\n",
              "  .colab-df-quickchart {\n",
              "    background-color: var(--bg-color);\n",
              "    border: none;\n",
              "    border-radius: 50%;\n",
              "    cursor: pointer;\n",
              "    display: none;\n",
              "    fill: var(--fill-color);\n",
              "    height: 32px;\n",
              "    padding: 0;\n",
              "    width: 32px;\n",
              "  }\n",
              "\n",
              "  .colab-df-quickchart:hover {\n",
              "    background-color: var(--hover-bg-color);\n",
              "    box-shadow: 0 1px 2px rgba(60, 64, 67, 0.3), 0 1px 3px 1px rgba(60, 64, 67, 0.15);\n",
              "    fill: var(--button-hover-fill-color);\n",
              "  }\n",
              "\n",
              "  .colab-df-quickchart-complete:disabled,\n",
              "  .colab-df-quickchart-complete:disabled:hover {\n",
              "    background-color: var(--disabled-bg-color);\n",
              "    fill: var(--disabled-fill-color);\n",
              "    box-shadow: none;\n",
              "  }\n",
              "\n",
              "  .colab-df-spinner {\n",
              "    border: 2px solid var(--fill-color);\n",
              "    border-color: transparent;\n",
              "    border-bottom-color: var(--fill-color);\n",
              "    animation:\n",
              "      spin 1s steps(1) infinite;\n",
              "  }\n",
              "\n",
              "  @keyframes spin {\n",
              "    0% {\n",
              "      border-color: transparent;\n",
              "      border-bottom-color: var(--fill-color);\n",
              "      border-left-color: var(--fill-color);\n",
              "    }\n",
              "    20% {\n",
              "      border-color: transparent;\n",
              "      border-left-color: var(--fill-color);\n",
              "      border-top-color: var(--fill-color);\n",
              "    }\n",
              "    30% {\n",
              "      border-color: transparent;\n",
              "      border-left-color: var(--fill-color);\n",
              "      border-top-color: var(--fill-color);\n",
              "      border-right-color: var(--fill-color);\n",
              "    }\n",
              "    40% {\n",
              "      border-color: transparent;\n",
              "      border-right-color: var(--fill-color);\n",
              "      border-top-color: var(--fill-color);\n",
              "    }\n",
              "    60% {\n",
              "      border-color: transparent;\n",
              "      border-right-color: var(--fill-color);\n",
              "    }\n",
              "    80% {\n",
              "      border-color: transparent;\n",
              "      border-right-color: var(--fill-color);\n",
              "      border-bottom-color: var(--fill-color);\n",
              "    }\n",
              "    90% {\n",
              "      border-color: transparent;\n",
              "      border-bottom-color: var(--fill-color);\n",
              "    }\n",
              "  }\n",
              "</style>\n",
              "\n",
              "  <script>\n",
              "    async function quickchart(key) {\n",
              "      const quickchartButtonEl =\n",
              "        document.querySelector('#' + key + ' button');\n",
              "      quickchartButtonEl.disabled = true;  // To prevent multiple clicks.\n",
              "      quickchartButtonEl.classList.add('colab-df-spinner');\n",
              "      try {\n",
              "        const charts = await google.colab.kernel.invokeFunction(\n",
              "            'suggestCharts', [key], {});\n",
              "      } catch (error) {\n",
              "        console.error('Error during call to suggestCharts:', error);\n",
              "      }\n",
              "      quickchartButtonEl.classList.remove('colab-df-spinner');\n",
              "      quickchartButtonEl.classList.add('colab-df-quickchart-complete');\n",
              "    }\n",
              "    (() => {\n",
              "      let quickchartButtonEl =\n",
              "        document.querySelector('#df-48bd5929-93fb-4037-bcf3-6de174f9f13a button');\n",
              "      quickchartButtonEl.style.display =\n",
              "        google.colab.kernel.accessAllowed ? 'block' : 'none';\n",
              "    })();\n",
              "  </script>\n",
              "</div>\n",
              "\n",
              "    </div>\n",
              "  </div>\n"
            ],
            "application/vnd.google.colaboratory.intrinsic+json": {
              "type": "dataframe",
              "variable_name": "fantasy_data"
            }
          },
          "metadata": {},
          "execution_count": 5
        }
      ]
    },
    {
      "cell_type": "markdown",
      "source": [
        "Creation of new dataframes that only contain Running Backs, Quarterbacks and Wide Recievers with data from 2017-2022."
      ],
      "metadata": {
        "id": "Wz0DpFCjponT"
      }
    },
    {
      "cell_type": "code",
      "source": [
        "rb_data = fantasy_data[fantasy_data['FantPos'] == 'RB']\n",
        "qb_data = fantasy_data[fantasy_data['FantPos'] == 'QB']\n",
        "wr_data = fantasy_data[fantasy_data['FantPos'] == 'WR']"
      ],
      "metadata": {
        "id": "1xlWI6q_wmZ3"
      },
      "execution_count": 6,
      "outputs": []
    },
    {
      "cell_type": "markdown",
      "source": [
        "Distribution of Running Backs by Rushing Yards"
      ],
      "metadata": {
        "id": "snIouqs75gqG"
      }
    },
    {
      "cell_type": "code",
      "source": [
        "# Create the histogram\n",
        "fig = go.Figure(data=[go.Histogram(x=rb_data['RushYds'], nbinsx=50, marker_color='red')])\n",
        "\n",
        "# Update the layout\n",
        "fig.update_layout(\n",
        "    title='Distribution of Rushing Yards',\n",
        "    xaxis_title='Rushing Yards',\n",
        "    yaxis_title='Count'\n",
        ")\n",
        "\n",
        "# Show the plot\n",
        "fig.show()\n",
        "\n",
        " #Code to Convert to HTML for github\n",
        "fig.write_html(\"Distribution_of_Rushing_Yards.html\")\n",
        "from google.colab import files\n",
        "files.download('Distribution_of_Rushing_Yards.html')"
      ],
      "metadata": {
        "colab": {
          "base_uri": "https://localhost:8080/",
          "height": 542
        },
        "id": "UF6KdSNY5ohD",
        "outputId": "1dd13e7d-d130-4f50-846d-ad24acee33a4"
      },
      "execution_count": 9,
      "outputs": [
        {
          "output_type": "display_data",
          "data": {
            "text/html": [
              "<html>\n",
              "<head><meta charset=\"utf-8\" /></head>\n",
              "<body>\n",
              "    <div>            <script src=\"https://cdnjs.cloudflare.com/ajax/libs/mathjax/2.7.5/MathJax.js?config=TeX-AMS-MML_SVG\"></script><script type=\"text/javascript\">if (window.MathJax && window.MathJax.Hub && window.MathJax.Hub.Config) {window.MathJax.Hub.Config({SVG: {font: \"STIX-Web\"}});}</script>                <script type=\"text/javascript\">window.PlotlyConfig = {MathJaxConfig: 'local'};</script>\n",
              "        <script charset=\"utf-8\" src=\"https://cdn.plot.ly/plotly-2.35.2.min.js\"></script>                <div id=\"968b2d2e-31ff-4c8d-95f4-6d1e9d7305c8\" class=\"plotly-graph-div\" style=\"height:525px; width:100%;\"></div>            <script type=\"text/javascript\">                                    window.PLOTLYENV=window.PLOTLYENV || {};                                    if (document.getElementById(\"968b2d2e-31ff-4c8d-95f4-6d1e9d7305c8\")) {                    Plotly.newPlot(                        \"968b2d2e-31ff-4c8d-95f4-6d1e9d7305c8\",                        [{\"marker\":{\"color\":\"red\"},\"nbinsx\":50,\"x\":[1305,1291,728,1327,1105,1124,1138,938,1040,435,348,983,896,865,1122,888,570,1007,961,659,973,628,591,891,842,286,458,294,370,772,853,556,644,626,751,873,744,171,264,552,381,680,603,766,260,476,465,358,232,321,273,299,253,55,275,423,153,382,164,448,529,315,406,95,72,547,31,383,426,296,354,0,181,327,29,240,247,244,174,246,262,194,0,248,79,208,96,19,124,157,165,5,179,138,53,57,90,13,40,114,43,61,18,116,0,23,83,108,95,129,12,0,144,23,2,12,13,32,51,13,28,48,-2,23,37,26,0,67,13,24,44,0,0,41,4,0,25,5,29,0,8,30,9,25,0,21,14,14,0,1,30,8,2,1,-2,-2,1307,1098,1251,883,1434,973,425,885,940,1168,444,824,1037,535,1059,1151,996,800,1042,935,908,414,973,728,554,814,314,517,259,615,871,645,685,641,931,514,201,578,514,439,723,364,171,464,411,722,521,256,571,315,499,211,110,178,718,256,183,418,276,106,511,259,246,376,385,188,419,428,30,403,208,103,206,120,343,336,265,333,186,113,176,266,184,212,261,250,191,127,91,5,2,16,41,44,8,40,0,0,69,44,157,25,154,15,80,68,79,34,74,-1,115,2,-1,0,9,49,71,4,9,30,0,47,32,0,29,3,0,-3,43,0,4,25,3,20,1,36,7,0,17,25,11,19,17,16,16,0,15,0,0,9,8,4,10,19,1387,1084,1357,557,1540,1135,1152,1494,797,1003,1018,1230,1137,857,818,789,817,263,1011,656,1150,1091,612,889,724,772,213,637,410,1070,912,775,898,460,464,496,345,498,544,387,465,199,470,525,175,623,179,302,245,599,138,711,455,403,205,145,303,17,370,170,462,168,141,323,209,273,255,426,245,307,135,108,68,7,273,225,110,105,377,201,235,115,49,17,106,229,103,128,133,200,50,63,116,72,114,81,147,92,0,17,3,66,0,21,1,21,28,122,10,9,51,27,20,36,48,0,7,11,34,20,0,91,27,60,39,40,0,9,29,10,43,10,-2,8,30,26,0,0,16,0,3,12,12,11,10,9,9,9,8,7,6,4,932,1557,2027,1070,1104,1169,1070,1065,979,841,1067,642,795,986,380,955,365,521,681,978,691,803,867,805,448,530,721,584,678,416,687,600,682,656,367,624,723,505,319,604,435,121,419,274,625,481,653,521,428,374,465,303,691,225,434,423,356,235,64,354,449,368,328,181,319,502,301,270,254,308,268,115,108,258,169,32,299,232,123,204,20,254,238,242,170,157,156,172,97,88,148,60,42,145,4,31,67,18,5,109,113,72,157,63,77,166,75,0,7,76,7,0,74,-1,91,95,69,28,70,54,34,59,1,60,19,53,110,14,0,34,26,18,8,0,33,0,64,9,48,15,5,3,4,34,31,0,19,0,9,11,5,24,2,4,0,15,13,0,9,8,4,3,1811,911,1200,1205,752,812,1002,898,618,1037,799,872,1259,929,617,1159,903,870,558,918,849,937,803,767,612,963,688,719,639,593,576,845,593,592,503,612,212,442,491,226,291,749,601,517,754,238,606,276,386,554,345,427,534,501,254,373,566,166,364,246,228,428,433,22,156,350,411,406,177,164,138,58,330,256,266,294,356,24,137,212,77,68,232,253,249,125,185,149,101,180,62,99,230,169,34,38,140,167,118,118,98,74,1,40,61,125,142,79,4,105,101,37,31,89,102,87,26,23,104,98,101,80,0,0,33,5,21,31,29,25,0,35,51,36,4,3,8,9,4,5,51,16,1,3,13,24,7,4,9,31,0,3,20,4,4,0,-3,13,12,11,11,6,7,5,3,-1,4,915,1139,1653,1538,1312,1525,1040,1007,1121,814,1173,668,1066,1034,1269,897,1125,1050,782,291,542,876,819,801,891,770,939,546,1035,860,695,760,861,394,786,481,830,914,468,402,731,463,797,507,482,302,379,462,313,425,283,240,466,318,236,33,520,80,145,245,283,194,287,456,220,433,300,95,20,26,346,170,233,123,217,186,366,279,74,77,160,262,204,84,8,161,109,258,7,102,139,141,102,66,100,152,93,106,81,26,55,102,0,21,16,0,117,90,8,60,0,70,49,58,64,0,14,52,64,24,42,53,21,99,0,26,24,41,12,30,78,43,70,0,54,30,0,31,38,17,19,25,9,28,18,7,9,-4,2,20,19,4,4,4,0,12,8,7,4,3,2,1],\"type\":\"histogram\"}],                        {\"template\":{\"data\":{\"histogram2dcontour\":[{\"type\":\"histogram2dcontour\",\"colorbar\":{\"outlinewidth\":0,\"ticks\":\"\"},\"colorscale\":[[0.0,\"#0d0887\"],[0.1111111111111111,\"#46039f\"],[0.2222222222222222,\"#7201a8\"],[0.3333333333333333,\"#9c179e\"],[0.4444444444444444,\"#bd3786\"],[0.5555555555555556,\"#d8576b\"],[0.6666666666666666,\"#ed7953\"],[0.7777777777777778,\"#fb9f3a\"],[0.8888888888888888,\"#fdca26\"],[1.0,\"#f0f921\"]]}],\"choropleth\":[{\"type\":\"choropleth\",\"colorbar\":{\"outlinewidth\":0,\"ticks\":\"\"}}],\"histogram2d\":[{\"type\":\"histogram2d\",\"colorbar\":{\"outlinewidth\":0,\"ticks\":\"\"},\"colorscale\":[[0.0,\"#0d0887\"],[0.1111111111111111,\"#46039f\"],[0.2222222222222222,\"#7201a8\"],[0.3333333333333333,\"#9c179e\"],[0.4444444444444444,\"#bd3786\"],[0.5555555555555556,\"#d8576b\"],[0.6666666666666666,\"#ed7953\"],[0.7777777777777778,\"#fb9f3a\"],[0.8888888888888888,\"#fdca26\"],[1.0,\"#f0f921\"]]}],\"heatmap\":[{\"type\":\"heatmap\",\"colorbar\":{\"outlinewidth\":0,\"ticks\":\"\"},\"colorscale\":[[0.0,\"#0d0887\"],[0.1111111111111111,\"#46039f\"],[0.2222222222222222,\"#7201a8\"],[0.3333333333333333,\"#9c179e\"],[0.4444444444444444,\"#bd3786\"],[0.5555555555555556,\"#d8576b\"],[0.6666666666666666,\"#ed7953\"],[0.7777777777777778,\"#fb9f3a\"],[0.8888888888888888,\"#fdca26\"],[1.0,\"#f0f921\"]]}],\"heatmapgl\":[{\"type\":\"heatmapgl\",\"colorbar\":{\"outlinewidth\":0,\"ticks\":\"\"},\"colorscale\":[[0.0,\"#0d0887\"],[0.1111111111111111,\"#46039f\"],[0.2222222222222222,\"#7201a8\"],[0.3333333333333333,\"#9c179e\"],[0.4444444444444444,\"#bd3786\"],[0.5555555555555556,\"#d8576b\"],[0.6666666666666666,\"#ed7953\"],[0.7777777777777778,\"#fb9f3a\"],[0.8888888888888888,\"#fdca26\"],[1.0,\"#f0f921\"]]}],\"contourcarpet\":[{\"type\":\"contourcarpet\",\"colorbar\":{\"outlinewidth\":0,\"ticks\":\"\"}}],\"contour\":[{\"type\":\"contour\",\"colorbar\":{\"outlinewidth\":0,\"ticks\":\"\"},\"colorscale\":[[0.0,\"#0d0887\"],[0.1111111111111111,\"#46039f\"],[0.2222222222222222,\"#7201a8\"],[0.3333333333333333,\"#9c179e\"],[0.4444444444444444,\"#bd3786\"],[0.5555555555555556,\"#d8576b\"],[0.6666666666666666,\"#ed7953\"],[0.7777777777777778,\"#fb9f3a\"],[0.8888888888888888,\"#fdca26\"],[1.0,\"#f0f921\"]]}],\"surface\":[{\"type\":\"surface\",\"colorbar\":{\"outlinewidth\":0,\"ticks\":\"\"},\"colorscale\":[[0.0,\"#0d0887\"],[0.1111111111111111,\"#46039f\"],[0.2222222222222222,\"#7201a8\"],[0.3333333333333333,\"#9c179e\"],[0.4444444444444444,\"#bd3786\"],[0.5555555555555556,\"#d8576b\"],[0.6666666666666666,\"#ed7953\"],[0.7777777777777778,\"#fb9f3a\"],[0.8888888888888888,\"#fdca26\"],[1.0,\"#f0f921\"]]}],\"mesh3d\":[{\"type\":\"mesh3d\",\"colorbar\":{\"outlinewidth\":0,\"ticks\":\"\"}}],\"scatter\":[{\"fillpattern\":{\"fillmode\":\"overlay\",\"size\":10,\"solidity\":0.2},\"type\":\"scatter\"}],\"parcoords\":[{\"type\":\"parcoords\",\"line\":{\"colorbar\":{\"outlinewidth\":0,\"ticks\":\"\"}}}],\"scatterpolargl\":[{\"type\":\"scatterpolargl\",\"marker\":{\"colorbar\":{\"outlinewidth\":0,\"ticks\":\"\"}}}],\"bar\":[{\"error_x\":{\"color\":\"#2a3f5f\"},\"error_y\":{\"color\":\"#2a3f5f\"},\"marker\":{\"line\":{\"color\":\"#E5ECF6\",\"width\":0.5},\"pattern\":{\"fillmode\":\"overlay\",\"size\":10,\"solidity\":0.2}},\"type\":\"bar\"}],\"scattergeo\":[{\"type\":\"scattergeo\",\"marker\":{\"colorbar\":{\"outlinewidth\":0,\"ticks\":\"\"}}}],\"scatterpolar\":[{\"type\":\"scatterpolar\",\"marker\":{\"colorbar\":{\"outlinewidth\":0,\"ticks\":\"\"}}}],\"histogram\":[{\"marker\":{\"pattern\":{\"fillmode\":\"overlay\",\"size\":10,\"solidity\":0.2}},\"type\":\"histogram\"}],\"scattergl\":[{\"type\":\"scattergl\",\"marker\":{\"colorbar\":{\"outlinewidth\":0,\"ticks\":\"\"}}}],\"scatter3d\":[{\"type\":\"scatter3d\",\"line\":{\"colorbar\":{\"outlinewidth\":0,\"ticks\":\"\"}},\"marker\":{\"colorbar\":{\"outlinewidth\":0,\"ticks\":\"\"}}}],\"scattermapbox\":[{\"type\":\"scattermapbox\",\"marker\":{\"colorbar\":{\"outlinewidth\":0,\"ticks\":\"\"}}}],\"scatterternary\":[{\"type\":\"scatterternary\",\"marker\":{\"colorbar\":{\"outlinewidth\":0,\"ticks\":\"\"}}}],\"scattercarpet\":[{\"type\":\"scattercarpet\",\"marker\":{\"colorbar\":{\"outlinewidth\":0,\"ticks\":\"\"}}}],\"carpet\":[{\"aaxis\":{\"endlinecolor\":\"#2a3f5f\",\"gridcolor\":\"white\",\"linecolor\":\"white\",\"minorgridcolor\":\"white\",\"startlinecolor\":\"#2a3f5f\"},\"baxis\":{\"endlinecolor\":\"#2a3f5f\",\"gridcolor\":\"white\",\"linecolor\":\"white\",\"minorgridcolor\":\"white\",\"startlinecolor\":\"#2a3f5f\"},\"type\":\"carpet\"}],\"table\":[{\"cells\":{\"fill\":{\"color\":\"#EBF0F8\"},\"line\":{\"color\":\"white\"}},\"header\":{\"fill\":{\"color\":\"#C8D4E3\"},\"line\":{\"color\":\"white\"}},\"type\":\"table\"}],\"barpolar\":[{\"marker\":{\"line\":{\"color\":\"#E5ECF6\",\"width\":0.5},\"pattern\":{\"fillmode\":\"overlay\",\"size\":10,\"solidity\":0.2}},\"type\":\"barpolar\"}],\"pie\":[{\"automargin\":true,\"type\":\"pie\"}]},\"layout\":{\"autotypenumbers\":\"strict\",\"colorway\":[\"#636efa\",\"#EF553B\",\"#00cc96\",\"#ab63fa\",\"#FFA15A\",\"#19d3f3\",\"#FF6692\",\"#B6E880\",\"#FF97FF\",\"#FECB52\"],\"font\":{\"color\":\"#2a3f5f\"},\"hovermode\":\"closest\",\"hoverlabel\":{\"align\":\"left\"},\"paper_bgcolor\":\"white\",\"plot_bgcolor\":\"#E5ECF6\",\"polar\":{\"bgcolor\":\"#E5ECF6\",\"angularaxis\":{\"gridcolor\":\"white\",\"linecolor\":\"white\",\"ticks\":\"\"},\"radialaxis\":{\"gridcolor\":\"white\",\"linecolor\":\"white\",\"ticks\":\"\"}},\"ternary\":{\"bgcolor\":\"#E5ECF6\",\"aaxis\":{\"gridcolor\":\"white\",\"linecolor\":\"white\",\"ticks\":\"\"},\"baxis\":{\"gridcolor\":\"white\",\"linecolor\":\"white\",\"ticks\":\"\"},\"caxis\":{\"gridcolor\":\"white\",\"linecolor\":\"white\",\"ticks\":\"\"}},\"coloraxis\":{\"colorbar\":{\"outlinewidth\":0,\"ticks\":\"\"}},\"colorscale\":{\"sequential\":[[0.0,\"#0d0887\"],[0.1111111111111111,\"#46039f\"],[0.2222222222222222,\"#7201a8\"],[0.3333333333333333,\"#9c179e\"],[0.4444444444444444,\"#bd3786\"],[0.5555555555555556,\"#d8576b\"],[0.6666666666666666,\"#ed7953\"],[0.7777777777777778,\"#fb9f3a\"],[0.8888888888888888,\"#fdca26\"],[1.0,\"#f0f921\"]],\"sequentialminus\":[[0.0,\"#0d0887\"],[0.1111111111111111,\"#46039f\"],[0.2222222222222222,\"#7201a8\"],[0.3333333333333333,\"#9c179e\"],[0.4444444444444444,\"#bd3786\"],[0.5555555555555556,\"#d8576b\"],[0.6666666666666666,\"#ed7953\"],[0.7777777777777778,\"#fb9f3a\"],[0.8888888888888888,\"#fdca26\"],[1.0,\"#f0f921\"]],\"diverging\":[[0,\"#8e0152\"],[0.1,\"#c51b7d\"],[0.2,\"#de77ae\"],[0.3,\"#f1b6da\"],[0.4,\"#fde0ef\"],[0.5,\"#f7f7f7\"],[0.6,\"#e6f5d0\"],[0.7,\"#b8e186\"],[0.8,\"#7fbc41\"],[0.9,\"#4d9221\"],[1,\"#276419\"]]},\"xaxis\":{\"gridcolor\":\"white\",\"linecolor\":\"white\",\"ticks\":\"\",\"title\":{\"standoff\":15},\"zerolinecolor\":\"white\",\"automargin\":true,\"zerolinewidth\":2},\"yaxis\":{\"gridcolor\":\"white\",\"linecolor\":\"white\",\"ticks\":\"\",\"title\":{\"standoff\":15},\"zerolinecolor\":\"white\",\"automargin\":true,\"zerolinewidth\":2},\"scene\":{\"xaxis\":{\"backgroundcolor\":\"#E5ECF6\",\"gridcolor\":\"white\",\"linecolor\":\"white\",\"showbackground\":true,\"ticks\":\"\",\"zerolinecolor\":\"white\",\"gridwidth\":2},\"yaxis\":{\"backgroundcolor\":\"#E5ECF6\",\"gridcolor\":\"white\",\"linecolor\":\"white\",\"showbackground\":true,\"ticks\":\"\",\"zerolinecolor\":\"white\",\"gridwidth\":2},\"zaxis\":{\"backgroundcolor\":\"#E5ECF6\",\"gridcolor\":\"white\",\"linecolor\":\"white\",\"showbackground\":true,\"ticks\":\"\",\"zerolinecolor\":\"white\",\"gridwidth\":2}},\"shapedefaults\":{\"line\":{\"color\":\"#2a3f5f\"}},\"annotationdefaults\":{\"arrowcolor\":\"#2a3f5f\",\"arrowhead\":0,\"arrowwidth\":1},\"geo\":{\"bgcolor\":\"white\",\"landcolor\":\"#E5ECF6\",\"subunitcolor\":\"white\",\"showland\":true,\"showlakes\":true,\"lakecolor\":\"white\"},\"title\":{\"x\":0.05},\"mapbox\":{\"style\":\"light\"}}},\"title\":{\"text\":\"Distribution of Rushing Yards\"},\"xaxis\":{\"title\":{\"text\":\"Rushing Yards\"}},\"yaxis\":{\"title\":{\"text\":\"Count\"}}},                        {\"responsive\": true}                    ).then(function(){\n",
              "                            \n",
              "var gd = document.getElementById('968b2d2e-31ff-4c8d-95f4-6d1e9d7305c8');\n",
              "var x = new MutationObserver(function (mutations, observer) {{\n",
              "        var display = window.getComputedStyle(gd).display;\n",
              "        if (!display || display === 'none') {{\n",
              "            console.log([gd, 'removed!']);\n",
              "            Plotly.purge(gd);\n",
              "            observer.disconnect();\n",
              "        }}\n",
              "}});\n",
              "\n",
              "// Listen for the removal of the full notebook cells\n",
              "var notebookContainer = gd.closest('#notebook-container');\n",
              "if (notebookContainer) {{\n",
              "    x.observe(notebookContainer, {childList: true});\n",
              "}}\n",
              "\n",
              "// Listen for the clearing of the current output cell\n",
              "var outputEl = gd.closest('.output');\n",
              "if (outputEl) {{\n",
              "    x.observe(outputEl, {childList: true});\n",
              "}}\n",
              "\n",
              "                        })                };                            </script>        </div>\n",
              "</body>\n",
              "</html>"
            ]
          },
          "metadata": {}
        },
        {
          "output_type": "display_data",
          "data": {
            "text/plain": [
              "<IPython.core.display.Javascript object>"
            ],
            "application/javascript": [
              "\n",
              "    async function download(id, filename, size) {\n",
              "      if (!google.colab.kernel.accessAllowed) {\n",
              "        return;\n",
              "      }\n",
              "      const div = document.createElement('div');\n",
              "      const label = document.createElement('label');\n",
              "      label.textContent = `Downloading \"${filename}\": `;\n",
              "      div.appendChild(label);\n",
              "      const progress = document.createElement('progress');\n",
              "      progress.max = size;\n",
              "      div.appendChild(progress);\n",
              "      document.body.appendChild(div);\n",
              "\n",
              "      const buffers = [];\n",
              "      let downloaded = 0;\n",
              "\n",
              "      const channel = await google.colab.kernel.comms.open(id);\n",
              "      // Send a message to notify the kernel that we're ready.\n",
              "      channel.send({})\n",
              "\n",
              "      for await (const message of channel.messages) {\n",
              "        // Send a message to notify the kernel that we're ready.\n",
              "        channel.send({})\n",
              "        if (message.buffers) {\n",
              "          for (const buffer of message.buffers) {\n",
              "            buffers.push(buffer);\n",
              "            downloaded += buffer.byteLength;\n",
              "            progress.value = downloaded;\n",
              "          }\n",
              "        }\n",
              "      }\n",
              "      const blob = new Blob(buffers, {type: 'application/binary'});\n",
              "      const a = document.createElement('a');\n",
              "      a.href = window.URL.createObjectURL(blob);\n",
              "      a.download = filename;\n",
              "      div.appendChild(a);\n",
              "      a.click();\n",
              "      div.remove();\n",
              "    }\n",
              "  "
            ]
          },
          "metadata": {}
        },
        {
          "output_type": "display_data",
          "data": {
            "text/plain": [
              "<IPython.core.display.Javascript object>"
            ],
            "application/javascript": [
              "download(\"download_14f9eaf2-a685-431f-b35e-7ef8e09e0534\", \"Distribution_of_Rushing_Yards.html\", 4569994)"
            ]
          },
          "metadata": {}
        }
      ]
    },
    {
      "cell_type": "markdown",
      "source": [
        "Distribution of Wide Recievers by Receiving Yards"
      ],
      "metadata": {
        "id": "iH08l7i3YmW5"
      }
    },
    {
      "cell_type": "code",
      "source": [
        "# Create the histogram\n",
        "fig = go.Figure(data=[go.Histogram(x=wr_data['RecYds'], nbinsx=50, marker_color='green')])\n",
        "\n",
        "# Update the layout\n",
        "fig.update_layout(\n",
        "    title='Distribution of Receiving Yards',\n",
        "    xaxis_title='Receiving Yards',\n",
        "    yaxis_title='Count'\n",
        ")\n",
        "\n",
        "# Show the plot\n",
        "fig.show()\n",
        "\n",
        "fig.write_html(\"Distribution_of_Receiving_Yards.html\")\n",
        "from google.colab import files\n",
        "files.download('Distribution_of_Receiving_Yards.html')"
      ],
      "metadata": {
        "colab": {
          "base_uri": "https://localhost:8080/",
          "height": 542
        },
        "id": "8yPKLxzi6Z4k",
        "outputId": "d4f304e4-3377-4293-8135-3ccd85331169"
      },
      "execution_count": 10,
      "outputs": [
        {
          "output_type": "display_data",
          "data": {
            "text/html": [
              "<html>\n",
              "<head><meta charset=\"utf-8\" /></head>\n",
              "<body>\n",
              "    <div>            <script src=\"https://cdnjs.cloudflare.com/ajax/libs/mathjax/2.7.5/MathJax.js?config=TeX-AMS-MML_SVG\"></script><script type=\"text/javascript\">if (window.MathJax && window.MathJax.Hub && window.MathJax.Hub.Config) {window.MathJax.Hub.Config({SVG: {font: \"STIX-Web\"}});}</script>                <script type=\"text/javascript\">window.PlotlyConfig = {MathJaxConfig: 'local'};</script>\n",
              "        <script charset=\"utf-8\" src=\"https://cdn.plot.ly/plotly-2.35.2.min.js\"></script>                <div id=\"fbe55418-a13b-4720-b35d-832872df04b3\" class=\"plotly-graph-div\" style=\"height:525px; width:100%;\"></div>            <script type=\"text/javascript\">                                    window.PLOTLYENV=window.PLOTLYENV || {};                                    if (document.getElementById(\"fbe55418-a13b-4720-b35d-832872df04b3\")) {                    Plotly.newPlot(                        \"fbe55418-a13b-4720-b35d-832872df04b3\",                        [{\"marker\":{\"color\":\"green\"},\"nbinsx\":50,\"x\":[1533,1378,1393,1156,987,1245,1444,1183,1276,1078,1101,1003,991,885,1082,949,1001,941,849,917,789,840,768,838,869,810,966,847,703,618,962,781,789,787,653,680,795,748,703,702,593,731,659,668,728,482,692,748,603,567,670,631,614,573,548,555,502,563,554,555,423,568,439,555,477,440,484,266,430,477,508,525,314,430,455,500,416,309,350,378,399,391,330,302,364,316,299,375,312,376,339,248,305,343,317,357,287,240,221,200,284,256,335,282,225,173,198,231,253,217,202,218,226,203,47,212,257,162,143,200,105,149,180,154,115,194,175,133,77,104,142,116,121,121,84,94,144,85,128,95,81,63,94,101,78,77,84,82,18,54,62,47,92,71,41,96,93,82,60,69,76,84,70,70,38,23,113,70,79,18,31,41,51,45,44,33,39,23,0,30,21,46,18,0,18,26,24,13,29,12,11,17,6,12,8,8,5,5,4,3,1,12,12,0,1479,1572,1386,1677,1297,1405,1373,1426,1524,1021,1219,1196,1204,1270,1052,965,1028,976,1005,850,1063,821,868,816,734,843,842,891,795,872,838,664,717,736,652,788,677,739,752,754,688,774,672,694,715,618,737,653,494,704,566,553,651,607,586,668,575,590,549,423,572,485,508,519,487,581,532,494,503,532,467,445,427,402,541,507,447,391,247,334,491,466,395,449,383,210,388,290,371,288,334,268,302,316,253,380,268,243,287,303,340,300,295,309,166,315,224,304,262,286,215,328,209,179,190,190,196,210,209,266,217,216,199,171,188,186,140,133,135,160,167,154,190,79,117,161,150,130,149,97,136,174,101,100,144,80,114,103,143,129,75,102,79,91,98,94,60,40,82,60,64,92,71,29,63,53,47,54,60,52,61,40,39,35,24,32,36,37,48,21,18,25,20,18,17,17,44,13,23,22,7,14,12,12,10,10,9,8,8,8,7,0,7,5,15,7,9,0,3,0,1725,1333,1394,1161,1165,1199,1117,1147,1190,1189,1202,1174,1057,1134,1157,1175,1008,1046,1112,1060,1051,1107,997,1130,1035,833,866,779,919,869,802,860,900,778,804,627,740,709,680,779,1001,660,775,828,676,584,651,576,678,673,645,607,670,735,605,656,501,520,490,561,538,583,601,418,552,310,477,575,449,397,446,358,529,339,506,363,428,353,351,374,421,433,452,416,329,294,361,287,426,359,234,365,300,245,297,254,326,359,271,254,301,296,277,243,254,198,198,216,225,244,220,177,193,187,164,179,245,159,186,200,219,261,105,195,186,127,200,218,159,83,189,170,166,109,184,169,181,170,111,115,165,162,133,125,113,124,72,91,106,82,89,56,24,55,115,67,116,66,36,31,69,38,64,80,-2,76,56,27,61,46,51,70,60,30,15,31,33,48,38,46,43,22,32,21,18,28,37,20,25,34,14,31,21,18,18,27,22,35,21,20,30,17,17,17,14,34,13,16,12,6,11,9,7,6,4,3,15,1,-4,1374,1276,1535,1407,1374,1400,1303,1054,1250,925,1006,1075,936,992,1114,831,1150,978,1096,1118,923,935,873,851,1193,974,967,908,841,984,840,879,840,896,748,769,786,843,699,793,726,762,656,742,856,600,642,756,706,631,621,771,729,751,690,629,599,419,656,667,560,618,599,417,483,539,604,523,485,466,602,448,501,409,441,282,392,505,503,451,394,471,511,458,432,381,421,373,396,400,319,388,477,452,438,391,398,288,309,266,132,349,338,394,293,357,302,272,304,228,265,315,276,224,274,201,189,201,186,220,236,163,197,236,187,213,160,169,159,255,176,154,193,189,167,173,77,144,132,100,154,69,89,180,150,167,187,141,118,62,117,106,115,49,47,139,79,101,85,35,86,66,48,94,91,27,76,71,46,26,58,35,73,63,73,27,60,60,63,41,50,66,53,22,0,33,39,46,31,40,29,16,32,37,35,31,20,19,23,20,17,3,3,11,34,5,15,16,14,13,13,12,11,10,5,0,8,4,0,1947,1553,1405,1616,1455,1239,1225,1161,1035,1038,1138,1146,1015,967,1103,1175,1082,1157,1102,1037,912,1008,1055,1091,1053,982,865,726,866,916,828,869,800,832,826,802,860,770,693,655,848,734,698,776,602,572,513,693,519,538,556,570,576,626,537,619,568,549,545,431,647,570,447,597,571,435,476,546,492,515,515,473,448,384,375,353,445,406,521,377,430,410,296,343,467,469,446,272,420,434,282,396,434,383,449,299,366,229,454,331,360,281,394,264,248,339,277,285,301,329,323,223,208,275,313,227,178,173,213,249,204,250,211,230,213,149,212,224,161,132,175,202,129,95,154,184,135,167,138,177,162,157,95,116,184,64,165,87,160,133,87,105,133,103,98,42,113,38,68,54,110,68,104,49,83,25,32,41,71,59,39,74,58,43,15,64,52,21,27,51,45,56,26,55,35,33,38,33,33,15,36,25,41,31,30,36,34,29,28,38,17,26,34,24,23,23,17,16,14,11,11,10,17,14,13,13,10,10,7,6,5,5,14,8,0,0,-3,1809,1710,1516,1429,1359,1496,1161,1356,1196,1160,1046,1108,1033,1191,1015,1048,1124,1023,1029,925,1103,972,812,888,1042,823,933,882,804,716,866,895,656,788,836,769,632,839,762,801,611,752,829,709,650,690,717,623,699,569,523,724,426,687,423,529,616,407,527,548,555,467,538,593,533,424,451,479,458,539,425,493,488,392,502,536,481,444,297,387,434,446,414,339,354,376,417,490,397,416,417,330,369,362,272,299,187,247,245,323,298,231,296,236,272,315,243,145,171,311,285,278,282,268,257,227,171,156,325,214,250,207,185,202,204,158,150,135,154,161,107,179,143,104,102,141,186,104,136,165,116,153,110,141,106,134,81,82,121,89,99,51,89,37,41,42,58,75,62,53,60,78,62,45,74,42,32,64,15,42,35,74,45,59,46,64,54,38,33,40,30,24,2,20,28,26,15,25,24,24,21,6,21,20,18,16,15,14,13,12,11,10,17,0,15,8,7,7,17,6,5,3,3,13,2,20,15,9],\"type\":\"histogram\"}],                        {\"template\":{\"data\":{\"histogram2dcontour\":[{\"type\":\"histogram2dcontour\",\"colorbar\":{\"outlinewidth\":0,\"ticks\":\"\"},\"colorscale\":[[0.0,\"#0d0887\"],[0.1111111111111111,\"#46039f\"],[0.2222222222222222,\"#7201a8\"],[0.3333333333333333,\"#9c179e\"],[0.4444444444444444,\"#bd3786\"],[0.5555555555555556,\"#d8576b\"],[0.6666666666666666,\"#ed7953\"],[0.7777777777777778,\"#fb9f3a\"],[0.8888888888888888,\"#fdca26\"],[1.0,\"#f0f921\"]]}],\"choropleth\":[{\"type\":\"choropleth\",\"colorbar\":{\"outlinewidth\":0,\"ticks\":\"\"}}],\"histogram2d\":[{\"type\":\"histogram2d\",\"colorbar\":{\"outlinewidth\":0,\"ticks\":\"\"},\"colorscale\":[[0.0,\"#0d0887\"],[0.1111111111111111,\"#46039f\"],[0.2222222222222222,\"#7201a8\"],[0.3333333333333333,\"#9c179e\"],[0.4444444444444444,\"#bd3786\"],[0.5555555555555556,\"#d8576b\"],[0.6666666666666666,\"#ed7953\"],[0.7777777777777778,\"#fb9f3a\"],[0.8888888888888888,\"#fdca26\"],[1.0,\"#f0f921\"]]}],\"heatmap\":[{\"type\":\"heatmap\",\"colorbar\":{\"outlinewidth\":0,\"ticks\":\"\"},\"colorscale\":[[0.0,\"#0d0887\"],[0.1111111111111111,\"#46039f\"],[0.2222222222222222,\"#7201a8\"],[0.3333333333333333,\"#9c179e\"],[0.4444444444444444,\"#bd3786\"],[0.5555555555555556,\"#d8576b\"],[0.6666666666666666,\"#ed7953\"],[0.7777777777777778,\"#fb9f3a\"],[0.8888888888888888,\"#fdca26\"],[1.0,\"#f0f921\"]]}],\"heatmapgl\":[{\"type\":\"heatmapgl\",\"colorbar\":{\"outlinewidth\":0,\"ticks\":\"\"},\"colorscale\":[[0.0,\"#0d0887\"],[0.1111111111111111,\"#46039f\"],[0.2222222222222222,\"#7201a8\"],[0.3333333333333333,\"#9c179e\"],[0.4444444444444444,\"#bd3786\"],[0.5555555555555556,\"#d8576b\"],[0.6666666666666666,\"#ed7953\"],[0.7777777777777778,\"#fb9f3a\"],[0.8888888888888888,\"#fdca26\"],[1.0,\"#f0f921\"]]}],\"contourcarpet\":[{\"type\":\"contourcarpet\",\"colorbar\":{\"outlinewidth\":0,\"ticks\":\"\"}}],\"contour\":[{\"type\":\"contour\",\"colorbar\":{\"outlinewidth\":0,\"ticks\":\"\"},\"colorscale\":[[0.0,\"#0d0887\"],[0.1111111111111111,\"#46039f\"],[0.2222222222222222,\"#7201a8\"],[0.3333333333333333,\"#9c179e\"],[0.4444444444444444,\"#bd3786\"],[0.5555555555555556,\"#d8576b\"],[0.6666666666666666,\"#ed7953\"],[0.7777777777777778,\"#fb9f3a\"],[0.8888888888888888,\"#fdca26\"],[1.0,\"#f0f921\"]]}],\"surface\":[{\"type\":\"surface\",\"colorbar\":{\"outlinewidth\":0,\"ticks\":\"\"},\"colorscale\":[[0.0,\"#0d0887\"],[0.1111111111111111,\"#46039f\"],[0.2222222222222222,\"#7201a8\"],[0.3333333333333333,\"#9c179e\"],[0.4444444444444444,\"#bd3786\"],[0.5555555555555556,\"#d8576b\"],[0.6666666666666666,\"#ed7953\"],[0.7777777777777778,\"#fb9f3a\"],[0.8888888888888888,\"#fdca26\"],[1.0,\"#f0f921\"]]}],\"mesh3d\":[{\"type\":\"mesh3d\",\"colorbar\":{\"outlinewidth\":0,\"ticks\":\"\"}}],\"scatter\":[{\"fillpattern\":{\"fillmode\":\"overlay\",\"size\":10,\"solidity\":0.2},\"type\":\"scatter\"}],\"parcoords\":[{\"type\":\"parcoords\",\"line\":{\"colorbar\":{\"outlinewidth\":0,\"ticks\":\"\"}}}],\"scatterpolargl\":[{\"type\":\"scatterpolargl\",\"marker\":{\"colorbar\":{\"outlinewidth\":0,\"ticks\":\"\"}}}],\"bar\":[{\"error_x\":{\"color\":\"#2a3f5f\"},\"error_y\":{\"color\":\"#2a3f5f\"},\"marker\":{\"line\":{\"color\":\"#E5ECF6\",\"width\":0.5},\"pattern\":{\"fillmode\":\"overlay\",\"size\":10,\"solidity\":0.2}},\"type\":\"bar\"}],\"scattergeo\":[{\"type\":\"scattergeo\",\"marker\":{\"colorbar\":{\"outlinewidth\":0,\"ticks\":\"\"}}}],\"scatterpolar\":[{\"type\":\"scatterpolar\",\"marker\":{\"colorbar\":{\"outlinewidth\":0,\"ticks\":\"\"}}}],\"histogram\":[{\"marker\":{\"pattern\":{\"fillmode\":\"overlay\",\"size\":10,\"solidity\":0.2}},\"type\":\"histogram\"}],\"scattergl\":[{\"type\":\"scattergl\",\"marker\":{\"colorbar\":{\"outlinewidth\":0,\"ticks\":\"\"}}}],\"scatter3d\":[{\"type\":\"scatter3d\",\"line\":{\"colorbar\":{\"outlinewidth\":0,\"ticks\":\"\"}},\"marker\":{\"colorbar\":{\"outlinewidth\":0,\"ticks\":\"\"}}}],\"scattermapbox\":[{\"type\":\"scattermapbox\",\"marker\":{\"colorbar\":{\"outlinewidth\":0,\"ticks\":\"\"}}}],\"scatterternary\":[{\"type\":\"scatterternary\",\"marker\":{\"colorbar\":{\"outlinewidth\":0,\"ticks\":\"\"}}}],\"scattercarpet\":[{\"type\":\"scattercarpet\",\"marker\":{\"colorbar\":{\"outlinewidth\":0,\"ticks\":\"\"}}}],\"carpet\":[{\"aaxis\":{\"endlinecolor\":\"#2a3f5f\",\"gridcolor\":\"white\",\"linecolor\":\"white\",\"minorgridcolor\":\"white\",\"startlinecolor\":\"#2a3f5f\"},\"baxis\":{\"endlinecolor\":\"#2a3f5f\",\"gridcolor\":\"white\",\"linecolor\":\"white\",\"minorgridcolor\":\"white\",\"startlinecolor\":\"#2a3f5f\"},\"type\":\"carpet\"}],\"table\":[{\"cells\":{\"fill\":{\"color\":\"#EBF0F8\"},\"line\":{\"color\":\"white\"}},\"header\":{\"fill\":{\"color\":\"#C8D4E3\"},\"line\":{\"color\":\"white\"}},\"type\":\"table\"}],\"barpolar\":[{\"marker\":{\"line\":{\"color\":\"#E5ECF6\",\"width\":0.5},\"pattern\":{\"fillmode\":\"overlay\",\"size\":10,\"solidity\":0.2}},\"type\":\"barpolar\"}],\"pie\":[{\"automargin\":true,\"type\":\"pie\"}]},\"layout\":{\"autotypenumbers\":\"strict\",\"colorway\":[\"#636efa\",\"#EF553B\",\"#00cc96\",\"#ab63fa\",\"#FFA15A\",\"#19d3f3\",\"#FF6692\",\"#B6E880\",\"#FF97FF\",\"#FECB52\"],\"font\":{\"color\":\"#2a3f5f\"},\"hovermode\":\"closest\",\"hoverlabel\":{\"align\":\"left\"},\"paper_bgcolor\":\"white\",\"plot_bgcolor\":\"#E5ECF6\",\"polar\":{\"bgcolor\":\"#E5ECF6\",\"angularaxis\":{\"gridcolor\":\"white\",\"linecolor\":\"white\",\"ticks\":\"\"},\"radialaxis\":{\"gridcolor\":\"white\",\"linecolor\":\"white\",\"ticks\":\"\"}},\"ternary\":{\"bgcolor\":\"#E5ECF6\",\"aaxis\":{\"gridcolor\":\"white\",\"linecolor\":\"white\",\"ticks\":\"\"},\"baxis\":{\"gridcolor\":\"white\",\"linecolor\":\"white\",\"ticks\":\"\"},\"caxis\":{\"gridcolor\":\"white\",\"linecolor\":\"white\",\"ticks\":\"\"}},\"coloraxis\":{\"colorbar\":{\"outlinewidth\":0,\"ticks\":\"\"}},\"colorscale\":{\"sequential\":[[0.0,\"#0d0887\"],[0.1111111111111111,\"#46039f\"],[0.2222222222222222,\"#7201a8\"],[0.3333333333333333,\"#9c179e\"],[0.4444444444444444,\"#bd3786\"],[0.5555555555555556,\"#d8576b\"],[0.6666666666666666,\"#ed7953\"],[0.7777777777777778,\"#fb9f3a\"],[0.8888888888888888,\"#fdca26\"],[1.0,\"#f0f921\"]],\"sequentialminus\":[[0.0,\"#0d0887\"],[0.1111111111111111,\"#46039f\"],[0.2222222222222222,\"#7201a8\"],[0.3333333333333333,\"#9c179e\"],[0.4444444444444444,\"#bd3786\"],[0.5555555555555556,\"#d8576b\"],[0.6666666666666666,\"#ed7953\"],[0.7777777777777778,\"#fb9f3a\"],[0.8888888888888888,\"#fdca26\"],[1.0,\"#f0f921\"]],\"diverging\":[[0,\"#8e0152\"],[0.1,\"#c51b7d\"],[0.2,\"#de77ae\"],[0.3,\"#f1b6da\"],[0.4,\"#fde0ef\"],[0.5,\"#f7f7f7\"],[0.6,\"#e6f5d0\"],[0.7,\"#b8e186\"],[0.8,\"#7fbc41\"],[0.9,\"#4d9221\"],[1,\"#276419\"]]},\"xaxis\":{\"gridcolor\":\"white\",\"linecolor\":\"white\",\"ticks\":\"\",\"title\":{\"standoff\":15},\"zerolinecolor\":\"white\",\"automargin\":true,\"zerolinewidth\":2},\"yaxis\":{\"gridcolor\":\"white\",\"linecolor\":\"white\",\"ticks\":\"\",\"title\":{\"standoff\":15},\"zerolinecolor\":\"white\",\"automargin\":true,\"zerolinewidth\":2},\"scene\":{\"xaxis\":{\"backgroundcolor\":\"#E5ECF6\",\"gridcolor\":\"white\",\"linecolor\":\"white\",\"showbackground\":true,\"ticks\":\"\",\"zerolinecolor\":\"white\",\"gridwidth\":2},\"yaxis\":{\"backgroundcolor\":\"#E5ECF6\",\"gridcolor\":\"white\",\"linecolor\":\"white\",\"showbackground\":true,\"ticks\":\"\",\"zerolinecolor\":\"white\",\"gridwidth\":2},\"zaxis\":{\"backgroundcolor\":\"#E5ECF6\",\"gridcolor\":\"white\",\"linecolor\":\"white\",\"showbackground\":true,\"ticks\":\"\",\"zerolinecolor\":\"white\",\"gridwidth\":2}},\"shapedefaults\":{\"line\":{\"color\":\"#2a3f5f\"}},\"annotationdefaults\":{\"arrowcolor\":\"#2a3f5f\",\"arrowhead\":0,\"arrowwidth\":1},\"geo\":{\"bgcolor\":\"white\",\"landcolor\":\"#E5ECF6\",\"subunitcolor\":\"white\",\"showland\":true,\"showlakes\":true,\"lakecolor\":\"white\"},\"title\":{\"x\":0.05},\"mapbox\":{\"style\":\"light\"}}},\"title\":{\"text\":\"Distribution of Receiving Yards\"},\"xaxis\":{\"title\":{\"text\":\"Receiving Yards\"}},\"yaxis\":{\"title\":{\"text\":\"Count\"}}},                        {\"responsive\": true}                    ).then(function(){\n",
              "                            \n",
              "var gd = document.getElementById('fbe55418-a13b-4720-b35d-832872df04b3');\n",
              "var x = new MutationObserver(function (mutations, observer) {{\n",
              "        var display = window.getComputedStyle(gd).display;\n",
              "        if (!display || display === 'none') {{\n",
              "            console.log([gd, 'removed!']);\n",
              "            Plotly.purge(gd);\n",
              "            observer.disconnect();\n",
              "        }}\n",
              "}});\n",
              "\n",
              "// Listen for the removal of the full notebook cells\n",
              "var notebookContainer = gd.closest('#notebook-container');\n",
              "if (notebookContainer) {{\n",
              "    x.observe(notebookContainer, {childList: true});\n",
              "}}\n",
              "\n",
              "// Listen for the clearing of the current output cell\n",
              "var outputEl = gd.closest('.output');\n",
              "if (outputEl) {{\n",
              "    x.observe(outputEl, {childList: true});\n",
              "}}\n",
              "\n",
              "                        })                };                            </script>        </div>\n",
              "</body>\n",
              "</html>"
            ]
          },
          "metadata": {}
        },
        {
          "output_type": "display_data",
          "data": {
            "text/plain": [
              "<IPython.core.display.Javascript object>"
            ],
            "application/javascript": [
              "\n",
              "    async function download(id, filename, size) {\n",
              "      if (!google.colab.kernel.accessAllowed) {\n",
              "        return;\n",
              "      }\n",
              "      const div = document.createElement('div');\n",
              "      const label = document.createElement('label');\n",
              "      label.textContent = `Downloading \"${filename}\": `;\n",
              "      div.appendChild(label);\n",
              "      const progress = document.createElement('progress');\n",
              "      progress.max = size;\n",
              "      div.appendChild(progress);\n",
              "      document.body.appendChild(div);\n",
              "\n",
              "      const buffers = [];\n",
              "      let downloaded = 0;\n",
              "\n",
              "      const channel = await google.colab.kernel.comms.open(id);\n",
              "      // Send a message to notify the kernel that we're ready.\n",
              "      channel.send({})\n",
              "\n",
              "      for await (const message of channel.messages) {\n",
              "        // Send a message to notify the kernel that we're ready.\n",
              "        channel.send({})\n",
              "        if (message.buffers) {\n",
              "          for (const buffer of message.buffers) {\n",
              "            buffers.push(buffer);\n",
              "            downloaded += buffer.byteLength;\n",
              "            progress.value = downloaded;\n",
              "          }\n",
              "        }\n",
              "      }\n",
              "      const blob = new Blob(buffers, {type: 'application/binary'});\n",
              "      const a = document.createElement('a');\n",
              "      a.href = window.URL.createObjectURL(blob);\n",
              "      a.download = filename;\n",
              "      div.appendChild(a);\n",
              "      a.click();\n",
              "      div.remove();\n",
              "    }\n",
              "  "
            ]
          },
          "metadata": {}
        },
        {
          "output_type": "display_data",
          "data": {
            "text/plain": [
              "<IPython.core.display.Javascript object>"
            ],
            "application/javascript": [
              "download(\"download_62135920-d8ea-46fe-b6ab-dcf5d1295d53\", \"Distribution_of_Receiving_Yards.html\", 4571510)"
            ]
          },
          "metadata": {}
        }
      ]
    },
    {
      "cell_type": "markdown",
      "source": [
        "Distribution of Quarterbacks by Passing Yards"
      ],
      "metadata": {
        "id": "dVk-99XoYthv"
      }
    },
    {
      "cell_type": "code",
      "source": [
        "# Create the histogram\n",
        "fig = go.Figure(data=[go.Histogram(x=qb_data['PassingYds'], nbinsx=50, marker_color='blue')])\n",
        "\n",
        "# Update the layout\n",
        "fig.update_layout(\n",
        "    title='Distribution of Passing Yards',\n",
        "    xaxis_title='Passing Yards',\n",
        "    yaxis_title='Count'\n",
        ")\n",
        "\n",
        "# Show the plot\n",
        "fig.show()\n",
        "\n",
        "fig.write_html(\"Distribution_of_Passing_Yards.html\")\n",
        "from google.colab import files\n",
        "files.download('Distribution_of_Passing_Yards.html')"
      ],
      "metadata": {
        "colab": {
          "base_uri": "https://localhost:8080/",
          "height": 542
        },
        "id": "_Qa-soO66k1m",
        "outputId": "b81cfdd7-9001-441c-cc6f-d8f8fe467941"
      },
      "execution_count": 11,
      "outputs": [
        {
          "output_type": "display_data",
          "data": {
            "text/html": [
              "<html>\n",
              "<head><meta charset=\"utf-8\" /></head>\n",
              "<body>\n",
              "    <div>            <script src=\"https://cdnjs.cloudflare.com/ajax/libs/mathjax/2.7.5/MathJax.js?config=TeX-AMS-MML_SVG\"></script><script type=\"text/javascript\">if (window.MathJax && window.MathJax.Hub && window.MathJax.Hub.Config) {window.MathJax.Hub.Config({SVG: {font: \"STIX-Web\"}});}</script>                <script type=\"text/javascript\">window.PlotlyConfig = {MathJaxConfig: 'local'};</script>\n",
              "        <script charset=\"utf-8\" src=\"https://cdn.plot.ly/plotly-2.35.2.min.js\"></script>                <div id=\"082b2547-12e3-41d9-8739-d4876f249278\" class=\"plotly-graph-div\" style=\"height:525px; width:100%;\"></div>            <script type=\"text/javascript\">                                    window.PLOTLYENV=window.PLOTLYENV || {};                                    if (document.getElementById(\"082b2547-12e3-41d9-8739-d4876f249278\")) {                    Plotly.newPlot(                        \"082b2547-12e3-41d9-8739-d4876f249278\",                        [{\"marker\":{\"color\":\"blue\"},\"nbinsx\":50,\"x\":[3983,3302,4577,4042,3296,4093,4446,4515,4334,4251,3324,3804,3687,3547,4095,2799,3320,3232,3496,3098,2926,3504,3468,3141,2894,1699,2666,2193,1675,2285,1836,1978,1430,1560,1103,1088,1287,1086,1412,894,0,861,523,517,537,833,382,544,0,265,295,265,284,252,212,239,134,0,185,126,66,162,2,10,17,11,0,0,0,24,36,0,0,5097,4924,5129,4165,4593,4442,4688,3992,3448,3885,4308,4298,3395,4355,3223,3725,4299,4049,3890,3777,2074,2992,3074,2528,2566,2718,2865,2366,1201,1979,2180,2465,2277,2278,1003,1413,1252,1247,0,590,718,473,709,64,626,515,372,266,539,15,232,320,296,400,174,118,465,187,22,59,40,29,20,21,43,138,8,0,0,7,2,8,0,3127,4902,4110,3852,5109,3089,4031,3722,4002,4039,4466,4057,4638,3978,4054,3603,3529,4615,3827,3271,2979,2742,2942,3027,3494,3138,3024,3322,2499,1765,1707,55,1384,1203,1822,1365,1020,685,984,1042,1063,659,736,580,515,435,474,372,567,225,572,225,351,416,49,33,359,122,56,228,24,18,3,0,15,0,0,3,126,14,4544,4299,3971,4740,4823,4212,3819,4633,2757,4336,4265,4581,4103,3803,2657,4084,3563,3733,3952,4169,2942,2620,2933,2943,2688,2259,928,2091,2055,2170,1856,1814,2208,2437,1061,1852,1582,1439,1096,1072,864,787,925,610,432,624,226,248,17,164,324,375,143,243,256,231,264,137,295,90,197,208,368,105,219,15,42,0,75,2,130,25,49,46,7,33,20,18,0,0,32,4407,5014,5316,4839,4115,4886,4449,4611,3144,3787,4221,3734,3563,4804,3113,2882,3810,3801,3419,3968,3740,3052,3641,3245,3010,2653,2428,2527,2664,2334,1870,978,1170,1154,684,1515,1081,966,1283,603,702,787,638,953,740,439,790,462,526,422,338,411,277,250,4,149,362,189,227,210,147,43,120,194,82,135,36,67,33,0,13,0,5,0,0,0,0,0,25,0,5,19,5250,4283,3701,4475,4282,2242,4113,4547,3205,4438,4739,4694,3695,2242,3548,3524,3522,2368,2860,2219,3118,2871,2997,2608,2437,2536,3057,2404,2163,1859,1755,2087,1374,1688,1143,1102,1252,1051,1192,658,1051,858,656,781,731,708,683,663,573,780,411,168,276,402,169,483,534,108,416,161,390,194,224,195,58,184,90,412,52,139,302,29,224,37,23,22,10,59,8,0,0,35,33],\"type\":\"histogram\"}],                        {\"template\":{\"data\":{\"histogram2dcontour\":[{\"type\":\"histogram2dcontour\",\"colorbar\":{\"outlinewidth\":0,\"ticks\":\"\"},\"colorscale\":[[0.0,\"#0d0887\"],[0.1111111111111111,\"#46039f\"],[0.2222222222222222,\"#7201a8\"],[0.3333333333333333,\"#9c179e\"],[0.4444444444444444,\"#bd3786\"],[0.5555555555555556,\"#d8576b\"],[0.6666666666666666,\"#ed7953\"],[0.7777777777777778,\"#fb9f3a\"],[0.8888888888888888,\"#fdca26\"],[1.0,\"#f0f921\"]]}],\"choropleth\":[{\"type\":\"choropleth\",\"colorbar\":{\"outlinewidth\":0,\"ticks\":\"\"}}],\"histogram2d\":[{\"type\":\"histogram2d\",\"colorbar\":{\"outlinewidth\":0,\"ticks\":\"\"},\"colorscale\":[[0.0,\"#0d0887\"],[0.1111111111111111,\"#46039f\"],[0.2222222222222222,\"#7201a8\"],[0.3333333333333333,\"#9c179e\"],[0.4444444444444444,\"#bd3786\"],[0.5555555555555556,\"#d8576b\"],[0.6666666666666666,\"#ed7953\"],[0.7777777777777778,\"#fb9f3a\"],[0.8888888888888888,\"#fdca26\"],[1.0,\"#f0f921\"]]}],\"heatmap\":[{\"type\":\"heatmap\",\"colorbar\":{\"outlinewidth\":0,\"ticks\":\"\"},\"colorscale\":[[0.0,\"#0d0887\"],[0.1111111111111111,\"#46039f\"],[0.2222222222222222,\"#7201a8\"],[0.3333333333333333,\"#9c179e\"],[0.4444444444444444,\"#bd3786\"],[0.5555555555555556,\"#d8576b\"],[0.6666666666666666,\"#ed7953\"],[0.7777777777777778,\"#fb9f3a\"],[0.8888888888888888,\"#fdca26\"],[1.0,\"#f0f921\"]]}],\"heatmapgl\":[{\"type\":\"heatmapgl\",\"colorbar\":{\"outlinewidth\":0,\"ticks\":\"\"},\"colorscale\":[[0.0,\"#0d0887\"],[0.1111111111111111,\"#46039f\"],[0.2222222222222222,\"#7201a8\"],[0.3333333333333333,\"#9c179e\"],[0.4444444444444444,\"#bd3786\"],[0.5555555555555556,\"#d8576b\"],[0.6666666666666666,\"#ed7953\"],[0.7777777777777778,\"#fb9f3a\"],[0.8888888888888888,\"#fdca26\"],[1.0,\"#f0f921\"]]}],\"contourcarpet\":[{\"type\":\"contourcarpet\",\"colorbar\":{\"outlinewidth\":0,\"ticks\":\"\"}}],\"contour\":[{\"type\":\"contour\",\"colorbar\":{\"outlinewidth\":0,\"ticks\":\"\"},\"colorscale\":[[0.0,\"#0d0887\"],[0.1111111111111111,\"#46039f\"],[0.2222222222222222,\"#7201a8\"],[0.3333333333333333,\"#9c179e\"],[0.4444444444444444,\"#bd3786\"],[0.5555555555555556,\"#d8576b\"],[0.6666666666666666,\"#ed7953\"],[0.7777777777777778,\"#fb9f3a\"],[0.8888888888888888,\"#fdca26\"],[1.0,\"#f0f921\"]]}],\"surface\":[{\"type\":\"surface\",\"colorbar\":{\"outlinewidth\":0,\"ticks\":\"\"},\"colorscale\":[[0.0,\"#0d0887\"],[0.1111111111111111,\"#46039f\"],[0.2222222222222222,\"#7201a8\"],[0.3333333333333333,\"#9c179e\"],[0.4444444444444444,\"#bd3786\"],[0.5555555555555556,\"#d8576b\"],[0.6666666666666666,\"#ed7953\"],[0.7777777777777778,\"#fb9f3a\"],[0.8888888888888888,\"#fdca26\"],[1.0,\"#f0f921\"]]}],\"mesh3d\":[{\"type\":\"mesh3d\",\"colorbar\":{\"outlinewidth\":0,\"ticks\":\"\"}}],\"scatter\":[{\"fillpattern\":{\"fillmode\":\"overlay\",\"size\":10,\"solidity\":0.2},\"type\":\"scatter\"}],\"parcoords\":[{\"type\":\"parcoords\",\"line\":{\"colorbar\":{\"outlinewidth\":0,\"ticks\":\"\"}}}],\"scatterpolargl\":[{\"type\":\"scatterpolargl\",\"marker\":{\"colorbar\":{\"outlinewidth\":0,\"ticks\":\"\"}}}],\"bar\":[{\"error_x\":{\"color\":\"#2a3f5f\"},\"error_y\":{\"color\":\"#2a3f5f\"},\"marker\":{\"line\":{\"color\":\"#E5ECF6\",\"width\":0.5},\"pattern\":{\"fillmode\":\"overlay\",\"size\":10,\"solidity\":0.2}},\"type\":\"bar\"}],\"scattergeo\":[{\"type\":\"scattergeo\",\"marker\":{\"colorbar\":{\"outlinewidth\":0,\"ticks\":\"\"}}}],\"scatterpolar\":[{\"type\":\"scatterpolar\",\"marker\":{\"colorbar\":{\"outlinewidth\":0,\"ticks\":\"\"}}}],\"histogram\":[{\"marker\":{\"pattern\":{\"fillmode\":\"overlay\",\"size\":10,\"solidity\":0.2}},\"type\":\"histogram\"}],\"scattergl\":[{\"type\":\"scattergl\",\"marker\":{\"colorbar\":{\"outlinewidth\":0,\"ticks\":\"\"}}}],\"scatter3d\":[{\"type\":\"scatter3d\",\"line\":{\"colorbar\":{\"outlinewidth\":0,\"ticks\":\"\"}},\"marker\":{\"colorbar\":{\"outlinewidth\":0,\"ticks\":\"\"}}}],\"scattermapbox\":[{\"type\":\"scattermapbox\",\"marker\":{\"colorbar\":{\"outlinewidth\":0,\"ticks\":\"\"}}}],\"scatterternary\":[{\"type\":\"scatterternary\",\"marker\":{\"colorbar\":{\"outlinewidth\":0,\"ticks\":\"\"}}}],\"scattercarpet\":[{\"type\":\"scattercarpet\",\"marker\":{\"colorbar\":{\"outlinewidth\":0,\"ticks\":\"\"}}}],\"carpet\":[{\"aaxis\":{\"endlinecolor\":\"#2a3f5f\",\"gridcolor\":\"white\",\"linecolor\":\"white\",\"minorgridcolor\":\"white\",\"startlinecolor\":\"#2a3f5f\"},\"baxis\":{\"endlinecolor\":\"#2a3f5f\",\"gridcolor\":\"white\",\"linecolor\":\"white\",\"minorgridcolor\":\"white\",\"startlinecolor\":\"#2a3f5f\"},\"type\":\"carpet\"}],\"table\":[{\"cells\":{\"fill\":{\"color\":\"#EBF0F8\"},\"line\":{\"color\":\"white\"}},\"header\":{\"fill\":{\"color\":\"#C8D4E3\"},\"line\":{\"color\":\"white\"}},\"type\":\"table\"}],\"barpolar\":[{\"marker\":{\"line\":{\"color\":\"#E5ECF6\",\"width\":0.5},\"pattern\":{\"fillmode\":\"overlay\",\"size\":10,\"solidity\":0.2}},\"type\":\"barpolar\"}],\"pie\":[{\"automargin\":true,\"type\":\"pie\"}]},\"layout\":{\"autotypenumbers\":\"strict\",\"colorway\":[\"#636efa\",\"#EF553B\",\"#00cc96\",\"#ab63fa\",\"#FFA15A\",\"#19d3f3\",\"#FF6692\",\"#B6E880\",\"#FF97FF\",\"#FECB52\"],\"font\":{\"color\":\"#2a3f5f\"},\"hovermode\":\"closest\",\"hoverlabel\":{\"align\":\"left\"},\"paper_bgcolor\":\"white\",\"plot_bgcolor\":\"#E5ECF6\",\"polar\":{\"bgcolor\":\"#E5ECF6\",\"angularaxis\":{\"gridcolor\":\"white\",\"linecolor\":\"white\",\"ticks\":\"\"},\"radialaxis\":{\"gridcolor\":\"white\",\"linecolor\":\"white\",\"ticks\":\"\"}},\"ternary\":{\"bgcolor\":\"#E5ECF6\",\"aaxis\":{\"gridcolor\":\"white\",\"linecolor\":\"white\",\"ticks\":\"\"},\"baxis\":{\"gridcolor\":\"white\",\"linecolor\":\"white\",\"ticks\":\"\"},\"caxis\":{\"gridcolor\":\"white\",\"linecolor\":\"white\",\"ticks\":\"\"}},\"coloraxis\":{\"colorbar\":{\"outlinewidth\":0,\"ticks\":\"\"}},\"colorscale\":{\"sequential\":[[0.0,\"#0d0887\"],[0.1111111111111111,\"#46039f\"],[0.2222222222222222,\"#7201a8\"],[0.3333333333333333,\"#9c179e\"],[0.4444444444444444,\"#bd3786\"],[0.5555555555555556,\"#d8576b\"],[0.6666666666666666,\"#ed7953\"],[0.7777777777777778,\"#fb9f3a\"],[0.8888888888888888,\"#fdca26\"],[1.0,\"#f0f921\"]],\"sequentialminus\":[[0.0,\"#0d0887\"],[0.1111111111111111,\"#46039f\"],[0.2222222222222222,\"#7201a8\"],[0.3333333333333333,\"#9c179e\"],[0.4444444444444444,\"#bd3786\"],[0.5555555555555556,\"#d8576b\"],[0.6666666666666666,\"#ed7953\"],[0.7777777777777778,\"#fb9f3a\"],[0.8888888888888888,\"#fdca26\"],[1.0,\"#f0f921\"]],\"diverging\":[[0,\"#8e0152\"],[0.1,\"#c51b7d\"],[0.2,\"#de77ae\"],[0.3,\"#f1b6da\"],[0.4,\"#fde0ef\"],[0.5,\"#f7f7f7\"],[0.6,\"#e6f5d0\"],[0.7,\"#b8e186\"],[0.8,\"#7fbc41\"],[0.9,\"#4d9221\"],[1,\"#276419\"]]},\"xaxis\":{\"gridcolor\":\"white\",\"linecolor\":\"white\",\"ticks\":\"\",\"title\":{\"standoff\":15},\"zerolinecolor\":\"white\",\"automargin\":true,\"zerolinewidth\":2},\"yaxis\":{\"gridcolor\":\"white\",\"linecolor\":\"white\",\"ticks\":\"\",\"title\":{\"standoff\":15},\"zerolinecolor\":\"white\",\"automargin\":true,\"zerolinewidth\":2},\"scene\":{\"xaxis\":{\"backgroundcolor\":\"#E5ECF6\",\"gridcolor\":\"white\",\"linecolor\":\"white\",\"showbackground\":true,\"ticks\":\"\",\"zerolinecolor\":\"white\",\"gridwidth\":2},\"yaxis\":{\"backgroundcolor\":\"#E5ECF6\",\"gridcolor\":\"white\",\"linecolor\":\"white\",\"showbackground\":true,\"ticks\":\"\",\"zerolinecolor\":\"white\",\"gridwidth\":2},\"zaxis\":{\"backgroundcolor\":\"#E5ECF6\",\"gridcolor\":\"white\",\"linecolor\":\"white\",\"showbackground\":true,\"ticks\":\"\",\"zerolinecolor\":\"white\",\"gridwidth\":2}},\"shapedefaults\":{\"line\":{\"color\":\"#2a3f5f\"}},\"annotationdefaults\":{\"arrowcolor\":\"#2a3f5f\",\"arrowhead\":0,\"arrowwidth\":1},\"geo\":{\"bgcolor\":\"white\",\"landcolor\":\"#E5ECF6\",\"subunitcolor\":\"white\",\"showland\":true,\"showlakes\":true,\"lakecolor\":\"white\"},\"title\":{\"x\":0.05},\"mapbox\":{\"style\":\"light\"}}},\"title\":{\"text\":\"Distribution of Passing Yards\"},\"xaxis\":{\"title\":{\"text\":\"Passing Yards\"}},\"yaxis\":{\"title\":{\"text\":\"Count\"}}},                        {\"responsive\": true}                    ).then(function(){\n",
              "                            \n",
              "var gd = document.getElementById('082b2547-12e3-41d9-8739-d4876f249278');\n",
              "var x = new MutationObserver(function (mutations, observer) {{\n",
              "        var display = window.getComputedStyle(gd).display;\n",
              "        if (!display || display === 'none') {{\n",
              "            console.log([gd, 'removed!']);\n",
              "            Plotly.purge(gd);\n",
              "            observer.disconnect();\n",
              "        }}\n",
              "}});\n",
              "\n",
              "// Listen for the removal of the full notebook cells\n",
              "var notebookContainer = gd.closest('#notebook-container');\n",
              "if (notebookContainer) {{\n",
              "    x.observe(notebookContainer, {childList: true});\n",
              "}}\n",
              "\n",
              "// Listen for the clearing of the current output cell\n",
              "var outputEl = gd.closest('.output');\n",
              "if (outputEl) {{\n",
              "    x.observe(outputEl, {childList: true});\n",
              "}}\n",
              "\n",
              "                        })                };                            </script>        </div>\n",
              "</body>\n",
              "</html>"
            ]
          },
          "metadata": {}
        },
        {
          "output_type": "display_data",
          "data": {
            "text/plain": [
              "<IPython.core.display.Javascript object>"
            ],
            "application/javascript": [
              "\n",
              "    async function download(id, filename, size) {\n",
              "      if (!google.colab.kernel.accessAllowed) {\n",
              "        return;\n",
              "      }\n",
              "      const div = document.createElement('div');\n",
              "      const label = document.createElement('label');\n",
              "      label.textContent = `Downloading \"${filename}\": `;\n",
              "      div.appendChild(label);\n",
              "      const progress = document.createElement('progress');\n",
              "      progress.max = size;\n",
              "      div.appendChild(progress);\n",
              "      document.body.appendChild(div);\n",
              "\n",
              "      const buffers = [];\n",
              "      let downloaded = 0;\n",
              "\n",
              "      const channel = await google.colab.kernel.comms.open(id);\n",
              "      // Send a message to notify the kernel that we're ready.\n",
              "      channel.send({})\n",
              "\n",
              "      for await (const message of channel.messages) {\n",
              "        // Send a message to notify the kernel that we're ready.\n",
              "        channel.send({})\n",
              "        if (message.buffers) {\n",
              "          for (const buffer of message.buffers) {\n",
              "            buffers.push(buffer);\n",
              "            downloaded += buffer.byteLength;\n",
              "            progress.value = downloaded;\n",
              "          }\n",
              "        }\n",
              "      }\n",
              "      const blob = new Blob(buffers, {type: 'application/binary'});\n",
              "      const a = document.createElement('a');\n",
              "      a.href = window.URL.createObjectURL(blob);\n",
              "      a.download = filename;\n",
              "      div.appendChild(a);\n",
              "      a.click();\n",
              "      div.remove();\n",
              "    }\n",
              "  "
            ]
          },
          "metadata": {}
        },
        {
          "output_type": "display_data",
          "data": {
            "text/plain": [
              "<IPython.core.display.Javascript object>"
            ],
            "application/javascript": [
              "download(\"download_4d6a2b17-792f-48dd-9cd4-6b34980515e5\", \"Distribution_of_Passing_Yards.html\", 4568618)"
            ]
          },
          "metadata": {}
        }
      ]
    },
    {
      "cell_type": "markdown",
      "source": [
        "Creating datasets by year for Wide Reciever data"
      ],
      "metadata": {
        "id": "TI29ONVvp06d"
      }
    },
    {
      "cell_type": "code",
      "source": [
        "wr_2017 = wr_data[wr_data['Year'] == 2017]\n",
        "wr_2018 = wr_data[wr_data['Year'] == 2018]\n",
        "wr_2019 = wr_data[wr_data['Year'] == 2019]\n",
        "wr_2020 = wr_data[wr_data['Year'] == 2020]\n",
        "wr_2021 = wr_data[wr_data['Year'] == 2021]\n",
        "wr_2022 = wr_data[wr_data['Year'] == 2022]\n",
        "allWrData = pd.concat([wr_2017, wr_2018, wr_2019, wr_2020, wr_2021, wr_2022])"
      ],
      "metadata": {
        "id": "pUggbi1Gyu-5"
      },
      "execution_count": 12,
      "outputs": []
    },
    {
      "cell_type": "markdown",
      "source": [
        "Graphing the top 5 Wide Recievers by Yards in 2022"
      ],
      "metadata": {
        "id": "RZ0leFxTqcAi"
      }
    },
    {
      "cell_type": "code",
      "source": [
        "top5wr_2022 = wr_2022.sort_values(by='RecYds', ascending=False)[:5][['Player', 'RecYds']]\n",
        "\n",
        "\n",
        "fig = go.Figure(data=[\n",
        "    go.Bar(name='Recieving Yards', x=top5wr_2022['Player'], y=top5wr_2022['RecYds'], marker_color='green')\n",
        "])\n",
        "\n",
        "\n",
        "fig.update_layout(\n",
        "    title='Top 5 Players by Recieving Yards in 2022',\n",
        "    xaxis_title='Player',\n",
        "    yaxis_title='Recieving Yards',\n",
        "    xaxis_tickangle=0\n",
        ")\n",
        "\n",
        "fig.show()\n",
        "\n",
        "fig.write_html(\"Top5wr2022.html\")\n",
        "from google.colab import files\n",
        "files.download('Top5wr2022.html')"
      ],
      "metadata": {
        "colab": {
          "base_uri": "https://localhost:8080/",
          "height": 542
        },
        "id": "vIdr4QpvTJdU",
        "outputId": "7ffec6d3-54d1-4df2-94c9-ebc50ae6dcfd"
      },
      "execution_count": 13,
      "outputs": [
        {
          "output_type": "display_data",
          "data": {
            "text/html": [
              "<html>\n",
              "<head><meta charset=\"utf-8\" /></head>\n",
              "<body>\n",
              "    <div>            <script src=\"https://cdnjs.cloudflare.com/ajax/libs/mathjax/2.7.5/MathJax.js?config=TeX-AMS-MML_SVG\"></script><script type=\"text/javascript\">if (window.MathJax && window.MathJax.Hub && window.MathJax.Hub.Config) {window.MathJax.Hub.Config({SVG: {font: \"STIX-Web\"}});}</script>                <script type=\"text/javascript\">window.PlotlyConfig = {MathJaxConfig: 'local'};</script>\n",
              "        <script charset=\"utf-8\" src=\"https://cdn.plot.ly/plotly-2.35.2.min.js\"></script>                <div id=\"d23a64ab-0b35-4279-8e04-298fd8120002\" class=\"plotly-graph-div\" style=\"height:525px; width:100%;\"></div>            <script type=\"text/javascript\">                                    window.PLOTLYENV=window.PLOTLYENV || {};                                    if (document.getElementById(\"d23a64ab-0b35-4279-8e04-298fd8120002\")) {                    Plotly.newPlot(                        \"d23a64ab-0b35-4279-8e04-298fd8120002\",                        [{\"marker\":{\"color\":\"green\"},\"name\":\"Recieving Yards\",\"x\":[\"Justin Jefferson\",\"Tyreek Hill\",\"Davante Adams\",\"A.J. Brown\",\"Stefon Diggs\"],\"y\":[1809,1710,1516,1496,1429],\"type\":\"bar\"}],                        {\"template\":{\"data\":{\"histogram2dcontour\":[{\"type\":\"histogram2dcontour\",\"colorbar\":{\"outlinewidth\":0,\"ticks\":\"\"},\"colorscale\":[[0.0,\"#0d0887\"],[0.1111111111111111,\"#46039f\"],[0.2222222222222222,\"#7201a8\"],[0.3333333333333333,\"#9c179e\"],[0.4444444444444444,\"#bd3786\"],[0.5555555555555556,\"#d8576b\"],[0.6666666666666666,\"#ed7953\"],[0.7777777777777778,\"#fb9f3a\"],[0.8888888888888888,\"#fdca26\"],[1.0,\"#f0f921\"]]}],\"choropleth\":[{\"type\":\"choropleth\",\"colorbar\":{\"outlinewidth\":0,\"ticks\":\"\"}}],\"histogram2d\":[{\"type\":\"histogram2d\",\"colorbar\":{\"outlinewidth\":0,\"ticks\":\"\"},\"colorscale\":[[0.0,\"#0d0887\"],[0.1111111111111111,\"#46039f\"],[0.2222222222222222,\"#7201a8\"],[0.3333333333333333,\"#9c179e\"],[0.4444444444444444,\"#bd3786\"],[0.5555555555555556,\"#d8576b\"],[0.6666666666666666,\"#ed7953\"],[0.7777777777777778,\"#fb9f3a\"],[0.8888888888888888,\"#fdca26\"],[1.0,\"#f0f921\"]]}],\"heatmap\":[{\"type\":\"heatmap\",\"colorbar\":{\"outlinewidth\":0,\"ticks\":\"\"},\"colorscale\":[[0.0,\"#0d0887\"],[0.1111111111111111,\"#46039f\"],[0.2222222222222222,\"#7201a8\"],[0.3333333333333333,\"#9c179e\"],[0.4444444444444444,\"#bd3786\"],[0.5555555555555556,\"#d8576b\"],[0.6666666666666666,\"#ed7953\"],[0.7777777777777778,\"#fb9f3a\"],[0.8888888888888888,\"#fdca26\"],[1.0,\"#f0f921\"]]}],\"heatmapgl\":[{\"type\":\"heatmapgl\",\"colorbar\":{\"outlinewidth\":0,\"ticks\":\"\"},\"colorscale\":[[0.0,\"#0d0887\"],[0.1111111111111111,\"#46039f\"],[0.2222222222222222,\"#7201a8\"],[0.3333333333333333,\"#9c179e\"],[0.4444444444444444,\"#bd3786\"],[0.5555555555555556,\"#d8576b\"],[0.6666666666666666,\"#ed7953\"],[0.7777777777777778,\"#fb9f3a\"],[0.8888888888888888,\"#fdca26\"],[1.0,\"#f0f921\"]]}],\"contourcarpet\":[{\"type\":\"contourcarpet\",\"colorbar\":{\"outlinewidth\":0,\"ticks\":\"\"}}],\"contour\":[{\"type\":\"contour\",\"colorbar\":{\"outlinewidth\":0,\"ticks\":\"\"},\"colorscale\":[[0.0,\"#0d0887\"],[0.1111111111111111,\"#46039f\"],[0.2222222222222222,\"#7201a8\"],[0.3333333333333333,\"#9c179e\"],[0.4444444444444444,\"#bd3786\"],[0.5555555555555556,\"#d8576b\"],[0.6666666666666666,\"#ed7953\"],[0.7777777777777778,\"#fb9f3a\"],[0.8888888888888888,\"#fdca26\"],[1.0,\"#f0f921\"]]}],\"surface\":[{\"type\":\"surface\",\"colorbar\":{\"outlinewidth\":0,\"ticks\":\"\"},\"colorscale\":[[0.0,\"#0d0887\"],[0.1111111111111111,\"#46039f\"],[0.2222222222222222,\"#7201a8\"],[0.3333333333333333,\"#9c179e\"],[0.4444444444444444,\"#bd3786\"],[0.5555555555555556,\"#d8576b\"],[0.6666666666666666,\"#ed7953\"],[0.7777777777777778,\"#fb9f3a\"],[0.8888888888888888,\"#fdca26\"],[1.0,\"#f0f921\"]]}],\"mesh3d\":[{\"type\":\"mesh3d\",\"colorbar\":{\"outlinewidth\":0,\"ticks\":\"\"}}],\"scatter\":[{\"fillpattern\":{\"fillmode\":\"overlay\",\"size\":10,\"solidity\":0.2},\"type\":\"scatter\"}],\"parcoords\":[{\"type\":\"parcoords\",\"line\":{\"colorbar\":{\"outlinewidth\":0,\"ticks\":\"\"}}}],\"scatterpolargl\":[{\"type\":\"scatterpolargl\",\"marker\":{\"colorbar\":{\"outlinewidth\":0,\"ticks\":\"\"}}}],\"bar\":[{\"error_x\":{\"color\":\"#2a3f5f\"},\"error_y\":{\"color\":\"#2a3f5f\"},\"marker\":{\"line\":{\"color\":\"#E5ECF6\",\"width\":0.5},\"pattern\":{\"fillmode\":\"overlay\",\"size\":10,\"solidity\":0.2}},\"type\":\"bar\"}],\"scattergeo\":[{\"type\":\"scattergeo\",\"marker\":{\"colorbar\":{\"outlinewidth\":0,\"ticks\":\"\"}}}],\"scatterpolar\":[{\"type\":\"scatterpolar\",\"marker\":{\"colorbar\":{\"outlinewidth\":0,\"ticks\":\"\"}}}],\"histogram\":[{\"marker\":{\"pattern\":{\"fillmode\":\"overlay\",\"size\":10,\"solidity\":0.2}},\"type\":\"histogram\"}],\"scattergl\":[{\"type\":\"scattergl\",\"marker\":{\"colorbar\":{\"outlinewidth\":0,\"ticks\":\"\"}}}],\"scatter3d\":[{\"type\":\"scatter3d\",\"line\":{\"colorbar\":{\"outlinewidth\":0,\"ticks\":\"\"}},\"marker\":{\"colorbar\":{\"outlinewidth\":0,\"ticks\":\"\"}}}],\"scattermapbox\":[{\"type\":\"scattermapbox\",\"marker\":{\"colorbar\":{\"outlinewidth\":0,\"ticks\":\"\"}}}],\"scatterternary\":[{\"type\":\"scatterternary\",\"marker\":{\"colorbar\":{\"outlinewidth\":0,\"ticks\":\"\"}}}],\"scattercarpet\":[{\"type\":\"scattercarpet\",\"marker\":{\"colorbar\":{\"outlinewidth\":0,\"ticks\":\"\"}}}],\"carpet\":[{\"aaxis\":{\"endlinecolor\":\"#2a3f5f\",\"gridcolor\":\"white\",\"linecolor\":\"white\",\"minorgridcolor\":\"white\",\"startlinecolor\":\"#2a3f5f\"},\"baxis\":{\"endlinecolor\":\"#2a3f5f\",\"gridcolor\":\"white\",\"linecolor\":\"white\",\"minorgridcolor\":\"white\",\"startlinecolor\":\"#2a3f5f\"},\"type\":\"carpet\"}],\"table\":[{\"cells\":{\"fill\":{\"color\":\"#EBF0F8\"},\"line\":{\"color\":\"white\"}},\"header\":{\"fill\":{\"color\":\"#C8D4E3\"},\"line\":{\"color\":\"white\"}},\"type\":\"table\"}],\"barpolar\":[{\"marker\":{\"line\":{\"color\":\"#E5ECF6\",\"width\":0.5},\"pattern\":{\"fillmode\":\"overlay\",\"size\":10,\"solidity\":0.2}},\"type\":\"barpolar\"}],\"pie\":[{\"automargin\":true,\"type\":\"pie\"}]},\"layout\":{\"autotypenumbers\":\"strict\",\"colorway\":[\"#636efa\",\"#EF553B\",\"#00cc96\",\"#ab63fa\",\"#FFA15A\",\"#19d3f3\",\"#FF6692\",\"#B6E880\",\"#FF97FF\",\"#FECB52\"],\"font\":{\"color\":\"#2a3f5f\"},\"hovermode\":\"closest\",\"hoverlabel\":{\"align\":\"left\"},\"paper_bgcolor\":\"white\",\"plot_bgcolor\":\"#E5ECF6\",\"polar\":{\"bgcolor\":\"#E5ECF6\",\"angularaxis\":{\"gridcolor\":\"white\",\"linecolor\":\"white\",\"ticks\":\"\"},\"radialaxis\":{\"gridcolor\":\"white\",\"linecolor\":\"white\",\"ticks\":\"\"}},\"ternary\":{\"bgcolor\":\"#E5ECF6\",\"aaxis\":{\"gridcolor\":\"white\",\"linecolor\":\"white\",\"ticks\":\"\"},\"baxis\":{\"gridcolor\":\"white\",\"linecolor\":\"white\",\"ticks\":\"\"},\"caxis\":{\"gridcolor\":\"white\",\"linecolor\":\"white\",\"ticks\":\"\"}},\"coloraxis\":{\"colorbar\":{\"outlinewidth\":0,\"ticks\":\"\"}},\"colorscale\":{\"sequential\":[[0.0,\"#0d0887\"],[0.1111111111111111,\"#46039f\"],[0.2222222222222222,\"#7201a8\"],[0.3333333333333333,\"#9c179e\"],[0.4444444444444444,\"#bd3786\"],[0.5555555555555556,\"#d8576b\"],[0.6666666666666666,\"#ed7953\"],[0.7777777777777778,\"#fb9f3a\"],[0.8888888888888888,\"#fdca26\"],[1.0,\"#f0f921\"]],\"sequentialminus\":[[0.0,\"#0d0887\"],[0.1111111111111111,\"#46039f\"],[0.2222222222222222,\"#7201a8\"],[0.3333333333333333,\"#9c179e\"],[0.4444444444444444,\"#bd3786\"],[0.5555555555555556,\"#d8576b\"],[0.6666666666666666,\"#ed7953\"],[0.7777777777777778,\"#fb9f3a\"],[0.8888888888888888,\"#fdca26\"],[1.0,\"#f0f921\"]],\"diverging\":[[0,\"#8e0152\"],[0.1,\"#c51b7d\"],[0.2,\"#de77ae\"],[0.3,\"#f1b6da\"],[0.4,\"#fde0ef\"],[0.5,\"#f7f7f7\"],[0.6,\"#e6f5d0\"],[0.7,\"#b8e186\"],[0.8,\"#7fbc41\"],[0.9,\"#4d9221\"],[1,\"#276419\"]]},\"xaxis\":{\"gridcolor\":\"white\",\"linecolor\":\"white\",\"ticks\":\"\",\"title\":{\"standoff\":15},\"zerolinecolor\":\"white\",\"automargin\":true,\"zerolinewidth\":2},\"yaxis\":{\"gridcolor\":\"white\",\"linecolor\":\"white\",\"ticks\":\"\",\"title\":{\"standoff\":15},\"zerolinecolor\":\"white\",\"automargin\":true,\"zerolinewidth\":2},\"scene\":{\"xaxis\":{\"backgroundcolor\":\"#E5ECF6\",\"gridcolor\":\"white\",\"linecolor\":\"white\",\"showbackground\":true,\"ticks\":\"\",\"zerolinecolor\":\"white\",\"gridwidth\":2},\"yaxis\":{\"backgroundcolor\":\"#E5ECF6\",\"gridcolor\":\"white\",\"linecolor\":\"white\",\"showbackground\":true,\"ticks\":\"\",\"zerolinecolor\":\"white\",\"gridwidth\":2},\"zaxis\":{\"backgroundcolor\":\"#E5ECF6\",\"gridcolor\":\"white\",\"linecolor\":\"white\",\"showbackground\":true,\"ticks\":\"\",\"zerolinecolor\":\"white\",\"gridwidth\":2}},\"shapedefaults\":{\"line\":{\"color\":\"#2a3f5f\"}},\"annotationdefaults\":{\"arrowcolor\":\"#2a3f5f\",\"arrowhead\":0,\"arrowwidth\":1},\"geo\":{\"bgcolor\":\"white\",\"landcolor\":\"#E5ECF6\",\"subunitcolor\":\"white\",\"showland\":true,\"showlakes\":true,\"lakecolor\":\"white\"},\"title\":{\"x\":0.05},\"mapbox\":{\"style\":\"light\"}}},\"xaxis\":{\"title\":{\"text\":\"Player\"},\"tickangle\":0},\"title\":{\"text\":\"Top 5 Players by Recieving Yards in 2022\"},\"yaxis\":{\"title\":{\"text\":\"Recieving Yards\"}}},                        {\"responsive\": true}                    ).then(function(){\n",
              "                            \n",
              "var gd = document.getElementById('d23a64ab-0b35-4279-8e04-298fd8120002');\n",
              "var x = new MutationObserver(function (mutations, observer) {{\n",
              "        var display = window.getComputedStyle(gd).display;\n",
              "        if (!display || display === 'none') {{\n",
              "            console.log([gd, 'removed!']);\n",
              "            Plotly.purge(gd);\n",
              "            observer.disconnect();\n",
              "        }}\n",
              "}});\n",
              "\n",
              "// Listen for the removal of the full notebook cells\n",
              "var notebookContainer = gd.closest('#notebook-container');\n",
              "if (notebookContainer) {{\n",
              "    x.observe(notebookContainer, {childList: true});\n",
              "}}\n",
              "\n",
              "// Listen for the clearing of the current output cell\n",
              "var outputEl = gd.closest('.output');\n",
              "if (outputEl) {{\n",
              "    x.observe(outputEl, {childList: true});\n",
              "}}\n",
              "\n",
              "                        })                };                            </script>        </div>\n",
              "</body>\n",
              "</html>"
            ]
          },
          "metadata": {}
        },
        {
          "output_type": "display_data",
          "data": {
            "text/plain": [
              "<IPython.core.display.Javascript object>"
            ],
            "application/javascript": [
              "\n",
              "    async function download(id, filename, size) {\n",
              "      if (!google.colab.kernel.accessAllowed) {\n",
              "        return;\n",
              "      }\n",
              "      const div = document.createElement('div');\n",
              "      const label = document.createElement('label');\n",
              "      label.textContent = `Downloading \"${filename}\": `;\n",
              "      div.appendChild(label);\n",
              "      const progress = document.createElement('progress');\n",
              "      progress.max = size;\n",
              "      div.appendChild(progress);\n",
              "      document.body.appendChild(div);\n",
              "\n",
              "      const buffers = [];\n",
              "      let downloaded = 0;\n",
              "\n",
              "      const channel = await google.colab.kernel.comms.open(id);\n",
              "      // Send a message to notify the kernel that we're ready.\n",
              "      channel.send({})\n",
              "\n",
              "      for await (const message of channel.messages) {\n",
              "        // Send a message to notify the kernel that we're ready.\n",
              "        channel.send({})\n",
              "        if (message.buffers) {\n",
              "          for (const buffer of message.buffers) {\n",
              "            buffers.push(buffer);\n",
              "            downloaded += buffer.byteLength;\n",
              "            progress.value = downloaded;\n",
              "          }\n",
              "        }\n",
              "      }\n",
              "      const blob = new Blob(buffers, {type: 'application/binary'});\n",
              "      const a = document.createElement('a');\n",
              "      a.href = window.URL.createObjectURL(blob);\n",
              "      a.download = filename;\n",
              "      div.appendChild(a);\n",
              "      a.click();\n",
              "      div.remove();\n",
              "    }\n",
              "  "
            ]
          },
          "metadata": {}
        },
        {
          "output_type": "display_data",
          "data": {
            "text/plain": [
              "<IPython.core.display.Javascript object>"
            ],
            "application/javascript": [
              "download(\"download_c36a0fd6-8602-4963-8019-915330287a22\", \"Top5wr2022.html\", 4566820)"
            ]
          },
          "metadata": {}
        }
      ]
    },
    {
      "cell_type": "markdown",
      "source": [
        "Graphing the top Wide Reciever by year in terms of recieving yards"
      ],
      "metadata": {
        "id": "LUmSt6BIq0TM"
      }
    },
    {
      "cell_type": "code",
      "source": [
        "topwr_2017 = wr_2017.sort_values(by='RecYds', ascending=False)[:1][['Player', 'RecYds', 'Year']]\n",
        "topwr_2018 = wr_2018.sort_values(by='RecYds', ascending=False)[:1][['Player', 'RecYds', 'Year']]\n",
        "topwr_2019 = wr_2019.sort_values(by='RecYds', ascending=False)[:1][['Player', 'RecYds', 'Year']]\n",
        "topwr_2020 = wr_2020.sort_values(by='RecYds', ascending=False)[:1][['Player', 'RecYds', 'Year']]\n",
        "topwr_2021 = wr_2021.sort_values(by='RecYds', ascending=False)[:1][['Player', 'RecYds', 'Year']]\n",
        "topwr_2022 = wr_2022.sort_values(by='RecYds', ascending=False)[:1][['Player', 'RecYds', 'Year']]\n",
        "topwr_data = pd.concat([topwr_2017, topwr_2018, topwr_2019, topwr_2020, topwr_2021, topwr_2022])\n",
        "\n",
        "fig = go.Figure(data=[\n",
        "    go.Bar(\n",
        "        name='Receiving Yards',\n",
        "        x=topwr_data['Year'],\n",
        "        y=topwr_data['RecYds'],\n",
        "        text=[f\"{player}: {recyds} yards\" for player, recyds in zip(topwr_data['Player'], topwr_data['RecYds'])],\n",
        "        hoverinfo='text',\n",
        "        marker_color='green'\n",
        "    )\n",
        "])\n",
        "\n",
        "fig.update_layout(\n",
        "    title='Top Receiving Player by Year',\n",
        "    xaxis_title='Year',\n",
        "    yaxis_title='Receiving Yards',\n",
        "    xaxis_tickangle=0\n",
        ")\n",
        "\n",
        "fig.update_traces(textposition='none')\n",
        "\n",
        "fig.show()\n",
        "\n",
        "fig.write_html(\"Top_receiving_players.html\")\n",
        "from google.colab import files\n",
        "files.download('Top_receiving_players.html')"
      ],
      "metadata": {
        "colab": {
          "base_uri": "https://localhost:8080/",
          "height": 542
        },
        "id": "ixtDx799Sp1R",
        "outputId": "4365b448-c8bf-4128-a39b-35175ed8b490"
      },
      "execution_count": 14,
      "outputs": [
        {
          "output_type": "display_data",
          "data": {
            "text/html": [
              "<html>\n",
              "<head><meta charset=\"utf-8\" /></head>\n",
              "<body>\n",
              "    <div>            <script src=\"https://cdnjs.cloudflare.com/ajax/libs/mathjax/2.7.5/MathJax.js?config=TeX-AMS-MML_SVG\"></script><script type=\"text/javascript\">if (window.MathJax && window.MathJax.Hub && window.MathJax.Hub.Config) {window.MathJax.Hub.Config({SVG: {font: \"STIX-Web\"}});}</script>                <script type=\"text/javascript\">window.PlotlyConfig = {MathJaxConfig: 'local'};</script>\n",
              "        <script charset=\"utf-8\" src=\"https://cdn.plot.ly/plotly-2.35.2.min.js\"></script>                <div id=\"e9c3cec0-7395-4c4a-a468-c43e6cfb35be\" class=\"plotly-graph-div\" style=\"height:525px; width:100%;\"></div>            <script type=\"text/javascript\">                                    window.PLOTLYENV=window.PLOTLYENV || {};                                    if (document.getElementById(\"e9c3cec0-7395-4c4a-a468-c43e6cfb35be\")) {                    Plotly.newPlot(                        \"e9c3cec0-7395-4c4a-a468-c43e6cfb35be\",                        [{\"hoverinfo\":\"text\",\"marker\":{\"color\":\"green\"},\"name\":\"Receiving Yards\",\"text\":[\"Antonio Brown: 1533 yards\",\"Julio Jones: 1677 yards\",\"Michael Thomas: 1725 yards\",\"Stefon Diggs: 1535 yards\",\"Cooper Kupp: 1947 yards\",\"Justin Jefferson: 1809 yards\"],\"x\":[2017,2018,2019,2020,2021,2022],\"y\":[1533,1677,1725,1535,1947,1809],\"type\":\"bar\",\"textposition\":\"none\"}],                        {\"template\":{\"data\":{\"histogram2dcontour\":[{\"type\":\"histogram2dcontour\",\"colorbar\":{\"outlinewidth\":0,\"ticks\":\"\"},\"colorscale\":[[0.0,\"#0d0887\"],[0.1111111111111111,\"#46039f\"],[0.2222222222222222,\"#7201a8\"],[0.3333333333333333,\"#9c179e\"],[0.4444444444444444,\"#bd3786\"],[0.5555555555555556,\"#d8576b\"],[0.6666666666666666,\"#ed7953\"],[0.7777777777777778,\"#fb9f3a\"],[0.8888888888888888,\"#fdca26\"],[1.0,\"#f0f921\"]]}],\"choropleth\":[{\"type\":\"choropleth\",\"colorbar\":{\"outlinewidth\":0,\"ticks\":\"\"}}],\"histogram2d\":[{\"type\":\"histogram2d\",\"colorbar\":{\"outlinewidth\":0,\"ticks\":\"\"},\"colorscale\":[[0.0,\"#0d0887\"],[0.1111111111111111,\"#46039f\"],[0.2222222222222222,\"#7201a8\"],[0.3333333333333333,\"#9c179e\"],[0.4444444444444444,\"#bd3786\"],[0.5555555555555556,\"#d8576b\"],[0.6666666666666666,\"#ed7953\"],[0.7777777777777778,\"#fb9f3a\"],[0.8888888888888888,\"#fdca26\"],[1.0,\"#f0f921\"]]}],\"heatmap\":[{\"type\":\"heatmap\",\"colorbar\":{\"outlinewidth\":0,\"ticks\":\"\"},\"colorscale\":[[0.0,\"#0d0887\"],[0.1111111111111111,\"#46039f\"],[0.2222222222222222,\"#7201a8\"],[0.3333333333333333,\"#9c179e\"],[0.4444444444444444,\"#bd3786\"],[0.5555555555555556,\"#d8576b\"],[0.6666666666666666,\"#ed7953\"],[0.7777777777777778,\"#fb9f3a\"],[0.8888888888888888,\"#fdca26\"],[1.0,\"#f0f921\"]]}],\"heatmapgl\":[{\"type\":\"heatmapgl\",\"colorbar\":{\"outlinewidth\":0,\"ticks\":\"\"},\"colorscale\":[[0.0,\"#0d0887\"],[0.1111111111111111,\"#46039f\"],[0.2222222222222222,\"#7201a8\"],[0.3333333333333333,\"#9c179e\"],[0.4444444444444444,\"#bd3786\"],[0.5555555555555556,\"#d8576b\"],[0.6666666666666666,\"#ed7953\"],[0.7777777777777778,\"#fb9f3a\"],[0.8888888888888888,\"#fdca26\"],[1.0,\"#f0f921\"]]}],\"contourcarpet\":[{\"type\":\"contourcarpet\",\"colorbar\":{\"outlinewidth\":0,\"ticks\":\"\"}}],\"contour\":[{\"type\":\"contour\",\"colorbar\":{\"outlinewidth\":0,\"ticks\":\"\"},\"colorscale\":[[0.0,\"#0d0887\"],[0.1111111111111111,\"#46039f\"],[0.2222222222222222,\"#7201a8\"],[0.3333333333333333,\"#9c179e\"],[0.4444444444444444,\"#bd3786\"],[0.5555555555555556,\"#d8576b\"],[0.6666666666666666,\"#ed7953\"],[0.7777777777777778,\"#fb9f3a\"],[0.8888888888888888,\"#fdca26\"],[1.0,\"#f0f921\"]]}],\"surface\":[{\"type\":\"surface\",\"colorbar\":{\"outlinewidth\":0,\"ticks\":\"\"},\"colorscale\":[[0.0,\"#0d0887\"],[0.1111111111111111,\"#46039f\"],[0.2222222222222222,\"#7201a8\"],[0.3333333333333333,\"#9c179e\"],[0.4444444444444444,\"#bd3786\"],[0.5555555555555556,\"#d8576b\"],[0.6666666666666666,\"#ed7953\"],[0.7777777777777778,\"#fb9f3a\"],[0.8888888888888888,\"#fdca26\"],[1.0,\"#f0f921\"]]}],\"mesh3d\":[{\"type\":\"mesh3d\",\"colorbar\":{\"outlinewidth\":0,\"ticks\":\"\"}}],\"scatter\":[{\"fillpattern\":{\"fillmode\":\"overlay\",\"size\":10,\"solidity\":0.2},\"type\":\"scatter\"}],\"parcoords\":[{\"type\":\"parcoords\",\"line\":{\"colorbar\":{\"outlinewidth\":0,\"ticks\":\"\"}}}],\"scatterpolargl\":[{\"type\":\"scatterpolargl\",\"marker\":{\"colorbar\":{\"outlinewidth\":0,\"ticks\":\"\"}}}],\"bar\":[{\"error_x\":{\"color\":\"#2a3f5f\"},\"error_y\":{\"color\":\"#2a3f5f\"},\"marker\":{\"line\":{\"color\":\"#E5ECF6\",\"width\":0.5},\"pattern\":{\"fillmode\":\"overlay\",\"size\":10,\"solidity\":0.2}},\"type\":\"bar\"}],\"scattergeo\":[{\"type\":\"scattergeo\",\"marker\":{\"colorbar\":{\"outlinewidth\":0,\"ticks\":\"\"}}}],\"scatterpolar\":[{\"type\":\"scatterpolar\",\"marker\":{\"colorbar\":{\"outlinewidth\":0,\"ticks\":\"\"}}}],\"histogram\":[{\"marker\":{\"pattern\":{\"fillmode\":\"overlay\",\"size\":10,\"solidity\":0.2}},\"type\":\"histogram\"}],\"scattergl\":[{\"type\":\"scattergl\",\"marker\":{\"colorbar\":{\"outlinewidth\":0,\"ticks\":\"\"}}}],\"scatter3d\":[{\"type\":\"scatter3d\",\"line\":{\"colorbar\":{\"outlinewidth\":0,\"ticks\":\"\"}},\"marker\":{\"colorbar\":{\"outlinewidth\":0,\"ticks\":\"\"}}}],\"scattermapbox\":[{\"type\":\"scattermapbox\",\"marker\":{\"colorbar\":{\"outlinewidth\":0,\"ticks\":\"\"}}}],\"scatterternary\":[{\"type\":\"scatterternary\",\"marker\":{\"colorbar\":{\"outlinewidth\":0,\"ticks\":\"\"}}}],\"scattercarpet\":[{\"type\":\"scattercarpet\",\"marker\":{\"colorbar\":{\"outlinewidth\":0,\"ticks\":\"\"}}}],\"carpet\":[{\"aaxis\":{\"endlinecolor\":\"#2a3f5f\",\"gridcolor\":\"white\",\"linecolor\":\"white\",\"minorgridcolor\":\"white\",\"startlinecolor\":\"#2a3f5f\"},\"baxis\":{\"endlinecolor\":\"#2a3f5f\",\"gridcolor\":\"white\",\"linecolor\":\"white\",\"minorgridcolor\":\"white\",\"startlinecolor\":\"#2a3f5f\"},\"type\":\"carpet\"}],\"table\":[{\"cells\":{\"fill\":{\"color\":\"#EBF0F8\"},\"line\":{\"color\":\"white\"}},\"header\":{\"fill\":{\"color\":\"#C8D4E3\"},\"line\":{\"color\":\"white\"}},\"type\":\"table\"}],\"barpolar\":[{\"marker\":{\"line\":{\"color\":\"#E5ECF6\",\"width\":0.5},\"pattern\":{\"fillmode\":\"overlay\",\"size\":10,\"solidity\":0.2}},\"type\":\"barpolar\"}],\"pie\":[{\"automargin\":true,\"type\":\"pie\"}]},\"layout\":{\"autotypenumbers\":\"strict\",\"colorway\":[\"#636efa\",\"#EF553B\",\"#00cc96\",\"#ab63fa\",\"#FFA15A\",\"#19d3f3\",\"#FF6692\",\"#B6E880\",\"#FF97FF\",\"#FECB52\"],\"font\":{\"color\":\"#2a3f5f\"},\"hovermode\":\"closest\",\"hoverlabel\":{\"align\":\"left\"},\"paper_bgcolor\":\"white\",\"plot_bgcolor\":\"#E5ECF6\",\"polar\":{\"bgcolor\":\"#E5ECF6\",\"angularaxis\":{\"gridcolor\":\"white\",\"linecolor\":\"white\",\"ticks\":\"\"},\"radialaxis\":{\"gridcolor\":\"white\",\"linecolor\":\"white\",\"ticks\":\"\"}},\"ternary\":{\"bgcolor\":\"#E5ECF6\",\"aaxis\":{\"gridcolor\":\"white\",\"linecolor\":\"white\",\"ticks\":\"\"},\"baxis\":{\"gridcolor\":\"white\",\"linecolor\":\"white\",\"ticks\":\"\"},\"caxis\":{\"gridcolor\":\"white\",\"linecolor\":\"white\",\"ticks\":\"\"}},\"coloraxis\":{\"colorbar\":{\"outlinewidth\":0,\"ticks\":\"\"}},\"colorscale\":{\"sequential\":[[0.0,\"#0d0887\"],[0.1111111111111111,\"#46039f\"],[0.2222222222222222,\"#7201a8\"],[0.3333333333333333,\"#9c179e\"],[0.4444444444444444,\"#bd3786\"],[0.5555555555555556,\"#d8576b\"],[0.6666666666666666,\"#ed7953\"],[0.7777777777777778,\"#fb9f3a\"],[0.8888888888888888,\"#fdca26\"],[1.0,\"#f0f921\"]],\"sequentialminus\":[[0.0,\"#0d0887\"],[0.1111111111111111,\"#46039f\"],[0.2222222222222222,\"#7201a8\"],[0.3333333333333333,\"#9c179e\"],[0.4444444444444444,\"#bd3786\"],[0.5555555555555556,\"#d8576b\"],[0.6666666666666666,\"#ed7953\"],[0.7777777777777778,\"#fb9f3a\"],[0.8888888888888888,\"#fdca26\"],[1.0,\"#f0f921\"]],\"diverging\":[[0,\"#8e0152\"],[0.1,\"#c51b7d\"],[0.2,\"#de77ae\"],[0.3,\"#f1b6da\"],[0.4,\"#fde0ef\"],[0.5,\"#f7f7f7\"],[0.6,\"#e6f5d0\"],[0.7,\"#b8e186\"],[0.8,\"#7fbc41\"],[0.9,\"#4d9221\"],[1,\"#276419\"]]},\"xaxis\":{\"gridcolor\":\"white\",\"linecolor\":\"white\",\"ticks\":\"\",\"title\":{\"standoff\":15},\"zerolinecolor\":\"white\",\"automargin\":true,\"zerolinewidth\":2},\"yaxis\":{\"gridcolor\":\"white\",\"linecolor\":\"white\",\"ticks\":\"\",\"title\":{\"standoff\":15},\"zerolinecolor\":\"white\",\"automargin\":true,\"zerolinewidth\":2},\"scene\":{\"xaxis\":{\"backgroundcolor\":\"#E5ECF6\",\"gridcolor\":\"white\",\"linecolor\":\"white\",\"showbackground\":true,\"ticks\":\"\",\"zerolinecolor\":\"white\",\"gridwidth\":2},\"yaxis\":{\"backgroundcolor\":\"#E5ECF6\",\"gridcolor\":\"white\",\"linecolor\":\"white\",\"showbackground\":true,\"ticks\":\"\",\"zerolinecolor\":\"white\",\"gridwidth\":2},\"zaxis\":{\"backgroundcolor\":\"#E5ECF6\",\"gridcolor\":\"white\",\"linecolor\":\"white\",\"showbackground\":true,\"ticks\":\"\",\"zerolinecolor\":\"white\",\"gridwidth\":2}},\"shapedefaults\":{\"line\":{\"color\":\"#2a3f5f\"}},\"annotationdefaults\":{\"arrowcolor\":\"#2a3f5f\",\"arrowhead\":0,\"arrowwidth\":1},\"geo\":{\"bgcolor\":\"white\",\"landcolor\":\"#E5ECF6\",\"subunitcolor\":\"white\",\"showland\":true,\"showlakes\":true,\"lakecolor\":\"white\"},\"title\":{\"x\":0.05},\"mapbox\":{\"style\":\"light\"}}},\"xaxis\":{\"title\":{\"text\":\"Year\"},\"tickangle\":0},\"title\":{\"text\":\"Top Receiving Player by Year\"},\"yaxis\":{\"title\":{\"text\":\"Receiving Yards\"}}},                        {\"responsive\": true}                    ).then(function(){\n",
              "                            \n",
              "var gd = document.getElementById('e9c3cec0-7395-4c4a-a468-c43e6cfb35be');\n",
              "var x = new MutationObserver(function (mutations, observer) {{\n",
              "        var display = window.getComputedStyle(gd).display;\n",
              "        if (!display || display === 'none') {{\n",
              "            console.log([gd, 'removed!']);\n",
              "            Plotly.purge(gd);\n",
              "            observer.disconnect();\n",
              "        }}\n",
              "}});\n",
              "\n",
              "// Listen for the removal of the full notebook cells\n",
              "var notebookContainer = gd.closest('#notebook-container');\n",
              "if (notebookContainer) {{\n",
              "    x.observe(notebookContainer, {childList: true});\n",
              "}}\n",
              "\n",
              "// Listen for the clearing of the current output cell\n",
              "var outputEl = gd.closest('.output');\n",
              "if (outputEl) {{\n",
              "    x.observe(outputEl, {childList: true});\n",
              "}}\n",
              "\n",
              "                        })                };                            </script>        </div>\n",
              "</body>\n",
              "</html>"
            ]
          },
          "metadata": {}
        },
        {
          "output_type": "display_data",
          "data": {
            "text/plain": [
              "<IPython.core.display.Javascript object>"
            ],
            "application/javascript": [
              "\n",
              "    async function download(id, filename, size) {\n",
              "      if (!google.colab.kernel.accessAllowed) {\n",
              "        return;\n",
              "      }\n",
              "      const div = document.createElement('div');\n",
              "      const label = document.createElement('label');\n",
              "      label.textContent = `Downloading \"${filename}\": `;\n",
              "      div.appendChild(label);\n",
              "      const progress = document.createElement('progress');\n",
              "      progress.max = size;\n",
              "      div.appendChild(progress);\n",
              "      document.body.appendChild(div);\n",
              "\n",
              "      const buffers = [];\n",
              "      let downloaded = 0;\n",
              "\n",
              "      const channel = await google.colab.kernel.comms.open(id);\n",
              "      // Send a message to notify the kernel that we're ready.\n",
              "      channel.send({})\n",
              "\n",
              "      for await (const message of channel.messages) {\n",
              "        // Send a message to notify the kernel that we're ready.\n",
              "        channel.send({})\n",
              "        if (message.buffers) {\n",
              "          for (const buffer of message.buffers) {\n",
              "            buffers.push(buffer);\n",
              "            downloaded += buffer.byteLength;\n",
              "            progress.value = downloaded;\n",
              "          }\n",
              "        }\n",
              "      }\n",
              "      const blob = new Blob(buffers, {type: 'application/binary'});\n",
              "      const a = document.createElement('a');\n",
              "      a.href = window.URL.createObjectURL(blob);\n",
              "      a.download = filename;\n",
              "      div.appendChild(a);\n",
              "      a.click();\n",
              "      div.remove();\n",
              "    }\n",
              "  "
            ]
          },
          "metadata": {}
        },
        {
          "output_type": "display_data",
          "data": {
            "text/plain": [
              "<IPython.core.display.Javascript object>"
            ],
            "application/javascript": [
              "download(\"download_897105ed-d85a-4e32-9306-f80f7de11088\", \"Top_receiving_players.html\", 4566981)"
            ]
          },
          "metadata": {}
        }
      ]
    },
    {
      "cell_type": "markdown",
      "source": [
        "Creating datasets by year for Running Back data"
      ],
      "metadata": {
        "id": "1IY7C_-zr7ka"
      }
    },
    {
      "cell_type": "code",
      "source": [
        "rb_2017 = rb_data[rb_data['Year'] == 2017]\n",
        "rb_2018 = rb_data[rb_data['Year'] == 2018]\n",
        "rb_2019 = rb_data[rb_data['Year'] == 2019]\n",
        "rb_2020 = rb_data[rb_data['Year'] == 2020]\n",
        "rb_2021 = rb_data[rb_data['Year'] == 2021]\n",
        "rb_2022 = rb_data[rb_data['Year'] == 2022]"
      ],
      "metadata": {
        "id": "L6WZPoT7YJ3Z"
      },
      "execution_count": 15,
      "outputs": []
    },
    {
      "cell_type": "markdown",
      "source": [
        "Graphing the top Running Back\n",
        " by year in terms of rushing yards"
      ],
      "metadata": {
        "id": "JohNg_6esKPL"
      }
    },
    {
      "cell_type": "code",
      "source": [
        "toprb_2017 = rb_2017.sort_values(by='RushYds', ascending=False)[:1][['Player', 'RushYds', 'Year']]\n",
        "toprb_2018 = rb_2018.sort_values(by='RushYds', ascending=False)[:1][['Player', 'RushYds', 'Year']]\n",
        "toprb_2019 = rb_2019.sort_values(by='RushYds', ascending=False)[:1][['Player', 'RushYds', 'Year']]\n",
        "toprb_2020 = rb_2020.sort_values(by='RushYds', ascending=False)[:1][['Player', 'RushYds', 'Year']]\n",
        "toprb_2021 = rb_2021.sort_values(by='RushYds', ascending=False)[:1][['Player', 'RushYds', 'Year']]\n",
        "toprb_2022 = rb_2022.sort_values(by='RushYds', ascending=False)[:1][['Player', 'RushYds', 'Year']]\n",
        "toprb_data = pd.concat([toprb_2017, toprb_2018, toprb_2019, toprb_2020, toprb_2021, toprb_2022])\n",
        "\n",
        "\n",
        "fig = go.Figure(data=[\n",
        "    go.Bar(\n",
        "        name='Rushing Yards',\n",
        "        x=toprb_data['Year'],\n",
        "        y=toprb_data['RushYds'],\n",
        "        text=[f\"{player}: {rushyds} yards\" for player, rushyds in zip(toprb_data['Player'], toprb_data['RushYds'])],\n",
        "        hoverinfo='text',\n",
        "        marker_color='red'\n",
        "    )\n",
        "])\n",
        "\n",
        "\n",
        "fig.update_layout(\n",
        "    title='Top Rushing Player by Year',\n",
        "    xaxis_title='Year',\n",
        "    yaxis_title='Rushing Yards',\n",
        "    xaxis_tickangle=0\n",
        ")\n",
        "\n",
        "\n",
        "fig.update_traces(textposition='none')\n",
        "\n",
        "fig.show()\n",
        "\n",
        "fig.write_html(\"Top_rushing_players.html\")\n",
        "from google.colab import files\n",
        "files.download('Top_rushing_players.html')"
      ],
      "metadata": {
        "colab": {
          "base_uri": "https://localhost:8080/",
          "height": 542
        },
        "id": "lpAW8k8WbTqW",
        "outputId": "ea1c51ca-18e3-44f7-80da-3eea49d84e16"
      },
      "execution_count": 16,
      "outputs": [
        {
          "output_type": "display_data",
          "data": {
            "text/html": [
              "<html>\n",
              "<head><meta charset=\"utf-8\" /></head>\n",
              "<body>\n",
              "    <div>            <script src=\"https://cdnjs.cloudflare.com/ajax/libs/mathjax/2.7.5/MathJax.js?config=TeX-AMS-MML_SVG\"></script><script type=\"text/javascript\">if (window.MathJax && window.MathJax.Hub && window.MathJax.Hub.Config) {window.MathJax.Hub.Config({SVG: {font: \"STIX-Web\"}});}</script>                <script type=\"text/javascript\">window.PlotlyConfig = {MathJaxConfig: 'local'};</script>\n",
              "        <script charset=\"utf-8\" src=\"https://cdn.plot.ly/plotly-2.35.2.min.js\"></script>                <div id=\"2b69f90d-1864-4b2a-8fd8-60cce176836b\" class=\"plotly-graph-div\" style=\"height:525px; width:100%;\"></div>            <script type=\"text/javascript\">                                    window.PLOTLYENV=window.PLOTLYENV || {};                                    if (document.getElementById(\"2b69f90d-1864-4b2a-8fd8-60cce176836b\")) {                    Plotly.newPlot(                        \"2b69f90d-1864-4b2a-8fd8-60cce176836b\",                        [{\"hoverinfo\":\"text\",\"marker\":{\"color\":\"red\"},\"name\":\"Rushing Yards\",\"text\":[\"Kareem Hunt: 1327 yards\",\"Ezekiel Elliott: 1434 yards\",\"Derrick Henry: 1540 yards\",\"Derrick Henry: 2027 yards\",\"Jonathan Taylor: 1811 yards\",\"Josh Jacobs: 1653 yards\"],\"x\":[2017,2018,2019,2020,2021,2022],\"y\":[1327,1434,1540,2027,1811,1653],\"type\":\"bar\",\"textposition\":\"none\"}],                        {\"template\":{\"data\":{\"histogram2dcontour\":[{\"type\":\"histogram2dcontour\",\"colorbar\":{\"outlinewidth\":0,\"ticks\":\"\"},\"colorscale\":[[0.0,\"#0d0887\"],[0.1111111111111111,\"#46039f\"],[0.2222222222222222,\"#7201a8\"],[0.3333333333333333,\"#9c179e\"],[0.4444444444444444,\"#bd3786\"],[0.5555555555555556,\"#d8576b\"],[0.6666666666666666,\"#ed7953\"],[0.7777777777777778,\"#fb9f3a\"],[0.8888888888888888,\"#fdca26\"],[1.0,\"#f0f921\"]]}],\"choropleth\":[{\"type\":\"choropleth\",\"colorbar\":{\"outlinewidth\":0,\"ticks\":\"\"}}],\"histogram2d\":[{\"type\":\"histogram2d\",\"colorbar\":{\"outlinewidth\":0,\"ticks\":\"\"},\"colorscale\":[[0.0,\"#0d0887\"],[0.1111111111111111,\"#46039f\"],[0.2222222222222222,\"#7201a8\"],[0.3333333333333333,\"#9c179e\"],[0.4444444444444444,\"#bd3786\"],[0.5555555555555556,\"#d8576b\"],[0.6666666666666666,\"#ed7953\"],[0.7777777777777778,\"#fb9f3a\"],[0.8888888888888888,\"#fdca26\"],[1.0,\"#f0f921\"]]}],\"heatmap\":[{\"type\":\"heatmap\",\"colorbar\":{\"outlinewidth\":0,\"ticks\":\"\"},\"colorscale\":[[0.0,\"#0d0887\"],[0.1111111111111111,\"#46039f\"],[0.2222222222222222,\"#7201a8\"],[0.3333333333333333,\"#9c179e\"],[0.4444444444444444,\"#bd3786\"],[0.5555555555555556,\"#d8576b\"],[0.6666666666666666,\"#ed7953\"],[0.7777777777777778,\"#fb9f3a\"],[0.8888888888888888,\"#fdca26\"],[1.0,\"#f0f921\"]]}],\"heatmapgl\":[{\"type\":\"heatmapgl\",\"colorbar\":{\"outlinewidth\":0,\"ticks\":\"\"},\"colorscale\":[[0.0,\"#0d0887\"],[0.1111111111111111,\"#46039f\"],[0.2222222222222222,\"#7201a8\"],[0.3333333333333333,\"#9c179e\"],[0.4444444444444444,\"#bd3786\"],[0.5555555555555556,\"#d8576b\"],[0.6666666666666666,\"#ed7953\"],[0.7777777777777778,\"#fb9f3a\"],[0.8888888888888888,\"#fdca26\"],[1.0,\"#f0f921\"]]}],\"contourcarpet\":[{\"type\":\"contourcarpet\",\"colorbar\":{\"outlinewidth\":0,\"ticks\":\"\"}}],\"contour\":[{\"type\":\"contour\",\"colorbar\":{\"outlinewidth\":0,\"ticks\":\"\"},\"colorscale\":[[0.0,\"#0d0887\"],[0.1111111111111111,\"#46039f\"],[0.2222222222222222,\"#7201a8\"],[0.3333333333333333,\"#9c179e\"],[0.4444444444444444,\"#bd3786\"],[0.5555555555555556,\"#d8576b\"],[0.6666666666666666,\"#ed7953\"],[0.7777777777777778,\"#fb9f3a\"],[0.8888888888888888,\"#fdca26\"],[1.0,\"#f0f921\"]]}],\"surface\":[{\"type\":\"surface\",\"colorbar\":{\"outlinewidth\":0,\"ticks\":\"\"},\"colorscale\":[[0.0,\"#0d0887\"],[0.1111111111111111,\"#46039f\"],[0.2222222222222222,\"#7201a8\"],[0.3333333333333333,\"#9c179e\"],[0.4444444444444444,\"#bd3786\"],[0.5555555555555556,\"#d8576b\"],[0.6666666666666666,\"#ed7953\"],[0.7777777777777778,\"#fb9f3a\"],[0.8888888888888888,\"#fdca26\"],[1.0,\"#f0f921\"]]}],\"mesh3d\":[{\"type\":\"mesh3d\",\"colorbar\":{\"outlinewidth\":0,\"ticks\":\"\"}}],\"scatter\":[{\"fillpattern\":{\"fillmode\":\"overlay\",\"size\":10,\"solidity\":0.2},\"type\":\"scatter\"}],\"parcoords\":[{\"type\":\"parcoords\",\"line\":{\"colorbar\":{\"outlinewidth\":0,\"ticks\":\"\"}}}],\"scatterpolargl\":[{\"type\":\"scatterpolargl\",\"marker\":{\"colorbar\":{\"outlinewidth\":0,\"ticks\":\"\"}}}],\"bar\":[{\"error_x\":{\"color\":\"#2a3f5f\"},\"error_y\":{\"color\":\"#2a3f5f\"},\"marker\":{\"line\":{\"color\":\"#E5ECF6\",\"width\":0.5},\"pattern\":{\"fillmode\":\"overlay\",\"size\":10,\"solidity\":0.2}},\"type\":\"bar\"}],\"scattergeo\":[{\"type\":\"scattergeo\",\"marker\":{\"colorbar\":{\"outlinewidth\":0,\"ticks\":\"\"}}}],\"scatterpolar\":[{\"type\":\"scatterpolar\",\"marker\":{\"colorbar\":{\"outlinewidth\":0,\"ticks\":\"\"}}}],\"histogram\":[{\"marker\":{\"pattern\":{\"fillmode\":\"overlay\",\"size\":10,\"solidity\":0.2}},\"type\":\"histogram\"}],\"scattergl\":[{\"type\":\"scattergl\",\"marker\":{\"colorbar\":{\"outlinewidth\":0,\"ticks\":\"\"}}}],\"scatter3d\":[{\"type\":\"scatter3d\",\"line\":{\"colorbar\":{\"outlinewidth\":0,\"ticks\":\"\"}},\"marker\":{\"colorbar\":{\"outlinewidth\":0,\"ticks\":\"\"}}}],\"scattermapbox\":[{\"type\":\"scattermapbox\",\"marker\":{\"colorbar\":{\"outlinewidth\":0,\"ticks\":\"\"}}}],\"scatterternary\":[{\"type\":\"scatterternary\",\"marker\":{\"colorbar\":{\"outlinewidth\":0,\"ticks\":\"\"}}}],\"scattercarpet\":[{\"type\":\"scattercarpet\",\"marker\":{\"colorbar\":{\"outlinewidth\":0,\"ticks\":\"\"}}}],\"carpet\":[{\"aaxis\":{\"endlinecolor\":\"#2a3f5f\",\"gridcolor\":\"white\",\"linecolor\":\"white\",\"minorgridcolor\":\"white\",\"startlinecolor\":\"#2a3f5f\"},\"baxis\":{\"endlinecolor\":\"#2a3f5f\",\"gridcolor\":\"white\",\"linecolor\":\"white\",\"minorgridcolor\":\"white\",\"startlinecolor\":\"#2a3f5f\"},\"type\":\"carpet\"}],\"table\":[{\"cells\":{\"fill\":{\"color\":\"#EBF0F8\"},\"line\":{\"color\":\"white\"}},\"header\":{\"fill\":{\"color\":\"#C8D4E3\"},\"line\":{\"color\":\"white\"}},\"type\":\"table\"}],\"barpolar\":[{\"marker\":{\"line\":{\"color\":\"#E5ECF6\",\"width\":0.5},\"pattern\":{\"fillmode\":\"overlay\",\"size\":10,\"solidity\":0.2}},\"type\":\"barpolar\"}],\"pie\":[{\"automargin\":true,\"type\":\"pie\"}]},\"layout\":{\"autotypenumbers\":\"strict\",\"colorway\":[\"#636efa\",\"#EF553B\",\"#00cc96\",\"#ab63fa\",\"#FFA15A\",\"#19d3f3\",\"#FF6692\",\"#B6E880\",\"#FF97FF\",\"#FECB52\"],\"font\":{\"color\":\"#2a3f5f\"},\"hovermode\":\"closest\",\"hoverlabel\":{\"align\":\"left\"},\"paper_bgcolor\":\"white\",\"plot_bgcolor\":\"#E5ECF6\",\"polar\":{\"bgcolor\":\"#E5ECF6\",\"angularaxis\":{\"gridcolor\":\"white\",\"linecolor\":\"white\",\"ticks\":\"\"},\"radialaxis\":{\"gridcolor\":\"white\",\"linecolor\":\"white\",\"ticks\":\"\"}},\"ternary\":{\"bgcolor\":\"#E5ECF6\",\"aaxis\":{\"gridcolor\":\"white\",\"linecolor\":\"white\",\"ticks\":\"\"},\"baxis\":{\"gridcolor\":\"white\",\"linecolor\":\"white\",\"ticks\":\"\"},\"caxis\":{\"gridcolor\":\"white\",\"linecolor\":\"white\",\"ticks\":\"\"}},\"coloraxis\":{\"colorbar\":{\"outlinewidth\":0,\"ticks\":\"\"}},\"colorscale\":{\"sequential\":[[0.0,\"#0d0887\"],[0.1111111111111111,\"#46039f\"],[0.2222222222222222,\"#7201a8\"],[0.3333333333333333,\"#9c179e\"],[0.4444444444444444,\"#bd3786\"],[0.5555555555555556,\"#d8576b\"],[0.6666666666666666,\"#ed7953\"],[0.7777777777777778,\"#fb9f3a\"],[0.8888888888888888,\"#fdca26\"],[1.0,\"#f0f921\"]],\"sequentialminus\":[[0.0,\"#0d0887\"],[0.1111111111111111,\"#46039f\"],[0.2222222222222222,\"#7201a8\"],[0.3333333333333333,\"#9c179e\"],[0.4444444444444444,\"#bd3786\"],[0.5555555555555556,\"#d8576b\"],[0.6666666666666666,\"#ed7953\"],[0.7777777777777778,\"#fb9f3a\"],[0.8888888888888888,\"#fdca26\"],[1.0,\"#f0f921\"]],\"diverging\":[[0,\"#8e0152\"],[0.1,\"#c51b7d\"],[0.2,\"#de77ae\"],[0.3,\"#f1b6da\"],[0.4,\"#fde0ef\"],[0.5,\"#f7f7f7\"],[0.6,\"#e6f5d0\"],[0.7,\"#b8e186\"],[0.8,\"#7fbc41\"],[0.9,\"#4d9221\"],[1,\"#276419\"]]},\"xaxis\":{\"gridcolor\":\"white\",\"linecolor\":\"white\",\"ticks\":\"\",\"title\":{\"standoff\":15},\"zerolinecolor\":\"white\",\"automargin\":true,\"zerolinewidth\":2},\"yaxis\":{\"gridcolor\":\"white\",\"linecolor\":\"white\",\"ticks\":\"\",\"title\":{\"standoff\":15},\"zerolinecolor\":\"white\",\"automargin\":true,\"zerolinewidth\":2},\"scene\":{\"xaxis\":{\"backgroundcolor\":\"#E5ECF6\",\"gridcolor\":\"white\",\"linecolor\":\"white\",\"showbackground\":true,\"ticks\":\"\",\"zerolinecolor\":\"white\",\"gridwidth\":2},\"yaxis\":{\"backgroundcolor\":\"#E5ECF6\",\"gridcolor\":\"white\",\"linecolor\":\"white\",\"showbackground\":true,\"ticks\":\"\",\"zerolinecolor\":\"white\",\"gridwidth\":2},\"zaxis\":{\"backgroundcolor\":\"#E5ECF6\",\"gridcolor\":\"white\",\"linecolor\":\"white\",\"showbackground\":true,\"ticks\":\"\",\"zerolinecolor\":\"white\",\"gridwidth\":2}},\"shapedefaults\":{\"line\":{\"color\":\"#2a3f5f\"}},\"annotationdefaults\":{\"arrowcolor\":\"#2a3f5f\",\"arrowhead\":0,\"arrowwidth\":1},\"geo\":{\"bgcolor\":\"white\",\"landcolor\":\"#E5ECF6\",\"subunitcolor\":\"white\",\"showland\":true,\"showlakes\":true,\"lakecolor\":\"white\"},\"title\":{\"x\":0.05},\"mapbox\":{\"style\":\"light\"}}},\"xaxis\":{\"title\":{\"text\":\"Year\"},\"tickangle\":0},\"title\":{\"text\":\"Top Rushing Player by Year\"},\"yaxis\":{\"title\":{\"text\":\"Rushing Yards\"}}},                        {\"responsive\": true}                    ).then(function(){\n",
              "                            \n",
              "var gd = document.getElementById('2b69f90d-1864-4b2a-8fd8-60cce176836b');\n",
              "var x = new MutationObserver(function (mutations, observer) {{\n",
              "        var display = window.getComputedStyle(gd).display;\n",
              "        if (!display || display === 'none') {{\n",
              "            console.log([gd, 'removed!']);\n",
              "            Plotly.purge(gd);\n",
              "            observer.disconnect();\n",
              "        }}\n",
              "}});\n",
              "\n",
              "// Listen for the removal of the full notebook cells\n",
              "var notebookContainer = gd.closest('#notebook-container');\n",
              "if (notebookContainer) {{\n",
              "    x.observe(notebookContainer, {childList: true});\n",
              "}}\n",
              "\n",
              "// Listen for the clearing of the current output cell\n",
              "var outputEl = gd.closest('.output');\n",
              "if (outputEl) {{\n",
              "    x.observe(outputEl, {childList: true});\n",
              "}}\n",
              "\n",
              "                        })                };                            </script>        </div>\n",
              "</body>\n",
              "</html>"
            ]
          },
          "metadata": {}
        },
        {
          "output_type": "display_data",
          "data": {
            "text/plain": [
              "<IPython.core.display.Javascript object>"
            ],
            "application/javascript": [
              "\n",
              "    async function download(id, filename, size) {\n",
              "      if (!google.colab.kernel.accessAllowed) {\n",
              "        return;\n",
              "      }\n",
              "      const div = document.createElement('div');\n",
              "      const label = document.createElement('label');\n",
              "      label.textContent = `Downloading \"${filename}\": `;\n",
              "      div.appendChild(label);\n",
              "      const progress = document.createElement('progress');\n",
              "      progress.max = size;\n",
              "      div.appendChild(progress);\n",
              "      document.body.appendChild(div);\n",
              "\n",
              "      const buffers = [];\n",
              "      let downloaded = 0;\n",
              "\n",
              "      const channel = await google.colab.kernel.comms.open(id);\n",
              "      // Send a message to notify the kernel that we're ready.\n",
              "      channel.send({})\n",
              "\n",
              "      for await (const message of channel.messages) {\n",
              "        // Send a message to notify the kernel that we're ready.\n",
              "        channel.send({})\n",
              "        if (message.buffers) {\n",
              "          for (const buffer of message.buffers) {\n",
              "            buffers.push(buffer);\n",
              "            downloaded += buffer.byteLength;\n",
              "            progress.value = downloaded;\n",
              "          }\n",
              "        }\n",
              "      }\n",
              "      const blob = new Blob(buffers, {type: 'application/binary'});\n",
              "      const a = document.createElement('a');\n",
              "      a.href = window.URL.createObjectURL(blob);\n",
              "      a.download = filename;\n",
              "      div.appendChild(a);\n",
              "      a.click();\n",
              "      div.remove();\n",
              "    }\n",
              "  "
            ]
          },
          "metadata": {}
        },
        {
          "output_type": "display_data",
          "data": {
            "text/plain": [
              "<IPython.core.display.Javascript object>"
            ],
            "application/javascript": [
              "download(\"download_3a9b8346-c847-4c84-b02e-85405096738f\", \"Top_rushing_players.html\", 4566974)"
            ]
          },
          "metadata": {}
        }
      ]
    },
    {
      "cell_type": "markdown",
      "source": [
        "Creating datasets by year for Quarterback data and graphing the top Quarterback by passing yards for each year"
      ],
      "metadata": {
        "id": "dcYf4QK1sXt9"
      }
    },
    {
      "cell_type": "code",
      "source": [
        "qb_2017 = qb_data[qb_data['Year'] == 2017]\n",
        "qb_2018 = qb_data[qb_data['Year'] == 2018]\n",
        "qb_2019 = qb_data[qb_data['Year'] == 2019]\n",
        "qb_2020 = qb_data[qb_data['Year'] == 2020]\n",
        "qb_2021 = qb_data[qb_data['Year'] == 2021]\n",
        "qb_2022 = qb_data[qb_data['Year'] == 2022]\n",
        "allQbData = pd.concat([qb_2017, qb_2018, qb_2019, qb_2020, qb_2021, qb_2022])\n",
        "qb_2017.head()\n",
        "\n",
        "topqb_2017 = qb_2017.sort_values(by='PassingYds', ascending=False)[:1][['Player', 'PassingYds', 'Year']]\n",
        "topqb_2018 = qb_2018.sort_values(by='PassingYds', ascending=False)[:1][['Player', 'PassingYds', 'Year']]\n",
        "topqb_2019 = qb_2019.sort_values(by='PassingYds', ascending=False)[:1][['Player', 'PassingYds', 'Year']]\n",
        "topqb_2020 = qb_2020.sort_values(by='PassingYds', ascending=False)[:1][['Player', 'PassingYds', 'Year']]\n",
        "topqb_2021 = qb_2021.sort_values(by='PassingYds', ascending=False)[:1][['Player', 'PassingYds', 'Year']]\n",
        "topqb_2022 = qb_2022.sort_values(by='PassingYds', ascending=False)[:1][['Player', 'PassingYds', 'Year']]\n",
        "topqb_data = pd.concat([topqb_2017, topqb_2018, topqb_2019, topqb_2020, topqb_2021, topqb_2022])\n",
        "topqb_data\n",
        "\n",
        "fig = go.Figure(data=[\n",
        "    go.Bar(\n",
        "        name='Passing Yards',\n",
        "        x=topqb_data['Year'],\n",
        "        y=topqb_data['PassingYds'],\n",
        "        text=[f\"{player}: {passyds} yards\" for player, passyds in zip(topqb_data['Player'], topqb_data['PassingYds'])],\n",
        "        hoverinfo='text',\n",
        "        marker_color='blue'\n",
        "    )\n",
        "])\n",
        "\n",
        "fig.update_layout(\n",
        "    title='Top Passing Player by Year',\n",
        "    xaxis_title='Year',\n",
        "    yaxis_title='Passing Yards',\n",
        "    xaxis_tickangle=0\n",
        ")\n",
        "\n",
        "\n",
        "fig.update_traces(textposition='none')\n",
        "\n",
        "fig.show()\n",
        "\n",
        "fig.write_html(\"Top_passing_players.html\")\n",
        "from google.colab import files\n",
        "files.download('Top_passing_players.html')"
      ],
      "metadata": {
        "colab": {
          "base_uri": "https://localhost:8080/",
          "height": 542
        },
        "id": "O0Flq1T4caAq",
        "outputId": "cc444eb0-3cbf-4f6d-b5bd-e3b797cb15b2"
      },
      "execution_count": 17,
      "outputs": [
        {
          "output_type": "display_data",
          "data": {
            "text/html": [
              "<html>\n",
              "<head><meta charset=\"utf-8\" /></head>\n",
              "<body>\n",
              "    <div>            <script src=\"https://cdnjs.cloudflare.com/ajax/libs/mathjax/2.7.5/MathJax.js?config=TeX-AMS-MML_SVG\"></script><script type=\"text/javascript\">if (window.MathJax && window.MathJax.Hub && window.MathJax.Hub.Config) {window.MathJax.Hub.Config({SVG: {font: \"STIX-Web\"}});}</script>                <script type=\"text/javascript\">window.PlotlyConfig = {MathJaxConfig: 'local'};</script>\n",
              "        <script charset=\"utf-8\" src=\"https://cdn.plot.ly/plotly-2.35.2.min.js\"></script>                <div id=\"955fb185-2459-4594-9c46-369a1715da53\" class=\"plotly-graph-div\" style=\"height:525px; width:100%;\"></div>            <script type=\"text/javascript\">                                    window.PLOTLYENV=window.PLOTLYENV || {};                                    if (document.getElementById(\"955fb185-2459-4594-9c46-369a1715da53\")) {                    Plotly.newPlot(                        \"955fb185-2459-4594-9c46-369a1715da53\",                        [{\"hoverinfo\":\"text\",\"marker\":{\"color\":\"blue\"},\"name\":\"Passing Yards\",\"text\":[\"Tom Brady: 4577 yards\",\"Ben Roethlisberger: 5129 yards\",\"Jameis Winston: 5109 yards\",\"Deshaun Watson: 4823 yards\",\"Tom Brady: 5316 yards\",\"Patrick Mahomes: 5250 yards\"],\"x\":[2017,2018,2019,2020,2021,2022],\"y\":[4577,5129,5109,4823,5316,5250],\"type\":\"bar\",\"textposition\":\"none\"}],                        {\"template\":{\"data\":{\"histogram2dcontour\":[{\"type\":\"histogram2dcontour\",\"colorbar\":{\"outlinewidth\":0,\"ticks\":\"\"},\"colorscale\":[[0.0,\"#0d0887\"],[0.1111111111111111,\"#46039f\"],[0.2222222222222222,\"#7201a8\"],[0.3333333333333333,\"#9c179e\"],[0.4444444444444444,\"#bd3786\"],[0.5555555555555556,\"#d8576b\"],[0.6666666666666666,\"#ed7953\"],[0.7777777777777778,\"#fb9f3a\"],[0.8888888888888888,\"#fdca26\"],[1.0,\"#f0f921\"]]}],\"choropleth\":[{\"type\":\"choropleth\",\"colorbar\":{\"outlinewidth\":0,\"ticks\":\"\"}}],\"histogram2d\":[{\"type\":\"histogram2d\",\"colorbar\":{\"outlinewidth\":0,\"ticks\":\"\"},\"colorscale\":[[0.0,\"#0d0887\"],[0.1111111111111111,\"#46039f\"],[0.2222222222222222,\"#7201a8\"],[0.3333333333333333,\"#9c179e\"],[0.4444444444444444,\"#bd3786\"],[0.5555555555555556,\"#d8576b\"],[0.6666666666666666,\"#ed7953\"],[0.7777777777777778,\"#fb9f3a\"],[0.8888888888888888,\"#fdca26\"],[1.0,\"#f0f921\"]]}],\"heatmap\":[{\"type\":\"heatmap\",\"colorbar\":{\"outlinewidth\":0,\"ticks\":\"\"},\"colorscale\":[[0.0,\"#0d0887\"],[0.1111111111111111,\"#46039f\"],[0.2222222222222222,\"#7201a8\"],[0.3333333333333333,\"#9c179e\"],[0.4444444444444444,\"#bd3786\"],[0.5555555555555556,\"#d8576b\"],[0.6666666666666666,\"#ed7953\"],[0.7777777777777778,\"#fb9f3a\"],[0.8888888888888888,\"#fdca26\"],[1.0,\"#f0f921\"]]}],\"heatmapgl\":[{\"type\":\"heatmapgl\",\"colorbar\":{\"outlinewidth\":0,\"ticks\":\"\"},\"colorscale\":[[0.0,\"#0d0887\"],[0.1111111111111111,\"#46039f\"],[0.2222222222222222,\"#7201a8\"],[0.3333333333333333,\"#9c179e\"],[0.4444444444444444,\"#bd3786\"],[0.5555555555555556,\"#d8576b\"],[0.6666666666666666,\"#ed7953\"],[0.7777777777777778,\"#fb9f3a\"],[0.8888888888888888,\"#fdca26\"],[1.0,\"#f0f921\"]]}],\"contourcarpet\":[{\"type\":\"contourcarpet\",\"colorbar\":{\"outlinewidth\":0,\"ticks\":\"\"}}],\"contour\":[{\"type\":\"contour\",\"colorbar\":{\"outlinewidth\":0,\"ticks\":\"\"},\"colorscale\":[[0.0,\"#0d0887\"],[0.1111111111111111,\"#46039f\"],[0.2222222222222222,\"#7201a8\"],[0.3333333333333333,\"#9c179e\"],[0.4444444444444444,\"#bd3786\"],[0.5555555555555556,\"#d8576b\"],[0.6666666666666666,\"#ed7953\"],[0.7777777777777778,\"#fb9f3a\"],[0.8888888888888888,\"#fdca26\"],[1.0,\"#f0f921\"]]}],\"surface\":[{\"type\":\"surface\",\"colorbar\":{\"outlinewidth\":0,\"ticks\":\"\"},\"colorscale\":[[0.0,\"#0d0887\"],[0.1111111111111111,\"#46039f\"],[0.2222222222222222,\"#7201a8\"],[0.3333333333333333,\"#9c179e\"],[0.4444444444444444,\"#bd3786\"],[0.5555555555555556,\"#d8576b\"],[0.6666666666666666,\"#ed7953\"],[0.7777777777777778,\"#fb9f3a\"],[0.8888888888888888,\"#fdca26\"],[1.0,\"#f0f921\"]]}],\"mesh3d\":[{\"type\":\"mesh3d\",\"colorbar\":{\"outlinewidth\":0,\"ticks\":\"\"}}],\"scatter\":[{\"fillpattern\":{\"fillmode\":\"overlay\",\"size\":10,\"solidity\":0.2},\"type\":\"scatter\"}],\"parcoords\":[{\"type\":\"parcoords\",\"line\":{\"colorbar\":{\"outlinewidth\":0,\"ticks\":\"\"}}}],\"scatterpolargl\":[{\"type\":\"scatterpolargl\",\"marker\":{\"colorbar\":{\"outlinewidth\":0,\"ticks\":\"\"}}}],\"bar\":[{\"error_x\":{\"color\":\"#2a3f5f\"},\"error_y\":{\"color\":\"#2a3f5f\"},\"marker\":{\"line\":{\"color\":\"#E5ECF6\",\"width\":0.5},\"pattern\":{\"fillmode\":\"overlay\",\"size\":10,\"solidity\":0.2}},\"type\":\"bar\"}],\"scattergeo\":[{\"type\":\"scattergeo\",\"marker\":{\"colorbar\":{\"outlinewidth\":0,\"ticks\":\"\"}}}],\"scatterpolar\":[{\"type\":\"scatterpolar\",\"marker\":{\"colorbar\":{\"outlinewidth\":0,\"ticks\":\"\"}}}],\"histogram\":[{\"marker\":{\"pattern\":{\"fillmode\":\"overlay\",\"size\":10,\"solidity\":0.2}},\"type\":\"histogram\"}],\"scattergl\":[{\"type\":\"scattergl\",\"marker\":{\"colorbar\":{\"outlinewidth\":0,\"ticks\":\"\"}}}],\"scatter3d\":[{\"type\":\"scatter3d\",\"line\":{\"colorbar\":{\"outlinewidth\":0,\"ticks\":\"\"}},\"marker\":{\"colorbar\":{\"outlinewidth\":0,\"ticks\":\"\"}}}],\"scattermapbox\":[{\"type\":\"scattermapbox\",\"marker\":{\"colorbar\":{\"outlinewidth\":0,\"ticks\":\"\"}}}],\"scatterternary\":[{\"type\":\"scatterternary\",\"marker\":{\"colorbar\":{\"outlinewidth\":0,\"ticks\":\"\"}}}],\"scattercarpet\":[{\"type\":\"scattercarpet\",\"marker\":{\"colorbar\":{\"outlinewidth\":0,\"ticks\":\"\"}}}],\"carpet\":[{\"aaxis\":{\"endlinecolor\":\"#2a3f5f\",\"gridcolor\":\"white\",\"linecolor\":\"white\",\"minorgridcolor\":\"white\",\"startlinecolor\":\"#2a3f5f\"},\"baxis\":{\"endlinecolor\":\"#2a3f5f\",\"gridcolor\":\"white\",\"linecolor\":\"white\",\"minorgridcolor\":\"white\",\"startlinecolor\":\"#2a3f5f\"},\"type\":\"carpet\"}],\"table\":[{\"cells\":{\"fill\":{\"color\":\"#EBF0F8\"},\"line\":{\"color\":\"white\"}},\"header\":{\"fill\":{\"color\":\"#C8D4E3\"},\"line\":{\"color\":\"white\"}},\"type\":\"table\"}],\"barpolar\":[{\"marker\":{\"line\":{\"color\":\"#E5ECF6\",\"width\":0.5},\"pattern\":{\"fillmode\":\"overlay\",\"size\":10,\"solidity\":0.2}},\"type\":\"barpolar\"}],\"pie\":[{\"automargin\":true,\"type\":\"pie\"}]},\"layout\":{\"autotypenumbers\":\"strict\",\"colorway\":[\"#636efa\",\"#EF553B\",\"#00cc96\",\"#ab63fa\",\"#FFA15A\",\"#19d3f3\",\"#FF6692\",\"#B6E880\",\"#FF97FF\",\"#FECB52\"],\"font\":{\"color\":\"#2a3f5f\"},\"hovermode\":\"closest\",\"hoverlabel\":{\"align\":\"left\"},\"paper_bgcolor\":\"white\",\"plot_bgcolor\":\"#E5ECF6\",\"polar\":{\"bgcolor\":\"#E5ECF6\",\"angularaxis\":{\"gridcolor\":\"white\",\"linecolor\":\"white\",\"ticks\":\"\"},\"radialaxis\":{\"gridcolor\":\"white\",\"linecolor\":\"white\",\"ticks\":\"\"}},\"ternary\":{\"bgcolor\":\"#E5ECF6\",\"aaxis\":{\"gridcolor\":\"white\",\"linecolor\":\"white\",\"ticks\":\"\"},\"baxis\":{\"gridcolor\":\"white\",\"linecolor\":\"white\",\"ticks\":\"\"},\"caxis\":{\"gridcolor\":\"white\",\"linecolor\":\"white\",\"ticks\":\"\"}},\"coloraxis\":{\"colorbar\":{\"outlinewidth\":0,\"ticks\":\"\"}},\"colorscale\":{\"sequential\":[[0.0,\"#0d0887\"],[0.1111111111111111,\"#46039f\"],[0.2222222222222222,\"#7201a8\"],[0.3333333333333333,\"#9c179e\"],[0.4444444444444444,\"#bd3786\"],[0.5555555555555556,\"#d8576b\"],[0.6666666666666666,\"#ed7953\"],[0.7777777777777778,\"#fb9f3a\"],[0.8888888888888888,\"#fdca26\"],[1.0,\"#f0f921\"]],\"sequentialminus\":[[0.0,\"#0d0887\"],[0.1111111111111111,\"#46039f\"],[0.2222222222222222,\"#7201a8\"],[0.3333333333333333,\"#9c179e\"],[0.4444444444444444,\"#bd3786\"],[0.5555555555555556,\"#d8576b\"],[0.6666666666666666,\"#ed7953\"],[0.7777777777777778,\"#fb9f3a\"],[0.8888888888888888,\"#fdca26\"],[1.0,\"#f0f921\"]],\"diverging\":[[0,\"#8e0152\"],[0.1,\"#c51b7d\"],[0.2,\"#de77ae\"],[0.3,\"#f1b6da\"],[0.4,\"#fde0ef\"],[0.5,\"#f7f7f7\"],[0.6,\"#e6f5d0\"],[0.7,\"#b8e186\"],[0.8,\"#7fbc41\"],[0.9,\"#4d9221\"],[1,\"#276419\"]]},\"xaxis\":{\"gridcolor\":\"white\",\"linecolor\":\"white\",\"ticks\":\"\",\"title\":{\"standoff\":15},\"zerolinecolor\":\"white\",\"automargin\":true,\"zerolinewidth\":2},\"yaxis\":{\"gridcolor\":\"white\",\"linecolor\":\"white\",\"ticks\":\"\",\"title\":{\"standoff\":15},\"zerolinecolor\":\"white\",\"automargin\":true,\"zerolinewidth\":2},\"scene\":{\"xaxis\":{\"backgroundcolor\":\"#E5ECF6\",\"gridcolor\":\"white\",\"linecolor\":\"white\",\"showbackground\":true,\"ticks\":\"\",\"zerolinecolor\":\"white\",\"gridwidth\":2},\"yaxis\":{\"backgroundcolor\":\"#E5ECF6\",\"gridcolor\":\"white\",\"linecolor\":\"white\",\"showbackground\":true,\"ticks\":\"\",\"zerolinecolor\":\"white\",\"gridwidth\":2},\"zaxis\":{\"backgroundcolor\":\"#E5ECF6\",\"gridcolor\":\"white\",\"linecolor\":\"white\",\"showbackground\":true,\"ticks\":\"\",\"zerolinecolor\":\"white\",\"gridwidth\":2}},\"shapedefaults\":{\"line\":{\"color\":\"#2a3f5f\"}},\"annotationdefaults\":{\"arrowcolor\":\"#2a3f5f\",\"arrowhead\":0,\"arrowwidth\":1},\"geo\":{\"bgcolor\":\"white\",\"landcolor\":\"#E5ECF6\",\"subunitcolor\":\"white\",\"showland\":true,\"showlakes\":true,\"lakecolor\":\"white\"},\"title\":{\"x\":0.05},\"mapbox\":{\"style\":\"light\"}}},\"xaxis\":{\"title\":{\"text\":\"Year\"},\"tickangle\":0},\"title\":{\"text\":\"Top Passing Player by Year\"},\"yaxis\":{\"title\":{\"text\":\"Passing Yards\"}}},                        {\"responsive\": true}                    ).then(function(){\n",
              "                            \n",
              "var gd = document.getElementById('955fb185-2459-4594-9c46-369a1715da53');\n",
              "var x = new MutationObserver(function (mutations, observer) {{\n",
              "        var display = window.getComputedStyle(gd).display;\n",
              "        if (!display || display === 'none') {{\n",
              "            console.log([gd, 'removed!']);\n",
              "            Plotly.purge(gd);\n",
              "            observer.disconnect();\n",
              "        }}\n",
              "}});\n",
              "\n",
              "// Listen for the removal of the full notebook cells\n",
              "var notebookContainer = gd.closest('#notebook-container');\n",
              "if (notebookContainer) {{\n",
              "    x.observe(notebookContainer, {childList: true});\n",
              "}}\n",
              "\n",
              "// Listen for the clearing of the current output cell\n",
              "var outputEl = gd.closest('.output');\n",
              "if (outputEl) {{\n",
              "    x.observe(outputEl, {childList: true});\n",
              "}}\n",
              "\n",
              "                        })                };                            </script>        </div>\n",
              "</body>\n",
              "</html>"
            ]
          },
          "metadata": {}
        },
        {
          "output_type": "display_data",
          "data": {
            "text/plain": [
              "<IPython.core.display.Javascript object>"
            ],
            "application/javascript": [
              "\n",
              "    async function download(id, filename, size) {\n",
              "      if (!google.colab.kernel.accessAllowed) {\n",
              "        return;\n",
              "      }\n",
              "      const div = document.createElement('div');\n",
              "      const label = document.createElement('label');\n",
              "      label.textContent = `Downloading \"${filename}\": `;\n",
              "      div.appendChild(label);\n",
              "      const progress = document.createElement('progress');\n",
              "      progress.max = size;\n",
              "      div.appendChild(progress);\n",
              "      document.body.appendChild(div);\n",
              "\n",
              "      const buffers = [];\n",
              "      let downloaded = 0;\n",
              "\n",
              "      const channel = await google.colab.kernel.comms.open(id);\n",
              "      // Send a message to notify the kernel that we're ready.\n",
              "      channel.send({})\n",
              "\n",
              "      for await (const message of channel.messages) {\n",
              "        // Send a message to notify the kernel that we're ready.\n",
              "        channel.send({})\n",
              "        if (message.buffers) {\n",
              "          for (const buffer of message.buffers) {\n",
              "            buffers.push(buffer);\n",
              "            downloaded += buffer.byteLength;\n",
              "            progress.value = downloaded;\n",
              "          }\n",
              "        }\n",
              "      }\n",
              "      const blob = new Blob(buffers, {type: 'application/binary'});\n",
              "      const a = document.createElement('a');\n",
              "      a.href = window.URL.createObjectURL(blob);\n",
              "      a.download = filename;\n",
              "      div.appendChild(a);\n",
              "      a.click();\n",
              "      div.remove();\n",
              "    }\n",
              "  "
            ]
          },
          "metadata": {}
        },
        {
          "output_type": "display_data",
          "data": {
            "text/plain": [
              "<IPython.core.display.Javascript object>"
            ],
            "application/javascript": [
              "download(\"download_b80bb068-e2bc-4cac-b819-49d12ff31c4c\", \"Top_passing_players.html\", 4566976)"
            ]
          },
          "metadata": {}
        }
      ]
    },
    {
      "cell_type": "markdown",
      "source": [
        "To answer our second question regarding specific metrics to predict PPR we decided to only look at Quarterbacks, Recievers and Running backs with a 50% quartile level and over for the years 2017-2021. We begin by creating  datasets for Running Backs, Quarterbacks and Wide Recievers that exclude the year 2022 as well as only including data entries that meet our criteria above.\n"
      ],
      "metadata": {
        "id": "p1eoOaEPv7vZ"
      }
    },
    {
      "cell_type": "code",
      "source": [
        "wrData2017_2021 = pd.concat([wr_2017, wr_2018, wr_2019, wr_2020, wr_2021])\n",
        "wrData2017_2021['RecYds'].describe()"
      ],
      "metadata": {
        "colab": {
          "base_uri": "https://localhost:8080/",
          "height": 335
        },
        "id": "1JEJan0jtvAe",
        "outputId": "2128583d-be30-4d98-f2db-652bccea7392"
      },
      "execution_count": 18,
      "outputs": [
        {
          "output_type": "execute_result",
          "data": {
            "text/plain": [
              "count    1079.000000\n",
              "mean      376.660797\n",
              "std       374.521978\n",
              "min        -4.000000\n",
              "25%        63.000000\n",
              "50%       248.000000\n",
              "75%       595.000000\n",
              "max      1947.000000\n",
              "Name: RecYds, dtype: float64"
            ],
            "text/html": [
              "<div>\n",
              "<style scoped>\n",
              "    .dataframe tbody tr th:only-of-type {\n",
              "        vertical-align: middle;\n",
              "    }\n",
              "\n",
              "    .dataframe tbody tr th {\n",
              "        vertical-align: top;\n",
              "    }\n",
              "\n",
              "    .dataframe thead th {\n",
              "        text-align: right;\n",
              "    }\n",
              "</style>\n",
              "<table border=\"1\" class=\"dataframe\">\n",
              "  <thead>\n",
              "    <tr style=\"text-align: right;\">\n",
              "      <th></th>\n",
              "      <th>RecYds</th>\n",
              "    </tr>\n",
              "  </thead>\n",
              "  <tbody>\n",
              "    <tr>\n",
              "      <th>count</th>\n",
              "      <td>1079.000000</td>\n",
              "    </tr>\n",
              "    <tr>\n",
              "      <th>mean</th>\n",
              "      <td>376.660797</td>\n",
              "    </tr>\n",
              "    <tr>\n",
              "      <th>std</th>\n",
              "      <td>374.521978</td>\n",
              "    </tr>\n",
              "    <tr>\n",
              "      <th>min</th>\n",
              "      <td>-4.000000</td>\n",
              "    </tr>\n",
              "    <tr>\n",
              "      <th>25%</th>\n",
              "      <td>63.000000</td>\n",
              "    </tr>\n",
              "    <tr>\n",
              "      <th>50%</th>\n",
              "      <td>248.000000</td>\n",
              "    </tr>\n",
              "    <tr>\n",
              "      <th>75%</th>\n",
              "      <td>595.000000</td>\n",
              "    </tr>\n",
              "    <tr>\n",
              "      <th>max</th>\n",
              "      <td>1947.000000</td>\n",
              "    </tr>\n",
              "  </tbody>\n",
              "</table>\n",
              "</div><br><label><b>dtype:</b> float64</label>"
            ]
          },
          "metadata": {},
          "execution_count": 18
        }
      ]
    },
    {
      "cell_type": "markdown",
      "source": [
        "As seen above the 50% quartile level for RecYds is 248, so we will modify the dataset above to only include Wide Recievers with at least 248 yards and over."
      ],
      "metadata": {
        "id": "w7w8DEw3unjT"
      }
    },
    {
      "cell_type": "code",
      "source": [
        "filtered_wrData2017_2021 = wrData2017_2021[wrData2017_2021['RecYds'] > 248]"
      ],
      "metadata": {
        "id": "3VMeiPWNu2XR"
      },
      "execution_count": 19,
      "outputs": []
    },
    {
      "cell_type": "markdown",
      "source": [
        "Given this dataset we will use statistical code to compute the relationship between the wide reciever specific metric of Yards per Reception with PPR."
      ],
      "metadata": {
        "id": "wms4dQfavn1s"
      }
    },
    {
      "cell_type": "code",
      "source": [
        "correlation, _ = pearsonr(filtered_wrData2017_2021['YR'], filtered_wrData2017_2021['PPR'] )\n",
        "\n",
        "print(f\"The correlation between Yards per Reception and PPR points is: {correlation:.2f}\")\n"
      ],
      "metadata": {
        "colab": {
          "base_uri": "https://localhost:8080/"
        },
        "id": "GVnzHImokC1N",
        "outputId": "6ed1ddab-e899-4415-e381-3ed88217f0a7"
      },
      "execution_count": 20,
      "outputs": [
        {
          "output_type": "stream",
          "name": "stdout",
          "text": [
            "The correlation between Yards per Reception and PPR points is: 0.01\n"
          ]
        }
      ]
    },
    {
      "cell_type": "markdown",
      "source": [
        "Scatter Plot displaying Yards per Reception against Fantasy Points"
      ],
      "metadata": {
        "id": "oaZpBlpZy12W"
      }
    },
    {
      "cell_type": "code",
      "source": [
        "fig = go.Figure(data=go.Scatter(\n",
        "    x=filtered_wrData2017_2021['YR'],  # X-axis data\n",
        "    y=filtered_wrData2017_2021['PPR'],  # Y-axis data\n",
        "    mode='markers',\n",
        "    text=[f\"{player}: {recyds} yards\" for player, recyds in zip(filtered_wrData2017_2021['Player'], filtered_wrData2017_2021['YR'])],\n",
        "    marker=dict(color='green', size=10)  # Customize markers\n",
        "))\n",
        "\n",
        "fig.update_layout(\n",
        "    title='Scatter Plot of Yards per Reception vs Fantasy Points',\n",
        "    xaxis_title='Yards per Reception',\n",
        "    yaxis_title='Fantasy Points'\n",
        ")\n",
        "\n",
        "fig.show()\n",
        "\n",
        "fig.write_html(\"Scatter_YR_PPR.html\")\n",
        "from google.colab import files\n",
        "files.download('Scatter_YR_PPR.html')"
      ],
      "metadata": {
        "colab": {
          "base_uri": "https://localhost:8080/",
          "height": 542
        },
        "id": "y-F2xn6gw2L9",
        "outputId": "0739f121-078f-4f34-9da7-9afc1f7ee044"
      },
      "execution_count": 21,
      "outputs": [
        {
          "output_type": "display_data",
          "data": {
            "text/html": [
              "<html>\n",
              "<head><meta charset=\"utf-8\" /></head>\n",
              "<body>\n",
              "    <div>            <script src=\"https://cdnjs.cloudflare.com/ajax/libs/mathjax/2.7.5/MathJax.js?config=TeX-AMS-MML_SVG\"></script><script type=\"text/javascript\">if (window.MathJax && window.MathJax.Hub && window.MathJax.Hub.Config) {window.MathJax.Hub.Config({SVG: {font: \"STIX-Web\"}});}</script>                <script type=\"text/javascript\">window.PlotlyConfig = {MathJaxConfig: 'local'};</script>\n",
              "        <script charset=\"utf-8\" src=\"https://cdn.plot.ly/plotly-2.35.2.min.js\"></script>                <div id=\"4284944c-73d5-4587-8d91-1be5c6c460ec\" class=\"plotly-graph-div\" style=\"height:525px; width:100%;\"></div>            <script type=\"text/javascript\">                                    window.PLOTLYENV=window.PLOTLYENV || {};                                    if (document.getElementById(\"4284944c-73d5-4587-8d91-1be5c6c460ec\")) {                    Plotly.newPlot(                        \"4284944c-73d5-4587-8d91-1be5c6c460ec\",                        [{\"marker\":{\"color\":\"green\",\"size\":10},\"mode\":\"markers\",\"text\":[\"Antonio Brown: 15.18 yards\",\"DeAndre Hopkins: 14.35 yards\",\"Keenan Allen: 13.66 yards\",\"Larry Fitzgerald: 10.61 yards\",\"Jarvis Landry: 8.81 yards\",\"Michael Thomas: 11.97 yards\",\"Julio Jones: 16.41 yards\",\"Tyreek Hill: 15.77 yards\",\"Adam Thielen: 14.02 yards\",\"A.J. Green: 14.37 yards\",\"Marvin Jones: 18.05 yards\",\"Golden Tate: 10.9 yards\",\"Doug Baldwin: 13.21 yards\",\"Davante Adams: 11.96 yards\",\"Brandin Cooks: 16.65 yards\",\"Demaryius Thomas: 11.43 yards\",\"Mike Evans: 14.1 yards\",\"Chosen Anderson: 14.94 yards\",\"Stefon Diggs: 13.27 yards\",\"JuJu Smith-Schuster: 15.81 yards\",\"Alshon Jeffery: 13.84 yards\",\"Devin Funchess: 13.33 yards\",\"Nelson Agholor: 12.39 yards\",\"Dez Bryant: 12.14 yards\",\"Cooper Kupp: 14.02 yards\",\"Jermaine Kearse: 12.46 yards\",\"T.Y. Hilton: 16.95 yards\",\"Kenny Stills: 14.6 yards\",\"Mohamed Sanu: 10.49 yards\",\"Michael Crabtree: 10.66 yards\",\"Marquise Goodwin: 17.18 yards\",\"Robert Woods: 13.95 yards\",\"Jamison Crowder: 11.95 yards\",\"Ted Ginn Jr.: 14.85 yards\",\"Randall Cobb: 9.89 yards\",\"Amari Cooper: 14.17 yards\",\"Rishard Matthews: 15.0 yards\",\"Mike Wallace: 14.38 yards\",\"Paul Richardson: 15.98 yards\",\"Marqise Lee: 12.54 yards\",\"Sammy Watkins: 15.21 yards\",\"Sterling Shepard: 12.39 yards\",\"Danny Amendola: 10.8 yards\",\"DeSean Jackson: 13.36 yards\",\"Tyrell Williams: 16.93 yards\",\"Jordy Nelson: 9.09 yards\",\"Kelvin Benjamin: 14.42 yards\",\"Keelan Cole: 17.81 yards\",\"Martavis Bryant: 12.06 yards\",\"Travis Benjamin: 16.68 yards\",\"DeVante Parker: 11.75 yards\",\"Adam Humphries: 10.34 yards\",\"Kendall Wright: 10.41 yards\",\"Ryan Grant: 12.73 yards\",\"Brandon LaFell: 10.54 yards\",\"Tyler Lockett: 12.33 yards\",\"Josh Doctson: 14.34 yards\",\"Eric Decker: 10.43 yards\",\"Albert Wilson: 13.19 yards\",\"Emmanuel Sanders: 11.81 yards\",\"Will Fuller: 15.11 yards\",\"Terrance Williams: 10.72 yards\",\"Chris Hogan: 12.91 yards\",\"Deonte Thompson: 14.61 yards\",\"Jaron Brown: 15.39 yards\",\"Jeremy Maclin: 11.0 yards\",\"Allen Hurns: 12.41 yards\",\"J.D. McKissic: 7.82 yards\",\"Trent Taylor: 10.0 yards\",\"Kenny Golladay: 17.04 yards\",\"JJ Nelson: 17.52 yards\",\"Chris Godwin: 15.44 yards\",\"Cole Beasley: 8.72 yards\",\"Torrey Smith: 11.94 yards\",\"Seth Roberts: 10.58 yards\",\"Pierre Garcon: 12.5 yards\",\"Roger Lewis: 11.56 yards\",\"Cordarrelle Patterson: 9.97 yards\",\"Bennie Fowler: 12.07 yards\",\"Taylor Gabriel: 11.45 yards\",\"T.J. Jones: 13.3 yards\",\"Donte Moncrief: 15.04 yards\",\"Bruce Ellington: 11.38 yards\",\"Odell Beckham Jr.: 12.08 yards\",\"Brandon Coleman: 15.83 yards\",\"Zay Jones: 11.7 yards\",\"John Brown: 14.24 yards\",\"Corey Davis: 11.03 yards\",\"Rashard Higgins: 11.56 yards\",\"Josh Bellamy: 15.67 yards\",\"Dede Westbrook: 12.56 yards\",\"Corey Coleman: 13.26 yards\",\"Dontrelle Inman: 13.72 yards\",\"Brice Butler: 21.13 yards\",\"Ricardo Louis: 13.22 yards\",\"Cody Latimer: 15.11 yards\",\"Chester Rogers: 12.35 yards\",\"Kenny Britt: 12.8 yards\",\"Josh Gordon: 18.61 yards\",\"Jordan Matthews: 11.28 yards\",\"Geronimo Allison: 11.0 yards\",\"Kendrick Bourne: 16.06 yards\",\"Tyreek Hill: 17.0 yards\",\"DeAndre Hopkins: 13.67 yards\",\"Davante Adams: 12.49 yards\",\"Julio Jones: 14.84 yards\",\"Antonio Brown: 12.47 yards\",\"Michael Thomas: 11.24 yards\",\"Adam Thielen: 12.15 yards\",\"JuJu Smith-Schuster: 12.85 yards\",\"Mike Evans: 17.72 yards\",\"Stefon Diggs: 10.01 yards\",\"Robert Woods: 14.17 yards\",\"Keenan Allen: 12.33 yards\",\"Brandin Cooks: 15.05 yards\",\"T.Y. Hilton: 16.71 yards\",\"Odell Beckham Jr.: 13.66 yards\",\"Tyler Lockett: 16.93 yards\",\"Tyler Boyd: 13.53 yards\",\"Jarvis Landry: 12.05 yards\",\"Amari Cooper: 13.4 yards\",\"Julian Edelman: 11.49 yards\",\"Kenny Golladay: 15.19 yards\",\"Calvin Ridley: 12.83 yards\",\"Emmanuel Sanders: 12.23 yards\",\"Adam Humphries: 10.74 yards\",\"Larry Fitzgerald: 10.64 yards\",\"Alshon Jeffery: 12.97 yards\",\"Chris Godwin: 14.27 yards\",\"Corey Davis: 13.71 yards\",\"Golden Tate: 10.74 yards\",\"Sterling Shepard: 13.21 yards\",\"Mohamed Sanu: 12.7 yards\",\"Mike Williams: 15.44 yards\",\"Dede Westbrook: 10.86 yards\",\"Nelson Agholor: 11.5 yards\",\"Zay Jones: 11.64 yards\",\"D.J. Moore: 14.33 yards\",\"Demaryius Thomas: 11.47 yards\",\"Jordy Nelson: 11.73 yards\",\"Chosen Anderson: 15.04 yards\",\"Allen Robinson: 13.71 yards\",\"Taylor Gabriel: 10.27 yards\",\"DeSean Jackson: 18.88 yards\",\"Cole Beasley: 10.34 yards\",\"A.J. Green: 15.09 yards\",\"John Brown: 17.02 yards\",\"Doug Baldwin: 12.36 yards\",\"Josh Gordon: 17.98 yards\",\"Tyrell Williams: 15.93 yards\",\"Curtis Samuel: 12.67 yards\",\"Courtland Sutton: 16.76 yards\",\"Cooper Kupp: 14.15 yards\",\"Kenny Stills: 14.95 yards\",\"Willie Snead: 10.5 yards\",\"Michael Crabtree: 11.24 yards\",\"Antonio Callaway: 13.63 yards\",\"Donte Moncrief: 13.92 yards\",\"Danny Amendola: 9.75 yards\",\"Christian Kirk: 13.72 yards\",\"Devin Funchess: 12.48 yards\",\"Anthony Miller: 12.82 yards\",\"Rashard Higgins: 14.67 yards\",\"Chester Rogers: 9.15 yards\",\"Marvin Jones: 14.51 yards\",\"Sammy Watkins: 12.98 yards\",\"Kendrick Bourne: 11.6 yards\",\"Marquez Valdes-Scantling: 15.29 yards\",\"Josh Doctson: 12.09 yards\",\"Seth Roberts: 10.98 yards\",\"Will Fuller: 15.72 yards\",\"Chris Hogan: 15.2 yards\",\"Dante Pettis: 17.3 yards\",\"David Moore: 17.12 yards\",\"Tre'Quan Smith: 15.25 yards\",\"Josh Reynolds: 13.86 yards\",\"Robert Foster: 20.04 yards\",\"Michael Gallup: 15.36 yards\",\"Jarius Wright: 10.4 yards\",\"Albert Wilson: 15.04 yards\",\"Chris Conley: 10.44 yards\",\"Keelan Cole: 12.92 yards\",\"Taywan Taylor: 12.59 yards\",\"Marquise Goodwin: 17.17 yards\",\"Quincy Enunwa: 11.82 yards\",\"Randall Cobb: 10.08 yards\",\"Jamison Crowder: 13.38 yards\",\"Phillip Dorsett: 9.06 yards\",\"Jermaine Kearse: 10.03 yards\",\"Demarcus Robinson: 13.09 yards\",\"Ryan Grant: 9.54 yards\",\"Jakeem Grant: 12.76 yards\",\"Laquon Treadwell: 8.63 yards\",\"Tajae Sharpe: 12.15 yards\",\"Ryan Switzer: 7.03 yards\",\"Kelvin Benjamin: 15.2 yards\",\"Zach Pascal: 9.93 yards\",\"Keke Coutee: 10.25 yards\",\"Geronimo Allison: 15.15 yards\",\"Breshad Perriman: 21.25 yards\",\"Jordan Matthews: 15.0 yards\",\"Allen Hurns: 14.75 yards\",\"DeVante Parker: 12.88 yards\",\"Tim Patrick: 13.7 yards\",\"Maurice Harris: 10.86 yards\",\"Paul Richardson: 13.1 yards\",\"Pierre Garcon: 11.92 yards\",\"Equanimeous St. Brown: 15.62 yards\",\"Martavis Bryant: 14.0 yards\",\"Michael Thomas: 11.58 yards\",\"Chris Godwin: 15.5 yards\",\"Julio Jones: 14.08 yards\",\"Cooper Kupp: 12.35 yards\",\"DeAndre Hopkins: 11.2 yards\",\"Keenan Allen: 11.53 yards\",\"Julian Edelman: 11.17 yards\",\"Allen Robinson: 11.7 yards\",\"Kenny Golladay: 18.31 yards\",\"Amari Cooper: 15.05 yards\",\"DeVante Parker: 16.69 yards\",\"Jarvis Landry: 14.14 yards\",\"Tyler Lockett: 12.89 yards\",\"Robert Woods: 12.6 yards\",\"Mike Evans: 17.27 yards\",\"D.J. Moore: 13.51 yards\",\"DJ Chark: 13.81 yards\",\"Tyler Boyd: 11.62 yards\",\"Courtland Sutton: 15.44 yards\",\"John Brown: 14.72 yards\",\"A.J. Brown: 20.21 yards\",\"Michael Gallup: 16.77 yards\",\"Davante Adams: 12.01 yards\",\"Stefon Diggs: 17.94 yards\",\"Odell Beckham Jr.: 13.99 yards\",\"Jamison Crowder: 10.68 yards\",\"Calvin Ridley: 13.75 yards\",\"Marvin Jones: 12.56 yards\",\"Terry McLaurin: 15.84 yards\",\"Emmanuel Sanders: 13.17 yards\",\"Deebo Samuel: 14.07 yards\",\"Tyreek Hill: 14.83 yards\",\"D.K. Metcalf: 15.52 yards\",\"Cole Beasley: 11.61 yards\",\"Larry Fitzgerald: 10.72 yards\",\"Curtis Samuel: 11.61 yards\",\"Darius Slayton: 15.42 yards\",\"Christian Kirk: 10.43 yards\",\"Diontae Johnson: 11.53 yards\",\"Chosen Anderson: 14.98 yards\",\"Mike Williams: 20.43 yards\",\"Dede Westbrook: 10.0 yards\",\"Chris Conley: 16.49 yards\",\"Randall Cobb: 15.05 yards\",\"Golden Tate: 13.8 yards\",\"Marquise Brown: 12.7 yards\",\"Tyrell Williams: 15.5 yards\",\"Sterling Shepard: 10.11 yards\",\"Danny Amendola: 10.94 yards\",\"Sammy Watkins: 12.94 yards\",\"Breshad Perriman: 17.92 yards\",\"Zach Pascal: 14.8 yards\",\"Will Fuller: 13.67 yards\",\"James Washington: 16.7 yards\",\"Hunter Renfrow: 12.35 yards\",\"Anthony Miller: 12.62 yards\",\"T.Y. Hilton: 11.13 yards\",\"Mohamed Sanu: 8.81 yards\",\"Alshon Jeffery: 11.4 yards\",\"Kenny Stills: 14.03 yards\",\"Mecole Hardman: 20.69 yards\",\"Brandin Cooks: 13.88 yards\",\"Corey Davis: 13.98 yards\",\"Adam Thielen: 13.93 yards\",\"JuJu Smith-Schuster: 13.14 yards\",\"Steven Sims: 9.12 yards\",\"Allen Lazard: 13.63 yards\",\"Auden Tate: 14.38 yards\",\"Demarcus Robinson: 14.03 yards\",\"Phillip Dorsett: 13.69 yards\",\"Russell Gage: 9.1 yards\",\"Kendrick Bourne: 11.93 yards\",\"Alex Erickson: 12.3 yards\",\"Willie Snead: 10.94 yards\",\"John Ross: 18.07 yards\",\"Nelson Agholor: 9.31 yards\",\"Preston Williams: 13.38 yards\",\"Taylor Gabriel: 12.17 yards\",\"Albert Wilson: 8.16 yards\",\"Adam Humphries: 10.11 yards\",\"Ted Ginn Jr.: 14.03 yards\",\"Demaryius Thomas: 12.03 yards\",\"Marquez Valdes-Scantling: 17.38 yards\",\"Allen Hurns: 13.0 yards\",\"Tajae Sharpe: 13.16 yards\",\"Olabisi Johnson: 9.48 yards\",\"Keelan Cole: 15.04 yards\",\"Geronimo Allison: 8.44 yards\",\"Josh Gordon: 15.78 yards\",\"Damiere Byrd: 11.22 yards\",\"Kelvin Harmon: 12.17 yards\",\"Cody Latimer: 12.5 yards\",\"DaeSean Hamilton: 10.61 yards\",\"Isaiah McKenzie: 9.41 yards\",\"Josh Reynolds: 15.52 yards\",\"Jakobi Meyers: 13.81 yards\",\"Seth Roberts: 12.9 yards\",\"Greg Ward: 9.07 yards\",\"David Moore: 17.71 yards\",\"Jarius Wright: 10.57 yards\",\"Marcus Johnson: 16.29 yards\",\"Keke Coutee: 11.55 yards\",\"Marvin Hall: 37.29 yards\",\"Davante Adams: 11.95 yards\",\"Tyreek Hill: 14.67 yards\",\"Stefon Diggs: 12.09 yards\",\"DeAndre Hopkins: 12.23 yards\",\"Calvin Ridley: 15.27 yards\",\"Justin Jefferson: 15.91 yards\",\"D.K. Metcalf: 15.7 yards\",\"Tyler Lockett: 10.54 yards\",\"Allen Robinson: 12.25 yards\",\"Adam Thielen: 12.5 yards\",\"Mike Evans: 14.37 yards\",\"A.J. Brown: 15.36 yards\",\"Robert Woods: 10.4 yards\",\"Keenan Allen: 9.92 yards\",\"Amari Cooper: 12.11 yards\",\"JuJu Smith-Schuster: 8.57 yards\",\"Brandin Cooks: 14.2 yards\",\"Marvin Jones: 12.87 yards\",\"Chosen Anderson: 11.54 yards\",\"Terry McLaurin: 12.85 yards\",\"Diontae Johnson: 10.49 yards\",\"CeeDee Lamb: 12.64 yards\",\"Chase Claypool: 14.08 yards\",\"Curtis Samuel: 11.05 yards\",\"D.J. Moore: 18.08 yards\",\"Cooper Kupp: 10.59 yards\",\"Cole Beasley: 11.79 yards\",\"Tee Higgins: 13.55 yards\",\"Tyler Boyd: 10.65 yards\",\"Corey Davis: 15.14 yards\",\"Chris Godwin: 12.92 yards\",\"Will Fuller: 16.58 yards\",\"Jarvis Landry: 11.67 yards\",\"Nelson Agholor: 18.67 yards\",\"Brandon Aiyuk: 12.47 yards\",\"Marquise Brown: 13.26 yards\",\"Russell Gage: 10.92 yards\",\"Michael Gallup: 14.29 yards\",\"Jamison Crowder: 11.85 yards\",\"DeVante Parker: 12.59 yards\",\"Emmanuel Sanders: 11.9 yards\",\"T.Y. Hilton: 13.61 yards\",\"Sterling Shepard: 9.94 yards\",\"Tim Patrick: 14.55 yards\",\"Jerry Jeudy: 16.46 yards\",\"Laviska Shenault Jr.: 10.34 yards\",\"Keelan Cole: 11.67 yards\",\"Mike Williams: 15.75 yards\",\"DJ Chark: 13.32 yards\",\"Darnell Mooney: 10.34 yards\",\"Christian Kirk: 12.94 yards\",\"Julio Jones: 15.12 yards\",\"Jakobi Meyers: 12.36 yards\",\"Darius Slayton: 15.02 yards\",\"Marquez Valdes-Scantling: 20.91 yards\",\"Zach Pascal: 14.3 yards\",\"Gabriel Davis: 17.11 yards\",\"Greg Ward: 7.91 yards\",\"Hunter Renfrow: 11.71 yards\",\"Kendrick Bourne: 13.61 yards\",\"Mecole Hardman: 13.66 yards\",\"Josh Reynolds: 11.88 yards\",\"Rashard Higgins: 16.19 yards\",\"David Moore: 11.91 yards\",\"Antonio Brown: 10.73 yards\",\"Travis Fulgham: 14.18 yards\",\"Damiere Byrd: 12.85 yards\",\"A.J. Green: 11.13 yards\",\"Anthony Miller: 9.9 yards\",\"Demarcus Robinson: 10.36 yards\",\"Danny Amendola: 13.09 yards\",\"Tre'Quan Smith: 13.18 yards\",\"Scott Miller: 15.18 yards\",\"Larry Fitzgerald: 7.57 yards\",\"Randall Cobb: 11.61 yards\",\"Isaiah McKenzie: 9.4 yards\",\"James Washington: 13.07 yards\",\"Breshad Perriman: 16.83 yards\",\"Michael Pittman Jr.: 12.58 yards\",\"Allen Lazard: 13.67 yards\",\"Braxton Berrios: 10.65 yards\",\"Chris Conley: 11.78 yards\",\"Jalen Guyton: 18.25 yards\",\"John Brown: 13.88 yards\",\"Willie Snead: 13.09 yards\",\"KJ Hamler: 12.7 yards\",\"Sammy Watkins: 11.38 yards\",\"Jakeem Grant: 10.36 yards\",\"Jalen Reagor: 12.77 yards\",\"Keke Coutee: 12.12 yards\",\"Odell Beckham Jr.: 13.87 yards\",\"Golden Tate: 11.09 yards\",\"Cam Sims: 14.91 yards\",\"Henry Ruggs III: 17.38 yards\",\"Michael Thomas: 10.95 yards\",\"Deebo Samuel: 11.85 yards\",\"Tyron Johnson: 19.9 yards\",\"Preston Williams: 16.0 yards\",\"N'Keal Harry: 9.36 yards\",\"Miles Boykin: 14.0 yards\",\"Quintez Cephus: 17.45 yards\",\"Kenny Golladay: 16.9 yards\",\"Richie James: 17.13 yards\",\"DaeSean Hamilton: 12.74 yards\",\"Denzel Mims: 15.52 yards\",\"Marvin Hall: 16.78 yards\",\"Collin Johnson: 15.11 yards\",\"Donovan Peoples-Jones: 21.71 yards\",\"Steven Sims: 9.81 yards\",\"Julian Edelman: 15.0 yards\",\"Isaiah Ford: 9.86 yards\",\"Olamide Zaccheaus: 13.7 yards\",\"Marcus Johnson: 18.21 yards\",\"Cooper Kupp: 13.43 yards\",\"Davante Adams: 12.63 yards\",\"Deebo Samuel: 18.25 yards\",\"Justin Jefferson: 14.96 yards\",\"Ja'Marr Chase: 17.96 yards\",\"Tyreek Hill: 11.16 yards\",\"Stefon Diggs: 11.89 yards\",\"Diontae Johnson: 10.85 yards\",\"Mike Evans: 13.99 yards\",\"Hunter Renfrow: 10.08 yards\",\"Keenan Allen: 10.74 yards\",\"Mike Williams: 15.08 yards\",\"Jaylen Waddle: 9.76 yards\",\"D.K. Metcalf: 12.89 yards\",\"Chris Godwin: 11.26 yards\",\"Tyler Lockett: 16.1 yards\",\"Michael Pittman Jr.: 12.3 yards\",\"D.J. Moore: 12.44 yards\",\"CeeDee Lamb: 13.95 yards\",\"Brandin Cooks: 11.52 yards\",\"Amon-Ra St. Brown: 10.13 yards\",\"Marquise Brown: 11.08 yards\",\"Darnell Mooney: 13.02 yards\",\"Tee Higgins: 14.74 yards\",\"Terry McLaurin: 13.68 yards\",\"Christian Kirk: 12.75 yards\",\"Amari Cooper: 12.72 yards\",\"Adam Thielen: 10.84 yards\",\"Jakobi Meyers: 10.43 yards\",\"DeVonta Smith: 14.31 yards\",\"Tyler Boyd: 12.36 yards\",\"A.J. Brown: 13.79 yards\",\"Kendrick Bourne: 14.55 yards\",\"Marvin Jones: 11.4 yards\",\"Brandon Aiyuk: 14.75 yards\",\"Van Jefferson: 16.04 yards\",\"Chase Claypool: 14.58 yards\",\"Russell Gage: 11.67 yards\",\"Cole Beasley: 8.45 yards\",\"K.J. Osborn: 13.1 yards\",\"A.J. Green: 15.7 yards\",\"Tim Patrick: 13.85 yards\",\"Marquez Callaway: 15.17 yards\",\"Courtland Sutton: 13.38 yards\",\"Cedrick Wilson Jr.: 13.38 yards\",\"DeAndre Hopkins: 13.62 yards\",\"Allen Lazard: 12.83 yards\",\"Mecole Hardman: 11.75 yards\",\"Chosen Anderson: 9.79 yards\",\"Elijah Moore: 12.51 yards\",\"Robert Woods: 12.36 yards\",\"Jarvis Landry: 10.96 yards\",\"Kalif Raymond: 12.0 yards\",\"Emmanuel Sanders: 14.9 yards\",\"Odell Beckham Jr.: 12.2 yards\",\"Laviska Shenault Jr.: 9.83 yards\",\"Byron Pringle: 13.52 yards\",\"Gabriel Davis: 15.69 yards\",\"Antonio Brown: 12.98 yards\",\"Braxton Berrios+: 9.37 yards\",\"Quez Watkins: 15.05 yards\",\"Deonte Harty: 15.83 yards\",\"Jamison Crowder: 8.76 yards\",\"Donovan Peoples-Jones: 17.56 yards\",\"Bryan Edwards: 16.79 yards\",\"Rondale Moore: 8.06 yards\",\"Nick Westbrook-Ikhine: 12.53 yards\",\"Zay Jones: 11.62 yards\",\"Corey Davis: 14.47 yards\",\"Rashod Bateman: 11.2 yards\",\"DeVante Parker: 12.88 yards\",\"Nelson Agholor: 12.78 yards\",\"Jalen Guyton: 14.45 yards\",\"Zach Pascal: 10.11 yards\",\"Randall Cobb: 13.39 yards\",\"Josh Palmer: 10.7 yards\",\"Michael Gallup: 12.71 yards\",\"Olamide Zaccheaus: 13.1 yards\",\"Kenny Golladay: 14.08 yards\",\"Tre'Quan Smith: 11.78 yards\",\"Marquez Valdes-Scantling: 16.54 yards\",\"Allen Robinson: 10.79 yards\",\"DeAndre Carter: 12.33 yards\",\"Freddie Swain: 13.72 yards\",\"Jerry Jeudy: 12.29 yards\",\"Henry Ruggs III: 19.54 yards\",\"Nico Collins: 13.52 yards\",\"Devin Duvernay: 8.24 yards\",\"Kadarius Toney: 10.77 yards\",\"Laquon Treadwell: 13.15 yards\",\"Jauan Jennings: 11.75 yards\",\"Josh Reynolds: 13.66 yards\",\"Julio Jones: 14.0 yards\",\"Adam Humphries: 9.34 yards\",\"Keelan Cole: 16.04 yards\",\"Jalen Reagor: 9.06 yards\",\"Sterling Shepard: 10.17 yards\",\"DeSean Jackson: 22.7 yards\",\"T.Y. Hilton: 14.39 yards\",\"Tyler Johnson: 10.0 yards\",\"Calvin Ridley: 9.06 yards\",\"Sammy Watkins: 14.59 yards\",\"Demarcus Robinson: 10.56 yards\",\"Darius Slayton: 13.04 yards\",\"Ray-Ray McCloud: 7.1 yards\",\"James Washington: 11.88 yards\",\"Chester Rogers: 10.03 yards\",\"Damiere Byrd: 12.65 yards\",\"Chris Conley: 14.68 yards\",\"Rashard Higgins: 11.46 yards\",\"Marquise Goodwin: 15.65 yards\",\"Lil'Jordan Humphrey: 19.15 yards\",\"Brandon Zylstra: 13.89 yards\"],\"x\":[15.18,14.35,13.66,10.61,8.81,11.97,16.41,15.77,14.02,14.37,18.05,10.9,13.21,11.96,16.65,11.43,14.1,14.94,13.27,15.81,13.84,13.33,12.39,12.14,14.02,12.46,16.95,14.6,10.49,10.66,17.18,13.95,11.95,14.85,9.89,14.17,15.0,14.38,15.98,12.54,15.21,12.39,10.8,13.36,16.93,9.09,14.42,17.81,12.06,16.68,11.75,10.34,10.41,12.73,10.54,12.33,14.34,10.43,13.19,11.81,15.11,10.72,12.91,14.61,15.39,11.0,12.41,7.82,10.0,17.04,17.52,15.44,8.72,11.94,10.58,12.5,11.56,9.97,12.07,11.45,13.3,15.04,11.38,12.08,15.83,11.7,14.24,11.03,11.56,15.67,12.56,13.26,13.72,21.13,13.22,15.11,12.35,12.8,18.61,11.28,11.0,16.06,17.0,13.67,12.49,14.84,12.47,11.24,12.15,12.85,17.72,10.01,14.17,12.33,15.05,16.71,13.66,16.93,13.53,12.05,13.4,11.49,15.19,12.83,12.23,10.74,10.64,12.97,14.27,13.71,10.74,13.21,12.7,15.44,10.86,11.5,11.64,14.33,11.47,11.73,15.04,13.71,10.27,18.88,10.34,15.09,17.02,12.36,17.98,15.93,12.67,16.76,14.15,14.95,10.5,11.24,13.63,13.92,9.75,13.72,12.48,12.82,14.67,9.15,14.51,12.98,11.6,15.29,12.09,10.98,15.72,15.2,17.3,17.12,15.25,13.86,20.04,15.36,10.4,15.04,10.44,12.92,12.59,17.17,11.82,10.08,13.38,9.06,10.03,13.09,9.54,12.76,8.63,12.15,7.03,15.2,9.93,10.25,15.15,21.25,15.0,14.75,12.88,13.7,10.86,13.1,11.92,15.62,14.0,11.58,15.5,14.08,12.35,11.2,11.53,11.17,11.7,18.31,15.05,16.69,14.14,12.89,12.6,17.27,13.51,13.81,11.62,15.44,14.72,20.21,16.77,12.01,17.94,13.99,10.68,13.75,12.56,15.84,13.17,14.07,14.83,15.52,11.61,10.72,11.61,15.42,10.43,11.53,14.98,20.43,10.0,16.49,15.05,13.8,12.7,15.5,10.11,10.94,12.94,17.92,14.8,13.67,16.7,12.35,12.62,11.13,8.81,11.4,14.03,20.69,13.88,13.98,13.93,13.14,9.12,13.63,14.38,14.03,13.69,9.1,11.93,12.3,10.94,18.07,9.31,13.38,12.17,8.16,10.11,14.03,12.03,17.38,13.0,13.16,9.48,15.04,8.44,15.78,11.22,12.17,12.5,10.61,9.41,15.52,13.81,12.9,9.07,17.71,10.57,16.29,11.55,37.29,11.95,14.67,12.09,12.23,15.27,15.91,15.7,10.54,12.25,12.5,14.37,15.36,10.4,9.92,12.11,8.57,14.2,12.87,11.54,12.85,10.49,12.64,14.08,11.05,18.08,10.59,11.79,13.55,10.65,15.14,12.92,16.58,11.67,18.67,12.47,13.26,10.92,14.29,11.85,12.59,11.9,13.61,9.94,14.55,16.46,10.34,11.67,15.75,13.32,10.34,12.94,15.12,12.36,15.02,20.91,14.3,17.11,7.91,11.71,13.61,13.66,11.88,16.19,11.91,10.73,14.18,12.85,11.13,9.9,10.36,13.09,13.18,15.18,7.57,11.61,9.4,13.07,16.83,12.58,13.67,10.65,11.78,18.25,13.88,13.09,12.7,11.38,10.36,12.77,12.12,13.87,11.09,14.91,17.38,10.95,11.85,19.9,16.0,9.36,14.0,17.45,16.9,17.13,12.74,15.52,16.78,15.11,21.71,9.81,15.0,9.86,13.7,18.21,13.43,12.63,18.25,14.96,17.96,11.16,11.89,10.85,13.99,10.08,10.74,15.08,9.76,12.89,11.26,16.1,12.3,12.44,13.95,11.52,10.13,11.08,13.02,14.74,13.68,12.75,12.72,10.84,10.43,14.31,12.36,13.79,14.55,11.4,14.75,16.04,14.58,11.67,8.45,13.1,15.7,13.85,15.17,13.38,13.38,13.62,12.83,11.75,9.79,12.51,12.36,10.96,12.0,14.9,12.2,9.83,13.52,15.69,12.98,9.37,15.05,15.83,8.76,17.56,16.79,8.06,12.53,11.62,14.47,11.2,12.88,12.78,14.45,10.11,13.39,10.7,12.71,13.1,14.08,11.78,16.54,10.79,12.33,13.72,12.29,19.54,13.52,8.24,10.77,13.15,11.75,13.66,14.0,9.34,16.04,9.06,10.17,22.7,14.39,10.0,9.06,14.59,10.56,13.04,7.1,11.88,10.03,12.65,14.68,11.46,15.65,19.15,13.89],\"y\":[310.3,309.8,284.2,261.4,260.0,258.5,251.9,245.2,239.7,226.8,225.1,224.5,223.3,222.5,221.2,205.9,203.1,200.0,198.2,197.7,195.9,195.0,193.5,186.4,176.9,176.0,175.6,174.7,174.3,171.8,168.6,163.3,160.3,159.6,159.4,158.4,156.2,151.2,150.3,147.9,146.3,144.5,138.9,138.6,137.8,137.2,135.2,132.8,132.5,130.3,130.0,128.7,126.4,126.3,124.8,124.3,119.8,116.3,116.0,114.5,113.2,111.3,109.6,105.0,102.7,102.0,99.4,97.3,96.0,94.6,93.5,92.5,91.4,90.7,90.5,90.0,89.6,86.0,82.0,81.7,77.9,77.1,75.7,74.0,73.4,70.6,69.9,69.5,68.6,68.2,66.9,65.5,65.3,64.7,62.7,61.7,58.2,57.6,57.5,57.2,46.3,41.7,334.0,333.5,329.6,325.9,323.7,315.5,307.3,296.9,290.4,266.3,265.6,260.1,243.2,239.0,230.3,222.4,221.1,217.1,215.5,207.4,207.1,206.8,198.2,188.7,185.7,185.3,185.2,183.6,182.9,182.5,182.4,180.2,179.5,165.4,165.2,157.0,156.7,156.7,156.4,153.3,151.9,151.3,150.2,149.4,143.9,141.8,138.7,137.8,136.8,136.3,135.1,134.4,134.4,132.7,132.3,130.8,127.4,123.5,122.9,120.2,118.2,117.1,115.8,115.1,114.7,111.0,109.2,106.9,106.3,106.2,103.5,101.0,100.7,100.0,99.1,97.7,97.6,96.8,91.4,89.1,87.6,87.4,86.9,86.3,82.8,81.9,80.1,74.8,74.4,72.3,71.2,71.2,69.4,69.0,66.8,62.7,62.3,62.2,62.0,61.5,60.9,60.2,59.4,59.1,58.6,54.3,45.9,374.6,276.1,274.1,270.5,268.5,261.5,256.3,254.9,248.0,246.5,246.2,237.4,235.2,232.9,232.7,230.5,225.8,222.9,222.4,219.8,217.1,212.7,212.7,212.1,201.3,197.7,197.0,193.9,191.9,190.3,189.1,188.3,187.1,184.8,177.4,171.7,170.0,168.2,163.1,162.3,161.3,156.7,156.5,154.9,152.2,146.4,143.1,141.8,140.6,138.5,138.1,135.3,134.0,133.5,133.5,127.5,125.1,124.1,122.2,120.1,119.5,117.5,115.1,114.4,113.2,109.5,102.8,101.5,100.9,100.8,98.8,97.8,96.2,95.1,95.0,94.0,90.8,90.3,89.4,86.5,85.9,85.3,84.1,83.6,81.9,79.0,78.7,75.4,73.7,71.9,66.9,66.0,63.7,63.3,61.9,61.9,60.1,59.9,59.6,56.9,56.7,52.8,39.8,358.4,328.9,328.6,287.8,281.5,274.2,271.3,265.4,262.9,254.0,248.6,247.5,245.1,245.1,236.8,234.1,232.0,227.8,224.1,223.8,221.8,217.7,214.9,212.1,211.5,208.7,207.5,194.6,192.6,191.4,191.0,188.9,188.0,185.6,184.5,183.0,181.1,173.3,172.0,166.3,164.8,164.2,162.5,161.2,157.6,157.1,155.4,153.7,153.6,152.1,146.4,146.1,142.5,141.0,137.3,136.9,136.9,133.1,131.6,129.7,128.1,124.3,120.9,118.8,117.1,115.9,114.9,111.3,108.7,107.6,106.4,103.1,102.5,100.9,100.1,99.6,99.2,99.1,98.9,97.8,97.3,97.1,97.1,96.8,94.2,90.1,87.4,87.3,87.2,87.0,86.8,86.5,86.2,84.1,83.9,80.7,79.5,74.8,73.9,69.6,66.9,65.8,64.4,62.3,60.7,60.3,59.2,58.4,57.3,56.2,55.6,53.4,39.5,439.5,344.3,339.0,330.4,304.6,296.5,285.5,274.4,262.5,259.1,257.8,246.6,245.8,244.3,242.4,241.4,238.6,237.5,232.8,231.8,227.3,226.3,219.7,219.1,213.5,207.6,202.5,199.8,186.3,185.6,183.8,180.9,180.5,180.2,170.3,168.2,166.6,163.0,159.3,158.5,156.8,156.4,151.8,150.2,147.8,147.2,142.5,140.9,138.5,138.2,137.2,133.0,132.4,131.7,129.1,127.0,126.8,125.9,121.1,121.1,116.0,113.1,109.7,109.7,109.1,109.1,107.6,105.9,105.2,103.5,103.5,103.4,97.2,94.5,93.6,92.9,91.5,89.8,89.1,87.7,87.0,87.0,86.5,86.5,85.0,84.5,83.6,83.2,82.4,82.4,82.2,80.6,80.4,79.3,78.9,78.1,77.7,75.8,74.1,72.0,71.1,70.4,69.4,68.6,66.2,65.8,65.0,64.9,64.6,57.5,57.2,49.9,49.0],\"type\":\"scatter\"}],                        {\"template\":{\"data\":{\"histogram2dcontour\":[{\"type\":\"histogram2dcontour\",\"colorbar\":{\"outlinewidth\":0,\"ticks\":\"\"},\"colorscale\":[[0.0,\"#0d0887\"],[0.1111111111111111,\"#46039f\"],[0.2222222222222222,\"#7201a8\"],[0.3333333333333333,\"#9c179e\"],[0.4444444444444444,\"#bd3786\"],[0.5555555555555556,\"#d8576b\"],[0.6666666666666666,\"#ed7953\"],[0.7777777777777778,\"#fb9f3a\"],[0.8888888888888888,\"#fdca26\"],[1.0,\"#f0f921\"]]}],\"choropleth\":[{\"type\":\"choropleth\",\"colorbar\":{\"outlinewidth\":0,\"ticks\":\"\"}}],\"histogram2d\":[{\"type\":\"histogram2d\",\"colorbar\":{\"outlinewidth\":0,\"ticks\":\"\"},\"colorscale\":[[0.0,\"#0d0887\"],[0.1111111111111111,\"#46039f\"],[0.2222222222222222,\"#7201a8\"],[0.3333333333333333,\"#9c179e\"],[0.4444444444444444,\"#bd3786\"],[0.5555555555555556,\"#d8576b\"],[0.6666666666666666,\"#ed7953\"],[0.7777777777777778,\"#fb9f3a\"],[0.8888888888888888,\"#fdca26\"],[1.0,\"#f0f921\"]]}],\"heatmap\":[{\"type\":\"heatmap\",\"colorbar\":{\"outlinewidth\":0,\"ticks\":\"\"},\"colorscale\":[[0.0,\"#0d0887\"],[0.1111111111111111,\"#46039f\"],[0.2222222222222222,\"#7201a8\"],[0.3333333333333333,\"#9c179e\"],[0.4444444444444444,\"#bd3786\"],[0.5555555555555556,\"#d8576b\"],[0.6666666666666666,\"#ed7953\"],[0.7777777777777778,\"#fb9f3a\"],[0.8888888888888888,\"#fdca26\"],[1.0,\"#f0f921\"]]}],\"heatmapgl\":[{\"type\":\"heatmapgl\",\"colorbar\":{\"outlinewidth\":0,\"ticks\":\"\"},\"colorscale\":[[0.0,\"#0d0887\"],[0.1111111111111111,\"#46039f\"],[0.2222222222222222,\"#7201a8\"],[0.3333333333333333,\"#9c179e\"],[0.4444444444444444,\"#bd3786\"],[0.5555555555555556,\"#d8576b\"],[0.6666666666666666,\"#ed7953\"],[0.7777777777777778,\"#fb9f3a\"],[0.8888888888888888,\"#fdca26\"],[1.0,\"#f0f921\"]]}],\"contourcarpet\":[{\"type\":\"contourcarpet\",\"colorbar\":{\"outlinewidth\":0,\"ticks\":\"\"}}],\"contour\":[{\"type\":\"contour\",\"colorbar\":{\"outlinewidth\":0,\"ticks\":\"\"},\"colorscale\":[[0.0,\"#0d0887\"],[0.1111111111111111,\"#46039f\"],[0.2222222222222222,\"#7201a8\"],[0.3333333333333333,\"#9c179e\"],[0.4444444444444444,\"#bd3786\"],[0.5555555555555556,\"#d8576b\"],[0.6666666666666666,\"#ed7953\"],[0.7777777777777778,\"#fb9f3a\"],[0.8888888888888888,\"#fdca26\"],[1.0,\"#f0f921\"]]}],\"surface\":[{\"type\":\"surface\",\"colorbar\":{\"outlinewidth\":0,\"ticks\":\"\"},\"colorscale\":[[0.0,\"#0d0887\"],[0.1111111111111111,\"#46039f\"],[0.2222222222222222,\"#7201a8\"],[0.3333333333333333,\"#9c179e\"],[0.4444444444444444,\"#bd3786\"],[0.5555555555555556,\"#d8576b\"],[0.6666666666666666,\"#ed7953\"],[0.7777777777777778,\"#fb9f3a\"],[0.8888888888888888,\"#fdca26\"],[1.0,\"#f0f921\"]]}],\"mesh3d\":[{\"type\":\"mesh3d\",\"colorbar\":{\"outlinewidth\":0,\"ticks\":\"\"}}],\"scatter\":[{\"fillpattern\":{\"fillmode\":\"overlay\",\"size\":10,\"solidity\":0.2},\"type\":\"scatter\"}],\"parcoords\":[{\"type\":\"parcoords\",\"line\":{\"colorbar\":{\"outlinewidth\":0,\"ticks\":\"\"}}}],\"scatterpolargl\":[{\"type\":\"scatterpolargl\",\"marker\":{\"colorbar\":{\"outlinewidth\":0,\"ticks\":\"\"}}}],\"bar\":[{\"error_x\":{\"color\":\"#2a3f5f\"},\"error_y\":{\"color\":\"#2a3f5f\"},\"marker\":{\"line\":{\"color\":\"#E5ECF6\",\"width\":0.5},\"pattern\":{\"fillmode\":\"overlay\",\"size\":10,\"solidity\":0.2}},\"type\":\"bar\"}],\"scattergeo\":[{\"type\":\"scattergeo\",\"marker\":{\"colorbar\":{\"outlinewidth\":0,\"ticks\":\"\"}}}],\"scatterpolar\":[{\"type\":\"scatterpolar\",\"marker\":{\"colorbar\":{\"outlinewidth\":0,\"ticks\":\"\"}}}],\"histogram\":[{\"marker\":{\"pattern\":{\"fillmode\":\"overlay\",\"size\":10,\"solidity\":0.2}},\"type\":\"histogram\"}],\"scattergl\":[{\"type\":\"scattergl\",\"marker\":{\"colorbar\":{\"outlinewidth\":0,\"ticks\":\"\"}}}],\"scatter3d\":[{\"type\":\"scatter3d\",\"line\":{\"colorbar\":{\"outlinewidth\":0,\"ticks\":\"\"}},\"marker\":{\"colorbar\":{\"outlinewidth\":0,\"ticks\":\"\"}}}],\"scattermapbox\":[{\"type\":\"scattermapbox\",\"marker\":{\"colorbar\":{\"outlinewidth\":0,\"ticks\":\"\"}}}],\"scatterternary\":[{\"type\":\"scatterternary\",\"marker\":{\"colorbar\":{\"outlinewidth\":0,\"ticks\":\"\"}}}],\"scattercarpet\":[{\"type\":\"scattercarpet\",\"marker\":{\"colorbar\":{\"outlinewidth\":0,\"ticks\":\"\"}}}],\"carpet\":[{\"aaxis\":{\"endlinecolor\":\"#2a3f5f\",\"gridcolor\":\"white\",\"linecolor\":\"white\",\"minorgridcolor\":\"white\",\"startlinecolor\":\"#2a3f5f\"},\"baxis\":{\"endlinecolor\":\"#2a3f5f\",\"gridcolor\":\"white\",\"linecolor\":\"white\",\"minorgridcolor\":\"white\",\"startlinecolor\":\"#2a3f5f\"},\"type\":\"carpet\"}],\"table\":[{\"cells\":{\"fill\":{\"color\":\"#EBF0F8\"},\"line\":{\"color\":\"white\"}},\"header\":{\"fill\":{\"color\":\"#C8D4E3\"},\"line\":{\"color\":\"white\"}},\"type\":\"table\"}],\"barpolar\":[{\"marker\":{\"line\":{\"color\":\"#E5ECF6\",\"width\":0.5},\"pattern\":{\"fillmode\":\"overlay\",\"size\":10,\"solidity\":0.2}},\"type\":\"barpolar\"}],\"pie\":[{\"automargin\":true,\"type\":\"pie\"}]},\"layout\":{\"autotypenumbers\":\"strict\",\"colorway\":[\"#636efa\",\"#EF553B\",\"#00cc96\",\"#ab63fa\",\"#FFA15A\",\"#19d3f3\",\"#FF6692\",\"#B6E880\",\"#FF97FF\",\"#FECB52\"],\"font\":{\"color\":\"#2a3f5f\"},\"hovermode\":\"closest\",\"hoverlabel\":{\"align\":\"left\"},\"paper_bgcolor\":\"white\",\"plot_bgcolor\":\"#E5ECF6\",\"polar\":{\"bgcolor\":\"#E5ECF6\",\"angularaxis\":{\"gridcolor\":\"white\",\"linecolor\":\"white\",\"ticks\":\"\"},\"radialaxis\":{\"gridcolor\":\"white\",\"linecolor\":\"white\",\"ticks\":\"\"}},\"ternary\":{\"bgcolor\":\"#E5ECF6\",\"aaxis\":{\"gridcolor\":\"white\",\"linecolor\":\"white\",\"ticks\":\"\"},\"baxis\":{\"gridcolor\":\"white\",\"linecolor\":\"white\",\"ticks\":\"\"},\"caxis\":{\"gridcolor\":\"white\",\"linecolor\":\"white\",\"ticks\":\"\"}},\"coloraxis\":{\"colorbar\":{\"outlinewidth\":0,\"ticks\":\"\"}},\"colorscale\":{\"sequential\":[[0.0,\"#0d0887\"],[0.1111111111111111,\"#46039f\"],[0.2222222222222222,\"#7201a8\"],[0.3333333333333333,\"#9c179e\"],[0.4444444444444444,\"#bd3786\"],[0.5555555555555556,\"#d8576b\"],[0.6666666666666666,\"#ed7953\"],[0.7777777777777778,\"#fb9f3a\"],[0.8888888888888888,\"#fdca26\"],[1.0,\"#f0f921\"]],\"sequentialminus\":[[0.0,\"#0d0887\"],[0.1111111111111111,\"#46039f\"],[0.2222222222222222,\"#7201a8\"],[0.3333333333333333,\"#9c179e\"],[0.4444444444444444,\"#bd3786\"],[0.5555555555555556,\"#d8576b\"],[0.6666666666666666,\"#ed7953\"],[0.7777777777777778,\"#fb9f3a\"],[0.8888888888888888,\"#fdca26\"],[1.0,\"#f0f921\"]],\"diverging\":[[0,\"#8e0152\"],[0.1,\"#c51b7d\"],[0.2,\"#de77ae\"],[0.3,\"#f1b6da\"],[0.4,\"#fde0ef\"],[0.5,\"#f7f7f7\"],[0.6,\"#e6f5d0\"],[0.7,\"#b8e186\"],[0.8,\"#7fbc41\"],[0.9,\"#4d9221\"],[1,\"#276419\"]]},\"xaxis\":{\"gridcolor\":\"white\",\"linecolor\":\"white\",\"ticks\":\"\",\"title\":{\"standoff\":15},\"zerolinecolor\":\"white\",\"automargin\":true,\"zerolinewidth\":2},\"yaxis\":{\"gridcolor\":\"white\",\"linecolor\":\"white\",\"ticks\":\"\",\"title\":{\"standoff\":15},\"zerolinecolor\":\"white\",\"automargin\":true,\"zerolinewidth\":2},\"scene\":{\"xaxis\":{\"backgroundcolor\":\"#E5ECF6\",\"gridcolor\":\"white\",\"linecolor\":\"white\",\"showbackground\":true,\"ticks\":\"\",\"zerolinecolor\":\"white\",\"gridwidth\":2},\"yaxis\":{\"backgroundcolor\":\"#E5ECF6\",\"gridcolor\":\"white\",\"linecolor\":\"white\",\"showbackground\":true,\"ticks\":\"\",\"zerolinecolor\":\"white\",\"gridwidth\":2},\"zaxis\":{\"backgroundcolor\":\"#E5ECF6\",\"gridcolor\":\"white\",\"linecolor\":\"white\",\"showbackground\":true,\"ticks\":\"\",\"zerolinecolor\":\"white\",\"gridwidth\":2}},\"shapedefaults\":{\"line\":{\"color\":\"#2a3f5f\"}},\"annotationdefaults\":{\"arrowcolor\":\"#2a3f5f\",\"arrowhead\":0,\"arrowwidth\":1},\"geo\":{\"bgcolor\":\"white\",\"landcolor\":\"#E5ECF6\",\"subunitcolor\":\"white\",\"showland\":true,\"showlakes\":true,\"lakecolor\":\"white\"},\"title\":{\"x\":0.05},\"mapbox\":{\"style\":\"light\"}}},\"title\":{\"text\":\"Scatter Plot of Yards per Reception vs Fantasy Points\"},\"xaxis\":{\"title\":{\"text\":\"Yards per Reception\"}},\"yaxis\":{\"title\":{\"text\":\"Fantasy Points\"}}},                        {\"responsive\": true}                    ).then(function(){\n",
              "                            \n",
              "var gd = document.getElementById('4284944c-73d5-4587-8d91-1be5c6c460ec');\n",
              "var x = new MutationObserver(function (mutations, observer) {{\n",
              "        var display = window.getComputedStyle(gd).display;\n",
              "        if (!display || display === 'none') {{\n",
              "            console.log([gd, 'removed!']);\n",
              "            Plotly.purge(gd);\n",
              "            observer.disconnect();\n",
              "        }}\n",
              "}});\n",
              "\n",
              "// Listen for the removal of the full notebook cells\n",
              "var notebookContainer = gd.closest('#notebook-container');\n",
              "if (notebookContainer) {{\n",
              "    x.observe(notebookContainer, {childList: true});\n",
              "}}\n",
              "\n",
              "// Listen for the clearing of the current output cell\n",
              "var outputEl = gd.closest('.output');\n",
              "if (outputEl) {{\n",
              "    x.observe(outputEl, {childList: true});\n",
              "}}\n",
              "\n",
              "                        })                };                            </script>        </div>\n",
              "</body>\n",
              "</html>"
            ]
          },
          "metadata": {}
        },
        {
          "output_type": "display_data",
          "data": {
            "text/plain": [
              "<IPython.core.display.Javascript object>"
            ],
            "application/javascript": [
              "\n",
              "    async function download(id, filename, size) {\n",
              "      if (!google.colab.kernel.accessAllowed) {\n",
              "        return;\n",
              "      }\n",
              "      const div = document.createElement('div');\n",
              "      const label = document.createElement('label');\n",
              "      label.textContent = `Downloading \"${filename}\": `;\n",
              "      div.appendChild(label);\n",
              "      const progress = document.createElement('progress');\n",
              "      progress.max = size;\n",
              "      div.appendChild(progress);\n",
              "      document.body.appendChild(div);\n",
              "\n",
              "      const buffers = [];\n",
              "      let downloaded = 0;\n",
              "\n",
              "      const channel = await google.colab.kernel.comms.open(id);\n",
              "      // Send a message to notify the kernel that we're ready.\n",
              "      channel.send({})\n",
              "\n",
              "      for await (const message of channel.messages) {\n",
              "        // Send a message to notify the kernel that we're ready.\n",
              "        channel.send({})\n",
              "        if (message.buffers) {\n",
              "          for (const buffer of message.buffers) {\n",
              "            buffers.push(buffer);\n",
              "            downloaded += buffer.byteLength;\n",
              "            progress.value = downloaded;\n",
              "          }\n",
              "        }\n",
              "      }\n",
              "      const blob = new Blob(buffers, {type: 'application/binary'});\n",
              "      const a = document.createElement('a');\n",
              "      a.href = window.URL.createObjectURL(blob);\n",
              "      a.download = filename;\n",
              "      div.appendChild(a);\n",
              "      a.click();\n",
              "      div.remove();\n",
              "    }\n",
              "  "
            ]
          },
          "metadata": {}
        },
        {
          "output_type": "display_data",
          "data": {
            "text/plain": [
              "<IPython.core.display.Javascript object>"
            ],
            "application/javascript": [
              "download(\"download_20fcb194-fc56-4c93-bcc6-98ce2fb70488\", \"Scatter_YR_PPR.html\", 4588534)"
            ]
          },
          "metadata": {}
        }
      ]
    },
    {
      "cell_type": "markdown",
      "source": [
        "We will now use statistical code to compute the relationship between the wide reciever specific metric of Receiving Yards per Touchdown with PPR. To do this we must drop Nan values from the Receiving Yards per Touchdown column, so in effect we must drop wide receivers with 0 touchdowns."
      ],
      "metadata": {
        "id": "L9nTYqsUr6TB"
      }
    },
    {
      "cell_type": "code",
      "source": [
        "cleaned_wrData2017_2021 = filtered_wrData2017_2021[filtered_wrData2017_2021['RecTD'] > 0]\n",
        "cleaned_wrData2017_2021 = cleaned_wrData2017_2021.dropna(subset=['RecYds/TD'])\n"
      ],
      "metadata": {
        "id": "JvJ2P9KAsg1k"
      },
      "execution_count": 22,
      "outputs": []
    },
    {
      "cell_type": "markdown",
      "source": [
        "We will use statistical code to compute the relationship between the wide reciever specific metric of Receiving Yards per Touchdown with PPR."
      ],
      "metadata": {
        "id": "9eTo9FYRZOlP"
      }
    },
    {
      "cell_type": "code",
      "source": [
        "correlation, _ = pearsonr(cleaned_wrData2017_2021['RecYds/TD'], cleaned_wrData2017_2021['PPR'] )\n",
        "\n",
        "print(f\"The correlation between Receiving Yards per Touchdown and PPR points is: {correlation:.2f}\")"
      ],
      "metadata": {
        "colab": {
          "base_uri": "https://localhost:8080/"
        },
        "id": "f_ILkryosFTU",
        "outputId": "27bdf215-1b77-48f3-eb9b-d2f632dce28a"
      },
      "execution_count": 23,
      "outputs": [
        {
          "output_type": "stream",
          "name": "stdout",
          "text": [
            "The correlation between Receiving Yards per Touchdown and PPR points is: -0.17\n"
          ]
        }
      ]
    },
    {
      "cell_type": "markdown",
      "source": [
        "Scatter Plot displaying Receiving Yards per Touchdown against Fantasy Points"
      ],
      "metadata": {
        "id": "EzrFMsNaZEk5"
      }
    },
    {
      "cell_type": "code",
      "source": [
        "fig = go.Figure(data=go.Scatter(\n",
        "    x=cleaned_wrData2017_2021['RecYds/TD'],  # X-axis data\n",
        "    y=cleaned_wrData2017_2021['PPR'],  # Y-axis data\n",
        "    mode='markers',   # Marker mode for scatter plot\n",
        "    text=[f\"{player}: {recyds} yards\" for player, recyds in zip(cleaned_wrData2017_2021['Player'], cleaned_wrData2017_2021['RecYds/TD'])],\n",
        "    marker=dict(color='green', size=10)  # Customize markers\n",
        "))\n",
        "\n",
        "fig.update_layout(\n",
        "    title='Scatter Plot of Receiving Yards per Touchdown vs Fantasy Points',\n",
        "    xaxis_title='Recieving Yards per Touchdown',\n",
        "    yaxis_title='Fantasy Points'\n",
        ")\n",
        "\n",
        "fig.show()\n",
        "\n",
        "fig.write_html(\"Scatter_YardsperTouchdown_PPR.html\")\n",
        "from google.colab import files\n",
        "files.download('Scatter_YardsperTouchdown_PPR.html')"
      ],
      "metadata": {
        "colab": {
          "base_uri": "https://localhost:8080/",
          "height": 542
        },
        "id": "d42w8k9twAgJ",
        "outputId": "85ed9959-d856-4574-b68c-83fea553312c"
      },
      "execution_count": 24,
      "outputs": [
        {
          "output_type": "display_data",
          "data": {
            "text/html": [
              "<html>\n",
              "<head><meta charset=\"utf-8\" /></head>\n",
              "<body>\n",
              "    <div>            <script src=\"https://cdnjs.cloudflare.com/ajax/libs/mathjax/2.7.5/MathJax.js?config=TeX-AMS-MML_SVG\"></script><script type=\"text/javascript\">if (window.MathJax && window.MathJax.Hub && window.MathJax.Hub.Config) {window.MathJax.Hub.Config({SVG: {font: \"STIX-Web\"}});}</script>                <script type=\"text/javascript\">window.PlotlyConfig = {MathJaxConfig: 'local'};</script>\n",
              "        <script charset=\"utf-8\" src=\"https://cdn.plot.ly/plotly-2.35.2.min.js\"></script>                <div id=\"9ccc373a-2f66-4e62-9e12-063e5884267d\" class=\"plotly-graph-div\" style=\"height:525px; width:100%;\"></div>            <script type=\"text/javascript\">                                    window.PLOTLYENV=window.PLOTLYENV || {};                                    if (document.getElementById(\"9ccc373a-2f66-4e62-9e12-063e5884267d\")) {                    Plotly.newPlot(                        \"9ccc373a-2f66-4e62-9e12-063e5884267d\",                        [{\"marker\":{\"color\":\"green\",\"size\":10},\"mode\":\"markers\",\"text\":[\"Antonio Brown: 170.33333333333334 yards\",\"DeAndre Hopkins: 106.0 yards\",\"Keenan Allen: 232.16666666666666 yards\",\"Larry Fitzgerald: 192.66666666666666 yards\",\"Jarvis Landry: 109.66666666666667 yards\",\"Michael Thomas: 249.0 yards\",\"Julio Jones: 481.3333333333333 yards\",\"Tyreek Hill: 169.0 yards\",\"Adam Thielen: 319.0 yards\",\"A.J. Green: 134.75 yards\",\"Marvin Jones: 122.33333333333333 yards\",\"Golden Tate: 200.6 yards\",\"Doug Baldwin: 123.875 yards\",\"Davante Adams: 88.5 yards\",\"Brandin Cooks: 154.57142857142858 yards\",\"Demaryius Thomas: 189.8 yards\",\"Mike Evans: 200.2 yards\",\"Chosen Anderson: 134.42857142857142 yards\",\"Stefon Diggs: 106.125 yards\",\"JuJu Smith-Schuster: 131.0 yards\",\"Alshon Jeffery: 87.66666666666667 yards\",\"Devin Funchess: 105.0 yards\",\"Nelson Agholor: 96.0 yards\",\"Dez Bryant: 139.66666666666666 yards\",\"Cooper Kupp: 173.8 yards\",\"Jermaine Kearse: 162.0 yards\",\"T.Y. Hilton: 241.5 yards\",\"Kenny Stills: 141.16666666666666 yards\",\"Mohamed Sanu: 140.6 yards\",\"Michael Crabtree: 77.25 yards\",\"Marquise Goodwin: 481.0 yards\",\"Robert Woods: 156.2 yards\",\"Jamison Crowder: 263.0 yards\",\"Ted Ginn Jr.: 196.75 yards\",\"Randall Cobb: 163.25 yards\",\"Amari Cooper: 97.14285714285714 yards\",\"Rishard Matthews: 198.75 yards\",\"Mike Wallace: 187.0 yards\",\"Paul Richardson: 117.16666666666667 yards\",\"Marqise Lee: 234.0 yards\",\"Sammy Watkins: 74.125 yards\",\"Sterling Shepard: 365.5 yards\",\"Danny Amendola: 329.5 yards\",\"DeSean Jackson: 222.66666666666666 yards\",\"Tyrell Williams: 182.0 yards\",\"Jordy Nelson: 80.33333333333333 yards\",\"Kelvin Benjamin: 230.66666666666666 yards\",\"Keelan Cole: 249.33333333333334 yards\",\"Martavis Bryant: 201.0 yards\",\"Travis Benjamin: 141.75 yards\",\"DeVante Parker: 670.0 yards\",\"Adam Humphries: 631.0 yards\",\"Kendall Wright: 614.0 yards\",\"Ryan Grant: 143.25 yards\",\"Brandon LaFell: 182.66666666666666 yards\",\"Tyler Lockett: 277.5 yards\",\"Josh Doctson: 83.66666666666667 yards\",\"Eric Decker: 563.0 yards\",\"Albert Wilson: 184.66666666666666 yards\",\"Emmanuel Sanders: 277.5 yards\",\"Will Fuller: 60.42857142857143 yards\",\"Chris Hogan: 87.8 yards\",\"Deonte Thompson: 277.5 yards\",\"Jaron Brown: 119.25 yards\",\"Jeremy Maclin: 146.66666666666666 yards\",\"Allen Hurns: 242.0 yards\",\"J.D. McKissic: 133.0 yards\",\"Trent Taylor: 215.0 yards\",\"Kenny Golladay: 159.0 yards\",\"JJ Nelson: 254.0 yards\",\"Chris Godwin: 525.0 yards\",\"Cole Beasley: 78.5 yards\",\"Torrey Smith: 215.0 yards\",\"Seth Roberts: 455.0 yards\",\"Roger Lewis: 208.0 yards\",\"Bennie Fowler: 116.66666666666667 yards\",\"Taylor Gabriel: 378.0 yards\",\"T.J. Jones: 399.0 yards\",\"Donte Moncrief: 195.5 yards\",\"Bruce Ellington: 165.0 yards\",\"Odell Beckham Jr.: 100.66666666666667 yards\",\"Brandon Coleman: 121.33333333333333 yards\",\"Zay Jones: 158.0 yards\",\"John Brown: 99.66666666666667 yards\",\"Rashard Higgins: 156.0 yards\",\"Josh Bellamy: 376.0 yards\",\"Dede Westbrook: 339.0 yards\",\"Corey Coleman: 152.5 yards\",\"Dontrelle Inman: 343.0 yards\",\"Brice Butler: 105.66666666666667 yards\",\"Cody Latimer: 143.5 yards\",\"Chester Rogers: 284.0 yards\",\"Kenny Britt: 128.0 yards\",\"Josh Gordon: 335.0 yards\",\"Jordan Matthews: 282.0 yards\",\"Tyreek Hill: 123.25 yards\",\"DeAndre Hopkins: 142.9090909090909 yards\",\"Davante Adams: 106.61538461538461 yards\",\"Julio Jones: 209.625 yards\",\"Antonio Brown: 86.46666666666667 yards\",\"Michael Thomas: 156.11111111111111 yards\",\"Adam Thielen: 152.55555555555554 yards\",\"JuJu Smith-Schuster: 203.71428571428572 yards\",\"Mike Evans: 190.5 yards\",\"Stefon Diggs: 113.44444444444444 yards\",\"Robert Woods: 203.16666666666666 yards\",\"Keenan Allen: 199.33333333333334 yards\",\"Brandin Cooks: 240.8 yards\",\"T.Y. Hilton: 211.66666666666666 yards\",\"Odell Beckham Jr.: 175.33333333333334 yards\",\"Tyler Lockett: 96.5 yards\",\"Tyler Boyd: 146.85714285714286 yards\",\"Jarvis Landry: 244.0 yards\",\"Amari Cooper: 143.57142857142858 yards\",\"Julian Edelman: 141.66666666666666 yards\",\"Kenny Golladay: 212.6 yards\",\"Calvin Ridley: 82.1 yards\",\"Emmanuel Sanders: 217.0 yards\",\"Adam Humphries: 163.2 yards\",\"Larry Fitzgerald: 122.33333333333333 yards\",\"Alshon Jeffery: 140.5 yards\",\"Chris Godwin: 120.28571428571429 yards\",\"Corey Davis: 222.75 yards\",\"Golden Tate: 198.75 yards\",\"Sterling Shepard: 218.0 yards\",\"Mohamed Sanu: 209.5 yards\",\"Mike Williams: 66.4 yards\",\"Dede Westbrook: 143.4 yards\",\"Nelson Agholor: 184.0 yards\",\"Zay Jones: 93.14285714285714 yards\",\"D.J. Moore: 394.0 yards\",\"Demaryius Thomas: 135.4 yards\",\"Jordy Nelson: 246.33333333333334 yards\",\"Chosen Anderson: 125.33333333333333 yards\",\"Allen Robinson: 188.5 yards\",\"Taylor Gabriel: 344.0 yards\",\"DeSean Jackson: 193.5 yards\",\"Cole Beasley: 224.0 yards\",\"A.J. Green: 115.66666666666667 yards\",\"John Brown: 143.0 yards\",\"Doug Baldwin: 123.6 yards\",\"Josh Gordon: 184.25 yards\",\"Tyrell Williams: 130.6 yards\",\"Curtis Samuel: 98.8 yards\",\"Courtland Sutton: 176.0 yards\",\"Cooper Kupp: 94.33333333333333 yards\",\"Kenny Stills: 92.16666666666667 yards\",\"Willie Snead: 651.0 yards\",\"Michael Crabtree: 202.33333333333334 yards\",\"Antonio Callaway: 117.2 yards\",\"Donte Moncrief: 222.66666666666666 yards\",\"Danny Amendola: 575.0 yards\",\"Christian Kirk: 196.66666666666666 yards\",\"Devin Funchess: 137.25 yards\",\"Anthony Miller: 60.42857142857143 yards\",\"Rashard Higgins: 143.0 yards\",\"Chester Rogers: 242.5 yards\",\"Marvin Jones: 101.6 yards\",\"Sammy Watkins: 173.0 yards\",\"Kendrick Bourne: 121.75 yards\",\"Marquez Valdes-Scantling: 290.5 yards\",\"Josh Doctson: 266.0 yards\",\"Seth Roberts: 247.0 yards\",\"Will Fuller: 125.75 yards\",\"Chris Hogan: 177.33333333333334 yards\",\"Dante Pettis: 93.4 yards\",\"David Moore: 89.0 yards\",\"Tre'Quan Smith: 85.4 yards\",\"Josh Reynolds: 80.4 yards\",\"Robert Foster: 180.33333333333334 yards\",\"Michael Gallup: 253.5 yards\",\"Jarius Wright: 447.0 yards\",\"Albert Wilson: 97.75 yards\",\"Chris Conley: 66.8 yards\",\"Keelan Cole: 491.0 yards\",\"Taywan Taylor: 466.0 yards\",\"Marquise Goodwin: 98.75 yards\",\"Quincy Enunwa: 449.0 yards\",\"Randall Cobb: 191.5 yards\",\"Jamison Crowder: 194.0 yards\",\"Phillip Dorsett: 96.66666666666667 yards\",\"Jermaine Kearse: 371.0 yards\",\"Demarcus Robinson: 72.0 yards\",\"Ryan Grant: 334.0 yards\",\"Jakeem Grant: 134.0 yards\",\"Laquon Treadwell: 302.0 yards\",\"Tajae Sharpe: 158.0 yards\",\"Ryan Switzer: 253.0 yards\",\"Kelvin Benjamin: 380.0 yards\",\"Zach Pascal: 134.0 yards\",\"Keke Coutee: 287.0 yards\",\"Geronimo Allison: 151.5 yards\",\"Breshad Perriman: 170.0 yards\",\"Jordan Matthews: 150.0 yards\",\"Allen Hurns: 147.5 yards\",\"DeVante Parker: 309.0 yards\",\"Tim Patrick: 315.0 yards\",\"Paul Richardson: 131.0 yards\",\"Pierre Garcon: 286.0 yards\",\"Michael Thomas: 191.66666666666666 yards\",\"Chris Godwin: 148.11111111111111 yards\",\"Julio Jones: 232.33333333333334 yards\",\"Cooper Kupp: 116.1 yards\",\"DeAndre Hopkins: 166.42857142857142 yards\",\"Keenan Allen: 199.83333333333334 yards\",\"Julian Edelman: 186.16666666666666 yards\",\"Allen Robinson: 163.85714285714286 yards\",\"Kenny Golladay: 108.18181818181819 yards\",\"Amari Cooper: 148.625 yards\",\"DeVante Parker: 133.55555555555554 yards\",\"Jarvis Landry: 195.66666666666666 yards\",\"Tyler Lockett: 132.125 yards\",\"Robert Woods: 567.0 yards\",\"Mike Evans: 144.625 yards\",\"D.J. Moore: 293.75 yards\",\"DJ Chark: 126.0 yards\",\"Tyler Boyd: 209.2 yards\",\"Courtland Sutton: 185.33333333333334 yards\",\"John Brown: 176.66666666666666 yards\",\"A.J. Brown: 131.375 yards\",\"Michael Gallup: 184.5 yards\",\"Davante Adams: 199.4 yards\",\"Stefon Diggs: 188.33333333333334 yards\",\"Odell Beckham Jr.: 258.75 yards\",\"Jamison Crowder: 138.83333333333334 yards\",\"Calvin Ridley: 123.71428571428571 yards\",\"Marvin Jones: 86.55555555555556 yards\",\"Terry McLaurin: 131.28571428571428 yards\",\"Emmanuel Sanders: 173.8 yards\",\"Deebo Samuel: 267.3333333333333 yards\",\"Tyreek Hill: 122.85714285714286 yards\",\"D.K. Metcalf: 128.57142857142858 yards\",\"Cole Beasley: 129.66666666666666 yards\",\"Larry Fitzgerald: 201.0 yards\",\"Curtis Samuel: 104.5 yards\",\"Darius Slayton: 92.5 yards\",\"Christian Kirk: 236.33333333333334 yards\",\"Diontae Johnson: 136.0 yards\",\"Chosen Anderson: 155.8 yards\",\"Mike Williams: 500.5 yards\",\"Dede Westbrook: 220.0 yards\",\"Chris Conley: 155.0 yards\",\"Randall Cobb: 276.0 yards\",\"Golden Tate: 112.66666666666667 yards\",\"Marquise Brown: 83.42857142857143 yards\",\"Tyrell Williams: 108.5 yards\",\"Sterling Shepard: 192.0 yards\",\"Danny Amendola: 678.0 yards\",\"Sammy Watkins: 224.33333333333334 yards\",\"Breshad Perriman: 107.5 yards\",\"Zach Pascal: 121.4 yards\",\"Will Fuller: 223.33333333333334 yards\",\"James Washington: 245.0 yards\",\"Hunter Renfrow: 151.25 yards\",\"Anthony Miller: 328.0 yards\",\"T.Y. Hilton: 100.2 yards\",\"Mohamed Sanu: 260.0 yards\",\"Alshon Jeffery: 122.5 yards\",\"Kenny Stills: 140.25 yards\",\"Mecole Hardman: 89.66666666666667 yards\",\"Brandin Cooks: 291.5 yards\",\"Corey Davis: 300.5 yards\",\"Adam Thielen: 69.66666666666667 yards\",\"JuJu Smith-Schuster: 184.0 yards\",\"Steven Sims: 77.5 yards\",\"Allen Lazard: 159.0 yards\",\"Auden Tate: 575.0 yards\",\"Demarcus Robinson: 112.25 yards\",\"Phillip Dorsett: 79.4 yards\",\"Russell Gage: 446.0 yards\",\"Kendrick Bourne: 71.6 yards\",\"Willie Snead: 67.8 yards\",\"John Ross: 168.66666666666666 yards\",\"Nelson Agholor: 121.0 yards\",\"Preston Williams: 142.66666666666666 yards\",\"Taylor Gabriel: 88.25 yards\",\"Albert Wilson: 351.0 yards\",\"Adam Humphries: 187.0 yards\",\"Ted Ginn Jr.: 210.5 yards\",\"Demaryius Thomas: 433.0 yards\",\"Marquez Valdes-Scantling: 226.0 yards\",\"Allen Hurns: 208.0 yards\",\"Tajae Sharpe: 82.25 yards\",\"Olabisi Johnson: 98.0 yards\",\"Keelan Cole: 120.33333333333333 yards\",\"Geronimo Allison: 143.5 yards\",\"Josh Gordon: 426.0 yards\",\"Damiere Byrd: 359.0 yards\",\"Cody Latimer: 150.0 yards\",\"DaeSean Hamilton: 297.0 yards\",\"Isaiah McKenzie: 254.0 yards\",\"Josh Reynolds: 326.0 yards\",\"Seth Roberts: 135.5 yards\",\"Greg Ward: 254.0 yards\",\"David Moore: 150.5 yards\",\"Marcus Johnson: 138.5 yards\",\"Marvin Hall: 261.0 yards\",\"Davante Adams: 76.33333333333333 yards\",\"Tyreek Hill: 85.06666666666666 yards\",\"Stefon Diggs: 191.875 yards\",\"DeAndre Hopkins: 234.5 yards\",\"Calvin Ridley: 152.66666666666666 yards\",\"Justin Jefferson: 200.0 yards\",\"D.K. Metcalf: 130.3 yards\",\"Tyler Lockett: 105.4 yards\",\"Allen Robinson: 208.33333333333334 yards\",\"Adam Thielen: 66.07142857142857 yards\",\"Mike Evans: 77.38461538461539 yards\",\"A.J. Brown: 97.72727272727273 yards\",\"Robert Woods: 156.0 yards\",\"Keenan Allen: 124.0 yards\",\"Amari Cooper: 222.8 yards\",\"JuJu Smith-Schuster: 92.33333333333333 yards\",\"Brandin Cooks: 191.66666666666666 yards\",\"Marvin Jones: 108.66666666666667 yards\",\"Chosen Anderson: 365.3333333333333 yards\",\"Terry McLaurin: 279.5 yards\",\"Diontae Johnson: 131.85714285714286 yards\",\"CeeDee Lamb: 187.0 yards\",\"Chase Claypool: 97.0 yards\",\"Curtis Samuel: 283.6666666666667 yards\",\"D.J. Moore: 298.25 yards\",\"Cooper Kupp: 324.6666666666667 yards\",\"Cole Beasley: 241.75 yards\",\"Tee Higgins: 151.33333333333334 yards\",\"Tyler Boyd: 210.25 yards\",\"Corey Davis: 196.8 yards\",\"Chris Godwin: 120.0 yards\",\"Will Fuller: 109.875 yards\",\"Jarvis Landry: 280.0 yards\",\"Nelson Agholor: 112.0 yards\",\"Brandon Aiyuk: 149.6 yards\",\"Marquise Brown: 96.125 yards\",\"Russell Gage: 196.5 yards\",\"Michael Gallup: 168.6 yards\",\"Jamison Crowder: 116.5 yards\",\"DeVante Parker: 198.25 yards\",\"Emmanuel Sanders: 145.2 yards\",\"T.Y. Hilton: 152.4 yards\",\"Sterling Shepard: 218.66666666666666 yards\",\"Tim Patrick: 123.66666666666667 yards\",\"Jerry Jeudy: 285.3333333333333 yards\",\"Laviska Shenault Jr.: 120.0 yards\",\"Keelan Cole: 128.4 yards\",\"Mike Williams: 151.2 yards\",\"DJ Chark: 141.2 yards\",\"Darnell Mooney: 157.75 yards\",\"Christian Kirk: 103.5 yards\",\"Julio Jones: 257.0 yards\",\"Darius Slayton: 250.33333333333334 yards\",\"Marquez Valdes-Scantling: 115.0 yards\",\"Zach Pascal: 125.8 yards\",\"Gabriel Davis: 85.57142857142857 yards\",\"Greg Ward: 69.83333333333333 yards\",\"Hunter Renfrow: 328.0 yards\",\"Kendrick Bourne: 333.5 yards\",\"Mecole Hardman: 140.0 yards\",\"Josh Reynolds: 309.0 yards\",\"Rashard Higgins: 149.75 yards\",\"David Moore: 69.5 yards\",\"Antonio Brown: 120.75 yards\",\"Travis Fulgham: 134.75 yards\",\"Damiere Byrd: 604.0 yards\",\"A.J. Green: 261.5 yards\",\"Anthony Miller: 242.5 yards\",\"Demarcus Robinson: 155.33333333333334 yards\",\"Tre'Quan Smith: 112.0 yards\",\"Scott Miller: 167.0 yards\",\"Larry Fitzgerald: 409.0 yards\",\"Randall Cobb: 147.0 yards\",\"Isaiah McKenzie: 56.4 yards\",\"James Washington: 78.4 yards\",\"Breshad Perriman: 168.33333333333334 yards\",\"Michael Pittman Jr.: 503.0 yards\",\"Allen Lazard: 150.33333333333334 yards\",\"Braxton Berrios: 131.33333333333334 yards\",\"Chris Conley: 235.5 yards\",\"Jalen Guyton: 170.33333333333334 yards\",\"John Brown: 152.66666666666666 yards\",\"Willie Snead: 144.0 yards\",\"KJ Hamler: 127.0 yards\",\"Sammy Watkins: 210.5 yards\",\"Jakeem Grant: 373.0 yards\",\"Jalen Reagor: 396.0 yards\",\"Keke Coutee: 133.33333333333334 yards\",\"Odell Beckham Jr.: 106.33333333333333 yards\",\"Golden Tate: 194.0 yards\",\"Cam Sims: 477.0 yards\",\"Henry Ruggs III: 226.0 yards\",\"Deebo Samuel: 391.0 yards\",\"Tyron Johnson: 132.66666666666666 yards\",\"Preston Williams: 72.0 yards\",\"N'Keal Harry: 154.5 yards\",\"Miles Boykin: 66.5 yards\",\"Quintez Cephus: 174.5 yards\",\"Kenny Golladay: 169.0 yards\",\"Richie James: 394.0 yards\",\"DaeSean Hamilton: 146.5 yards\",\"Marvin Hall: 151.0 yards\",\"Collin Johnson: 136.0 yards\",\"Donovan Peoples-Jones: 152.0 yards\",\"Steven Sims: 265.0 yards\",\"Olamide Zaccheaus: 274.0 yards\",\"Cooper Kupp: 121.6875 yards\",\"Davante Adams: 141.1818181818182 yards\",\"Deebo Samuel: 234.16666666666666 yards\",\"Justin Jefferson: 161.6 yards\",\"Ja'Marr Chase: 111.92307692307692 yards\",\"Tyreek Hill: 137.66666666666666 yards\",\"Stefon Diggs: 122.5 yards\",\"Diontae Johnson: 145.125 yards\",\"Mike Evans: 73.92857142857143 yards\",\"Hunter Renfrow: 115.33333333333333 yards\",\"Keenan Allen: 189.66666666666666 yards\",\"Mike Williams: 127.33333333333333 yards\",\"Jaylen Waddle: 169.16666666666666 yards\",\"D.K. Metcalf: 80.58333333333333 yards\",\"Chris Godwin: 220.6 yards\",\"Tyler Lockett: 146.875 yards\",\"Michael Pittman Jr.: 180.33333333333334 yards\",\"D.J. Moore: 289.25 yards\",\"CeeDee Lamb: 183.66666666666666 yards\",\"Brandin Cooks: 172.83333333333334 yards\",\"Amon-Ra St. Brown: 182.4 yards\",\"Marquise Brown: 168.0 yards\",\"Darnell Mooney: 263.75 yards\",\"Tee Higgins: 181.83333333333334 yards\",\"Terry McLaurin: 210.6 yards\",\"Christian Kirk: 196.4 yards\",\"Amari Cooper: 108.125 yards\",\"Adam Thielen: 72.6 yards\",\"Jakobi Meyers: 433.0 yards\",\"DeVonta Smith: 183.2 yards\",\"Tyler Boyd: 165.6 yards\",\"A.J. Brown: 173.8 yards\",\"Kendrick Bourne: 160.0 yards\",\"Marvin Jones: 208.0 yards\",\"Brandon Aiyuk: 165.2 yards\",\"Van Jefferson: 133.66666666666666 yards\",\"Chase Claypool: 430.0 yards\",\"Russell Gage: 192.5 yards\",\"Cole Beasley: 693.0 yards\",\"K.J. Osborn: 93.57142857142857 yards\",\"A.J. Green: 282.6666666666667 yards\",\"Tim Patrick: 146.8 yards\",\"Marquez Callaway: 116.33333333333333 yards\",\"Courtland Sutton: 388.0 yards\",\"Cedrick Wilson Jr.: 100.33333333333333 yards\",\"DeAndre Hopkins: 71.5 yards\",\"Allen Lazard: 64.125 yards\",\"Mecole Hardman: 346.5 yards\",\"Chosen Anderson: 103.8 yards\",\"Elijah Moore: 107.6 yards\",\"Robert Woods: 139.0 yards\",\"Jarvis Landry: 285.0 yards\",\"Kalif Raymond: 144.0 yards\",\"Emmanuel Sanders: 156.5 yards\",\"Odell Beckham Jr.: 107.4 yards\",\"Byron Pringle: 113.6 yards\",\"Gabriel Davis: 91.5 yards\",\"Antonio Brown: 136.25 yards\",\"Braxton Berrios+: 215.5 yards\",\"Quez Watkins: 647.0 yards\",\"Deonte Harty: 190.0 yards\",\"Jamison Crowder: 223.5 yards\",\"Donovan Peoples-Jones: 199.0 yards\",\"Bryan Edwards: 190.33333333333334 yards\",\"Rondale Moore: 435.0 yards\",\"Nick Westbrook-Ikhine: 119.0 yards\",\"Zay Jones: 546.0 yards\",\"Corey Davis: 123.0 yards\",\"Rashod Bateman: 515.0 yards\",\"DeVante Parker: 257.5 yards\",\"Nelson Agholor: 157.66666666666666 yards\",\"Jalen Guyton: 149.33333333333334 yards\",\"Zach Pascal: 128.0 yards\",\"Randall Cobb: 75.0 yards\",\"Josh Palmer: 88.25 yards\",\"Michael Gallup: 222.5 yards\",\"Olamide Zaccheaus: 135.33333333333334 yards\",\"Tre'Quan Smith: 125.66666666666667 yards\",\"Marquez Valdes-Scantling: 143.33333333333334 yards\",\"Allen Robinson: 410.0 yards\",\"DeAndre Carter: 98.66666666666667 yards\",\"Freddie Swain: 85.75 yards\",\"Henry Ruggs III: 234.5 yards\",\"Nico Collins: 446.0 yards\",\"Devin Duvernay: 136.0 yards\",\"Laquon Treadwell: 434.0 yards\",\"Jauan Jennings: 56.4 yards\",\"Josh Reynolds: 198.0 yards\",\"Julio Jones: 434.0 yards\",\"Keelan Cole: 449.0 yards\",\"Jalen Reagor: 149.5 yards\",\"Sterling Shepard: 366.0 yards\",\"DeSean Jackson: 227.0 yards\",\"T.Y. Hilton: 110.33333333333333 yards\",\"Calvin Ridley: 140.5 yards\",\"Sammy Watkins: 394.0 yards\",\"Demarcus Robinson: 88.0 yards\",\"Darius Slayton: 169.5 yards\",\"James Washington: 142.5 yards\",\"Chester Rogers: 301.0 yards\",\"Damiere Byrd: 329.0 yards\",\"Chris Conley: 161.5 yards\",\"Rashard Higgins: 275.0 yards\",\"Marquise Goodwin: 313.0 yards\",\"Lil'Jordan Humphrey: 124.5 yards\",\"Brandon Zylstra: 250.0 yards\"],\"x\":[170.33333333333334,106.0,232.16666666666666,192.66666666666666,109.66666666666667,249.0,481.3333333333333,169.0,319.0,134.75,122.33333333333333,200.6,123.875,88.5,154.57142857142858,189.8,200.2,134.42857142857142,106.125,131.0,87.66666666666667,105.0,96.0,139.66666666666666,173.8,162.0,241.5,141.16666666666666,140.6,77.25,481.0,156.2,263.0,196.75,163.25,97.14285714285714,198.75,187.0,117.16666666666667,234.0,74.125,365.5,329.5,222.66666666666666,182.0,80.33333333333333,230.66666666666666,249.33333333333334,201.0,141.75,670.0,631.0,614.0,143.25,182.66666666666666,277.5,83.66666666666667,563.0,184.66666666666666,277.5,60.42857142857143,87.8,277.5,119.25,146.66666666666666,242.0,133.0,215.0,159.0,254.0,525.0,78.5,215.0,455.0,208.0,116.66666666666667,378.0,399.0,195.5,165.0,100.66666666666667,121.33333333333333,158.0,99.66666666666667,156.0,376.0,339.0,152.5,343.0,105.66666666666667,143.5,284.0,128.0,335.0,282.0,123.25,142.9090909090909,106.61538461538461,209.625,86.46666666666667,156.11111111111111,152.55555555555554,203.71428571428572,190.5,113.44444444444444,203.16666666666666,199.33333333333334,240.8,211.66666666666666,175.33333333333334,96.5,146.85714285714286,244.0,143.57142857142858,141.66666666666666,212.6,82.1,217.0,163.2,122.33333333333333,140.5,120.28571428571429,222.75,198.75,218.0,209.5,66.4,143.4,184.0,93.14285714285714,394.0,135.4,246.33333333333334,125.33333333333333,188.5,344.0,193.5,224.0,115.66666666666667,143.0,123.6,184.25,130.6,98.8,176.0,94.33333333333333,92.16666666666667,651.0,202.33333333333334,117.2,222.66666666666666,575.0,196.66666666666666,137.25,60.42857142857143,143.0,242.5,101.6,173.0,121.75,290.5,266.0,247.0,125.75,177.33333333333334,93.4,89.0,85.4,80.4,180.33333333333334,253.5,447.0,97.75,66.8,491.0,466.0,98.75,449.0,191.5,194.0,96.66666666666667,371.0,72.0,334.0,134.0,302.0,158.0,253.0,380.0,134.0,287.0,151.5,170.0,150.0,147.5,309.0,315.0,131.0,286.0,191.66666666666666,148.11111111111111,232.33333333333334,116.1,166.42857142857142,199.83333333333334,186.16666666666666,163.85714285714286,108.18181818181819,148.625,133.55555555555554,195.66666666666666,132.125,567.0,144.625,293.75,126.0,209.2,185.33333333333334,176.66666666666666,131.375,184.5,199.4,188.33333333333334,258.75,138.83333333333334,123.71428571428571,86.55555555555556,131.28571428571428,173.8,267.3333333333333,122.85714285714286,128.57142857142858,129.66666666666666,201.0,104.5,92.5,236.33333333333334,136.0,155.8,500.5,220.0,155.0,276.0,112.66666666666667,83.42857142857143,108.5,192.0,678.0,224.33333333333334,107.5,121.4,223.33333333333334,245.0,151.25,328.0,100.2,260.0,122.5,140.25,89.66666666666667,291.5,300.5,69.66666666666667,184.0,77.5,159.0,575.0,112.25,79.4,446.0,71.6,67.8,168.66666666666666,121.0,142.66666666666666,88.25,351.0,187.0,210.5,433.0,226.0,208.0,82.25,98.0,120.33333333333333,143.5,426.0,359.0,150.0,297.0,254.0,326.0,135.5,254.0,150.5,138.5,261.0,76.33333333333333,85.06666666666666,191.875,234.5,152.66666666666666,200.0,130.3,105.4,208.33333333333334,66.07142857142857,77.38461538461539,97.72727272727273,156.0,124.0,222.8,92.33333333333333,191.66666666666666,108.66666666666667,365.3333333333333,279.5,131.85714285714286,187.0,97.0,283.6666666666667,298.25,324.6666666666667,241.75,151.33333333333334,210.25,196.8,120.0,109.875,280.0,112.0,149.6,96.125,196.5,168.6,116.5,198.25,145.2,152.4,218.66666666666666,123.66666666666667,285.3333333333333,120.0,128.4,151.2,141.2,157.75,103.5,257.0,250.33333333333334,115.0,125.8,85.57142857142857,69.83333333333333,328.0,333.5,140.0,309.0,149.75,69.5,120.75,134.75,604.0,261.5,242.5,155.33333333333334,112.0,167.0,409.0,147.0,56.4,78.4,168.33333333333334,503.0,150.33333333333334,131.33333333333334,235.5,170.33333333333334,152.66666666666666,144.0,127.0,210.5,373.0,396.0,133.33333333333334,106.33333333333333,194.0,477.0,226.0,391.0,132.66666666666666,72.0,154.5,66.5,174.5,169.0,394.0,146.5,151.0,136.0,152.0,265.0,274.0,121.6875,141.1818181818182,234.16666666666666,161.6,111.92307692307692,137.66666666666666,122.5,145.125,73.92857142857143,115.33333333333333,189.66666666666666,127.33333333333333,169.16666666666666,80.58333333333333,220.6,146.875,180.33333333333334,289.25,183.66666666666666,172.83333333333334,182.4,168.0,263.75,181.83333333333334,210.6,196.4,108.125,72.6,433.0,183.2,165.6,173.8,160.0,208.0,165.2,133.66666666666666,430.0,192.5,693.0,93.57142857142857,282.6666666666667,146.8,116.33333333333333,388.0,100.33333333333333,71.5,64.125,346.5,103.8,107.6,139.0,285.0,144.0,156.5,107.4,113.6,91.5,136.25,215.5,647.0,190.0,223.5,199.0,190.33333333333334,435.0,119.0,546.0,123.0,515.0,257.5,157.66666666666666,149.33333333333334,128.0,75.0,88.25,222.5,135.33333333333334,125.66666666666667,143.33333333333334,410.0,98.66666666666667,85.75,234.5,446.0,136.0,434.0,56.4,198.0,434.0,449.0,149.5,366.0,227.0,110.33333333333333,140.5,394.0,88.0,169.5,142.5,301.0,329.0,161.5,275.0,313.0,124.5,250.0],\"y\":[310.3,309.8,284.2,261.4,260.0,258.5,251.9,245.2,239.7,226.8,225.1,224.5,223.3,222.5,221.2,205.9,203.1,200.0,198.2,197.7,195.9,195.0,193.5,186.4,176.9,176.0,175.6,174.7,174.3,171.8,168.6,163.3,160.3,159.6,159.4,158.4,156.2,151.2,150.3,147.9,146.3,144.5,138.9,138.6,137.8,137.2,135.2,132.8,132.5,130.3,130.0,128.7,126.4,126.3,124.8,124.3,119.8,116.3,116.0,114.5,113.2,109.6,105.0,102.7,102.0,99.4,97.3,96.0,94.6,93.5,92.5,91.4,90.7,90.5,89.6,82.0,81.7,77.9,77.1,75.7,74.0,73.4,70.6,69.9,68.6,68.2,66.9,65.5,65.3,64.7,61.7,58.2,57.6,57.5,57.2,334.0,333.5,329.6,325.9,323.7,315.5,307.3,296.9,290.4,266.3,265.6,260.1,243.2,239.0,230.3,222.4,221.1,217.1,215.5,207.4,207.1,206.8,198.2,188.7,185.7,185.3,185.2,183.6,182.9,182.5,182.4,180.2,179.5,165.4,165.2,157.0,156.7,156.7,156.4,153.3,151.9,151.3,150.2,149.4,143.9,141.8,138.7,137.8,136.8,136.3,135.1,134.4,134.4,132.7,132.3,130.8,127.4,123.5,122.9,120.2,118.2,117.1,115.8,115.1,114.7,111.0,109.2,106.9,106.3,106.2,103.5,101.0,100.7,100.0,99.1,97.7,97.6,96.8,91.4,89.1,87.6,87.4,86.9,86.3,82.8,81.9,80.1,74.8,74.4,72.3,71.2,71.2,69.4,69.0,66.8,62.7,62.3,62.2,62.0,61.5,60.9,60.2,59.1,58.6,374.6,276.1,274.1,270.5,268.5,261.5,256.3,254.9,248.0,246.5,246.2,237.4,235.2,232.9,232.7,230.5,225.8,222.9,222.4,219.8,217.1,212.7,212.7,212.1,201.3,197.7,197.0,193.9,191.9,190.3,189.1,188.3,187.1,184.8,177.4,171.7,170.0,168.2,163.1,162.3,161.3,156.7,156.5,154.9,152.2,146.4,143.1,141.8,140.6,138.5,138.1,135.3,134.0,133.5,133.5,127.5,125.1,124.1,122.2,120.1,119.5,117.5,115.1,114.4,113.2,109.5,102.8,101.5,100.9,100.8,98.8,97.8,95.1,95.0,94.0,90.8,90.3,89.4,86.5,85.9,85.3,84.1,83.6,81.9,79.0,78.7,75.4,73.7,71.9,66.0,63.7,63.3,61.9,60.1,59.9,59.6,56.7,39.8,358.4,328.9,328.6,287.8,281.5,274.2,271.3,265.4,262.9,254.0,248.6,247.5,245.1,245.1,236.8,234.1,232.0,227.8,224.1,223.8,221.8,217.7,214.9,212.1,211.5,208.7,207.5,194.6,192.6,191.4,191.0,188.9,188.0,185.6,184.5,183.0,181.1,173.3,172.0,166.3,164.8,164.2,162.5,161.2,157.6,157.1,155.4,153.7,153.6,152.1,146.4,146.1,141.0,137.3,136.9,136.9,133.1,131.6,129.7,128.1,124.3,120.9,118.8,117.1,115.9,114.9,111.3,108.7,107.6,103.1,102.5,100.9,100.1,99.6,99.2,99.1,98.9,97.8,97.3,97.1,97.1,96.8,94.2,90.1,87.4,87.3,87.2,87.0,86.8,86.5,86.2,84.1,80.7,79.5,74.8,73.9,69.6,66.9,65.8,64.4,62.3,60.3,59.2,58.4,57.3,53.4,439.5,344.3,339.0,330.4,304.6,296.5,285.5,274.4,262.5,259.1,257.8,246.6,245.8,244.3,242.4,241.4,238.6,237.5,232.8,231.8,227.3,226.3,219.7,219.1,213.5,207.6,202.5,199.8,186.3,185.6,183.8,180.9,180.5,180.2,170.3,168.2,166.6,163.0,159.3,158.5,156.8,156.4,151.8,150.2,147.8,147.2,142.5,140.9,138.5,138.2,137.2,133.0,132.4,131.7,129.1,126.8,125.9,121.1,121.1,116.0,113.1,109.7,109.7,109.1,109.1,107.6,105.9,105.2,103.5,103.5,103.4,97.2,94.5,93.6,92.9,91.5,89.8,87.7,87.0,87.0,86.5,86.5,84.5,83.6,83.2,82.4,82.2,80.6,80.4,78.9,78.1,77.7,75.8,74.1,71.1,70.4,69.4,68.6,65.8,65.0,64.9,64.6,57.5,57.2,49.9,49.0],\"type\":\"scatter\"}],                        {\"template\":{\"data\":{\"histogram2dcontour\":[{\"type\":\"histogram2dcontour\",\"colorbar\":{\"outlinewidth\":0,\"ticks\":\"\"},\"colorscale\":[[0.0,\"#0d0887\"],[0.1111111111111111,\"#46039f\"],[0.2222222222222222,\"#7201a8\"],[0.3333333333333333,\"#9c179e\"],[0.4444444444444444,\"#bd3786\"],[0.5555555555555556,\"#d8576b\"],[0.6666666666666666,\"#ed7953\"],[0.7777777777777778,\"#fb9f3a\"],[0.8888888888888888,\"#fdca26\"],[1.0,\"#f0f921\"]]}],\"choropleth\":[{\"type\":\"choropleth\",\"colorbar\":{\"outlinewidth\":0,\"ticks\":\"\"}}],\"histogram2d\":[{\"type\":\"histogram2d\",\"colorbar\":{\"outlinewidth\":0,\"ticks\":\"\"},\"colorscale\":[[0.0,\"#0d0887\"],[0.1111111111111111,\"#46039f\"],[0.2222222222222222,\"#7201a8\"],[0.3333333333333333,\"#9c179e\"],[0.4444444444444444,\"#bd3786\"],[0.5555555555555556,\"#d8576b\"],[0.6666666666666666,\"#ed7953\"],[0.7777777777777778,\"#fb9f3a\"],[0.8888888888888888,\"#fdca26\"],[1.0,\"#f0f921\"]]}],\"heatmap\":[{\"type\":\"heatmap\",\"colorbar\":{\"outlinewidth\":0,\"ticks\":\"\"},\"colorscale\":[[0.0,\"#0d0887\"],[0.1111111111111111,\"#46039f\"],[0.2222222222222222,\"#7201a8\"],[0.3333333333333333,\"#9c179e\"],[0.4444444444444444,\"#bd3786\"],[0.5555555555555556,\"#d8576b\"],[0.6666666666666666,\"#ed7953\"],[0.7777777777777778,\"#fb9f3a\"],[0.8888888888888888,\"#fdca26\"],[1.0,\"#f0f921\"]]}],\"heatmapgl\":[{\"type\":\"heatmapgl\",\"colorbar\":{\"outlinewidth\":0,\"ticks\":\"\"},\"colorscale\":[[0.0,\"#0d0887\"],[0.1111111111111111,\"#46039f\"],[0.2222222222222222,\"#7201a8\"],[0.3333333333333333,\"#9c179e\"],[0.4444444444444444,\"#bd3786\"],[0.5555555555555556,\"#d8576b\"],[0.6666666666666666,\"#ed7953\"],[0.7777777777777778,\"#fb9f3a\"],[0.8888888888888888,\"#fdca26\"],[1.0,\"#f0f921\"]]}],\"contourcarpet\":[{\"type\":\"contourcarpet\",\"colorbar\":{\"outlinewidth\":0,\"ticks\":\"\"}}],\"contour\":[{\"type\":\"contour\",\"colorbar\":{\"outlinewidth\":0,\"ticks\":\"\"},\"colorscale\":[[0.0,\"#0d0887\"],[0.1111111111111111,\"#46039f\"],[0.2222222222222222,\"#7201a8\"],[0.3333333333333333,\"#9c179e\"],[0.4444444444444444,\"#bd3786\"],[0.5555555555555556,\"#d8576b\"],[0.6666666666666666,\"#ed7953\"],[0.7777777777777778,\"#fb9f3a\"],[0.8888888888888888,\"#fdca26\"],[1.0,\"#f0f921\"]]}],\"surface\":[{\"type\":\"surface\",\"colorbar\":{\"outlinewidth\":0,\"ticks\":\"\"},\"colorscale\":[[0.0,\"#0d0887\"],[0.1111111111111111,\"#46039f\"],[0.2222222222222222,\"#7201a8\"],[0.3333333333333333,\"#9c179e\"],[0.4444444444444444,\"#bd3786\"],[0.5555555555555556,\"#d8576b\"],[0.6666666666666666,\"#ed7953\"],[0.7777777777777778,\"#fb9f3a\"],[0.8888888888888888,\"#fdca26\"],[1.0,\"#f0f921\"]]}],\"mesh3d\":[{\"type\":\"mesh3d\",\"colorbar\":{\"outlinewidth\":0,\"ticks\":\"\"}}],\"scatter\":[{\"fillpattern\":{\"fillmode\":\"overlay\",\"size\":10,\"solidity\":0.2},\"type\":\"scatter\"}],\"parcoords\":[{\"type\":\"parcoords\",\"line\":{\"colorbar\":{\"outlinewidth\":0,\"ticks\":\"\"}}}],\"scatterpolargl\":[{\"type\":\"scatterpolargl\",\"marker\":{\"colorbar\":{\"outlinewidth\":0,\"ticks\":\"\"}}}],\"bar\":[{\"error_x\":{\"color\":\"#2a3f5f\"},\"error_y\":{\"color\":\"#2a3f5f\"},\"marker\":{\"line\":{\"color\":\"#E5ECF6\",\"width\":0.5},\"pattern\":{\"fillmode\":\"overlay\",\"size\":10,\"solidity\":0.2}},\"type\":\"bar\"}],\"scattergeo\":[{\"type\":\"scattergeo\",\"marker\":{\"colorbar\":{\"outlinewidth\":0,\"ticks\":\"\"}}}],\"scatterpolar\":[{\"type\":\"scatterpolar\",\"marker\":{\"colorbar\":{\"outlinewidth\":0,\"ticks\":\"\"}}}],\"histogram\":[{\"marker\":{\"pattern\":{\"fillmode\":\"overlay\",\"size\":10,\"solidity\":0.2}},\"type\":\"histogram\"}],\"scattergl\":[{\"type\":\"scattergl\",\"marker\":{\"colorbar\":{\"outlinewidth\":0,\"ticks\":\"\"}}}],\"scatter3d\":[{\"type\":\"scatter3d\",\"line\":{\"colorbar\":{\"outlinewidth\":0,\"ticks\":\"\"}},\"marker\":{\"colorbar\":{\"outlinewidth\":0,\"ticks\":\"\"}}}],\"scattermapbox\":[{\"type\":\"scattermapbox\",\"marker\":{\"colorbar\":{\"outlinewidth\":0,\"ticks\":\"\"}}}],\"scatterternary\":[{\"type\":\"scatterternary\",\"marker\":{\"colorbar\":{\"outlinewidth\":0,\"ticks\":\"\"}}}],\"scattercarpet\":[{\"type\":\"scattercarpet\",\"marker\":{\"colorbar\":{\"outlinewidth\":0,\"ticks\":\"\"}}}],\"carpet\":[{\"aaxis\":{\"endlinecolor\":\"#2a3f5f\",\"gridcolor\":\"white\",\"linecolor\":\"white\",\"minorgridcolor\":\"white\",\"startlinecolor\":\"#2a3f5f\"},\"baxis\":{\"endlinecolor\":\"#2a3f5f\",\"gridcolor\":\"white\",\"linecolor\":\"white\",\"minorgridcolor\":\"white\",\"startlinecolor\":\"#2a3f5f\"},\"type\":\"carpet\"}],\"table\":[{\"cells\":{\"fill\":{\"color\":\"#EBF0F8\"},\"line\":{\"color\":\"white\"}},\"header\":{\"fill\":{\"color\":\"#C8D4E3\"},\"line\":{\"color\":\"white\"}},\"type\":\"table\"}],\"barpolar\":[{\"marker\":{\"line\":{\"color\":\"#E5ECF6\",\"width\":0.5},\"pattern\":{\"fillmode\":\"overlay\",\"size\":10,\"solidity\":0.2}},\"type\":\"barpolar\"}],\"pie\":[{\"automargin\":true,\"type\":\"pie\"}]},\"layout\":{\"autotypenumbers\":\"strict\",\"colorway\":[\"#636efa\",\"#EF553B\",\"#00cc96\",\"#ab63fa\",\"#FFA15A\",\"#19d3f3\",\"#FF6692\",\"#B6E880\",\"#FF97FF\",\"#FECB52\"],\"font\":{\"color\":\"#2a3f5f\"},\"hovermode\":\"closest\",\"hoverlabel\":{\"align\":\"left\"},\"paper_bgcolor\":\"white\",\"plot_bgcolor\":\"#E5ECF6\",\"polar\":{\"bgcolor\":\"#E5ECF6\",\"angularaxis\":{\"gridcolor\":\"white\",\"linecolor\":\"white\",\"ticks\":\"\"},\"radialaxis\":{\"gridcolor\":\"white\",\"linecolor\":\"white\",\"ticks\":\"\"}},\"ternary\":{\"bgcolor\":\"#E5ECF6\",\"aaxis\":{\"gridcolor\":\"white\",\"linecolor\":\"white\",\"ticks\":\"\"},\"baxis\":{\"gridcolor\":\"white\",\"linecolor\":\"white\",\"ticks\":\"\"},\"caxis\":{\"gridcolor\":\"white\",\"linecolor\":\"white\",\"ticks\":\"\"}},\"coloraxis\":{\"colorbar\":{\"outlinewidth\":0,\"ticks\":\"\"}},\"colorscale\":{\"sequential\":[[0.0,\"#0d0887\"],[0.1111111111111111,\"#46039f\"],[0.2222222222222222,\"#7201a8\"],[0.3333333333333333,\"#9c179e\"],[0.4444444444444444,\"#bd3786\"],[0.5555555555555556,\"#d8576b\"],[0.6666666666666666,\"#ed7953\"],[0.7777777777777778,\"#fb9f3a\"],[0.8888888888888888,\"#fdca26\"],[1.0,\"#f0f921\"]],\"sequentialminus\":[[0.0,\"#0d0887\"],[0.1111111111111111,\"#46039f\"],[0.2222222222222222,\"#7201a8\"],[0.3333333333333333,\"#9c179e\"],[0.4444444444444444,\"#bd3786\"],[0.5555555555555556,\"#d8576b\"],[0.6666666666666666,\"#ed7953\"],[0.7777777777777778,\"#fb9f3a\"],[0.8888888888888888,\"#fdca26\"],[1.0,\"#f0f921\"]],\"diverging\":[[0,\"#8e0152\"],[0.1,\"#c51b7d\"],[0.2,\"#de77ae\"],[0.3,\"#f1b6da\"],[0.4,\"#fde0ef\"],[0.5,\"#f7f7f7\"],[0.6,\"#e6f5d0\"],[0.7,\"#b8e186\"],[0.8,\"#7fbc41\"],[0.9,\"#4d9221\"],[1,\"#276419\"]]},\"xaxis\":{\"gridcolor\":\"white\",\"linecolor\":\"white\",\"ticks\":\"\",\"title\":{\"standoff\":15},\"zerolinecolor\":\"white\",\"automargin\":true,\"zerolinewidth\":2},\"yaxis\":{\"gridcolor\":\"white\",\"linecolor\":\"white\",\"ticks\":\"\",\"title\":{\"standoff\":15},\"zerolinecolor\":\"white\",\"automargin\":true,\"zerolinewidth\":2},\"scene\":{\"xaxis\":{\"backgroundcolor\":\"#E5ECF6\",\"gridcolor\":\"white\",\"linecolor\":\"white\",\"showbackground\":true,\"ticks\":\"\",\"zerolinecolor\":\"white\",\"gridwidth\":2},\"yaxis\":{\"backgroundcolor\":\"#E5ECF6\",\"gridcolor\":\"white\",\"linecolor\":\"white\",\"showbackground\":true,\"ticks\":\"\",\"zerolinecolor\":\"white\",\"gridwidth\":2},\"zaxis\":{\"backgroundcolor\":\"#E5ECF6\",\"gridcolor\":\"white\",\"linecolor\":\"white\",\"showbackground\":true,\"ticks\":\"\",\"zerolinecolor\":\"white\",\"gridwidth\":2}},\"shapedefaults\":{\"line\":{\"color\":\"#2a3f5f\"}},\"annotationdefaults\":{\"arrowcolor\":\"#2a3f5f\",\"arrowhead\":0,\"arrowwidth\":1},\"geo\":{\"bgcolor\":\"white\",\"landcolor\":\"#E5ECF6\",\"subunitcolor\":\"white\",\"showland\":true,\"showlakes\":true,\"lakecolor\":\"white\"},\"title\":{\"x\":0.05},\"mapbox\":{\"style\":\"light\"}}},\"title\":{\"text\":\"Scatter Plot of Receiving Yards per Touchdown vs Fantasy Points\"},\"xaxis\":{\"title\":{\"text\":\"Recieving Yards per Touchdown\"}},\"yaxis\":{\"title\":{\"text\":\"Fantasy Points\"}}},                        {\"responsive\": true}                    ).then(function(){\n",
              "                            \n",
              "var gd = document.getElementById('9ccc373a-2f66-4e62-9e12-063e5884267d');\n",
              "var x = new MutationObserver(function (mutations, observer) {{\n",
              "        var display = window.getComputedStyle(gd).display;\n",
              "        if (!display || display === 'none') {{\n",
              "            console.log([gd, 'removed!']);\n",
              "            Plotly.purge(gd);\n",
              "            observer.disconnect();\n",
              "        }}\n",
              "}});\n",
              "\n",
              "// Listen for the removal of the full notebook cells\n",
              "var notebookContainer = gd.closest('#notebook-container');\n",
              "if (notebookContainer) {{\n",
              "    x.observe(notebookContainer, {childList: true});\n",
              "}}\n",
              "\n",
              "// Listen for the clearing of the current output cell\n",
              "var outputEl = gd.closest('.output');\n",
              "if (outputEl) {{\n",
              "    x.observe(outputEl, {childList: true});\n",
              "}}\n",
              "\n",
              "                        })                };                            </script>        </div>\n",
              "</body>\n",
              "</html>"
            ]
          },
          "metadata": {}
        },
        {
          "output_type": "display_data",
          "data": {
            "text/plain": [
              "<IPython.core.display.Javascript object>"
            ],
            "application/javascript": [
              "\n",
              "    async function download(id, filename, size) {\n",
              "      if (!google.colab.kernel.accessAllowed) {\n",
              "        return;\n",
              "      }\n",
              "      const div = document.createElement('div');\n",
              "      const label = document.createElement('label');\n",
              "      label.textContent = `Downloading \"${filename}\": `;\n",
              "      div.appendChild(label);\n",
              "      const progress = document.createElement('progress');\n",
              "      progress.max = size;\n",
              "      div.appendChild(progress);\n",
              "      document.body.appendChild(div);\n",
              "\n",
              "      const buffers = [];\n",
              "      let downloaded = 0;\n",
              "\n",
              "      const channel = await google.colab.kernel.comms.open(id);\n",
              "      // Send a message to notify the kernel that we're ready.\n",
              "      channel.send({})\n",
              "\n",
              "      for await (const message of channel.messages) {\n",
              "        // Send a message to notify the kernel that we're ready.\n",
              "        channel.send({})\n",
              "        if (message.buffers) {\n",
              "          for (const buffer of message.buffers) {\n",
              "            buffers.push(buffer);\n",
              "            downloaded += buffer.byteLength;\n",
              "            progress.value = downloaded;\n",
              "          }\n",
              "        }\n",
              "      }\n",
              "      const blob = new Blob(buffers, {type: 'application/binary'});\n",
              "      const a = document.createElement('a');\n",
              "      a.href = window.URL.createObjectURL(blob);\n",
              "      a.download = filename;\n",
              "      div.appendChild(a);\n",
              "      a.click();\n",
              "      div.remove();\n",
              "    }\n",
              "  "
            ]
          },
          "metadata": {}
        },
        {
          "output_type": "display_data",
          "data": {
            "text/plain": [
              "<IPython.core.display.Javascript object>"
            ],
            "application/javascript": [
              "download(\"download_e266822d-6c21-4ff0-aa84-2cb9f2dd495c\", \"Scatter_YardsperTouchdown_PPR.html\", 4591314)"
            ]
          },
          "metadata": {}
        }
      ]
    },
    {
      "cell_type": "markdown",
      "source": [
        "Analysis of Running Back data from 2017-2021, looking at the specifc metric of yards per attempt."
      ],
      "metadata": {
        "id": "AtppMQBHxx43"
      }
    },
    {
      "cell_type": "code",
      "source": [
        "rbData2017_2021 = pd.concat([rb_2017, rb_2018, rb_2019, rb_2020, rb_2021])\n",
        "rbData2017_2021['RushYds'].describe()"
      ],
      "metadata": {
        "colab": {
          "base_uri": "https://localhost:8080/",
          "height": 335
        },
        "id": "0KdgiKLCxmYn",
        "outputId": "b5b13dfa-6361-42d9-f0f1-27c314ade30e"
      },
      "execution_count": 25,
      "outputs": [
        {
          "output_type": "execute_result",
          "data": {
            "text/plain": [
              "count     791.000000\n",
              "mean      305.398230\n",
              "std       355.665676\n",
              "min        -3.000000\n",
              "25%        24.000000\n",
              "50%       157.000000\n",
              "75%       493.500000\n",
              "max      2027.000000\n",
              "Name: RushYds, dtype: float64"
            ],
            "text/html": [
              "<div>\n",
              "<style scoped>\n",
              "    .dataframe tbody tr th:only-of-type {\n",
              "        vertical-align: middle;\n",
              "    }\n",
              "\n",
              "    .dataframe tbody tr th {\n",
              "        vertical-align: top;\n",
              "    }\n",
              "\n",
              "    .dataframe thead th {\n",
              "        text-align: right;\n",
              "    }\n",
              "</style>\n",
              "<table border=\"1\" class=\"dataframe\">\n",
              "  <thead>\n",
              "    <tr style=\"text-align: right;\">\n",
              "      <th></th>\n",
              "      <th>RushYds</th>\n",
              "    </tr>\n",
              "  </thead>\n",
              "  <tbody>\n",
              "    <tr>\n",
              "      <th>count</th>\n",
              "      <td>791.000000</td>\n",
              "    </tr>\n",
              "    <tr>\n",
              "      <th>mean</th>\n",
              "      <td>305.398230</td>\n",
              "    </tr>\n",
              "    <tr>\n",
              "      <th>std</th>\n",
              "      <td>355.665676</td>\n",
              "    </tr>\n",
              "    <tr>\n",
              "      <th>min</th>\n",
              "      <td>-3.000000</td>\n",
              "    </tr>\n",
              "    <tr>\n",
              "      <th>25%</th>\n",
              "      <td>24.000000</td>\n",
              "    </tr>\n",
              "    <tr>\n",
              "      <th>50%</th>\n",
              "      <td>157.000000</td>\n",
              "    </tr>\n",
              "    <tr>\n",
              "      <th>75%</th>\n",
              "      <td>493.500000</td>\n",
              "    </tr>\n",
              "    <tr>\n",
              "      <th>max</th>\n",
              "      <td>2027.000000</td>\n",
              "    </tr>\n",
              "  </tbody>\n",
              "</table>\n",
              "</div><br><label><b>dtype:</b> float64</label>"
            ]
          },
          "metadata": {},
          "execution_count": 25
        }
      ]
    },
    {
      "cell_type": "code",
      "source": [
        "filtered_rbData2017_2021 = rbData2017_2021[rbData2017_2021['RushYds'] > 157]\n"
      ],
      "metadata": {
        "id": "JIHtwYdvx_2H"
      },
      "execution_count": 26,
      "outputs": []
    },
    {
      "cell_type": "markdown",
      "source": [
        "We will use statistical code to compute the relationship between the running back specific metric of Rushing yards per attempt with PPR."
      ],
      "metadata": {
        "id": "dazhWiPLZci0"
      }
    },
    {
      "cell_type": "code",
      "source": [
        "correlation, _ = pearsonr(filtered_rbData2017_2021['YA'], filtered_rbData2017_2021['PPR'] )\n",
        "\n",
        "print(f\"The correlation between Yards per Rush Attempt and PPR points is: {correlation:.2f}\")"
      ],
      "metadata": {
        "colab": {
          "base_uri": "https://localhost:8080/"
        },
        "id": "Aowx9KrtyKAF",
        "outputId": "b8826e5f-ae6d-4470-e23c-2b0a36059d45"
      },
      "execution_count": 27,
      "outputs": [
        {
          "output_type": "stream",
          "name": "stdout",
          "text": [
            "The correlation between Yards per Rush Attempt and PPR points is: 0.12\n"
          ]
        }
      ]
    },
    {
      "cell_type": "markdown",
      "source": [
        "Scatter Plot displaying Rushing Yards per attempt against Fantasy Points"
      ],
      "metadata": {
        "id": "fmNkIDdrZnww"
      }
    },
    {
      "cell_type": "code",
      "source": [
        "# Create the scatter plot\n",
        "fig = go.Figure(data=go.Scatter(\n",
        "    x=filtered_rbData2017_2021['YA'],  # X-axis data\n",
        "    y=filtered_rbData2017_2021['PPR'],  # Y-axis data\n",
        "    mode='markers',   # Marker mode for scatter plot\n",
        "    text=[f\"{player}: {recyds} yards\" for player, recyds in zip(filtered_rbData2017_2021['Player'], filtered_rbData2017_2021['YA'])],\n",
        "    marker=dict(color='red', size=10)  # Customize markers\n",
        "))\n",
        "\n",
        "# Update layout\n",
        "fig.update_layout(\n",
        "    title='Scatter Plot of Yards per Rush Attempt vs Fantasy Points',\n",
        "    xaxis_title='Yards per Rush Attempt',\n",
        "    yaxis_title='Fantasy Points'\n",
        ")\n",
        "\n",
        "# Show the plot\n",
        "fig.show()\n",
        "\n",
        "fig.write_html(\"Scatter_YA_PPR.html\")\n",
        "from google.colab import files\n",
        "files.download('Scatter_YA_PPR.html')"
      ],
      "metadata": {
        "colab": {
          "base_uri": "https://localhost:8080/",
          "height": 542
        },
        "id": "8WIvmhuLx6fI",
        "outputId": "7feae848-e689-4ac2-a55d-a2511fedfa69"
      },
      "execution_count": 28,
      "outputs": [
        {
          "output_type": "display_data",
          "data": {
            "text/html": [
              "<html>\n",
              "<head><meta charset=\"utf-8\" /></head>\n",
              "<body>\n",
              "    <div>            <script src=\"https://cdnjs.cloudflare.com/ajax/libs/mathjax/2.7.5/MathJax.js?config=TeX-AMS-MML_SVG\"></script><script type=\"text/javascript\">if (window.MathJax && window.MathJax.Hub && window.MathJax.Hub.Config) {window.MathJax.Hub.Config({SVG: {font: \"STIX-Web\"}});}</script>                <script type=\"text/javascript\">window.PlotlyConfig = {MathJaxConfig: 'local'};</script>\n",
              "        <script charset=\"utf-8\" src=\"https://cdn.plot.ly/plotly-2.35.2.min.js\"></script>                <div id=\"9ec45720-ca32-42a5-a2a5-d682bb8dbfc9\" class=\"plotly-graph-div\" style=\"height:525px; width:100%;\"></div>            <script type=\"text/javascript\">                                    window.PLOTLYENV=window.PLOTLYENV || {};                                    if (document.getElementById(\"9ec45720-ca32-42a5-a2a5-d682bb8dbfc9\")) {                    Plotly.newPlot(                        \"9ec45720-ca32-42a5-a2a5-d682bb8dbfc9\",                        [{\"marker\":{\"color\":\"red\",\"size\":10},\"mode\":\"markers\",\"text\":[\"Todd Gurley: 4.68 yards\",\"Le'Veon Bell: 4.02 yards\",\"Alvin Kamara: 6.07 yards\",\"Kareem Hunt: 4.88 yards\",\"Melvin Gordon: 3.89 yards\",\"Mark Ingram: 4.89 yards\",\"LeSean McCoy: 3.97 yards\",\"Carlos Hyde: 3.91 yards\",\"Leonard Fournette: 3.88 yards\",\"Christian McCaffrey: 3.72 yards\",\"Duke Johnson: 4.24 yards\",\"Ezekiel Elliott: 4.06 yards\",\"Dion Lewis: 4.98 yards\",\"Devonta Freeman: 4.41 yards\",\"Jordan Howard: 4.07 yards\",\"Lamar Miller: 3.73 yards\",\"Jerick McKinnon: 3.8 yards\",\"C.J. Anderson: 4.11 yards\",\"Frank Gore: 3.68 yards\",\"DeMarco Murray: 3.58 yards\",\"Alex Collins: 4.59 yards\",\"Tevin Coleman: 4.03 yards\",\"Javorius Allen: 3.86 yards\",\"Marshawn Lynch: 4.3 yards\",\"Latavius Murray: 3.9 yards\",\"Theo Riddick: 3.4 yards\",\"Giovani Bernard: 4.36 yards\",\"Chris Thompson: 4.59 yards\",\"Tarik Cohen: 4.25 yards\",\"Bilal Powell: 4.34 yards\",\"Isaiah Crowell: 4.14 yards\",\"Jamaal Williams: 3.63 yards\",\"Kenyan Drake: 4.84 yards\",\"Joe Mixon: 3.52 yards\",\"Orleans Darkwa: 4.39 yards\",\"Jay Ajayi: 4.2 yards\",\"Derrick Henry: 4.23 yards\",\"James White: 3.98 yards\",\"Rex Burkhead: 4.13 yards\",\"Ameer Abdullah: 3.35 yards\",\"Matt Forte: 3.7 yards\",\"Jonathan Stewart: 3.43 yards\",\"Samaje Perine: 3.45 yards\",\"LeGarrette Blount: 4.43 yards\",\"Austin Ekeler: 5.53 yards\",\"Wayne Gallman: 4.29 yards\",\"Matt Breida: 4.43 yards\",\"Marlon Mack: 3.85 yards\",\"Rod Smith: 4.22 yards\",\"Corey Clement: 4.34 yards\",\"Ty Montgomery: 3.85 yards\",\"Devontae Booker: 3.78 yards\",\"T.J. Yeldon: 5.16 yards\",\"Jalen Richard: 4.91 yards\",\"Peyton Barber: 3.92 yards\",\"Chris Ivory: 3.41 yards\",\"Shane Vereen: 3.64 yards\",\"Aaron Jones: 5.53 yards\",\"Adrian Peterson: 3.39 yards\",\"Elijah McGuire: 3.58 yards\",\"Doug Martin: 2.94 yards\",\"Alfred Morris: 4.76 yards\",\"Mike Gillislee: 3.68 yards\",\"Kerwynn Williams: 3.55 yards\",\"Jamaal Charles: 4.29 yards\",\"Dalvin Cook: 4.78 yards\",\"Damien Williams: 3.93 yards\",\"D'Onta Foreman: 4.19 yards\",\"Mike Davis: 3.53 yards\",\"Mike Tolbert: 3.74 yards\",\"Jacquizz Rodgers: 3.81 yards\",\"Wendell Smallwood: 3.7 yards\",\"Malcolm Brown: 3.9 yards\",\"Alfred Blue: 3.69 yards\",\"Robert Kelley: 3.13 yards\",\"Corey Grant: 8.27 yards\",\"Chris Carson: 4.24 yards\",\"Tion Green: 3.93 yards\",\"Eddie Lacy: 2.59 yards\",\"Saquon Barkley: 5.01 yards\",\"Christian McCaffrey: 5.01 yards\",\"Todd Gurley: 4.89 yards\",\"Alvin Kamara: 4.55 yards\",\"Ezekiel Elliott: 4.72 yards\",\"James Conner: 4.53 yards\",\"James White: 4.52 yards\",\"Melvin Gordon: 5.06 yards\",\"David Johnson: 3.64 yards\",\"Joe Mixon: 4.93 yards\",\"Tarik Cohen: 4.48 yards\",\"Kareem Hunt: 4.55 yards\",\"Phillip Lindsay: 5.4 yards\",\"Kenyan Drake: 4.46 yards\",\"Derrick Henry: 4.93 yards\",\"Chris Carson: 4.66 yards\",\"Nick Chubb: 5.19 yards\",\"Tevin Coleman: 4.79 yards\",\"Adrian Peterson: 4.15 yards\",\"Jordan Howard: 3.74 yards\",\"Marlon Mack: 4.66 yards\",\"T.J. Yeldon: 3.98 yards\",\"Lamar Miller: 4.63 yards\",\"Aaron Jones: 5.47 yards\",\"Austin Ekeler: 5.23 yards\",\"Matt Breida: 5.32 yards\",\"Nyheim Hines: 3.69 yards\",\"Dion Lewis: 3.34 yards\",\"Jalen Richard: 4.71 yards\",\"Dalvin Cook: 4.62 yards\",\"Peyton Barber: 3.72 yards\",\"Mark Ingram: 4.67 yards\",\"Isaiah Crowell: 4.79 yards\",\"Kerryon Johnson: 5.43 yards\",\"Sony Michel: 4.45 yards\",\"Mike Davis: 4.59 yards\",\"Duke Johnson: 5.03 yards\",\"Latavius Murray: 4.13 yards\",\"LeSean McCoy: 3.19 yards\",\"Leonard Fournette: 3.3 yards\",\"Doug Martin: 4.2 yards\",\"Wendell Smallwood: 4.18 yards\",\"Theo Riddick: 4.28 yards\",\"Jamaal Williams: 3.83 yards\",\"Alex Collins: 3.61 yards\",\"Frank Gore: 4.63 yards\",\"Royce Freeman: 4.01 yards\",\"Damien Williams: 5.12 yards\",\"Carlos Hyde: 3.32 yards\",\"Ito Smith: 3.5 yards\",\"Alfred Blue: 3.33 yards\",\"Giovani Bernard: 3.77 yards\",\"Chris Thompson: 4.14 yards\",\"Gus Edwards: 5.24 yards\",\"Jaylen Samuels: 4.57 yards\",\"Devontae Booker: 5.38 yards\",\"LeGarrette Blount: 2.71 yards\",\"Elijah McGuire: 3.0 yards\",\"Josh Adams: 4.26 yards\",\"Corey Clement: 3.81 yards\",\"Spencer Ware: 4.82 yards\",\"Marshawn Lynch: 4.18 yards\",\"Chris Ivory: 3.35 yards\",\"Ty Montgomery: 4.59 yards\",\"Rashaad Penny: 4.93 yards\",\"Alfred Morris: 3.86 yards\",\"C.J. Anderson: 6.01 yards\",\"Chase Edmonds: 3.47 yards\",\"Justin Jackson: 4.12 yards\",\"Bilal Powell: 4.29 yards\",\"Jordan Wilkins: 5.6 yards\",\"Zach Zenner: 4.82 yards\",\"Kenneth Dixon: 5.55 yards\",\"Rex Burkhead: 3.26 yards\",\"Wayne Gallman: 3.45 yards\",\"Jeff Wilson: 4.03 yards\",\"Jay Ajayi: 4.09 yards\",\"Malcolm Brown: 4.93 yards\",\"Raheem Mostert: 7.68 yards\",\"Marcus Murphy: 4.81 yards\",\"Kalen Ballage: 5.31 yards\",\"Christian McCaffrey: 4.83 yards\",\"Aaron Jones: 4.59 yards\",\"Ezekiel Elliott: 4.51 yards\",\"Austin Ekeler: 4.22 yards\",\"Derrick Henry: 5.08 yards\",\"Dalvin Cook: 4.54 yards\",\"Leonard Fournette: 4.35 yards\",\"Nick Chubb: 5.01 yards\",\"Alvin Kamara: 4.66 yards\",\"Saquon Barkley: 4.62 yards\",\"Mark Ingram: 5.04 yards\",\"Chris Carson: 4.42 yards\",\"Joe Mixon: 4.09 yards\",\"Todd Gurley: 3.84 yards\",\"Miles Sanders: 4.57 yards\",\"Le'Veon Bell: 3.22 yards\",\"Kenyan Drake: 4.81 yards\",\"James White: 3.93 yards\",\"Phillip Lindsay: 4.51 yards\",\"Devonta Freeman: 3.57 yards\",\"Josh Jacobs: 4.75 yards\",\"Marlon Mack: 4.42 yards\",\"Melvin Gordon: 3.78 yards\",\"David Montgomery: 3.67 yards\",\"Ronald Jones II: 4.21 yards\",\"Raheem Mostert: 5.64 yards\",\"Tarik Cohen: 3.33 yards\",\"Latavius Murray: 4.36 yards\",\"Duke Johnson: 4.94 yards\",\"Carlos Hyde: 4.37 yards\",\"Sony Michel: 3.69 yards\",\"Devin Singletary: 5.13 yards\",\"Adrian Peterson: 4.26 yards\",\"Jamaal Williams: 4.3 yards\",\"James Conner: 4.0 yards\",\"Royce Freeman: 3.76 yards\",\"David Johnson: 3.67 yards\",\"Damien Williams: 4.49 yards\",\"Tevin Coleman: 3.97 yards\",\"DeAndre Washington: 3.58 yards\",\"LeSean McCoy: 4.6 yards\",\"Nyheim Hines: 3.83 yards\",\"Peyton Barber: 3.05 yards\",\"Jordan Howard: 4.41 yards\",\"Jaylen Samuels: 2.65 yards\",\"Matt Breida: 5.07 yards\",\"Kareem Hunt: 4.16 yards\",\"Rex Burkhead: 4.65 yards\",\"Boston Scott: 4.02 yards\",\"Frank Gore: 3.61 yards\",\"Gus Edwards: 5.35 yards\",\"Tony Pollard: 5.29 yards\",\"Kerryon Johnson: 3.57 yards\",\"J.D. McKissic: 5.39 yards\",\"Chase Edmonds: 5.05 yards\",\"Rashaad Penny: 5.69 yards\",\"Giovani Bernard: 3.21 yards\",\"Alexander Mattison: 4.62 yards\",\"Patrick Laird: 2.71 yards\",\"Brian Hill: 4.14 yards\",\"Dion Lewis: 3.87 yards\",\"Ty Johnson: 4.33 yards\",\"Malcolm Brown: 3.7 yards\",\"Benny Snell Jr.: 3.94 yards\",\"Derrius Guice: 5.83 yards\",\"Jordan Wilkins: 6.02 yards\",\"Mike Boone: 5.57 yards\",\"Justice Hill: 3.88 yards\",\"Bo Scarbrough: 4.24 yards\",\"Mark Walton: 3.79 yards\",\"Jonathan Williams: 4.8 yards\",\"Bilal Powell: 3.88 yards\",\"Justin Jackson: 6.9 yards\",\"Alvin Kamara: 4.98 yards\",\"Dalvin Cook: 4.99 yards\",\"Derrick Henry: 5.36 yards\",\"David Montgomery: 4.33 yards\",\"Aaron Jones: 5.49 yards\",\"Jonathan Taylor: 5.04 yards\",\"James Robinson: 4.46 yards\",\"Josh Jacobs: 3.9 yards\",\"Ezekiel Elliott: 4.01 yards\",\"Kareem Hunt: 4.25 yards\",\"Nick Chubb: 5.62 yards\",\"Mike Davis: 3.89 yards\",\"Antonio Gibson: 4.68 yards\",\"Melvin Gordon: 4.59 yards\",\"Nyheim Hines: 4.27 yards\",\"Kenyan Drake: 4.0 yards\",\"J.D. McKissic: 4.29 yards\",\"D'Andre Swift: 4.57 yards\",\"Chris Carson: 4.83 yards\",\"Ronald Jones II: 5.09 yards\",\"David Johnson: 4.7 yards\",\"Clyde Edwards-Helaire: 4.44 yards\",\"Miles Sanders: 5.29 yards\",\"J.K. Dobbins: 6.01 yards\",\"Chase Edmonds: 4.62 yards\",\"Austin Ekeler: 4.57 yards\",\"James Conner: 4.27 yards\",\"Myles Gaskin: 4.11 yards\",\"Todd Gurley: 3.48 yards\",\"Giovani Bernard: 3.35 yards\",\"Devin Singletary: 4.4 yards\",\"Jeff Wilson: 4.76 yards\",\"Wayne Gallman: 4.64 yards\",\"Latavius Murray: 4.49 yards\",\"Leonard Fournette: 3.78 yards\",\"Darrell Henderson: 4.52 yards\",\"Gus Edwards: 5.02 yards\",\"Jamaal Williams: 4.24 yards\",\"Jerick McKinnon: 3.94 yards\",\"Adrian Peterson: 3.87 yards\",\"Tony Pollard: 4.31 yards\",\"Malcolm Brown: 4.15 yards\",\"Rex Burkhead: 4.09 yards\",\"Cam Akers: 4.31 yards\",\"Zack Moss: 4.29 yards\",\"Frank Gore: 3.49 yards\",\"Raheem Mostert: 5.01 yards\",\"Joe Mixon: 3.6 yards\",\"Boston Scott: 4.68 yards\",\"Brian Hill: 4.65 yards\",\"Kalen Ballage: 3.33 yards\",\"Damien Harris: 5.04 yards\",\"Christian McCaffrey: 3.81 yards\",\"Alexander Mattison: 4.52 yards\",\"Devontae Booker: 4.55 yards\",\"Carlos Hyde: 4.4 yards\",\"Duke Johnson: 3.05 yards\",\"Joshua Kelley: 3.19 yards\",\"Sony Michel: 5.68 yards\",\"Benny Snell Jr.: 3.32 yards\",\"Le'Veon Bell: 4.0 yards\",\"Kerryon Johnson: 3.48 yards\",\"Salvon Ahmed: 4.25 yards\",\"Phillip Lindsay: 4.25 yards\",\"Samaje Perine: 4.78 yards\",\"Justin Jackson: 4.58 yards\",\"Ty Johnson: 4.7 yards\",\"Jordan Wilkins: 3.67 yards\",\"Ito Smith: 4.25 yards\",\"Peyton Barber: 2.74 yards\",\"Darrel Williams: 4.33 yards\",\"Mark Ingram: 4.15 yards\",\"La'Mical Perine: 3.63 yards\",\"Jeremy McNichols: 4.34 yards\",\"Matt Breida: 4.31 yards\",\"Alfred Morris: 4.33 yards\",\"AJ Dillon: 5.26 yards\",\"Royce Freeman: 4.86 yards\",\"Devonta Freeman: 3.19 yards\",\"D'Ernest Johnson: 5.03 yards\",\"Jonathan Taylor: 5.45 yards\",\"Austin Ekeler: 4.42 yards\",\"Najee Harris: 3.91 yards\",\"Joe Mixon: 4.13 yards\",\"James Conner: 3.72 yards\",\"Leonard Fournette: 4.51 yards\",\"Ezekiel Elliott: 4.23 yards\",\"Alvin Kamara: 3.74 yards\",\"Cordarrelle Patterson: 4.04 yards\",\"Antonio Gibson: 4.02 yards\",\"Aaron Jones: 4.67 yards\",\"Josh Jacobs: 4.02 yards\",\"Nick Chubb: 5.52 yards\",\"Damien Harris: 4.6 yards\",\"D'Andre Swift: 4.09 yards\",\"Dalvin Cook: 4.65 yards\",\"Javonte Williams: 4.45 yards\",\"Devin Singletary: 4.63 yards\",\"Darrel Williams: 3.88 yards\",\"Melvin Gordon: 4.52 yards\",\"David Montgomery: 3.77 yards\",\"Derrick Henry: 4.28 yards\",\"AJ Dillon: 4.29 yards\",\"James Robinson: 4.68 yards\",\"Myles Gaskin: 3.54 yards\",\"Elijah Mitchell: 4.65 yards\",\"Darrell Henderson: 4.62 yards\",\"Tony Pollard: 5.53 yards\",\"Michael Carter: 4.35 yards\",\"Saquon Barkley: 3.66 yards\",\"Devonta Freeman: 4.33 yards\",\"Sony Michel: 4.06 yards\",\"Devontae Booker: 4.09 yards\",\"Chase Edmonds: 5.1 yards\",\"Mike Davis: 3.64 yards\",\"Chuba Hubbard: 3.56 yards\",\"J.D. McKissic: 4.42 yards\",\"Christian McCaffrey: 4.46 yards\",\"Alexander Mattison: 3.66 yards\",\"Brandon Bolden: 5.14 yards\",\"Kenneth Gainwell: 4.28 yards\",\"Rashaad Penny: 6.29 yards\",\"Jamaal Williams: 3.93 yards\",\"Clyde Edwards-Helaire: 4.34 yards\",\"Miles Sanders: 5.5 yards\",\"Ty Johnson: 3.9 yards\",\"Rhamondre Stevenson: 4.56 yards\",\"Nyheim Hines: 4.93 yards\",\"Kareem Hunt: 4.95 yards\",\"Mark Ingram: 3.46 yards\",\"Zack Moss: 3.59 yards\",\"Rex Burkhead: 3.5 yards\",\"D'Ernest Johnson: 5.34 yards\",\"Latavius Murray: 4.21 yards\",\"Kenyan Drake: 4.03 yards\",\"Boston Scott: 4.29 yards\",\"D'Onta Foreman: 4.26 yards\",\"Ameer Abdullah: 3.25 yards\",\"Justin Jackson: 5.35 yards\",\"Samaje Perine: 4.47 yards\",\"David Johnson: 3.4 yards\",\"Ronald Jones II: 4.24 yards\",\"Khalil Herbert: 4.2 yards\",\"Dontrell Hilliard: 6.25 yards\",\"Alex Collins: 3.81 yards\",\"Jordan Howard: 4.72 yards\",\"Travis Homer: 8.43 yards\",\"Damien Williams: 4.1 yards\",\"Duke Johnson: 4.65 yards\",\"Derrick Gore: 5.02 yards\",\"Jaret Patterson: 3.91 yards\",\"Jeff Wilson: 3.72 yards\",\"Tevin Coleman: 4.24 yards\",\"Peyton Barber: 3.85 yards\",\"Chris Carson: 4.3 yards\",\"Carlos Hyde: 3.51 yards\",\"Phillip Lindsay: 2.83 yards\",\"Ty'Son Williams: 5.29 yards\",\"Ke'Shawn Vaughn: 5.0 yards\",\"Craig Reynolds: 4.18 yards\",\"Royce Freeman: 3.02 yards\",\"Trey Sermon: 4.07 yards\"],\"x\":[4.68,4.02,6.07,4.88,3.89,4.89,3.97,3.91,3.88,3.72,4.24,4.06,4.98,4.41,4.07,3.73,3.8,4.11,3.68,3.58,4.59,4.03,3.86,4.3,3.9,3.4,4.36,4.59,4.25,4.34,4.14,3.63,4.84,3.52,4.39,4.2,4.23,3.98,4.13,3.35,3.7,3.43,3.45,4.43,5.53,4.29,4.43,3.85,4.22,4.34,3.85,3.78,5.16,4.91,3.92,3.41,3.64,5.53,3.39,3.58,2.94,4.76,3.68,3.55,4.29,4.78,3.93,4.19,3.53,3.74,3.81,3.7,3.9,3.69,3.13,8.27,4.24,3.93,2.59,5.01,5.01,4.89,4.55,4.72,4.53,4.52,5.06,3.64,4.93,4.48,4.55,5.4,4.46,4.93,4.66,5.19,4.79,4.15,3.74,4.66,3.98,4.63,5.47,5.23,5.32,3.69,3.34,4.71,4.62,3.72,4.67,4.79,5.43,4.45,4.59,5.03,4.13,3.19,3.3,4.2,4.18,4.28,3.83,3.61,4.63,4.01,5.12,3.32,3.5,3.33,3.77,4.14,5.24,4.57,5.38,2.71,3.0,4.26,3.81,4.82,4.18,3.35,4.59,4.93,3.86,6.01,3.47,4.12,4.29,5.6,4.82,5.55,3.26,3.45,4.03,4.09,4.93,7.68,4.81,5.31,4.83,4.59,4.51,4.22,5.08,4.54,4.35,5.01,4.66,4.62,5.04,4.42,4.09,3.84,4.57,3.22,4.81,3.93,4.51,3.57,4.75,4.42,3.78,3.67,4.21,5.64,3.33,4.36,4.94,4.37,3.69,5.13,4.26,4.3,4.0,3.76,3.67,4.49,3.97,3.58,4.6,3.83,3.05,4.41,2.65,5.07,4.16,4.65,4.02,3.61,5.35,5.29,3.57,5.39,5.05,5.69,3.21,4.62,2.71,4.14,3.87,4.33,3.7,3.94,5.83,6.02,5.57,3.88,4.24,3.79,4.8,3.88,6.9,4.98,4.99,5.36,4.33,5.49,5.04,4.46,3.9,4.01,4.25,5.62,3.89,4.68,4.59,4.27,4.0,4.29,4.57,4.83,5.09,4.7,4.44,5.29,6.01,4.62,4.57,4.27,4.11,3.48,3.35,4.4,4.76,4.64,4.49,3.78,4.52,5.02,4.24,3.94,3.87,4.31,4.15,4.09,4.31,4.29,3.49,5.01,3.6,4.68,4.65,3.33,5.04,3.81,4.52,4.55,4.4,3.05,3.19,5.68,3.32,4.0,3.48,4.25,4.25,4.78,4.58,4.7,3.67,4.25,2.74,4.33,4.15,3.63,4.34,4.31,4.33,5.26,4.86,3.19,5.03,5.45,4.42,3.91,4.13,3.72,4.51,4.23,3.74,4.04,4.02,4.67,4.02,5.52,4.6,4.09,4.65,4.45,4.63,3.88,4.52,3.77,4.28,4.29,4.68,3.54,4.65,4.62,5.53,4.35,3.66,4.33,4.06,4.09,5.1,3.64,3.56,4.42,4.46,3.66,5.14,4.28,6.29,3.93,4.34,5.5,3.9,4.56,4.93,4.95,3.46,3.59,3.5,5.34,4.21,4.03,4.29,4.26,3.25,5.35,4.47,3.4,4.24,4.2,6.25,3.81,4.72,8.43,4.1,4.65,5.02,3.91,3.72,4.24,3.85,4.3,3.51,2.83,5.29,5.0,4.18,3.02,4.07],\"y\":[383.3,341.6,320.4,295.2,288.1,278.0,263.6,233.8,230.2,228.6,216.1,203.2,203.0,200.2,199.7,193.5,178.1,175.1,173.6,171.5,171.0,167.7,166.1,164.2,157.5,154.0,151.7,151.4,150.1,145.2,143.5,142.8,142.3,141.3,137.7,135.1,135.0,134.0,129.8,124.4,120.4,117.2,108.5,107.6,106.9,104.9,103.5,103.3,92.4,92.4,91.6,91.4,87.7,86.1,85.7,84.7,83.7,80.0,78.9,76.2,76.0,72.2,68.8,67.9,67.5,65.4,59.6,57.0,52.1,50.5,46.8,46.7,44.9,44.6,43.2,41.9,39.7,31.9,28.6,385.8,385.5,372.1,354.2,329.1,280.0,276.6,275.5,246.6,243.4,233.9,230.2,222.8,206.2,201.4,201.4,194.5,193.6,189.0,180.0,178.1,173.1,172.6,171.4,168.8,162.5,160.9,160.7,156.6,152.0,150.3,142.5,140.7,139.4,139.1,136.8,132.0,131.9,127.2,120.4,119.9,117.4,116.5,114.4,108.6,102.6,101.3,98.6,98.4,97.7,97.3,95.9,91.6,89.8,89.5,87.8,86.5,85.9,81.9,81.1,79.0,79.0,78.0,71.3,70.4,68.1,67.4,63.1,61.1,60.3,60.1,57.1,54.4,49.7,44.5,44.4,43.4,39.4,38.6,38.6,37.7,471.2,314.8,311.7,309.0,294.6,292.4,259.4,255.2,248.5,244.1,242.5,232.6,225.4,219.4,218.7,215.0,214.2,200.2,197.7,197.6,191.6,181.3,180.8,170.4,166.3,165.2,163.9,157.2,154.0,153.2,152.6,147.9,147.0,146.3,145.5,142.2,141.5,141.1,135.4,121.9,118.6,117.9,116.5,111.4,104.4,103.3,101.4,101.1,96.9,94.9,92.6,89.2,85.0,83.8,82.8,75.3,68.4,68.4,68.2,67.2,66.3,60.2,59.1,57.9,57.4,54.0,50.0,49.5,43.2,42.0,40.4,33.2,31.2,377.8,337.8,333.1,264.8,258.9,252.8,250.4,231.3,223.7,218.5,207.7,206.5,202.2,198.4,193.2,192.2,191.4,189.8,187.8,186.3,179.5,176.0,170.4,168.5,168.0,165.3,164.6,164.2,163.2,158.1,143.6,142.3,136.6,136.2,132.0,130.3,128.2,127.1,126.2,124.5,120.8,109.1,107.6,101.8,101.6,100.2,99.7,99.6,95.6,95.4,93.9,91.3,90.4,86.9,85.7,84.9,84.4,81.2,75.3,74.9,74.6,71.8,69.0,66.0,65.7,65.3,63.3,61.3,57.3,55.0,54.5,52.9,52.5,43.9,42.0,40.7,40.3,37.1,36.0,21.0,373.1,343.8,300.7,287.9,257.7,255.6,252.1,234.7,234.6,229.1,229.0,226.0,215.3,210.1,208.9,206.3,204.9,197.8,196.0,195.1,195.0,193.3,185.6,173.9,173.6,165.0,163.4,162.6,154.4,148.6,146.6,146.3,144.1,143.3,138.2,137.6,127.9,127.5,125.9,124.1,123.4,121.7,119.8,117.6,117.2,117.0,114.9,112.6,110.0,108.6,105.2,104.3,104.1,103.6,102.5,98.6,93.9,89.5,86.2,83.2,81.3,79.2,78.9,72.7,68.8,62.5,61.8,60.7,59.1,56.1,55.9,51.5,51.5,49.9,48.1,45.8,45.4,41.9,36.6,35.2,34.6,28.3],\"type\":\"scatter\"}],                        {\"template\":{\"data\":{\"histogram2dcontour\":[{\"type\":\"histogram2dcontour\",\"colorbar\":{\"outlinewidth\":0,\"ticks\":\"\"},\"colorscale\":[[0.0,\"#0d0887\"],[0.1111111111111111,\"#46039f\"],[0.2222222222222222,\"#7201a8\"],[0.3333333333333333,\"#9c179e\"],[0.4444444444444444,\"#bd3786\"],[0.5555555555555556,\"#d8576b\"],[0.6666666666666666,\"#ed7953\"],[0.7777777777777778,\"#fb9f3a\"],[0.8888888888888888,\"#fdca26\"],[1.0,\"#f0f921\"]]}],\"choropleth\":[{\"type\":\"choropleth\",\"colorbar\":{\"outlinewidth\":0,\"ticks\":\"\"}}],\"histogram2d\":[{\"type\":\"histogram2d\",\"colorbar\":{\"outlinewidth\":0,\"ticks\":\"\"},\"colorscale\":[[0.0,\"#0d0887\"],[0.1111111111111111,\"#46039f\"],[0.2222222222222222,\"#7201a8\"],[0.3333333333333333,\"#9c179e\"],[0.4444444444444444,\"#bd3786\"],[0.5555555555555556,\"#d8576b\"],[0.6666666666666666,\"#ed7953\"],[0.7777777777777778,\"#fb9f3a\"],[0.8888888888888888,\"#fdca26\"],[1.0,\"#f0f921\"]]}],\"heatmap\":[{\"type\":\"heatmap\",\"colorbar\":{\"outlinewidth\":0,\"ticks\":\"\"},\"colorscale\":[[0.0,\"#0d0887\"],[0.1111111111111111,\"#46039f\"],[0.2222222222222222,\"#7201a8\"],[0.3333333333333333,\"#9c179e\"],[0.4444444444444444,\"#bd3786\"],[0.5555555555555556,\"#d8576b\"],[0.6666666666666666,\"#ed7953\"],[0.7777777777777778,\"#fb9f3a\"],[0.8888888888888888,\"#fdca26\"],[1.0,\"#f0f921\"]]}],\"heatmapgl\":[{\"type\":\"heatmapgl\",\"colorbar\":{\"outlinewidth\":0,\"ticks\":\"\"},\"colorscale\":[[0.0,\"#0d0887\"],[0.1111111111111111,\"#46039f\"],[0.2222222222222222,\"#7201a8\"],[0.3333333333333333,\"#9c179e\"],[0.4444444444444444,\"#bd3786\"],[0.5555555555555556,\"#d8576b\"],[0.6666666666666666,\"#ed7953\"],[0.7777777777777778,\"#fb9f3a\"],[0.8888888888888888,\"#fdca26\"],[1.0,\"#f0f921\"]]}],\"contourcarpet\":[{\"type\":\"contourcarpet\",\"colorbar\":{\"outlinewidth\":0,\"ticks\":\"\"}}],\"contour\":[{\"type\":\"contour\",\"colorbar\":{\"outlinewidth\":0,\"ticks\":\"\"},\"colorscale\":[[0.0,\"#0d0887\"],[0.1111111111111111,\"#46039f\"],[0.2222222222222222,\"#7201a8\"],[0.3333333333333333,\"#9c179e\"],[0.4444444444444444,\"#bd3786\"],[0.5555555555555556,\"#d8576b\"],[0.6666666666666666,\"#ed7953\"],[0.7777777777777778,\"#fb9f3a\"],[0.8888888888888888,\"#fdca26\"],[1.0,\"#f0f921\"]]}],\"surface\":[{\"type\":\"surface\",\"colorbar\":{\"outlinewidth\":0,\"ticks\":\"\"},\"colorscale\":[[0.0,\"#0d0887\"],[0.1111111111111111,\"#46039f\"],[0.2222222222222222,\"#7201a8\"],[0.3333333333333333,\"#9c179e\"],[0.4444444444444444,\"#bd3786\"],[0.5555555555555556,\"#d8576b\"],[0.6666666666666666,\"#ed7953\"],[0.7777777777777778,\"#fb9f3a\"],[0.8888888888888888,\"#fdca26\"],[1.0,\"#f0f921\"]]}],\"mesh3d\":[{\"type\":\"mesh3d\",\"colorbar\":{\"outlinewidth\":0,\"ticks\":\"\"}}],\"scatter\":[{\"fillpattern\":{\"fillmode\":\"overlay\",\"size\":10,\"solidity\":0.2},\"type\":\"scatter\"}],\"parcoords\":[{\"type\":\"parcoords\",\"line\":{\"colorbar\":{\"outlinewidth\":0,\"ticks\":\"\"}}}],\"scatterpolargl\":[{\"type\":\"scatterpolargl\",\"marker\":{\"colorbar\":{\"outlinewidth\":0,\"ticks\":\"\"}}}],\"bar\":[{\"error_x\":{\"color\":\"#2a3f5f\"},\"error_y\":{\"color\":\"#2a3f5f\"},\"marker\":{\"line\":{\"color\":\"#E5ECF6\",\"width\":0.5},\"pattern\":{\"fillmode\":\"overlay\",\"size\":10,\"solidity\":0.2}},\"type\":\"bar\"}],\"scattergeo\":[{\"type\":\"scattergeo\",\"marker\":{\"colorbar\":{\"outlinewidth\":0,\"ticks\":\"\"}}}],\"scatterpolar\":[{\"type\":\"scatterpolar\",\"marker\":{\"colorbar\":{\"outlinewidth\":0,\"ticks\":\"\"}}}],\"histogram\":[{\"marker\":{\"pattern\":{\"fillmode\":\"overlay\",\"size\":10,\"solidity\":0.2}},\"type\":\"histogram\"}],\"scattergl\":[{\"type\":\"scattergl\",\"marker\":{\"colorbar\":{\"outlinewidth\":0,\"ticks\":\"\"}}}],\"scatter3d\":[{\"type\":\"scatter3d\",\"line\":{\"colorbar\":{\"outlinewidth\":0,\"ticks\":\"\"}},\"marker\":{\"colorbar\":{\"outlinewidth\":0,\"ticks\":\"\"}}}],\"scattermapbox\":[{\"type\":\"scattermapbox\",\"marker\":{\"colorbar\":{\"outlinewidth\":0,\"ticks\":\"\"}}}],\"scatterternary\":[{\"type\":\"scatterternary\",\"marker\":{\"colorbar\":{\"outlinewidth\":0,\"ticks\":\"\"}}}],\"scattercarpet\":[{\"type\":\"scattercarpet\",\"marker\":{\"colorbar\":{\"outlinewidth\":0,\"ticks\":\"\"}}}],\"carpet\":[{\"aaxis\":{\"endlinecolor\":\"#2a3f5f\",\"gridcolor\":\"white\",\"linecolor\":\"white\",\"minorgridcolor\":\"white\",\"startlinecolor\":\"#2a3f5f\"},\"baxis\":{\"endlinecolor\":\"#2a3f5f\",\"gridcolor\":\"white\",\"linecolor\":\"white\",\"minorgridcolor\":\"white\",\"startlinecolor\":\"#2a3f5f\"},\"type\":\"carpet\"}],\"table\":[{\"cells\":{\"fill\":{\"color\":\"#EBF0F8\"},\"line\":{\"color\":\"white\"}},\"header\":{\"fill\":{\"color\":\"#C8D4E3\"},\"line\":{\"color\":\"white\"}},\"type\":\"table\"}],\"barpolar\":[{\"marker\":{\"line\":{\"color\":\"#E5ECF6\",\"width\":0.5},\"pattern\":{\"fillmode\":\"overlay\",\"size\":10,\"solidity\":0.2}},\"type\":\"barpolar\"}],\"pie\":[{\"automargin\":true,\"type\":\"pie\"}]},\"layout\":{\"autotypenumbers\":\"strict\",\"colorway\":[\"#636efa\",\"#EF553B\",\"#00cc96\",\"#ab63fa\",\"#FFA15A\",\"#19d3f3\",\"#FF6692\",\"#B6E880\",\"#FF97FF\",\"#FECB52\"],\"font\":{\"color\":\"#2a3f5f\"},\"hovermode\":\"closest\",\"hoverlabel\":{\"align\":\"left\"},\"paper_bgcolor\":\"white\",\"plot_bgcolor\":\"#E5ECF6\",\"polar\":{\"bgcolor\":\"#E5ECF6\",\"angularaxis\":{\"gridcolor\":\"white\",\"linecolor\":\"white\",\"ticks\":\"\"},\"radialaxis\":{\"gridcolor\":\"white\",\"linecolor\":\"white\",\"ticks\":\"\"}},\"ternary\":{\"bgcolor\":\"#E5ECF6\",\"aaxis\":{\"gridcolor\":\"white\",\"linecolor\":\"white\",\"ticks\":\"\"},\"baxis\":{\"gridcolor\":\"white\",\"linecolor\":\"white\",\"ticks\":\"\"},\"caxis\":{\"gridcolor\":\"white\",\"linecolor\":\"white\",\"ticks\":\"\"}},\"coloraxis\":{\"colorbar\":{\"outlinewidth\":0,\"ticks\":\"\"}},\"colorscale\":{\"sequential\":[[0.0,\"#0d0887\"],[0.1111111111111111,\"#46039f\"],[0.2222222222222222,\"#7201a8\"],[0.3333333333333333,\"#9c179e\"],[0.4444444444444444,\"#bd3786\"],[0.5555555555555556,\"#d8576b\"],[0.6666666666666666,\"#ed7953\"],[0.7777777777777778,\"#fb9f3a\"],[0.8888888888888888,\"#fdca26\"],[1.0,\"#f0f921\"]],\"sequentialminus\":[[0.0,\"#0d0887\"],[0.1111111111111111,\"#46039f\"],[0.2222222222222222,\"#7201a8\"],[0.3333333333333333,\"#9c179e\"],[0.4444444444444444,\"#bd3786\"],[0.5555555555555556,\"#d8576b\"],[0.6666666666666666,\"#ed7953\"],[0.7777777777777778,\"#fb9f3a\"],[0.8888888888888888,\"#fdca26\"],[1.0,\"#f0f921\"]],\"diverging\":[[0,\"#8e0152\"],[0.1,\"#c51b7d\"],[0.2,\"#de77ae\"],[0.3,\"#f1b6da\"],[0.4,\"#fde0ef\"],[0.5,\"#f7f7f7\"],[0.6,\"#e6f5d0\"],[0.7,\"#b8e186\"],[0.8,\"#7fbc41\"],[0.9,\"#4d9221\"],[1,\"#276419\"]]},\"xaxis\":{\"gridcolor\":\"white\",\"linecolor\":\"white\",\"ticks\":\"\",\"title\":{\"standoff\":15},\"zerolinecolor\":\"white\",\"automargin\":true,\"zerolinewidth\":2},\"yaxis\":{\"gridcolor\":\"white\",\"linecolor\":\"white\",\"ticks\":\"\",\"title\":{\"standoff\":15},\"zerolinecolor\":\"white\",\"automargin\":true,\"zerolinewidth\":2},\"scene\":{\"xaxis\":{\"backgroundcolor\":\"#E5ECF6\",\"gridcolor\":\"white\",\"linecolor\":\"white\",\"showbackground\":true,\"ticks\":\"\",\"zerolinecolor\":\"white\",\"gridwidth\":2},\"yaxis\":{\"backgroundcolor\":\"#E5ECF6\",\"gridcolor\":\"white\",\"linecolor\":\"white\",\"showbackground\":true,\"ticks\":\"\",\"zerolinecolor\":\"white\",\"gridwidth\":2},\"zaxis\":{\"backgroundcolor\":\"#E5ECF6\",\"gridcolor\":\"white\",\"linecolor\":\"white\",\"showbackground\":true,\"ticks\":\"\",\"zerolinecolor\":\"white\",\"gridwidth\":2}},\"shapedefaults\":{\"line\":{\"color\":\"#2a3f5f\"}},\"annotationdefaults\":{\"arrowcolor\":\"#2a3f5f\",\"arrowhead\":0,\"arrowwidth\":1},\"geo\":{\"bgcolor\":\"white\",\"landcolor\":\"#E5ECF6\",\"subunitcolor\":\"white\",\"showland\":true,\"showlakes\":true,\"lakecolor\":\"white\"},\"title\":{\"x\":0.05},\"mapbox\":{\"style\":\"light\"}}},\"title\":{\"text\":\"Scatter Plot of Yards per Rush Attempt vs Fantasy Points\"},\"xaxis\":{\"title\":{\"text\":\"Yards per Rush Attempt\"}},\"yaxis\":{\"title\":{\"text\":\"Fantasy Points\"}}},                        {\"responsive\": true}                    ).then(function(){\n",
              "                            \n",
              "var gd = document.getElementById('9ec45720-ca32-42a5-a2a5-d682bb8dbfc9');\n",
              "var x = new MutationObserver(function (mutations, observer) {{\n",
              "        var display = window.getComputedStyle(gd).display;\n",
              "        if (!display || display === 'none') {{\n",
              "            console.log([gd, 'removed!']);\n",
              "            Plotly.purge(gd);\n",
              "            observer.disconnect();\n",
              "        }}\n",
              "}});\n",
              "\n",
              "// Listen for the removal of the full notebook cells\n",
              "var notebookContainer = gd.closest('#notebook-container');\n",
              "if (notebookContainer) {{\n",
              "    x.observe(notebookContainer, {childList: true});\n",
              "}}\n",
              "\n",
              "// Listen for the clearing of the current output cell\n",
              "var outputEl = gd.closest('.output');\n",
              "if (outputEl) {{\n",
              "    x.observe(outputEl, {childList: true});\n",
              "}}\n",
              "\n",
              "                        })                };                            </script>        </div>\n",
              "</body>\n",
              "</html>"
            ]
          },
          "metadata": {}
        },
        {
          "output_type": "display_data",
          "data": {
            "text/plain": [
              "<IPython.core.display.Javascript object>"
            ],
            "application/javascript": [
              "\n",
              "    async function download(id, filename, size) {\n",
              "      if (!google.colab.kernel.accessAllowed) {\n",
              "        return;\n",
              "      }\n",
              "      const div = document.createElement('div');\n",
              "      const label = document.createElement('label');\n",
              "      label.textContent = `Downloading \"${filename}\": `;\n",
              "      div.appendChild(label);\n",
              "      const progress = document.createElement('progress');\n",
              "      progress.max = size;\n",
              "      div.appendChild(progress);\n",
              "      document.body.appendChild(div);\n",
              "\n",
              "      const buffers = [];\n",
              "      let downloaded = 0;\n",
              "\n",
              "      const channel = await google.colab.kernel.comms.open(id);\n",
              "      // Send a message to notify the kernel that we're ready.\n",
              "      channel.send({})\n",
              "\n",
              "      for await (const message of channel.messages) {\n",
              "        // Send a message to notify the kernel that we're ready.\n",
              "        channel.send({})\n",
              "        if (message.buffers) {\n",
              "          for (const buffer of message.buffers) {\n",
              "            buffers.push(buffer);\n",
              "            downloaded += buffer.byteLength;\n",
              "            progress.value = downloaded;\n",
              "          }\n",
              "        }\n",
              "      }\n",
              "      const blob = new Blob(buffers, {type: 'application/binary'});\n",
              "      const a = document.createElement('a');\n",
              "      a.href = window.URL.createObjectURL(blob);\n",
              "      a.download = filename;\n",
              "      div.appendChild(a);\n",
              "      a.click();\n",
              "      div.remove();\n",
              "    }\n",
              "  "
            ]
          },
          "metadata": {}
        },
        {
          "output_type": "display_data",
          "data": {
            "text/plain": [
              "<IPython.core.display.Javascript object>"
            ],
            "application/javascript": [
              "download(\"download_5301b592-78ea-4f90-b051-929629fc48da\", \"Scatter_YA_PPR.html\", 4581921)"
            ]
          },
          "metadata": {}
        }
      ]
    },
    {
      "cell_type": "markdown",
      "source": [
        "Analysis of Running Back data from 2017-2021, looking at the specifc metric of Rushing Yards per Touchdown."
      ],
      "metadata": {
        "id": "DUEfCL_01w9k"
      }
    },
    {
      "cell_type": "code",
      "source": [
        "cleaned_rbData2017_2021 = filtered_rbData2017_2021[filtered_rbData2017_2021['RushTD'] > 0]\n",
        "cleaned_rbData2017_2021 = cleaned_rbData2017_2021.dropna(subset=['RushYds/TD'])"
      ],
      "metadata": {
        "id": "tRKIJMlG15Lu"
      },
      "execution_count": 29,
      "outputs": []
    },
    {
      "cell_type": "markdown",
      "source": [
        "We will use statistical code to compute the relationship between the running back specific metric of Rushing yards per touchdown with PPR."
      ],
      "metadata": {
        "id": "8VmjfxIYZxYQ"
      }
    },
    {
      "cell_type": "code",
      "source": [
        "correlation, _ = pearsonr(cleaned_rbData2017_2021['RushYds/TD'], cleaned_rbData2017_2021['PPR'] )\n",
        "\n",
        "print(f\"The correlation between Rushing Yards per Touchdown and PPR points is: {correlation:.2f}\")"
      ],
      "metadata": {
        "colab": {
          "base_uri": "https://localhost:8080/"
        },
        "id": "Fe8pamXX24sJ",
        "outputId": "5aad91ad-4449-4dbf-a890-203a942078c5"
      },
      "execution_count": 30,
      "outputs": [
        {
          "output_type": "stream",
          "name": "stdout",
          "text": [
            "The correlation between Rushing Yards per Touchdown and PPR points is: -0.18\n"
          ]
        }
      ]
    },
    {
      "cell_type": "markdown",
      "source": [
        "Scatter Plot displaying Rushing Yards per touchdown against Fantasy Points"
      ],
      "metadata": {
        "id": "13KCKj19Z4SL"
      }
    },
    {
      "cell_type": "code",
      "source": [
        "# Create the scatter plot\n",
        "fig = go.Figure(data=go.Scatter(\n",
        "    x=cleaned_rbData2017_2021['RushYds/TD'],  # X-axis data\n",
        "    y=filtered_rbData2017_2021['PPR'],  # Y-axis data\n",
        "    mode='markers',   # Marker mode for scatter plot\n",
        "    text=[f\"{player}: {recyds} yards\" for player, recyds in zip(cleaned_rbData2017_2021['Player'], cleaned_rbData2017_2021['RushYds/TD'])],\n",
        "    marker=dict(color='red', size=10)  # Customize markers\n",
        "))\n",
        "\n",
        "# Update layout\n",
        "fig.update_layout(\n",
        "    title='Scatter Plot of Rushing Yards per Touchdown vs Fantasy Points',\n",
        "    xaxis_title='Rushing Yards per Touchdown',\n",
        "    yaxis_title='Fantasy Points'\n",
        ")\n",
        "\n",
        "# Show the plot\n",
        "fig.show()\n",
        "\n",
        "fig.write_html(\"Scatter_YardsRushingTouchdown_PPR.html\")\n",
        "from google.colab import files\n",
        "files.download('Scatter_YardsRushingTouchdown_PPR.html')"
      ],
      "metadata": {
        "colab": {
          "base_uri": "https://localhost:8080/",
          "height": 542
        },
        "id": "YmeoiOZL2YqQ",
        "outputId": "af8eb2a2-f1ac-4213-e66a-cd641ede9971"
      },
      "execution_count": 31,
      "outputs": [
        {
          "output_type": "display_data",
          "data": {
            "text/html": [
              "<html>\n",
              "<head><meta charset=\"utf-8\" /></head>\n",
              "<body>\n",
              "    <div>            <script src=\"https://cdnjs.cloudflare.com/ajax/libs/mathjax/2.7.5/MathJax.js?config=TeX-AMS-MML_SVG\"></script><script type=\"text/javascript\">if (window.MathJax && window.MathJax.Hub && window.MathJax.Hub.Config) {window.MathJax.Hub.Config({SVG: {font: \"STIX-Web\"}});}</script>                <script type=\"text/javascript\">window.PlotlyConfig = {MathJaxConfig: 'local'};</script>\n",
              "        <script charset=\"utf-8\" src=\"https://cdn.plot.ly/plotly-2.35.2.min.js\"></script>                <div id=\"bcc80147-63ed-4d39-8ebd-7925f65a11d0\" class=\"plotly-graph-div\" style=\"height:525px; width:100%;\"></div>            <script type=\"text/javascript\">                                    window.PLOTLYENV=window.PLOTLYENV || {};                                    if (document.getElementById(\"bcc80147-63ed-4d39-8ebd-7925f65a11d0\")) {                    Plotly.newPlot(                        \"bcc80147-63ed-4d39-8ebd-7925f65a11d0\",                        [{\"marker\":{\"color\":\"red\",\"size\":10},\"mode\":\"markers\",\"text\":[\"Todd Gurley: 100.38461538461539 yards\",\"Le'Veon Bell: 143.44444444444446 yards\",\"Alvin Kamara: 91.0 yards\",\"Kareem Hunt: 165.875 yards\",\"Melvin Gordon: 138.125 yards\",\"Mark Ingram: 93.66666666666667 yards\",\"LeSean McCoy: 189.66666666666666 yards\",\"Carlos Hyde: 117.25 yards\",\"Leonard Fournette: 115.55555555555556 yards\",\"Christian McCaffrey: 217.5 yards\",\"Duke Johnson: 87.0 yards\",\"Ezekiel Elliott: 140.42857142857142 yards\",\"Dion Lewis: 149.33333333333334 yards\",\"Devonta Freeman: 123.57142857142857 yards\",\"Jordan Howard: 124.66666666666667 yards\",\"Lamar Miller: 296.0 yards\",\"Jerick McKinnon: 190.0 yards\",\"C.J. Anderson: 335.6666666666667 yards\",\"Frank Gore: 320.3333333333333 yards\",\"DeMarco Murray: 109.83333333333333 yards\",\"Alex Collins: 162.16666666666666 yards\",\"Tevin Coleman: 125.6 yards\",\"Javorius Allen: 147.75 yards\",\"Marshawn Lynch: 127.28571428571429 yards\",\"Latavius Murray: 105.25 yards\",\"Theo Riddick: 95.33333333333333 yards\",\"Giovani Bernard: 229.0 yards\",\"Chris Thompson: 147.0 yards\",\"Tarik Cohen: 185.0 yards\",\"Bilal Powell: 154.4 yards\",\"Isaiah Crowell: 426.5 yards\",\"Jamaal Williams: 139.0 yards\",\"Kenyan Drake: 214.66666666666666 yards\",\"Joe Mixon: 156.5 yards\",\"Orleans Darkwa: 150.2 yards\",\"Jay Ajayi: 873.0 yards\",\"Derrick Henry: 148.8 yards\",\"Rex Burkhead: 52.8 yards\",\"Ameer Abdullah: 138.0 yards\",\"Matt Forte: 190.5 yards\",\"Jonathan Stewart: 113.33333333333333 yards\",\"Samaje Perine: 603.0 yards\",\"LeGarrette Blount: 383.0 yards\",\"Austin Ekeler: 130.0 yards\",\"Matt Breida: 232.5 yards\",\"Marlon Mack: 119.33333333333333 yards\",\"Rod Smith: 58.0 yards\",\"Corey Clement: 80.25 yards\",\"Ty Montgomery: 91.0 yards\",\"Devontae Booker: 299.0 yards\",\"T.J. Yeldon: 126.5 yards\",\"Jalen Richard: 275.0 yards\",\"Peyton Barber: 141.0 yards\",\"Chris Ivory: 382.0 yards\",\"Aaron Jones: 112.0 yards\",\"Adrian Peterson: 264.5 yards\",\"Elijah McGuire: 315.0 yards\",\"Doug Martin: 135.33333333333334 yards\",\"Alfred Morris: 547.0 yards\",\"Mike Gillislee: 76.6 yards\",\"Kerwynn Williams: 426.0 yards\",\"Jamaal Charles: 296.0 yards\",\"Dalvin Cook: 177.0 yards\",\"D'Onta Foreman: 163.5 yards\",\"Mike Tolbert: 247.0 yards\",\"Jacquizz Rodgers: 244.0 yards\",\"Wendell Smallwood: 174.0 yards\",\"Malcolm Brown: 246.0 yards\",\"Alfred Blue: 262.0 yards\",\"Robert Kelley: 64.66666666666667 yards\",\"Corey Grant: 124.0 yards\",\"Tion Green: 82.5 yards\",\"Saquon Barkley: 118.81818181818181 yards\",\"Christian McCaffrey: 156.85714285714286 yards\",\"Todd Gurley: 73.58823529411765 yards\",\"Alvin Kamara: 63.07142857142857 yards\",\"Ezekiel Elliott: 239.0 yards\",\"James Conner: 81.08333333333333 yards\",\"James White: 85.0 yards\",\"Melvin Gordon: 88.5 yards\",\"David Johnson: 134.28571428571428 yards\",\"Joe Mixon: 146.0 yards\",\"Tarik Cohen: 148.0 yards\",\"Kareem Hunt: 117.71428571428571 yards\",\"Phillip Lindsay: 115.22222222222223 yards\",\"Kenyan Drake: 133.75 yards\",\"Derrick Henry: 88.25 yards\",\"Chris Carson: 127.88888888888889 yards\",\"Nick Chubb: 124.5 yards\",\"Tevin Coleman: 200.0 yards\",\"Adrian Peterson: 148.85714285714286 yards\",\"Jordan Howard: 103.88888888888889 yards\",\"Marlon Mack: 100.88888888888889 yards\",\"T.J. Yeldon: 414.0 yards\",\"Lamar Miller: 194.6 yards\",\"Aaron Jones: 91.0 yards\",\"Austin Ekeler: 184.66666666666666 yards\",\"Matt Breida: 271.3333333333333 yards\",\"Nyheim Hines: 157.0 yards\",\"Dion Lewis: 517.0 yards\",\"Jalen Richard: 259.0 yards\",\"Dalvin Cook: 307.5 yards\",\"Peyton Barber: 174.2 yards\",\"Mark Ingram: 107.5 yards\",\"Isaiah Crowell: 114.16666666666667 yards\",\"Kerryon Johnson: 213.66666666666666 yards\",\"Sony Michel: 155.16666666666666 yards\",\"Mike Davis: 128.5 yards\",\"Latavius Murray: 96.33333333333333 yards\",\"LeSean McCoy: 171.33333333333334 yards\",\"Leonard Fournette: 87.8 yards\",\"Doug Martin: 180.75 yards\",\"Wendell Smallwood: 121.33333333333333 yards\",\"Jamaal Williams: 154.66666666666666 yards\",\"Alex Collins: 58.714285714285715 yards\",\"Royce Freeman: 104.2 yards\",\"Damien Williams: 64.0 yards\",\"Carlos Hyde: 114.2 yards\",\"Ito Smith: 78.75 yards\",\"Alfred Blue: 249.5 yards\",\"Giovani Bernard: 70.33333333333333 yards\",\"Gus Edwards: 359.0 yards\",\"Devontae Booker: 183.0 yards\",\"LeGarrette Blount: 83.6 yards\",\"Elijah McGuire: 92.0 yards\",\"Josh Adams: 170.33333333333334 yards\",\"Corey Clement: 129.5 yards\",\"Spencer Ware: 123.0 yards\",\"Marshawn Lynch: 125.33333333333333 yards\",\"Chris Ivory: 385.0 yards\",\"Ty Montgomery: 188.0 yards\",\"Rashaad Penny: 209.5 yards\",\"Alfred Morris: 214.0 yards\",\"C.J. Anderson: 201.5 yards\",\"Chase Edmonds: 104.0 yards\",\"Justin Jackson: 103.0 yards\",\"Jordan Wilkins: 336.0 yards\",\"Zach Zenner: 88.33333333333333 yards\",\"Kenneth Dixon: 166.5 yards\",\"Wayne Gallman: 176.0 yards\",\"Jay Ajayi: 61.333333333333336 yards\",\"Raheem Mostert: 261.0 yards\",\"Kalen Ballage: 191.0 yards\",\"Christian McCaffrey: 92.46666666666667 yards\",\"Aaron Jones: 67.75 yards\",\"Ezekiel Elliott: 113.08333333333333 yards\",\"Austin Ekeler: 185.66666666666666 yards\",\"Derrick Henry: 96.25 yards\",\"Dalvin Cook: 87.3076923076923 yards\",\"Leonard Fournette: 384.0 yards\",\"Nick Chubb: 186.75 yards\",\"Alvin Kamara: 159.4 yards\",\"Saquon Barkley: 167.16666666666666 yards\",\"Mark Ingram: 101.8 yards\",\"Chris Carson: 175.71428571428572 yards\",\"Joe Mixon: 227.4 yards\",\"Todd Gurley: 71.41666666666667 yards\",\"Miles Sanders: 272.6666666666667 yards\",\"Le'Veon Bell: 263.0 yards\",\"Kenyan Drake: 102.125 yards\",\"James White: 263.0 yards\",\"Phillip Lindsay: 144.42857142857142 yards\",\"Devonta Freeman: 328.0 yards\",\"Josh Jacobs: 164.28571428571428 yards\",\"Marlon Mack: 136.375 yards\",\"Melvin Gordon: 76.5 yards\",\"David Montgomery: 148.16666666666666 yards\",\"Ronald Jones II: 120.66666666666667 yards\",\"Raheem Mostert: 96.5 yards\",\"Latavius Murray: 127.4 yards\",\"Duke Johnson: 205.0 yards\",\"Carlos Hyde: 178.33333333333334 yards\",\"Sony Michel: 130.28571428571428 yards\",\"Devin Singletary: 387.5 yards\",\"Adrian Peterson: 179.6 yards\",\"Jamaal Williams: 460.0 yards\",\"James Conner: 116.0 yards\",\"Royce Freeman: 165.33333333333334 yards\",\"David Johnson: 172.5 yards\",\"Damien Williams: 99.6 yards\",\"Tevin Coleman: 90.66666666666667 yards\",\"DeAndre Washington: 129.0 yards\",\"LeSean McCoy: 116.25 yards\",\"Nyheim Hines: 99.5 yards\",\"Peyton Barber: 78.33333333333333 yards\",\"Jordan Howard: 87.5 yards\",\"Jaylen Samuels: 175.0 yards\",\"Matt Breida: 623.0 yards\",\"Kareem Hunt: 89.5 yards\",\"Rex Burkhead: 100.66666666666667 yards\",\"Boston Scott: 49.0 yards\",\"Frank Gore: 299.5 yards\",\"Gus Edwards: 355.5 yards\",\"Tony Pollard: 227.5 yards\",\"Kerryon Johnson: 134.33333333333334 yards\",\"Chase Edmonds: 75.75 yards\",\"Rashaad Penny: 123.33333333333333 yards\",\"Alexander Mattison: 462.0 yards\",\"Patrick Laird: 168.0 yards\",\"Brian Hill: 161.5 yards\",\"Malcolm Brown: 51.0 yards\",\"Benny Snell Jr.: 213.0 yards\",\"Derrius Guice: 122.5 yards\",\"Jordan Wilkins: 153.5 yards\",\"Mike Boone: 91.0 yards\",\"Justice Hill: 112.5 yards\",\"Bo Scarbrough: 377.0 yards\",\"Jonathan Williams: 235.0 yards\",\"Alvin Kamara: 58.25 yards\",\"Dalvin Cook: 97.3125 yards\",\"Derrick Henry: 119.23529411764706 yards\",\"David Montgomery: 133.75 yards\",\"Aaron Jones: 122.66666666666667 yards\",\"Jonathan Taylor: 106.27272727272727 yards\",\"James Robinson: 152.85714285714286 yards\",\"Josh Jacobs: 88.75 yards\",\"Ezekiel Elliott: 163.16666666666666 yards\",\"Kareem Hunt: 140.16666666666666 yards\",\"Nick Chubb: 88.91666666666667 yards\",\"Mike Davis: 107.0 yards\",\"Antonio Gibson: 72.27272727272727 yards\",\"Melvin Gordon: 109.55555555555556 yards\",\"Nyheim Hines: 126.66666666666667 yards\",\"Kenyan Drake: 95.5 yards\",\"J.D. McKissic: 365.0 yards\",\"D'Andre Swift: 65.125 yards\",\"Chris Carson: 136.2 yards\",\"Ronald Jones II: 139.71428571428572 yards\",\"David Johnson: 115.16666666666667 yards\",\"Clyde Edwards-Helaire: 200.75 yards\",\"Miles Sanders: 144.5 yards\",\"J.K. Dobbins: 89.44444444444444 yards\",\"Chase Edmonds: 448.0 yards\",\"Austin Ekeler: 530.0 yards\",\"James Conner: 120.16666666666667 yards\",\"Myles Gaskin: 194.66666666666666 yards\",\"Todd Gurley: 75.33333333333333 yards\",\"Giovani Bernard: 138.66666666666666 yards\",\"Devin Singletary: 343.5 yards\",\"Jeff Wilson: 85.71428571428571 yards\",\"Wayne Gallman: 113.66666666666667 yards\",\"Latavius Murray: 164.0 yards\",\"Leonard Fournette: 61.166666666666664 yards\",\"Darrell Henderson: 124.8 yards\",\"Gus Edwards: 120.5 yards\",\"Jamaal Williams: 252.5 yards\",\"Jerick McKinnon: 63.8 yards\",\"Adrian Peterson: 86.28571428571429 yards\",\"Tony Pollard: 108.75 yards\",\"Malcolm Brown: 83.8 yards\",\"Rex Burkhead: 91.33333333333333 yards\",\"Cam Akers: 312.5 yards\",\"Zack Moss: 120.25 yards\",\"Frank Gore: 326.5 yards\",\"Raheem Mostert: 260.5 yards\",\"Joe Mixon: 142.66666666666666 yards\",\"Boston Scott: 374.0 yards\",\"Brian Hill: 465.0 yards\",\"Kalen Ballage: 101.0 yards\",\"Damien Harris: 345.5 yards\",\"Christian McCaffrey: 45.0 yards\",\"Alexander Mattison: 217.0 yards\",\"Devontae Booker: 141.0 yards\",\"Carlos Hyde: 89.0 yards\",\"Duke Johnson: 235.0 yards\",\"Joshua Kelley: 177.0 yards\",\"Sony Michel: 449.0 yards\",\"Benny Snell Jr.: 92.0 yards\",\"Le'Veon Bell: 164.0 yards\",\"Kerryon Johnson: 90.5 yards\",\"Salvon Ahmed: 106.33333333333333 yards\",\"Phillip Lindsay: 502.0 yards\",\"Samaje Perine: 100.33333333333333 yards\",\"Ty Johnson: 254.0 yards\",\"Jordan Wilkins: 308.0 yards\",\"Ito Smith: 268.0 yards\",\"Peyton Barber: 64.5 yards\",\"Darrel Williams: 169.0 yards\",\"Mark Ingram: 149.5 yards\",\"La'Mical Perine: 116.0 yards\",\"Jeremy McNichols: 204.0 yards\",\"Alfred Morris: 238.0 yards\",\"AJ Dillon: 121.0 yards\",\"Devonta Freeman: 172.0 yards\",\"Jonathan Taylor: 100.61111111111111 yards\",\"Austin Ekeler: 75.91666666666667 yards\",\"Najee Harris: 171.42857142857142 yards\",\"Joe Mixon: 92.6923076923077 yards\",\"James Conner: 50.13333333333333 yards\",\"Leonard Fournette: 101.5 yards\",\"Ezekiel Elliott: 100.2 yards\",\"Alvin Kamara: 224.5 yards\",\"Cordarrelle Patterson: 103.0 yards\",\"Antonio Gibson: 148.14285714285714 yards\",\"Aaron Jones: 199.75 yards\",\"Josh Jacobs: 96.88888888888889 yards\",\"Nick Chubb: 157.375 yards\",\"Damien Harris: 61.93333333333333 yards\",\"D'Andre Swift: 123.4 yards\",\"Dalvin Cook: 193.16666666666666 yards\",\"Javonte Williams: 225.75 yards\",\"Devin Singletary: 124.28571428571429 yards\",\"Darrel Williams: 93.0 yards\",\"Melvin Gordon: 114.75 yards\",\"David Montgomery: 121.28571428571429 yards\",\"Derrick Henry: 93.7 yards\",\"AJ Dillon: 160.6 yards\",\"James Robinson: 95.875 yards\",\"Myles Gaskin: 204.0 yards\",\"Elijah Mitchell: 192.6 yards\",\"Darrell Henderson: 137.6 yards\",\"Tony Pollard: 359.5 yards\",\"Michael Carter: 159.75 yards\",\"Saquon Barkley: 296.5 yards\",\"Devonta Freeman: 115.2 yards\",\"Sony Michel: 211.25 yards\",\"Devontae Booker: 296.5 yards\",\"Chase Edmonds: 296.0 yards\",\"Mike Davis: 167.66666666666666 yards\",\"Chuba Hubbard: 122.4 yards\",\"J.D. McKissic: 106.0 yards\",\"Christian McCaffrey: 442.0 yards\",\"Alexander Mattison: 163.66666666666666 yards\",\"Brandon Bolden: 226.0 yards\",\"Kenneth Gainwell: 58.2 yards\",\"Rashaad Penny: 124.83333333333333 yards\",\"Jamaal Williams: 200.33333333333334 yards\",\"Clyde Edwards-Helaire: 129.25 yards\",\"Ty Johnson: 119.0 yards\",\"Rhamondre Stevenson: 121.2 yards\",\"Nyheim Hines: 138.0 yards\",\"Kareem Hunt: 77.2 yards\",\"Mark Ingram: 277.0 yards\",\"Zack Moss: 86.25 yards\",\"Rex Burkhead: 142.33333333333334 yards\",\"D'Ernest Johnson: 178.0 yards\",\"Latavius Murray: 83.5 yards\",\"Kenyan Drake: 127.0 yards\",\"Boston Scott: 53.285714285714285 yards\",\"D'Onta Foreman: 188.66666666666666 yards\",\"Justin Jackson: 182.0 yards\",\"Samaje Perine: 246.0 yards\",\"Ronald Jones II: 107.0 yards\",\"Khalil Herbert: 216.5 yards\",\"Dontrell Hilliard: 175.0 yards\",\"Alex Collins: 205.5 yards\",\"Jordan Howard: 135.33333333333334 yards\",\"Travis Homer: 177.0 yards\",\"Damien Williams: 82.0 yards\",\"Duke Johnson: 110.0 yards\",\"Derrick Gore: 128.0 yards\",\"Jaret Patterson: 133.0 yards\",\"Jeff Wilson: 147.0 yards\",\"Peyton Barber: 106.0 yards\",\"Chris Carson: 77.33333333333333 yards\",\"Carlos Hyde: 253.0 yards\",\"Phillip Lindsay: 249.0 yards\",\"Ty'Son Williams: 185.0 yards\",\"Ke'Shawn Vaughn: 90.0 yards\",\"Trey Sermon: 167.0 yards\"],\"x\":[100.38461538461539,143.44444444444446,91.0,165.875,138.125,93.66666666666667,189.66666666666666,117.25,115.55555555555556,217.5,87.0,140.42857142857142,149.33333333333334,123.57142857142857,124.66666666666667,296.0,190.0,335.6666666666667,320.3333333333333,109.83333333333333,162.16666666666666,125.6,147.75,127.28571428571429,105.25,95.33333333333333,229.0,147.0,185.0,154.4,426.5,139.0,214.66666666666666,156.5,150.2,873.0,148.8,52.8,138.0,190.5,113.33333333333333,603.0,383.0,130.0,232.5,119.33333333333333,58.0,80.25,91.0,299.0,126.5,275.0,141.0,382.0,112.0,264.5,315.0,135.33333333333334,547.0,76.6,426.0,296.0,177.0,163.5,247.0,244.0,174.0,246.0,262.0,64.66666666666667,124.0,82.5,118.81818181818181,156.85714285714286,73.58823529411765,63.07142857142857,239.0,81.08333333333333,85.0,88.5,134.28571428571428,146.0,148.0,117.71428571428571,115.22222222222223,133.75,88.25,127.88888888888889,124.5,200.0,148.85714285714286,103.88888888888889,100.88888888888889,414.0,194.6,91.0,184.66666666666666,271.3333333333333,157.0,517.0,259.0,307.5,174.2,107.5,114.16666666666667,213.66666666666666,155.16666666666666,128.5,96.33333333333333,171.33333333333334,87.8,180.75,121.33333333333333,154.66666666666666,58.714285714285715,104.2,64.0,114.2,78.75,249.5,70.33333333333333,359.0,183.0,83.6,92.0,170.33333333333334,129.5,123.0,125.33333333333333,385.0,188.0,209.5,214.0,201.5,104.0,103.0,336.0,88.33333333333333,166.5,176.0,61.333333333333336,261.0,191.0,92.46666666666667,67.75,113.08333333333333,185.66666666666666,96.25,87.3076923076923,384.0,186.75,159.4,167.16666666666666,101.8,175.71428571428572,227.4,71.41666666666667,272.6666666666667,263.0,102.125,263.0,144.42857142857142,328.0,164.28571428571428,136.375,76.5,148.16666666666666,120.66666666666667,96.5,127.4,205.0,178.33333333333334,130.28571428571428,387.5,179.6,460.0,116.0,165.33333333333334,172.5,99.6,90.66666666666667,129.0,116.25,99.5,78.33333333333333,87.5,175.0,623.0,89.5,100.66666666666667,49.0,299.5,355.5,227.5,134.33333333333334,75.75,123.33333333333333,462.0,168.0,161.5,51.0,213.0,122.5,153.5,91.0,112.5,377.0,235.0,58.25,97.3125,119.23529411764706,133.75,122.66666666666667,106.27272727272727,152.85714285714286,88.75,163.16666666666666,140.16666666666666,88.91666666666667,107.0,72.27272727272727,109.55555555555556,126.66666666666667,95.5,365.0,65.125,136.2,139.71428571428572,115.16666666666667,200.75,144.5,89.44444444444444,448.0,530.0,120.16666666666667,194.66666666666666,75.33333333333333,138.66666666666666,343.5,85.71428571428571,113.66666666666667,164.0,61.166666666666664,124.8,120.5,252.5,63.8,86.28571428571429,108.75,83.8,91.33333333333333,312.5,120.25,326.5,260.5,142.66666666666666,374.0,465.0,101.0,345.5,45.0,217.0,141.0,89.0,235.0,177.0,449.0,92.0,164.0,90.5,106.33333333333333,502.0,100.33333333333333,254.0,308.0,268.0,64.5,169.0,149.5,116.0,204.0,238.0,121.0,172.0,100.61111111111111,75.91666666666667,171.42857142857142,92.6923076923077,50.13333333333333,101.5,100.2,224.5,103.0,148.14285714285714,199.75,96.88888888888889,157.375,61.93333333333333,123.4,193.16666666666666,225.75,124.28571428571429,93.0,114.75,121.28571428571429,93.7,160.6,95.875,204.0,192.6,137.6,359.5,159.75,296.5,115.2,211.25,296.5,296.0,167.66666666666666,122.4,106.0,442.0,163.66666666666666,226.0,58.2,124.83333333333333,200.33333333333334,129.25,119.0,121.2,138.0,77.2,277.0,86.25,142.33333333333334,178.0,83.5,127.0,53.285714285714285,188.66666666666666,182.0,246.0,107.0,216.5,175.0,205.5,135.33333333333334,177.0,82.0,110.0,128.0,133.0,147.0,106.0,77.33333333333333,253.0,249.0,185.0,90.0,167.0],\"y\":[383.3,341.6,320.4,295.2,288.1,278.0,263.6,233.8,230.2,228.6,216.1,203.2,203.0,200.2,199.7,193.5,178.1,175.1,173.6,171.5,171.0,167.7,166.1,164.2,157.5,154.0,151.7,151.4,150.1,145.2,143.5,142.8,142.3,141.3,137.7,135.1,135.0,134.0,129.8,124.4,120.4,117.2,108.5,107.6,106.9,104.9,103.5,103.3,92.4,92.4,91.6,91.4,87.7,86.1,85.7,84.7,83.7,80.0,78.9,76.2,76.0,72.2,68.8,67.9,67.5,65.4,59.6,57.0,52.1,50.5,46.8,46.7,44.9,44.6,43.2,41.9,39.7,31.9,28.6,385.8,385.5,372.1,354.2,329.1,280.0,276.6,275.5,246.6,243.4,233.9,230.2,222.8,206.2,201.4,201.4,194.5,193.6,189.0,180.0,178.1,173.1,172.6,171.4,168.8,162.5,160.9,160.7,156.6,152.0,150.3,142.5,140.7,139.4,139.1,136.8,132.0,131.9,127.2,120.4,119.9,117.4,116.5,114.4,108.6,102.6,101.3,98.6,98.4,97.7,97.3,95.9,91.6,89.8,89.5,87.8,86.5,85.9,81.9,81.1,79.0,79.0,78.0,71.3,70.4,68.1,67.4,63.1,61.1,60.3,60.1,57.1,54.4,49.7,44.5,44.4,43.4,39.4,38.6,38.6,37.7,471.2,314.8,311.7,309.0,294.6,292.4,259.4,255.2,248.5,244.1,242.5,232.6,225.4,219.4,218.7,215.0,214.2,200.2,197.7,197.6,191.6,181.3,180.8,170.4,166.3,165.2,163.9,157.2,154.0,153.2,152.6,147.9,147.0,146.3,145.5,142.2,141.5,141.1,135.4,121.9,118.6,117.9,116.5,111.4,104.4,103.3,101.4,101.1,96.9,94.9,92.6,89.2,85.0,83.8,82.8,75.3,68.4,68.4,68.2,67.2,66.3,60.2,59.1,57.9,57.4,54.0,50.0,49.5,43.2,42.0,40.4,33.2,31.2,377.8,337.8,333.1,264.8,258.9,252.8,250.4,231.3,223.7,218.5,207.7,206.5,202.2,198.4,193.2,192.2,191.4,189.8,187.8,186.3,179.5,176.0,170.4,168.5,168.0,165.3,164.6,164.2,163.2,158.1,143.6,142.3,136.6,136.2,132.0,130.3,128.2,127.1,126.2,124.5,120.8,109.1,107.6,101.8,101.6,100.2,99.7,99.6,95.6,95.4,93.9,91.3,90.4,86.9,85.7,84.9,84.4,81.2,75.3,74.9,74.6,71.8,69.0,66.0,65.7,65.3,63.3,61.3,57.3,55.0,54.5,52.9,52.5,43.9,42.0,40.7,40.3,37.1,36.0,21.0,373.1,343.8,300.7,287.9,257.7,255.6,252.1,234.7,234.6,229.1,229.0,226.0,215.3,210.1,208.9,206.3,204.9,197.8,196.0,195.1,195.0,193.3,185.6,173.9,173.6,165.0,163.4,162.6,154.4,148.6,146.6,146.3,144.1,143.3,138.2,137.6,127.9,127.5,125.9,124.1,123.4,121.7,119.8,117.6,117.2,117.0,114.9,112.6,110.0,108.6,105.2,104.3,104.1,103.6,102.5,98.6,93.9,89.5,86.2,83.2,81.3,79.2,78.9,72.7,68.8,62.5,61.8,60.7,59.1,56.1,55.9,51.5,51.5,49.9,48.1,45.8,45.4,41.9,36.6,35.2,34.6,28.3],\"type\":\"scatter\"}],                        {\"template\":{\"data\":{\"histogram2dcontour\":[{\"type\":\"histogram2dcontour\",\"colorbar\":{\"outlinewidth\":0,\"ticks\":\"\"},\"colorscale\":[[0.0,\"#0d0887\"],[0.1111111111111111,\"#46039f\"],[0.2222222222222222,\"#7201a8\"],[0.3333333333333333,\"#9c179e\"],[0.4444444444444444,\"#bd3786\"],[0.5555555555555556,\"#d8576b\"],[0.6666666666666666,\"#ed7953\"],[0.7777777777777778,\"#fb9f3a\"],[0.8888888888888888,\"#fdca26\"],[1.0,\"#f0f921\"]]}],\"choropleth\":[{\"type\":\"choropleth\",\"colorbar\":{\"outlinewidth\":0,\"ticks\":\"\"}}],\"histogram2d\":[{\"type\":\"histogram2d\",\"colorbar\":{\"outlinewidth\":0,\"ticks\":\"\"},\"colorscale\":[[0.0,\"#0d0887\"],[0.1111111111111111,\"#46039f\"],[0.2222222222222222,\"#7201a8\"],[0.3333333333333333,\"#9c179e\"],[0.4444444444444444,\"#bd3786\"],[0.5555555555555556,\"#d8576b\"],[0.6666666666666666,\"#ed7953\"],[0.7777777777777778,\"#fb9f3a\"],[0.8888888888888888,\"#fdca26\"],[1.0,\"#f0f921\"]]}],\"heatmap\":[{\"type\":\"heatmap\",\"colorbar\":{\"outlinewidth\":0,\"ticks\":\"\"},\"colorscale\":[[0.0,\"#0d0887\"],[0.1111111111111111,\"#46039f\"],[0.2222222222222222,\"#7201a8\"],[0.3333333333333333,\"#9c179e\"],[0.4444444444444444,\"#bd3786\"],[0.5555555555555556,\"#d8576b\"],[0.6666666666666666,\"#ed7953\"],[0.7777777777777778,\"#fb9f3a\"],[0.8888888888888888,\"#fdca26\"],[1.0,\"#f0f921\"]]}],\"heatmapgl\":[{\"type\":\"heatmapgl\",\"colorbar\":{\"outlinewidth\":0,\"ticks\":\"\"},\"colorscale\":[[0.0,\"#0d0887\"],[0.1111111111111111,\"#46039f\"],[0.2222222222222222,\"#7201a8\"],[0.3333333333333333,\"#9c179e\"],[0.4444444444444444,\"#bd3786\"],[0.5555555555555556,\"#d8576b\"],[0.6666666666666666,\"#ed7953\"],[0.7777777777777778,\"#fb9f3a\"],[0.8888888888888888,\"#fdca26\"],[1.0,\"#f0f921\"]]}],\"contourcarpet\":[{\"type\":\"contourcarpet\",\"colorbar\":{\"outlinewidth\":0,\"ticks\":\"\"}}],\"contour\":[{\"type\":\"contour\",\"colorbar\":{\"outlinewidth\":0,\"ticks\":\"\"},\"colorscale\":[[0.0,\"#0d0887\"],[0.1111111111111111,\"#46039f\"],[0.2222222222222222,\"#7201a8\"],[0.3333333333333333,\"#9c179e\"],[0.4444444444444444,\"#bd3786\"],[0.5555555555555556,\"#d8576b\"],[0.6666666666666666,\"#ed7953\"],[0.7777777777777778,\"#fb9f3a\"],[0.8888888888888888,\"#fdca26\"],[1.0,\"#f0f921\"]]}],\"surface\":[{\"type\":\"surface\",\"colorbar\":{\"outlinewidth\":0,\"ticks\":\"\"},\"colorscale\":[[0.0,\"#0d0887\"],[0.1111111111111111,\"#46039f\"],[0.2222222222222222,\"#7201a8\"],[0.3333333333333333,\"#9c179e\"],[0.4444444444444444,\"#bd3786\"],[0.5555555555555556,\"#d8576b\"],[0.6666666666666666,\"#ed7953\"],[0.7777777777777778,\"#fb9f3a\"],[0.8888888888888888,\"#fdca26\"],[1.0,\"#f0f921\"]]}],\"mesh3d\":[{\"type\":\"mesh3d\",\"colorbar\":{\"outlinewidth\":0,\"ticks\":\"\"}}],\"scatter\":[{\"fillpattern\":{\"fillmode\":\"overlay\",\"size\":10,\"solidity\":0.2},\"type\":\"scatter\"}],\"parcoords\":[{\"type\":\"parcoords\",\"line\":{\"colorbar\":{\"outlinewidth\":0,\"ticks\":\"\"}}}],\"scatterpolargl\":[{\"type\":\"scatterpolargl\",\"marker\":{\"colorbar\":{\"outlinewidth\":0,\"ticks\":\"\"}}}],\"bar\":[{\"error_x\":{\"color\":\"#2a3f5f\"},\"error_y\":{\"color\":\"#2a3f5f\"},\"marker\":{\"line\":{\"color\":\"#E5ECF6\",\"width\":0.5},\"pattern\":{\"fillmode\":\"overlay\",\"size\":10,\"solidity\":0.2}},\"type\":\"bar\"}],\"scattergeo\":[{\"type\":\"scattergeo\",\"marker\":{\"colorbar\":{\"outlinewidth\":0,\"ticks\":\"\"}}}],\"scatterpolar\":[{\"type\":\"scatterpolar\",\"marker\":{\"colorbar\":{\"outlinewidth\":0,\"ticks\":\"\"}}}],\"histogram\":[{\"marker\":{\"pattern\":{\"fillmode\":\"overlay\",\"size\":10,\"solidity\":0.2}},\"type\":\"histogram\"}],\"scattergl\":[{\"type\":\"scattergl\",\"marker\":{\"colorbar\":{\"outlinewidth\":0,\"ticks\":\"\"}}}],\"scatter3d\":[{\"type\":\"scatter3d\",\"line\":{\"colorbar\":{\"outlinewidth\":0,\"ticks\":\"\"}},\"marker\":{\"colorbar\":{\"outlinewidth\":0,\"ticks\":\"\"}}}],\"scattermapbox\":[{\"type\":\"scattermapbox\",\"marker\":{\"colorbar\":{\"outlinewidth\":0,\"ticks\":\"\"}}}],\"scatterternary\":[{\"type\":\"scatterternary\",\"marker\":{\"colorbar\":{\"outlinewidth\":0,\"ticks\":\"\"}}}],\"scattercarpet\":[{\"type\":\"scattercarpet\",\"marker\":{\"colorbar\":{\"outlinewidth\":0,\"ticks\":\"\"}}}],\"carpet\":[{\"aaxis\":{\"endlinecolor\":\"#2a3f5f\",\"gridcolor\":\"white\",\"linecolor\":\"white\",\"minorgridcolor\":\"white\",\"startlinecolor\":\"#2a3f5f\"},\"baxis\":{\"endlinecolor\":\"#2a3f5f\",\"gridcolor\":\"white\",\"linecolor\":\"white\",\"minorgridcolor\":\"white\",\"startlinecolor\":\"#2a3f5f\"},\"type\":\"carpet\"}],\"table\":[{\"cells\":{\"fill\":{\"color\":\"#EBF0F8\"},\"line\":{\"color\":\"white\"}},\"header\":{\"fill\":{\"color\":\"#C8D4E3\"},\"line\":{\"color\":\"white\"}},\"type\":\"table\"}],\"barpolar\":[{\"marker\":{\"line\":{\"color\":\"#E5ECF6\",\"width\":0.5},\"pattern\":{\"fillmode\":\"overlay\",\"size\":10,\"solidity\":0.2}},\"type\":\"barpolar\"}],\"pie\":[{\"automargin\":true,\"type\":\"pie\"}]},\"layout\":{\"autotypenumbers\":\"strict\",\"colorway\":[\"#636efa\",\"#EF553B\",\"#00cc96\",\"#ab63fa\",\"#FFA15A\",\"#19d3f3\",\"#FF6692\",\"#B6E880\",\"#FF97FF\",\"#FECB52\"],\"font\":{\"color\":\"#2a3f5f\"},\"hovermode\":\"closest\",\"hoverlabel\":{\"align\":\"left\"},\"paper_bgcolor\":\"white\",\"plot_bgcolor\":\"#E5ECF6\",\"polar\":{\"bgcolor\":\"#E5ECF6\",\"angularaxis\":{\"gridcolor\":\"white\",\"linecolor\":\"white\",\"ticks\":\"\"},\"radialaxis\":{\"gridcolor\":\"white\",\"linecolor\":\"white\",\"ticks\":\"\"}},\"ternary\":{\"bgcolor\":\"#E5ECF6\",\"aaxis\":{\"gridcolor\":\"white\",\"linecolor\":\"white\",\"ticks\":\"\"},\"baxis\":{\"gridcolor\":\"white\",\"linecolor\":\"white\",\"ticks\":\"\"},\"caxis\":{\"gridcolor\":\"white\",\"linecolor\":\"white\",\"ticks\":\"\"}},\"coloraxis\":{\"colorbar\":{\"outlinewidth\":0,\"ticks\":\"\"}},\"colorscale\":{\"sequential\":[[0.0,\"#0d0887\"],[0.1111111111111111,\"#46039f\"],[0.2222222222222222,\"#7201a8\"],[0.3333333333333333,\"#9c179e\"],[0.4444444444444444,\"#bd3786\"],[0.5555555555555556,\"#d8576b\"],[0.6666666666666666,\"#ed7953\"],[0.7777777777777778,\"#fb9f3a\"],[0.8888888888888888,\"#fdca26\"],[1.0,\"#f0f921\"]],\"sequentialminus\":[[0.0,\"#0d0887\"],[0.1111111111111111,\"#46039f\"],[0.2222222222222222,\"#7201a8\"],[0.3333333333333333,\"#9c179e\"],[0.4444444444444444,\"#bd3786\"],[0.5555555555555556,\"#d8576b\"],[0.6666666666666666,\"#ed7953\"],[0.7777777777777778,\"#fb9f3a\"],[0.8888888888888888,\"#fdca26\"],[1.0,\"#f0f921\"]],\"diverging\":[[0,\"#8e0152\"],[0.1,\"#c51b7d\"],[0.2,\"#de77ae\"],[0.3,\"#f1b6da\"],[0.4,\"#fde0ef\"],[0.5,\"#f7f7f7\"],[0.6,\"#e6f5d0\"],[0.7,\"#b8e186\"],[0.8,\"#7fbc41\"],[0.9,\"#4d9221\"],[1,\"#276419\"]]},\"xaxis\":{\"gridcolor\":\"white\",\"linecolor\":\"white\",\"ticks\":\"\",\"title\":{\"standoff\":15},\"zerolinecolor\":\"white\",\"automargin\":true,\"zerolinewidth\":2},\"yaxis\":{\"gridcolor\":\"white\",\"linecolor\":\"white\",\"ticks\":\"\",\"title\":{\"standoff\":15},\"zerolinecolor\":\"white\",\"automargin\":true,\"zerolinewidth\":2},\"scene\":{\"xaxis\":{\"backgroundcolor\":\"#E5ECF6\",\"gridcolor\":\"white\",\"linecolor\":\"white\",\"showbackground\":true,\"ticks\":\"\",\"zerolinecolor\":\"white\",\"gridwidth\":2},\"yaxis\":{\"backgroundcolor\":\"#E5ECF6\",\"gridcolor\":\"white\",\"linecolor\":\"white\",\"showbackground\":true,\"ticks\":\"\",\"zerolinecolor\":\"white\",\"gridwidth\":2},\"zaxis\":{\"backgroundcolor\":\"#E5ECF6\",\"gridcolor\":\"white\",\"linecolor\":\"white\",\"showbackground\":true,\"ticks\":\"\",\"zerolinecolor\":\"white\",\"gridwidth\":2}},\"shapedefaults\":{\"line\":{\"color\":\"#2a3f5f\"}},\"annotationdefaults\":{\"arrowcolor\":\"#2a3f5f\",\"arrowhead\":0,\"arrowwidth\":1},\"geo\":{\"bgcolor\":\"white\",\"landcolor\":\"#E5ECF6\",\"subunitcolor\":\"white\",\"showland\":true,\"showlakes\":true,\"lakecolor\":\"white\"},\"title\":{\"x\":0.05},\"mapbox\":{\"style\":\"light\"}}},\"title\":{\"text\":\"Scatter Plot of Rushing Yards per Touchdown vs Fantasy Points\"},\"xaxis\":{\"title\":{\"text\":\"Rushing Yards per Touchdown\"}},\"yaxis\":{\"title\":{\"text\":\"Fantasy Points\"}}},                        {\"responsive\": true}                    ).then(function(){\n",
              "                            \n",
              "var gd = document.getElementById('bcc80147-63ed-4d39-8ebd-7925f65a11d0');\n",
              "var x = new MutationObserver(function (mutations, observer) {{\n",
              "        var display = window.getComputedStyle(gd).display;\n",
              "        if (!display || display === 'none') {{\n",
              "            console.log([gd, 'removed!']);\n",
              "            Plotly.purge(gd);\n",
              "            observer.disconnect();\n",
              "        }}\n",
              "}});\n",
              "\n",
              "// Listen for the removal of the full notebook cells\n",
              "var notebookContainer = gd.closest('#notebook-container');\n",
              "if (notebookContainer) {{\n",
              "    x.observe(notebookContainer, {childList: true});\n",
              "}}\n",
              "\n",
              "// Listen for the clearing of the current output cell\n",
              "var outputEl = gd.closest('.output');\n",
              "if (outputEl) {{\n",
              "    x.observe(outputEl, {childList: true});\n",
              "}}\n",
              "\n",
              "                        })                };                            </script>        </div>\n",
              "</body>\n",
              "</html>"
            ]
          },
          "metadata": {}
        },
        {
          "output_type": "display_data",
          "data": {
            "text/plain": [
              "<IPython.core.display.Javascript object>"
            ],
            "application/javascript": [
              "\n",
              "    async function download(id, filename, size) {\n",
              "      if (!google.colab.kernel.accessAllowed) {\n",
              "        return;\n",
              "      }\n",
              "      const div = document.createElement('div');\n",
              "      const label = document.createElement('label');\n",
              "      label.textContent = `Downloading \"${filename}\": `;\n",
              "      div.appendChild(label);\n",
              "      const progress = document.createElement('progress');\n",
              "      progress.max = size;\n",
              "      div.appendChild(progress);\n",
              "      document.body.appendChild(div);\n",
              "\n",
              "      const buffers = [];\n",
              "      let downloaded = 0;\n",
              "\n",
              "      const channel = await google.colab.kernel.comms.open(id);\n",
              "      // Send a message to notify the kernel that we're ready.\n",
              "      channel.send({})\n",
              "\n",
              "      for await (const message of channel.messages) {\n",
              "        // Send a message to notify the kernel that we're ready.\n",
              "        channel.send({})\n",
              "        if (message.buffers) {\n",
              "          for (const buffer of message.buffers) {\n",
              "            buffers.push(buffer);\n",
              "            downloaded += buffer.byteLength;\n",
              "            progress.value = downloaded;\n",
              "          }\n",
              "        }\n",
              "      }\n",
              "      const blob = new Blob(buffers, {type: 'application/binary'});\n",
              "      const a = document.createElement('a');\n",
              "      a.href = window.URL.createObjectURL(blob);\n",
              "      a.download = filename;\n",
              "      div.appendChild(a);\n",
              "      a.click();\n",
              "      div.remove();\n",
              "    }\n",
              "  "
            ]
          },
          "metadata": {}
        },
        {
          "output_type": "display_data",
          "data": {
            "text/plain": [
              "<IPython.core.display.Javascript object>"
            ],
            "application/javascript": [
              "download(\"download_7ff0354d-c801-4778-9633-002bdc858dec\", \"Scatter_YardsRushingTouchdown_PPR.html\", 4584423)"
            ]
          },
          "metadata": {}
        }
      ]
    },
    {
      "cell_type": "markdown",
      "source": [
        "Analysis of Quarterback data from 2017-2021, looking at the specifc metric of completion percentage."
      ],
      "metadata": {
        "id": "j1d4uTw81_qf"
      }
    },
    {
      "cell_type": "code",
      "source": [
        "qbData2017_2021 = pd.concat([qb_2017, qb_2018, qb_2019, qb_2020, qb_2021])\n",
        "qbData2017_2021[['CompPct', 'Att']].describe()\n",
        "filtered_qbData2017_2021 = qbData2017_2021[(qbData2017_2021['Att'] > 156) & (qbData2017_2021['CompPct'] > .63)]"
      ],
      "metadata": {
        "id": "ncyz9AKA2Eln"
      },
      "execution_count": 32,
      "outputs": []
    },
    {
      "cell_type": "markdown",
      "source": [
        "We will use statistical code to compute the relationship between the quarterback specific metric of completion percentage with PPR."
      ],
      "metadata": {
        "id": "jGG1tb2FZ8b0"
      }
    },
    {
      "cell_type": "code",
      "source": [
        "correlation, _ = pearsonr(filtered_qbData2017_2021['CompPct'], filtered_qbData2017_2021['PPR'] )\n",
        "\n",
        "print(f\"The correlation between Completion Percentage and PPR points is: {correlation:.2f}\")"
      ],
      "metadata": {
        "colab": {
          "base_uri": "https://localhost:8080/"
        },
        "id": "4Bm63H2w4KRC",
        "outputId": "e57cac6e-41e5-4535-ac1c-b03d367a6e88"
      },
      "execution_count": 33,
      "outputs": [
        {
          "output_type": "stream",
          "name": "stdout",
          "text": [
            "The correlation between Completion Percentage and PPR points is: 0.19\n"
          ]
        }
      ]
    },
    {
      "cell_type": "markdown",
      "source": [
        "Scatter Plot displaying Completion Percentage against Fantasy Points"
      ],
      "metadata": {
        "id": "dw94KnQv3s5T"
      }
    },
    {
      "cell_type": "code",
      "source": [
        "# Create the scatter plot\n",
        "fig = go.Figure(data=go.Scatter(\n",
        "    x=filtered_qbData2017_2021['CompPct'],  # X-axis data\n",
        "    y=filtered_qbData2017_2021['PPR'],  # Y-axis data\n",
        "    mode='markers',   # Marker mode for scatter plot\n",
        "    text=[f\"{player}: {recyds} Percent\" for player, recyds in zip(filtered_qbData2017_2021['Player'], filtered_qbData2017_2021['CompPct'])],\n",
        "    marker=dict(color='blue', size=10)  # Customize markers\n",
        "))\n",
        "\n",
        "# Update layout\n",
        "fig.update_layout(\n",
        "    title='Scatter Plot of Completion Percentage vs Fantasy Points',\n",
        "    xaxis_title='Completion Percentage',\n",
        "    yaxis_title='Fantasy Points'\n",
        ")\n",
        "\n",
        "# Show the plot\n",
        "fig.show()\n",
        "\n",
        "fig.write_html(\"Scatter_CompPCT_PPR.html\")\n",
        "from google.colab import files\n",
        "files.download('Scatter_CompPCT_PPR.html')"
      ],
      "metadata": {
        "colab": {
          "base_uri": "https://localhost:8080/",
          "height": 542
        },
        "id": "cX4OphUy3-hj",
        "outputId": "656a0d13-44f0-47be-8860-cd88a02e01a8"
      },
      "execution_count": 34,
      "outputs": [
        {
          "output_type": "display_data",
          "data": {
            "text/html": [
              "<html>\n",
              "<head><meta charset=\"utf-8\" /></head>\n",
              "<body>\n",
              "    <div>            <script src=\"https://cdnjs.cloudflare.com/ajax/libs/mathjax/2.7.5/MathJax.js?config=TeX-AMS-MML_SVG\"></script><script type=\"text/javascript\">if (window.MathJax && window.MathJax.Hub && window.MathJax.Hub.Config) {window.MathJax.Hub.Config({SVG: {font: \"STIX-Web\"}});}</script>                <script type=\"text/javascript\">window.PlotlyConfig = {MathJaxConfig: 'local'};</script>\n",
              "        <script charset=\"utf-8\" src=\"https://cdn.plot.ly/plotly-2.35.2.min.js\"></script>                <div id=\"3bcb591c-b41d-4077-b998-088ee92b5c4e\" class=\"plotly-graph-div\" style=\"height:525px; width:100%;\"></div>            <script type=\"text/javascript\">                                    window.PLOTLYENV=window.PLOTLYENV || {};                                    if (document.getElementById(\"3bcb591c-b41d-4077-b998-088ee92b5c4e\")) {                    Plotly.newPlot(                        \"3bcb591c-b41d-4077-b998-088ee92b5c4e\",                        [{\"marker\":{\"color\":\"blue\",\"size\":10},\"mode\":\"markers\",\"text\":[\"Tom Brady: 0.6626506024096386 Percent\",\"Alex Smith: 0.6752475247524753 Percent\",\"Kirk Cousins: 0.6425925925925926 Percent\",\"Matthew Stafford: 0.6566371681415929 Percent\",\"Drew Brees: 0.7201492537313433 Percent\",\"Ben Roethlisberger: 0.6417112299465241 Percent\",\"Case Keenum: 0.6756756756756757 Percent\",\"Matt Ryan: 0.6465028355387523 Percent\",\"Josh McCown: 0.672544080604534 Percent\",\"Jameis Winston: 0.6380090497737556 Percent\",\"Joe Flacco: 0.6411657559198543 Percent\",\"Aaron Rodgers: 0.6470588235294118 Percent\",\"Jimmy Garoppolo: 0.6741573033707865 Percent\",\"Patrick Mahomes: 0.6603448275862069 Percent\",\"Matt Ryan: 0.694078947368421 Percent\",\"Ben Roethlisberger: 0.6696296296296296 Percent\",\"Deshaun Watson: 0.6831683168316832 Percent\",\"Andrew Luck: 0.672926447574335 Percent\",\"Jared Goff: 0.6488413547237076 Percent\",\"Drew Brees: 0.7443762781186094 Percent\",\"Russell Wilson: 0.6557377049180327 Percent\",\"Dak Prescott: 0.6768060836501901 Percent\",\"Philip Rivers: 0.6830708661417323 Percent\",\"Kirk Cousins: 0.7013201320132013 Percent\",\"Cam Newton: 0.6794055201698513 Percent\",\"Tom Brady: 0.6578947368421053 Percent\",\"Mitchell Trubisky: 0.6658986175115207 Percent\",\"Baker Mayfield: 0.6378600823045267 Percent\",\"Eli Manning: 0.6597222222222222 Percent\",\"Derek Carr: 0.6889692585895117 Percent\",\"Matthew Stafford: 0.6612612612612613 Percent\",\"Jameis Winston: 0.6455026455026455 Percent\",\"Carson Wentz: 0.6957605985037406 Percent\",\"Marcus Mariota: 0.6888217522658611 Percent\",\"Ryan Fitzpatrick: 0.6666666666666666 Percent\",\"Ryan Tannehill: 0.6423357664233577 Percent\",\"Nick Mullens: 0.6423357664233577 Percent\",\"Nick Foles: 0.7230769230769231 Percent\",\"Brock Osweiler: 0.6348314606741573 Percent\",\"Lamar Jackson: 0.6608478802992519 Percent\",\"Dak Prescott: 0.6510067114093959 Percent\",\"Russell Wilson: 0.6608527131782945 Percent\",\"Deshaun Watson: 0.6727272727272727 Percent\",\"Patrick Mahomes: 0.6590909090909091 Percent\",\"Kyler Murray: 0.6439114391143912 Percent\",\"Carson Wentz: 0.6392092257001647 Percent\",\"Matt Ryan: 0.6623376623376623 Percent\",\"Jimmy Garoppolo: 0.6911764705882353 Percent\",\"Derek Carr: 0.7037037037037037 Percent\",\"Kirk Cousins: 0.6914414414414415 Percent\",\"Philip Rivers: 0.6598984771573604 Percent\",\"Drew Brees: 0.7433862433862434 Percent\",\"Ryan Tannehill: 0.7027972027972028 Percent\",\"Mitchell Trubisky: 0.6317829457364341 Percent\",\"Matthew Stafford: 0.6426116838487973 Percent\",\"Case Keenum: 0.6477732793522267 Percent\",\"Teddy Bridgewater: 0.6785714285714286 Percent\",\"Joe Flacco: 0.6526717557251909 Percent\",\"Josh Allen: 0.6923076923076923 Percent\",\"Aaron Rodgers: 0.7072243346007605 Percent\",\"Kyler Murray: 0.6720430107526881 Percent\",\"Patrick Mahomes: 0.6632653061224489 Percent\",\"Deshaun Watson: 0.7022058823529411 Percent\",\"Russell Wilson: 0.6881720430107527 Percent\",\"Ryan Tannehill: 0.6548856548856549 Percent\",\"Tom Brady: 0.6573770491803279 Percent\",\"Lamar Jackson: 0.6436170212765957 Percent\",\"Justin Herbert: 0.6655462184873949 Percent\",\"Kirk Cousins: 0.6763565891472868 Percent\",\"Matt Ryan: 0.6501597444089456 Percent\",\"Derek Carr: 0.6731141199226306 Percent\",\"Ben Roethlisberger: 0.65625 Percent\",\"Cam Newton: 0.657608695652174 Percent\",\"Matthew Stafford: 0.6420454545454546 Percent\",\"Teddy Bridgewater: 0.6910569105691057 Percent\",\"Jared Goff: 0.6702898550724637 Percent\",\"Philip Rivers: 0.6795580110497238 Percent\",\"Drew Brees: 0.7051282051282052 Percent\",\"Joe Burrow: 0.6534653465346535 Percent\",\"Gardner Minshew II: 0.6605504587155964 Percent\",\"Ryan Fitzpatrick: 0.6853932584269663 Percent\",\"Mitchell Trubisky: 0.67003367003367 Percent\",\"Andy Dalton: 0.6486486486486487 Percent\",\"Dak Prescott: 0.6801801801801802 Percent\",\"Tua Tagovailoa: 0.6413793103448275 Percent\",\"Nick Mullens: 0.647239263803681 Percent\",\"Nick Foles: 0.6474358974358975 Percent\",\"Alex Smith: 0.6666666666666666 Percent\",\"Josh Allen: 0.6331269349845201 Percent\",\"Justin Herbert: 0.6592261904761905 Percent\",\"Tom Brady: 0.674547983310153 Percent\",\"Patrick Mahomes: 0.662613981762918 Percent\",\"Aaron Rodgers: 0.6892655367231638 Percent\",\"Matthew Stafford: 0.6722129783693843 Percent\",\"Dak Prescott: 0.6879194630872483 Percent\",\"Joe Burrow: 0.7038461538461539 Percent\",\"Kyler Murray: 0.6923076923076923 Percent\",\"Kirk Cousins: 0.6631016042780749 Percent\",\"Ryan Tannehill: 0.672316384180791 Percent\",\"Derek Carr: 0.6837060702875399 Percent\",\"Russell Wilson: 0.6475 Percent\",\"Lamar Jackson: 0.643979057591623 Percent\",\"Jimmy Garoppolo: 0.6825396825396826 Percent\",\"Mac Jones: 0.6756238003838771 Percent\",\"Taylor Heinicke: 0.6497975708502024 Percent\",\"Matt Ryan: 0.6696428571428571 Percent\",\"Ben Roethlisberger: 0.6446280991735537 Percent\",\"Teddy Bridgewater: 0.6690140845070423 Percent\",\"Jared Goff: 0.6720647773279352 Percent\",\"Tua Tagovailoa: 0.6778350515463918 Percent\",\"Daniel Jones: 0.6426592797783933 Percent\",\"Davis Mills: 0.6675126903553299 Percent\",\"Andy Dalton: 0.6313559322033898 Percent\",\"Tyler Huntley: 0.648936170212766 Percent\"],\"x\":[0.6626506024096386,0.6752475247524753,0.6425925925925926,0.6566371681415929,0.7201492537313433,0.6417112299465241,0.6756756756756757,0.6465028355387523,0.672544080604534,0.6380090497737556,0.6411657559198543,0.6470588235294118,0.6741573033707865,0.6603448275862069,0.694078947368421,0.6696296296296296,0.6831683168316832,0.672926447574335,0.6488413547237076,0.7443762781186094,0.6557377049180327,0.6768060836501901,0.6830708661417323,0.7013201320132013,0.6794055201698513,0.6578947368421053,0.6658986175115207,0.6378600823045267,0.6597222222222222,0.6889692585895117,0.6612612612612613,0.6455026455026455,0.6957605985037406,0.6888217522658611,0.6666666666666666,0.6423357664233577,0.6423357664233577,0.7230769230769231,0.6348314606741573,0.6608478802992519,0.6510067114093959,0.6608527131782945,0.6727272727272727,0.6590909090909091,0.6439114391143912,0.6392092257001647,0.6623376623376623,0.6911764705882353,0.7037037037037037,0.6914414414414415,0.6598984771573604,0.7433862433862434,0.7027972027972028,0.6317829457364341,0.6426116838487973,0.6477732793522267,0.6785714285714286,0.6526717557251909,0.6923076923076923,0.7072243346007605,0.6720430107526881,0.6632653061224489,0.7022058823529411,0.6881720430107527,0.6548856548856549,0.6573770491803279,0.6436170212765957,0.6655462184873949,0.6763565891472868,0.6501597444089456,0.6731141199226306,0.65625,0.657608695652174,0.6420454545454546,0.6910569105691057,0.6702898550724637,0.6795580110497238,0.7051282051282052,0.6534653465346535,0.6605504587155964,0.6853932584269663,0.67003367003367,0.6486486486486487,0.6801801801801802,0.6413793103448275,0.647239263803681,0.6474358974358975,0.6666666666666666,0.6331269349845201,0.6592261904761905,0.674547983310153,0.662613981762918,0.6892655367231638,0.6722129783693843,0.6879194630872483,0.7038461538461539,0.6923076923076923,0.6631016042780749,0.672316384180791,0.6837060702875399,0.6475,0.643979057591623,0.6825396825396826,0.6756238003838771,0.6497975708502024,0.6696428571428571,0.6446280991735537,0.6690140845070423,0.6720647773279352,0.6778350515463918,0.6426592797783933,0.6675126903553299,0.6313559322033898,0.648936170212766],\"y\":[295.9,295.2,277.6,273.6,262.6,260.7,237.9,228.1,205.4,201.7,185.0,129.6,87.9,417.1,355.0,341.9,331.7,327.9,310.3,305.0,299.4,285.9,285.0,283.1,282.6,281.3,263.0,240.1,240.0,216.8,212.2,195.8,193.7,175.9,165.8,143.0,123.5,76.2,68.0,415.7,337.8,328.6,321.0,287.0,285.3,275.9,267.3,247.3,244.4,244.4,235.5,224.8,224.2,202.8,166.6,103.5,90.5,84.9,396.1,383.3,378.7,374.4,369.3,359.8,344.4,337.9,332.8,332.8,306.2,282.4,272.1,267.2,261.0,260.6,241.2,240.0,240.0,209.5,173.7,160.7,153.7,153.7,136.9,135.6,135.5,116.3,104.2,71.6,402.6,380.8,374.7,361.7,333.3,329.7,320.6,314.2,300.5,300.3,268.4,257.0,242.8,240.0,227.5,224.9,222.9,222.9,218.1,202.7,194.5,180.9,167.5,157.0,84.2,82.6],\"type\":\"scatter\"}],                        {\"template\":{\"data\":{\"histogram2dcontour\":[{\"type\":\"histogram2dcontour\",\"colorbar\":{\"outlinewidth\":0,\"ticks\":\"\"},\"colorscale\":[[0.0,\"#0d0887\"],[0.1111111111111111,\"#46039f\"],[0.2222222222222222,\"#7201a8\"],[0.3333333333333333,\"#9c179e\"],[0.4444444444444444,\"#bd3786\"],[0.5555555555555556,\"#d8576b\"],[0.6666666666666666,\"#ed7953\"],[0.7777777777777778,\"#fb9f3a\"],[0.8888888888888888,\"#fdca26\"],[1.0,\"#f0f921\"]]}],\"choropleth\":[{\"type\":\"choropleth\",\"colorbar\":{\"outlinewidth\":0,\"ticks\":\"\"}}],\"histogram2d\":[{\"type\":\"histogram2d\",\"colorbar\":{\"outlinewidth\":0,\"ticks\":\"\"},\"colorscale\":[[0.0,\"#0d0887\"],[0.1111111111111111,\"#46039f\"],[0.2222222222222222,\"#7201a8\"],[0.3333333333333333,\"#9c179e\"],[0.4444444444444444,\"#bd3786\"],[0.5555555555555556,\"#d8576b\"],[0.6666666666666666,\"#ed7953\"],[0.7777777777777778,\"#fb9f3a\"],[0.8888888888888888,\"#fdca26\"],[1.0,\"#f0f921\"]]}],\"heatmap\":[{\"type\":\"heatmap\",\"colorbar\":{\"outlinewidth\":0,\"ticks\":\"\"},\"colorscale\":[[0.0,\"#0d0887\"],[0.1111111111111111,\"#46039f\"],[0.2222222222222222,\"#7201a8\"],[0.3333333333333333,\"#9c179e\"],[0.4444444444444444,\"#bd3786\"],[0.5555555555555556,\"#d8576b\"],[0.6666666666666666,\"#ed7953\"],[0.7777777777777778,\"#fb9f3a\"],[0.8888888888888888,\"#fdca26\"],[1.0,\"#f0f921\"]]}],\"heatmapgl\":[{\"type\":\"heatmapgl\",\"colorbar\":{\"outlinewidth\":0,\"ticks\":\"\"},\"colorscale\":[[0.0,\"#0d0887\"],[0.1111111111111111,\"#46039f\"],[0.2222222222222222,\"#7201a8\"],[0.3333333333333333,\"#9c179e\"],[0.4444444444444444,\"#bd3786\"],[0.5555555555555556,\"#d8576b\"],[0.6666666666666666,\"#ed7953\"],[0.7777777777777778,\"#fb9f3a\"],[0.8888888888888888,\"#fdca26\"],[1.0,\"#f0f921\"]]}],\"contourcarpet\":[{\"type\":\"contourcarpet\",\"colorbar\":{\"outlinewidth\":0,\"ticks\":\"\"}}],\"contour\":[{\"type\":\"contour\",\"colorbar\":{\"outlinewidth\":0,\"ticks\":\"\"},\"colorscale\":[[0.0,\"#0d0887\"],[0.1111111111111111,\"#46039f\"],[0.2222222222222222,\"#7201a8\"],[0.3333333333333333,\"#9c179e\"],[0.4444444444444444,\"#bd3786\"],[0.5555555555555556,\"#d8576b\"],[0.6666666666666666,\"#ed7953\"],[0.7777777777777778,\"#fb9f3a\"],[0.8888888888888888,\"#fdca26\"],[1.0,\"#f0f921\"]]}],\"surface\":[{\"type\":\"surface\",\"colorbar\":{\"outlinewidth\":0,\"ticks\":\"\"},\"colorscale\":[[0.0,\"#0d0887\"],[0.1111111111111111,\"#46039f\"],[0.2222222222222222,\"#7201a8\"],[0.3333333333333333,\"#9c179e\"],[0.4444444444444444,\"#bd3786\"],[0.5555555555555556,\"#d8576b\"],[0.6666666666666666,\"#ed7953\"],[0.7777777777777778,\"#fb9f3a\"],[0.8888888888888888,\"#fdca26\"],[1.0,\"#f0f921\"]]}],\"mesh3d\":[{\"type\":\"mesh3d\",\"colorbar\":{\"outlinewidth\":0,\"ticks\":\"\"}}],\"scatter\":[{\"fillpattern\":{\"fillmode\":\"overlay\",\"size\":10,\"solidity\":0.2},\"type\":\"scatter\"}],\"parcoords\":[{\"type\":\"parcoords\",\"line\":{\"colorbar\":{\"outlinewidth\":0,\"ticks\":\"\"}}}],\"scatterpolargl\":[{\"type\":\"scatterpolargl\",\"marker\":{\"colorbar\":{\"outlinewidth\":0,\"ticks\":\"\"}}}],\"bar\":[{\"error_x\":{\"color\":\"#2a3f5f\"},\"error_y\":{\"color\":\"#2a3f5f\"},\"marker\":{\"line\":{\"color\":\"#E5ECF6\",\"width\":0.5},\"pattern\":{\"fillmode\":\"overlay\",\"size\":10,\"solidity\":0.2}},\"type\":\"bar\"}],\"scattergeo\":[{\"type\":\"scattergeo\",\"marker\":{\"colorbar\":{\"outlinewidth\":0,\"ticks\":\"\"}}}],\"scatterpolar\":[{\"type\":\"scatterpolar\",\"marker\":{\"colorbar\":{\"outlinewidth\":0,\"ticks\":\"\"}}}],\"histogram\":[{\"marker\":{\"pattern\":{\"fillmode\":\"overlay\",\"size\":10,\"solidity\":0.2}},\"type\":\"histogram\"}],\"scattergl\":[{\"type\":\"scattergl\",\"marker\":{\"colorbar\":{\"outlinewidth\":0,\"ticks\":\"\"}}}],\"scatter3d\":[{\"type\":\"scatter3d\",\"line\":{\"colorbar\":{\"outlinewidth\":0,\"ticks\":\"\"}},\"marker\":{\"colorbar\":{\"outlinewidth\":0,\"ticks\":\"\"}}}],\"scattermapbox\":[{\"type\":\"scattermapbox\",\"marker\":{\"colorbar\":{\"outlinewidth\":0,\"ticks\":\"\"}}}],\"scatterternary\":[{\"type\":\"scatterternary\",\"marker\":{\"colorbar\":{\"outlinewidth\":0,\"ticks\":\"\"}}}],\"scattercarpet\":[{\"type\":\"scattercarpet\",\"marker\":{\"colorbar\":{\"outlinewidth\":0,\"ticks\":\"\"}}}],\"carpet\":[{\"aaxis\":{\"endlinecolor\":\"#2a3f5f\",\"gridcolor\":\"white\",\"linecolor\":\"white\",\"minorgridcolor\":\"white\",\"startlinecolor\":\"#2a3f5f\"},\"baxis\":{\"endlinecolor\":\"#2a3f5f\",\"gridcolor\":\"white\",\"linecolor\":\"white\",\"minorgridcolor\":\"white\",\"startlinecolor\":\"#2a3f5f\"},\"type\":\"carpet\"}],\"table\":[{\"cells\":{\"fill\":{\"color\":\"#EBF0F8\"},\"line\":{\"color\":\"white\"}},\"header\":{\"fill\":{\"color\":\"#C8D4E3\"},\"line\":{\"color\":\"white\"}},\"type\":\"table\"}],\"barpolar\":[{\"marker\":{\"line\":{\"color\":\"#E5ECF6\",\"width\":0.5},\"pattern\":{\"fillmode\":\"overlay\",\"size\":10,\"solidity\":0.2}},\"type\":\"barpolar\"}],\"pie\":[{\"automargin\":true,\"type\":\"pie\"}]},\"layout\":{\"autotypenumbers\":\"strict\",\"colorway\":[\"#636efa\",\"#EF553B\",\"#00cc96\",\"#ab63fa\",\"#FFA15A\",\"#19d3f3\",\"#FF6692\",\"#B6E880\",\"#FF97FF\",\"#FECB52\"],\"font\":{\"color\":\"#2a3f5f\"},\"hovermode\":\"closest\",\"hoverlabel\":{\"align\":\"left\"},\"paper_bgcolor\":\"white\",\"plot_bgcolor\":\"#E5ECF6\",\"polar\":{\"bgcolor\":\"#E5ECF6\",\"angularaxis\":{\"gridcolor\":\"white\",\"linecolor\":\"white\",\"ticks\":\"\"},\"radialaxis\":{\"gridcolor\":\"white\",\"linecolor\":\"white\",\"ticks\":\"\"}},\"ternary\":{\"bgcolor\":\"#E5ECF6\",\"aaxis\":{\"gridcolor\":\"white\",\"linecolor\":\"white\",\"ticks\":\"\"},\"baxis\":{\"gridcolor\":\"white\",\"linecolor\":\"white\",\"ticks\":\"\"},\"caxis\":{\"gridcolor\":\"white\",\"linecolor\":\"white\",\"ticks\":\"\"}},\"coloraxis\":{\"colorbar\":{\"outlinewidth\":0,\"ticks\":\"\"}},\"colorscale\":{\"sequential\":[[0.0,\"#0d0887\"],[0.1111111111111111,\"#46039f\"],[0.2222222222222222,\"#7201a8\"],[0.3333333333333333,\"#9c179e\"],[0.4444444444444444,\"#bd3786\"],[0.5555555555555556,\"#d8576b\"],[0.6666666666666666,\"#ed7953\"],[0.7777777777777778,\"#fb9f3a\"],[0.8888888888888888,\"#fdca26\"],[1.0,\"#f0f921\"]],\"sequentialminus\":[[0.0,\"#0d0887\"],[0.1111111111111111,\"#46039f\"],[0.2222222222222222,\"#7201a8\"],[0.3333333333333333,\"#9c179e\"],[0.4444444444444444,\"#bd3786\"],[0.5555555555555556,\"#d8576b\"],[0.6666666666666666,\"#ed7953\"],[0.7777777777777778,\"#fb9f3a\"],[0.8888888888888888,\"#fdca26\"],[1.0,\"#f0f921\"]],\"diverging\":[[0,\"#8e0152\"],[0.1,\"#c51b7d\"],[0.2,\"#de77ae\"],[0.3,\"#f1b6da\"],[0.4,\"#fde0ef\"],[0.5,\"#f7f7f7\"],[0.6,\"#e6f5d0\"],[0.7,\"#b8e186\"],[0.8,\"#7fbc41\"],[0.9,\"#4d9221\"],[1,\"#276419\"]]},\"xaxis\":{\"gridcolor\":\"white\",\"linecolor\":\"white\",\"ticks\":\"\",\"title\":{\"standoff\":15},\"zerolinecolor\":\"white\",\"automargin\":true,\"zerolinewidth\":2},\"yaxis\":{\"gridcolor\":\"white\",\"linecolor\":\"white\",\"ticks\":\"\",\"title\":{\"standoff\":15},\"zerolinecolor\":\"white\",\"automargin\":true,\"zerolinewidth\":2},\"scene\":{\"xaxis\":{\"backgroundcolor\":\"#E5ECF6\",\"gridcolor\":\"white\",\"linecolor\":\"white\",\"showbackground\":true,\"ticks\":\"\",\"zerolinecolor\":\"white\",\"gridwidth\":2},\"yaxis\":{\"backgroundcolor\":\"#E5ECF6\",\"gridcolor\":\"white\",\"linecolor\":\"white\",\"showbackground\":true,\"ticks\":\"\",\"zerolinecolor\":\"white\",\"gridwidth\":2},\"zaxis\":{\"backgroundcolor\":\"#E5ECF6\",\"gridcolor\":\"white\",\"linecolor\":\"white\",\"showbackground\":true,\"ticks\":\"\",\"zerolinecolor\":\"white\",\"gridwidth\":2}},\"shapedefaults\":{\"line\":{\"color\":\"#2a3f5f\"}},\"annotationdefaults\":{\"arrowcolor\":\"#2a3f5f\",\"arrowhead\":0,\"arrowwidth\":1},\"geo\":{\"bgcolor\":\"white\",\"landcolor\":\"#E5ECF6\",\"subunitcolor\":\"white\",\"showland\":true,\"showlakes\":true,\"lakecolor\":\"white\"},\"title\":{\"x\":0.05},\"mapbox\":{\"style\":\"light\"}}},\"title\":{\"text\":\"Scatter Plot of Completion Percentage vs Fantasy Points\"},\"xaxis\":{\"title\":{\"text\":\"Completion Percentage\"}},\"yaxis\":{\"title\":{\"text\":\"Fantasy Points\"}}},                        {\"responsive\": true}                    ).then(function(){\n",
              "                            \n",
              "var gd = document.getElementById('3bcb591c-b41d-4077-b998-088ee92b5c4e');\n",
              "var x = new MutationObserver(function (mutations, observer) {{\n",
              "        var display = window.getComputedStyle(gd).display;\n",
              "        if (!display || display === 'none') {{\n",
              "            console.log([gd, 'removed!']);\n",
              "            Plotly.purge(gd);\n",
              "            observer.disconnect();\n",
              "        }}\n",
              "}});\n",
              "\n",
              "// Listen for the removal of the full notebook cells\n",
              "var notebookContainer = gd.closest('#notebook-container');\n",
              "if (notebookContainer) {{\n",
              "    x.observe(notebookContainer, {childList: true});\n",
              "}}\n",
              "\n",
              "// Listen for the clearing of the current output cell\n",
              "var outputEl = gd.closest('.output');\n",
              "if (outputEl) {{\n",
              "    x.observe(outputEl, {childList: true});\n",
              "}}\n",
              "\n",
              "                        })                };                            </script>        </div>\n",
              "</body>\n",
              "</html>"
            ]
          },
          "metadata": {}
        },
        {
          "output_type": "display_data",
          "data": {
            "text/plain": [
              "<IPython.core.display.Javascript object>"
            ],
            "application/javascript": [
              "\n",
              "    async function download(id, filename, size) {\n",
              "      if (!google.colab.kernel.accessAllowed) {\n",
              "        return;\n",
              "      }\n",
              "      const div = document.createElement('div');\n",
              "      const label = document.createElement('label');\n",
              "      label.textContent = `Downloading \"${filename}\": `;\n",
              "      div.appendChild(label);\n",
              "      const progress = document.createElement('progress');\n",
              "      progress.max = size;\n",
              "      div.appendChild(progress);\n",
              "      document.body.appendChild(div);\n",
              "\n",
              "      const buffers = [];\n",
              "      let downloaded = 0;\n",
              "\n",
              "      const channel = await google.colab.kernel.comms.open(id);\n",
              "      // Send a message to notify the kernel that we're ready.\n",
              "      channel.send({})\n",
              "\n",
              "      for await (const message of channel.messages) {\n",
              "        // Send a message to notify the kernel that we're ready.\n",
              "        channel.send({})\n",
              "        if (message.buffers) {\n",
              "          for (const buffer of message.buffers) {\n",
              "            buffers.push(buffer);\n",
              "            downloaded += buffer.byteLength;\n",
              "            progress.value = downloaded;\n",
              "          }\n",
              "        }\n",
              "      }\n",
              "      const blob = new Blob(buffers, {type: 'application/binary'});\n",
              "      const a = document.createElement('a');\n",
              "      a.href = window.URL.createObjectURL(blob);\n",
              "      a.download = filename;\n",
              "      div.appendChild(a);\n",
              "      a.click();\n",
              "      div.remove();\n",
              "    }\n",
              "  "
            ]
          },
          "metadata": {}
        },
        {
          "output_type": "display_data",
          "data": {
            "text/plain": [
              "<IPython.core.display.Javascript object>"
            ],
            "application/javascript": [
              "download(\"download_9b76bb88-9650-4318-b20a-d2a56d7455a3\", \"Scatter_CompPCT_PPR.html\", 4574499)"
            ]
          },
          "metadata": {}
        }
      ]
    }
  ]
}